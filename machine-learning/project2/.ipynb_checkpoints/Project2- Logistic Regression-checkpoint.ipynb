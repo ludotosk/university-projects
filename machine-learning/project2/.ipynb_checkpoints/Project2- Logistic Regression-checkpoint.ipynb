{
 "cells": [
  {
   "cell_type": "markdown",
   "metadata": {},
   "source": [
    "# Project 2 - Classification\n",
    "## Predict customers likely to respond to a marketing campaign\n",
    "### This notebook uses the *campaign.xlsx* dataset"
   ]
  },
  {
   "cell_type": "markdown",
   "metadata": {},
   "source": [
    "## Group E  "
   ]
  },
  {
   "cell_type": "markdown",
   "metadata": {},
   "source": [
    "## Dataset description\n",
    "\n",
    "- **AcceptedCmp1** - 1 if customer accepted the offer in the 1st campaign, 0 otherwise \n",
    "- **AcceptedCmp2** - 1 if customer accepted the offer in the 2nd campaign, 0 otherwise \n",
    "- **AcceptedCmp3** - 1 if customer accepted the offer in the 3rd campaign, 0 otherwise \n",
    "- **AcceptedCmp4** - 1 if customer accepted the offer in the 4th campaign, 0 otherwise \n",
    "- **AcceptedCmp5** - 1 if customer accepted the offer in the 5th campaign, 0 otherwise \n",
    "- **Response (target)** - 1 if customer accepted the offer in the last campaign, 0 otherwise \n",
    "- **Complain** - 1 if customer complained in the last 2 years\n",
    "- **DtCustomer** - date of customer’s enrolment with the company\n",
    "- **Education** - customer’s level of education\n",
    "- **Marital** - customer’s marital status\n",
    "- **Kidhome** - number of small children in customer’s household\n",
    "- **Teenhome** - number of teenagers in customer’s household\n",
    "- **Income** - customer’s yearly household income\n",
    "- **MntFishProducts** - amount spent on fish products in the last 2 years\n",
    "- **MntMeatProducts** - amount spent on meat products in the last 2 years\n",
    "- **MntFruits** - amount spent on fruits products in the last 2 years\n",
    "- **MntSweetProducts** - amount spent on sweet products in the last 2 years\n",
    "- **MntWines** - amount spent on wine products in the last 2 years\n",
    "- **MntGoldProds** - amount spent on gold products in the last 2 years\n",
    "- **NumDealsPurchases** - number of purchases made with discount\n",
    "- **NumCatalogPurchases** - number of purchases made using catalogue\n",
    "- **NumStorePurchases** - number of purchases made directly in stores\n",
    "- **NumWebPurchases** - number of purchases made through company’s web site\n",
    "- **NumWebVisitsMonth** - number of visits to company’s web site in the last month\n",
    "- **Recency** - number of days since the last purchase"
   ]
  },
  {
   "cell_type": "markdown",
   "metadata": {},
   "source": [
    "## Initializations and data loading"
   ]
  },
  {
   "cell_type": "code",
   "execution_count": 1,
   "metadata": {},
   "outputs": [],
   "source": [
    "# Installing the necessary packages:\n",
    "# Packages\n",
    "import numpy as np\n",
    "import pandas as pd\n",
    "import matplotlib.pyplot as plt\n",
    "import seaborn as sns #visualizations\n"
   ]
  },
  {
   "cell_type": "code",
   "execution_count": 2,
   "metadata": {},
   "outputs": [],
   "source": [
    "# Modelling packages\n",
    "import category_encoders as ce\n",
    "import collections\n",
    "from sklearn.preprocessing import MinMaxScaler\n",
    "from sklearn.model_selection import train_test_split\n",
    "from sklearn.linear_model import LogisticRegression \n",
    "from sklearn import metrics\n",
    "from yellowbrick.classifier import ROCAUC\n",
    "from yellowbrick.classifier import PrecisionRecallCurve\n",
    "# from yellowbrick.model_selection import RFECV # this one allow to use viz.show() but is slower then the sklearn one\n",
    "from yellowbrick.model_selection import LearningCurve\n",
    "from sklearn.feature_selection import RFECV"
   ]
  },
  {
   "cell_type": "code",
   "execution_count": 3,
   "metadata": {},
   "outputs": [],
   "source": [
    "# Formating that will be applied in all of the notebook\n",
    "subPlots_Title_fontSize = 12\n",
    "subPlots_xAxis_fontSize = 15\n",
    "subPlots_yAxis_fontSize = 10\n",
    "subPlots_label_fontSize = 12\n",
    "heatmaps_text_fontSize = 12\n",
    "\n",
    "plots_Title_fontSize = 14\n",
    "plots_Title_textColour = 'black'\n",
    "\n",
    "plots_Legend_fontSize = 12\n",
    "plots_Legend_textColour = 'black'\n",
    "\n",
    "# increase the number of columns to display\n",
    "pd.set_option('display.max_columns', 500)"
   ]
  },
  {
   "cell_type": "code",
   "execution_count": 4,
   "metadata": {},
   "outputs": [
    {
     "data": {
      "text/html": [
       "<div>\n",
       "<style scoped>\n",
       "    .dataframe tbody tr th:only-of-type {\n",
       "        vertical-align: middle;\n",
       "    }\n",
       "\n",
       "    .dataframe tbody tr th {\n",
       "        vertical-align: top;\n",
       "    }\n",
       "\n",
       "    .dataframe thead th {\n",
       "        text-align: right;\n",
       "    }\n",
       "</style>\n",
       "<table border=\"1\" class=\"dataframe\">\n",
       "  <thead>\n",
       "    <tr style=\"text-align: right;\">\n",
       "      <th></th>\n",
       "      <th>count</th>\n",
       "      <th>mean</th>\n",
       "      <th>std</th>\n",
       "      <th>min</th>\n",
       "      <th>25%</th>\n",
       "      <th>50%</th>\n",
       "      <th>75%</th>\n",
       "      <th>max</th>\n",
       "    </tr>\n",
       "  </thead>\n",
       "  <tbody>\n",
       "    <tr>\n",
       "      <th>Income</th>\n",
       "      <td>1967.0</td>\n",
       "      <td>52109.792069</td>\n",
       "      <td>21157.456610</td>\n",
       "      <td>2447.0</td>\n",
       "      <td>35661.500000</td>\n",
       "      <td>51766.000000</td>\n",
       "      <td>68557.000000</td>\n",
       "      <td>160803.000000</td>\n",
       "    </tr>\n",
       "    <tr>\n",
       "      <th>Recency</th>\n",
       "      <td>1967.0</td>\n",
       "      <td>48.945602</td>\n",
       "      <td>28.957973</td>\n",
       "      <td>0.0</td>\n",
       "      <td>24.000000</td>\n",
       "      <td>49.000000</td>\n",
       "      <td>74.000000</td>\n",
       "      <td>99.000000</td>\n",
       "    </tr>\n",
       "    <tr>\n",
       "      <th>NumDealsPurchases</th>\n",
       "      <td>1967.0</td>\n",
       "      <td>2.324860</td>\n",
       "      <td>1.880377</td>\n",
       "      <td>0.0</td>\n",
       "      <td>1.000000</td>\n",
       "      <td>2.000000</td>\n",
       "      <td>3.000000</td>\n",
       "      <td>15.000000</td>\n",
       "    </tr>\n",
       "    <tr>\n",
       "      <th>NumWebVisitsMonth</th>\n",
       "      <td>1967.0</td>\n",
       "      <td>5.299441</td>\n",
       "      <td>2.359008</td>\n",
       "      <td>0.0</td>\n",
       "      <td>3.000000</td>\n",
       "      <td>6.000000</td>\n",
       "      <td>7.000000</td>\n",
       "      <td>20.000000</td>\n",
       "    </tr>\n",
       "    <tr>\n",
       "      <th>AcceptedCmp3</th>\n",
       "      <td>1967.0</td>\n",
       "      <td>0.076258</td>\n",
       "      <td>0.265478</td>\n",
       "      <td>0.0</td>\n",
       "      <td>0.000000</td>\n",
       "      <td>0.000000</td>\n",
       "      <td>0.000000</td>\n",
       "      <td>1.000000</td>\n",
       "    </tr>\n",
       "    <tr>\n",
       "      <th>AcceptedCmp4</th>\n",
       "      <td>1967.0</td>\n",
       "      <td>0.077275</td>\n",
       "      <td>0.267095</td>\n",
       "      <td>0.0</td>\n",
       "      <td>0.000000</td>\n",
       "      <td>0.000000</td>\n",
       "      <td>0.000000</td>\n",
       "      <td>1.000000</td>\n",
       "    </tr>\n",
       "    <tr>\n",
       "      <th>AcceptedCmp5</th>\n",
       "      <td>1967.0</td>\n",
       "      <td>0.071683</td>\n",
       "      <td>0.258028</td>\n",
       "      <td>0.0</td>\n",
       "      <td>0.000000</td>\n",
       "      <td>0.000000</td>\n",
       "      <td>0.000000</td>\n",
       "      <td>1.000000</td>\n",
       "    </tr>\n",
       "    <tr>\n",
       "      <th>AcceptedCmp1</th>\n",
       "      <td>1967.0</td>\n",
       "      <td>0.066599</td>\n",
       "      <td>0.249389</td>\n",
       "      <td>0.0</td>\n",
       "      <td>0.000000</td>\n",
       "      <td>0.000000</td>\n",
       "      <td>0.000000</td>\n",
       "      <td>1.000000</td>\n",
       "    </tr>\n",
       "    <tr>\n",
       "      <th>AcceptedCmp2</th>\n",
       "      <td>1967.0</td>\n",
       "      <td>0.013218</td>\n",
       "      <td>0.114237</td>\n",
       "      <td>0.0</td>\n",
       "      <td>0.000000</td>\n",
       "      <td>0.000000</td>\n",
       "      <td>0.000000</td>\n",
       "      <td>1.000000</td>\n",
       "    </tr>\n",
       "    <tr>\n",
       "      <th>Complain</th>\n",
       "      <td>1967.0</td>\n",
       "      <td>0.009659</td>\n",
       "      <td>0.097831</td>\n",
       "      <td>0.0</td>\n",
       "      <td>0.000000</td>\n",
       "      <td>0.000000</td>\n",
       "      <td>0.000000</td>\n",
       "      <td>1.000000</td>\n",
       "    </tr>\n",
       "    <tr>\n",
       "      <th>Response</th>\n",
       "      <td>1967.0</td>\n",
       "      <td>0.152517</td>\n",
       "      <td>0.359612</td>\n",
       "      <td>0.0</td>\n",
       "      <td>0.000000</td>\n",
       "      <td>0.000000</td>\n",
       "      <td>0.000000</td>\n",
       "      <td>1.000000</td>\n",
       "    </tr>\n",
       "    <tr>\n",
       "      <th>Age</th>\n",
       "      <td>1967.0</td>\n",
       "      <td>45.073208</td>\n",
       "      <td>11.639015</td>\n",
       "      <td>18.0</td>\n",
       "      <td>37.000000</td>\n",
       "      <td>44.000000</td>\n",
       "      <td>55.000000</td>\n",
       "      <td>74.000000</td>\n",
       "    </tr>\n",
       "    <tr>\n",
       "      <th>Customer_Lifetime</th>\n",
       "      <td>1967.0</td>\n",
       "      <td>352.268937</td>\n",
       "      <td>202.091751</td>\n",
       "      <td>0.0</td>\n",
       "      <td>178.500000</td>\n",
       "      <td>352.000000</td>\n",
       "      <td>528.000000</td>\n",
       "      <td>699.000000</td>\n",
       "    </tr>\n",
       "    <tr>\n",
       "      <th>TotalMnt</th>\n",
       "      <td>1967.0</td>\n",
       "      <td>614.579054</td>\n",
       "      <td>605.424343</td>\n",
       "      <td>8.0</td>\n",
       "      <td>69.500000</td>\n",
       "      <td>404.000000</td>\n",
       "      <td>1061.000000</td>\n",
       "      <td>2525.000000</td>\n",
       "    </tr>\n",
       "    <tr>\n",
       "      <th>PercentMntWines</th>\n",
       "      <td>1967.0</td>\n",
       "      <td>0.459851</td>\n",
       "      <td>0.229624</td>\n",
       "      <td>0.0</td>\n",
       "      <td>0.288299</td>\n",
       "      <td>0.459596</td>\n",
       "      <td>0.642749</td>\n",
       "      <td>0.963303</td>\n",
       "    </tr>\n",
       "    <tr>\n",
       "      <th>PercentMntFruits</th>\n",
       "      <td>1967.0</td>\n",
       "      <td>0.049277</td>\n",
       "      <td>0.055614</td>\n",
       "      <td>0.0</td>\n",
       "      <td>0.008871</td>\n",
       "      <td>0.029601</td>\n",
       "      <td>0.069418</td>\n",
       "      <td>0.445545</td>\n",
       "    </tr>\n",
       "    <tr>\n",
       "      <th>PercentMntMeatProducts</th>\n",
       "      <td>1967.0</td>\n",
       "      <td>0.249927</td>\n",
       "      <td>0.127544</td>\n",
       "      <td>0.0</td>\n",
       "      <td>0.154756</td>\n",
       "      <td>0.233645</td>\n",
       "      <td>0.331395</td>\n",
       "      <td>0.997110</td>\n",
       "    </tr>\n",
       "    <tr>\n",
       "      <th>PercentMntFishProducts</th>\n",
       "      <td>1967.0</td>\n",
       "      <td>0.070660</td>\n",
       "      <td>0.077535</td>\n",
       "      <td>0.0</td>\n",
       "      <td>0.012411</td>\n",
       "      <td>0.047619</td>\n",
       "      <td>0.102564</td>\n",
       "      <td>0.590909</td>\n",
       "    </tr>\n",
       "    <tr>\n",
       "      <th>PercentMntSweetProducts</th>\n",
       "      <td>1967.0</td>\n",
       "      <td>0.050896</td>\n",
       "      <td>0.061730</td>\n",
       "      <td>0.0</td>\n",
       "      <td>0.008632</td>\n",
       "      <td>0.032538</td>\n",
       "      <td>0.071429</td>\n",
       "      <td>0.945848</td>\n",
       "    </tr>\n",
       "    <tr>\n",
       "      <th>PercentMntGoldProds</th>\n",
       "      <td>1967.0</td>\n",
       "      <td>0.119389</td>\n",
       "      <td>0.109513</td>\n",
       "      <td>0.0</td>\n",
       "      <td>0.037886</td>\n",
       "      <td>0.082492</td>\n",
       "      <td>0.169107</td>\n",
       "      <td>0.894150</td>\n",
       "    </tr>\n",
       "    <tr>\n",
       "      <th>Frequency</th>\n",
       "      <td>1967.0</td>\n",
       "      <td>12.657346</td>\n",
       "      <td>7.169119</td>\n",
       "      <td>1.0</td>\n",
       "      <td>6.000000</td>\n",
       "      <td>12.000000</td>\n",
       "      <td>18.500000</td>\n",
       "      <td>32.000000</td>\n",
       "    </tr>\n",
       "    <tr>\n",
       "      <th>PercentageWebPurchases</th>\n",
       "      <td>1967.0</td>\n",
       "      <td>0.331519</td>\n",
       "      <td>0.121304</td>\n",
       "      <td>0.0</td>\n",
       "      <td>0.250000</td>\n",
       "      <td>0.333333</td>\n",
       "      <td>0.407407</td>\n",
       "      <td>1.000000</td>\n",
       "    </tr>\n",
       "    <tr>\n",
       "      <th>PercentageStorePurchases</th>\n",
       "      <td>1967.0</td>\n",
       "      <td>0.503136</td>\n",
       "      <td>0.148342</td>\n",
       "      <td>0.0</td>\n",
       "      <td>0.400000</td>\n",
       "      <td>0.500000</td>\n",
       "      <td>0.600000</td>\n",
       "      <td>1.000000</td>\n",
       "    </tr>\n",
       "    <tr>\n",
       "      <th>PercentageCatalogPurchases</th>\n",
       "      <td>1967.0</td>\n",
       "      <td>0.165345</td>\n",
       "      <td>0.139367</td>\n",
       "      <td>0.0</td>\n",
       "      <td>0.000000</td>\n",
       "      <td>0.153846</td>\n",
       "      <td>0.250000</td>\n",
       "      <td>1.000000</td>\n",
       "    </tr>\n",
       "    <tr>\n",
       "      <th>PercentageDealsPurchases</th>\n",
       "      <td>1967.0</td>\n",
       "      <td>0.240907</td>\n",
       "      <td>0.172227</td>\n",
       "      <td>0.0</td>\n",
       "      <td>0.083333</td>\n",
       "      <td>0.200000</td>\n",
       "      <td>0.333333</td>\n",
       "      <td>1.000000</td>\n",
       "    </tr>\n",
       "    <tr>\n",
       "      <th>AvgTimeBetweenTransaction</th>\n",
       "      <td>1967.0</td>\n",
       "      <td>40.339044</td>\n",
       "      <td>40.819384</td>\n",
       "      <td>0.0</td>\n",
       "      <td>15.111111</td>\n",
       "      <td>27.217391</td>\n",
       "      <td>49.309524</td>\n",
       "      <td>568.000000</td>\n",
       "    </tr>\n",
       "    <tr>\n",
       "      <th>AvgWebPurchases</th>\n",
       "      <td>1965.0</td>\n",
       "      <td>1.066932</td>\n",
       "      <td>0.966406</td>\n",
       "      <td>0.0</td>\n",
       "      <td>0.333333</td>\n",
       "      <td>0.777778</td>\n",
       "      <td>1.500000</td>\n",
       "      <td>7.000000</td>\n",
       "    </tr>\n",
       "    <tr>\n",
       "      <th>Education_2n Cycle</th>\n",
       "      <td>1967.0</td>\n",
       "      <td>0.090493</td>\n",
       "      <td>0.286960</td>\n",
       "      <td>0.0</td>\n",
       "      <td>0.000000</td>\n",
       "      <td>0.000000</td>\n",
       "      <td>0.000000</td>\n",
       "      <td>1.000000</td>\n",
       "    </tr>\n",
       "    <tr>\n",
       "      <th>Education_Basic</th>\n",
       "      <td>1967.0</td>\n",
       "      <td>0.024403</td>\n",
       "      <td>0.154335</td>\n",
       "      <td>0.0</td>\n",
       "      <td>0.000000</td>\n",
       "      <td>0.000000</td>\n",
       "      <td>0.000000</td>\n",
       "      <td>1.000000</td>\n",
       "    </tr>\n",
       "    <tr>\n",
       "      <th>Education_Graduation</th>\n",
       "      <td>1967.0</td>\n",
       "      <td>0.502796</td>\n",
       "      <td>0.500119</td>\n",
       "      <td>0.0</td>\n",
       "      <td>0.000000</td>\n",
       "      <td>1.000000</td>\n",
       "      <td>1.000000</td>\n",
       "      <td>1.000000</td>\n",
       "    </tr>\n",
       "    <tr>\n",
       "      <th>Education_Master</th>\n",
       "      <td>1967.0</td>\n",
       "      <td>0.165226</td>\n",
       "      <td>0.371479</td>\n",
       "      <td>0.0</td>\n",
       "      <td>0.000000</td>\n",
       "      <td>0.000000</td>\n",
       "      <td>0.000000</td>\n",
       "      <td>1.000000</td>\n",
       "    </tr>\n",
       "    <tr>\n",
       "      <th>Education_PhD</th>\n",
       "      <td>1967.0</td>\n",
       "      <td>0.217082</td>\n",
       "      <td>0.412364</td>\n",
       "      <td>0.0</td>\n",
       "      <td>0.000000</td>\n",
       "      <td>0.000000</td>\n",
       "      <td>0.000000</td>\n",
       "      <td>1.000000</td>\n",
       "    </tr>\n",
       "    <tr>\n",
       "      <th>Marital_Status_Divorced</th>\n",
       "      <td>1967.0</td>\n",
       "      <td>0.105745</td>\n",
       "      <td>0.307589</td>\n",
       "      <td>0.0</td>\n",
       "      <td>0.000000</td>\n",
       "      <td>0.000000</td>\n",
       "      <td>0.000000</td>\n",
       "      <td>1.000000</td>\n",
       "    </tr>\n",
       "    <tr>\n",
       "      <th>Marital_Status_Married</th>\n",
       "      <td>1967.0</td>\n",
       "      <td>0.389426</td>\n",
       "      <td>0.487744</td>\n",
       "      <td>0.0</td>\n",
       "      <td>0.000000</td>\n",
       "      <td>0.000000</td>\n",
       "      <td>1.000000</td>\n",
       "      <td>1.000000</td>\n",
       "    </tr>\n",
       "    <tr>\n",
       "      <th>Marital_Status_Single</th>\n",
       "      <td>1967.0</td>\n",
       "      <td>0.215557</td>\n",
       "      <td>0.411313</td>\n",
       "      <td>0.0</td>\n",
       "      <td>0.000000</td>\n",
       "      <td>0.000000</td>\n",
       "      <td>0.000000</td>\n",
       "      <td>1.000000</td>\n",
       "    </tr>\n",
       "    <tr>\n",
       "      <th>Marital_Status_Together</th>\n",
       "      <td>1967.0</td>\n",
       "      <td>0.255211</td>\n",
       "      <td>0.436091</td>\n",
       "      <td>0.0</td>\n",
       "      <td>0.000000</td>\n",
       "      <td>0.000000</td>\n",
       "      <td>1.000000</td>\n",
       "      <td>1.000000</td>\n",
       "    </tr>\n",
       "    <tr>\n",
       "      <th>Marital_Status_Widow</th>\n",
       "      <td>1967.0</td>\n",
       "      <td>0.034062</td>\n",
       "      <td>0.181435</td>\n",
       "      <td>0.0</td>\n",
       "      <td>0.000000</td>\n",
       "      <td>0.000000</td>\n",
       "      <td>0.000000</td>\n",
       "      <td>1.000000</td>\n",
       "    </tr>\n",
       "    <tr>\n",
       "      <th>Kidhome_0</th>\n",
       "      <td>1967.0</td>\n",
       "      <td>0.577529</td>\n",
       "      <td>0.494078</td>\n",
       "      <td>0.0</td>\n",
       "      <td>0.000000</td>\n",
       "      <td>1.000000</td>\n",
       "      <td>1.000000</td>\n",
       "      <td>1.000000</td>\n",
       "    </tr>\n",
       "    <tr>\n",
       "      <th>Kidhome_1</th>\n",
       "      <td>1967.0</td>\n",
       "      <td>0.422471</td>\n",
       "      <td>0.494078</td>\n",
       "      <td>0.0</td>\n",
       "      <td>0.000000</td>\n",
       "      <td>0.000000</td>\n",
       "      <td>1.000000</td>\n",
       "      <td>1.000000</td>\n",
       "    </tr>\n",
       "    <tr>\n",
       "      <th>Teenhome_0</th>\n",
       "      <td>1967.0</td>\n",
       "      <td>0.516014</td>\n",
       "      <td>0.499871</td>\n",
       "      <td>0.0</td>\n",
       "      <td>0.000000</td>\n",
       "      <td>1.000000</td>\n",
       "      <td>1.000000</td>\n",
       "      <td>1.000000</td>\n",
       "    </tr>\n",
       "    <tr>\n",
       "      <th>Teenhome_1</th>\n",
       "      <td>1967.0</td>\n",
       "      <td>0.483986</td>\n",
       "      <td>0.499871</td>\n",
       "      <td>0.0</td>\n",
       "      <td>0.000000</td>\n",
       "      <td>0.000000</td>\n",
       "      <td>1.000000</td>\n",
       "      <td>1.000000</td>\n",
       "    </tr>\n",
       "  </tbody>\n",
       "</table>\n",
       "</div>"
      ],
      "text/plain": [
       "                             count          mean           std     min  \\\n",
       "Income                      1967.0  52109.792069  21157.456610  2447.0   \n",
       "Recency                     1967.0     48.945602     28.957973     0.0   \n",
       "NumDealsPurchases           1967.0      2.324860      1.880377     0.0   \n",
       "NumWebVisitsMonth           1967.0      5.299441      2.359008     0.0   \n",
       "AcceptedCmp3                1967.0      0.076258      0.265478     0.0   \n",
       "AcceptedCmp4                1967.0      0.077275      0.267095     0.0   \n",
       "AcceptedCmp5                1967.0      0.071683      0.258028     0.0   \n",
       "AcceptedCmp1                1967.0      0.066599      0.249389     0.0   \n",
       "AcceptedCmp2                1967.0      0.013218      0.114237     0.0   \n",
       "Complain                    1967.0      0.009659      0.097831     0.0   \n",
       "Response                    1967.0      0.152517      0.359612     0.0   \n",
       "Age                         1967.0     45.073208     11.639015    18.0   \n",
       "Customer_Lifetime           1967.0    352.268937    202.091751     0.0   \n",
       "TotalMnt                    1967.0    614.579054    605.424343     8.0   \n",
       "PercentMntWines             1967.0      0.459851      0.229624     0.0   \n",
       "PercentMntFruits            1967.0      0.049277      0.055614     0.0   \n",
       "PercentMntMeatProducts      1967.0      0.249927      0.127544     0.0   \n",
       "PercentMntFishProducts      1967.0      0.070660      0.077535     0.0   \n",
       "PercentMntSweetProducts     1967.0      0.050896      0.061730     0.0   \n",
       "PercentMntGoldProds         1967.0      0.119389      0.109513     0.0   \n",
       "Frequency                   1967.0     12.657346      7.169119     1.0   \n",
       "PercentageWebPurchases      1967.0      0.331519      0.121304     0.0   \n",
       "PercentageStorePurchases    1967.0      0.503136      0.148342     0.0   \n",
       "PercentageCatalogPurchases  1967.0      0.165345      0.139367     0.0   \n",
       "PercentageDealsPurchases    1967.0      0.240907      0.172227     0.0   \n",
       "AvgTimeBetweenTransaction   1967.0     40.339044     40.819384     0.0   \n",
       "AvgWebPurchases             1965.0      1.066932      0.966406     0.0   \n",
       "Education_2n Cycle          1967.0      0.090493      0.286960     0.0   \n",
       "Education_Basic             1967.0      0.024403      0.154335     0.0   \n",
       "Education_Graduation        1967.0      0.502796      0.500119     0.0   \n",
       "Education_Master            1967.0      0.165226      0.371479     0.0   \n",
       "Education_PhD               1967.0      0.217082      0.412364     0.0   \n",
       "Marital_Status_Divorced     1967.0      0.105745      0.307589     0.0   \n",
       "Marital_Status_Married      1967.0      0.389426      0.487744     0.0   \n",
       "Marital_Status_Single       1967.0      0.215557      0.411313     0.0   \n",
       "Marital_Status_Together     1967.0      0.255211      0.436091     0.0   \n",
       "Marital_Status_Widow        1967.0      0.034062      0.181435     0.0   \n",
       "Kidhome_0                   1967.0      0.577529      0.494078     0.0   \n",
       "Kidhome_1                   1967.0      0.422471      0.494078     0.0   \n",
       "Teenhome_0                  1967.0      0.516014      0.499871     0.0   \n",
       "Teenhome_1                  1967.0      0.483986      0.499871     0.0   \n",
       "\n",
       "                                     25%           50%           75%  \\\n",
       "Income                      35661.500000  51766.000000  68557.000000   \n",
       "Recency                        24.000000     49.000000     74.000000   \n",
       "NumDealsPurchases               1.000000      2.000000      3.000000   \n",
       "NumWebVisitsMonth               3.000000      6.000000      7.000000   \n",
       "AcceptedCmp3                    0.000000      0.000000      0.000000   \n",
       "AcceptedCmp4                    0.000000      0.000000      0.000000   \n",
       "AcceptedCmp5                    0.000000      0.000000      0.000000   \n",
       "AcceptedCmp1                    0.000000      0.000000      0.000000   \n",
       "AcceptedCmp2                    0.000000      0.000000      0.000000   \n",
       "Complain                        0.000000      0.000000      0.000000   \n",
       "Response                        0.000000      0.000000      0.000000   \n",
       "Age                            37.000000     44.000000     55.000000   \n",
       "Customer_Lifetime             178.500000    352.000000    528.000000   \n",
       "TotalMnt                       69.500000    404.000000   1061.000000   \n",
       "PercentMntWines                 0.288299      0.459596      0.642749   \n",
       "PercentMntFruits                0.008871      0.029601      0.069418   \n",
       "PercentMntMeatProducts          0.154756      0.233645      0.331395   \n",
       "PercentMntFishProducts          0.012411      0.047619      0.102564   \n",
       "PercentMntSweetProducts         0.008632      0.032538      0.071429   \n",
       "PercentMntGoldProds             0.037886      0.082492      0.169107   \n",
       "Frequency                       6.000000     12.000000     18.500000   \n",
       "PercentageWebPurchases          0.250000      0.333333      0.407407   \n",
       "PercentageStorePurchases        0.400000      0.500000      0.600000   \n",
       "PercentageCatalogPurchases      0.000000      0.153846      0.250000   \n",
       "PercentageDealsPurchases        0.083333      0.200000      0.333333   \n",
       "AvgTimeBetweenTransaction      15.111111     27.217391     49.309524   \n",
       "AvgWebPurchases                 0.333333      0.777778      1.500000   \n",
       "Education_2n Cycle              0.000000      0.000000      0.000000   \n",
       "Education_Basic                 0.000000      0.000000      0.000000   \n",
       "Education_Graduation            0.000000      1.000000      1.000000   \n",
       "Education_Master                0.000000      0.000000      0.000000   \n",
       "Education_PhD                   0.000000      0.000000      0.000000   \n",
       "Marital_Status_Divorced         0.000000      0.000000      0.000000   \n",
       "Marital_Status_Married          0.000000      0.000000      1.000000   \n",
       "Marital_Status_Single           0.000000      0.000000      0.000000   \n",
       "Marital_Status_Together         0.000000      0.000000      1.000000   \n",
       "Marital_Status_Widow            0.000000      0.000000      0.000000   \n",
       "Kidhome_0                       0.000000      1.000000      1.000000   \n",
       "Kidhome_1                       0.000000      0.000000      1.000000   \n",
       "Teenhome_0                      0.000000      1.000000      1.000000   \n",
       "Teenhome_1                      0.000000      0.000000      1.000000   \n",
       "\n",
       "                                      max  \n",
       "Income                      160803.000000  \n",
       "Recency                         99.000000  \n",
       "NumDealsPurchases               15.000000  \n",
       "NumWebVisitsMonth               20.000000  \n",
       "AcceptedCmp3                     1.000000  \n",
       "AcceptedCmp4                     1.000000  \n",
       "AcceptedCmp5                     1.000000  \n",
       "AcceptedCmp1                     1.000000  \n",
       "AcceptedCmp2                     1.000000  \n",
       "Complain                         1.000000  \n",
       "Response                         1.000000  \n",
       "Age                             74.000000  \n",
       "Customer_Lifetime              699.000000  \n",
       "TotalMnt                      2525.000000  \n",
       "PercentMntWines                  0.963303  \n",
       "PercentMntFruits                 0.445545  \n",
       "PercentMntMeatProducts           0.997110  \n",
       "PercentMntFishProducts           0.590909  \n",
       "PercentMntSweetProducts          0.945848  \n",
       "PercentMntGoldProds              0.894150  \n",
       "Frequency                       32.000000  \n",
       "PercentageWebPurchases           1.000000  \n",
       "PercentageStorePurchases         1.000000  \n",
       "PercentageCatalogPurchases       1.000000  \n",
       "PercentageDealsPurchases         1.000000  \n",
       "AvgTimeBetweenTransaction      568.000000  \n",
       "AvgWebPurchases                  7.000000  \n",
       "Education_2n Cycle               1.000000  \n",
       "Education_Basic                  1.000000  \n",
       "Education_Graduation             1.000000  \n",
       "Education_Master                 1.000000  \n",
       "Education_PhD                    1.000000  \n",
       "Marital_Status_Divorced          1.000000  \n",
       "Marital_Status_Married           1.000000  \n",
       "Marital_Status_Single            1.000000  \n",
       "Marital_Status_Together          1.000000  \n",
       "Marital_Status_Widow             1.000000  \n",
       "Kidhome_0                        1.000000  \n",
       "Kidhome_1                        1.000000  \n",
       "Teenhome_0                       1.000000  \n",
       "Teenhome_1                       1.000000  "
      ]
     },
     "execution_count": 4,
     "metadata": {},
     "output_type": "execute_result"
    }
   ],
   "source": [
    "# Loading the dataset: \n",
    "ds = pd.read_parquet('LR-SVM-dataset.parquet.snappy')\n",
    "ds.describe().T"
   ]
  },
  {
   "cell_type": "markdown",
   "metadata": {},
   "source": [
    "## LR classification"
   ]
  },
  {
   "cell_type": "markdown",
   "metadata": {},
   "source": [
    "#### Data preparation"
   ]
  },
  {
   "cell_type": "code",
   "execution_count": 5,
   "metadata": {},
   "outputs": [],
   "source": [
    "# Create a modeling dataset from the original dataset\n",
    "X = ds.copy(deep=True)"
   ]
  },
  {
   "cell_type": "code",
   "execution_count": 6,
   "metadata": {},
   "outputs": [
    {
     "data": {
      "text/html": [
       "<div>\n",
       "<style scoped>\n",
       "    .dataframe tbody tr th:only-of-type {\n",
       "        vertical-align: middle;\n",
       "    }\n",
       "\n",
       "    .dataframe tbody tr th {\n",
       "        vertical-align: top;\n",
       "    }\n",
       "\n",
       "    .dataframe thead th {\n",
       "        text-align: right;\n",
       "    }\n",
       "</style>\n",
       "<table border=\"1\" class=\"dataframe\">\n",
       "  <thead>\n",
       "    <tr style=\"text-align: right;\">\n",
       "      <th></th>\n",
       "      <th>Income</th>\n",
       "      <th>Recency</th>\n",
       "      <th>NumDealsPurchases</th>\n",
       "      <th>NumWebVisitsMonth</th>\n",
       "      <th>AcceptedCmp3</th>\n",
       "      <th>AcceptedCmp4</th>\n",
       "      <th>AcceptedCmp5</th>\n",
       "      <th>AcceptedCmp1</th>\n",
       "      <th>AcceptedCmp2</th>\n",
       "      <th>Complain</th>\n",
       "      <th>Response</th>\n",
       "      <th>Age</th>\n",
       "      <th>Customer_Lifetime</th>\n",
       "      <th>TotalMnt</th>\n",
       "      <th>PercentMntWines</th>\n",
       "      <th>PercentMntFruits</th>\n",
       "      <th>PercentMntMeatProducts</th>\n",
       "      <th>PercentMntFishProducts</th>\n",
       "      <th>PercentMntSweetProducts</th>\n",
       "      <th>PercentMntGoldProds</th>\n",
       "      <th>Frequency</th>\n",
       "      <th>PercentageWebPurchases</th>\n",
       "      <th>PercentageStorePurchases</th>\n",
       "      <th>PercentageCatalogPurchases</th>\n",
       "      <th>PercentageDealsPurchases</th>\n",
       "      <th>AvgTimeBetweenTransaction</th>\n",
       "      <th>AvgWebPurchases</th>\n",
       "      <th>Education_2n Cycle</th>\n",
       "      <th>Education_Basic</th>\n",
       "      <th>Education_Graduation</th>\n",
       "      <th>Education_Master</th>\n",
       "      <th>Education_PhD</th>\n",
       "      <th>Marital_Status_Divorced</th>\n",
       "      <th>Marital_Status_Married</th>\n",
       "      <th>Marital_Status_Single</th>\n",
       "      <th>Marital_Status_Together</th>\n",
       "      <th>Marital_Status_Widow</th>\n",
       "      <th>Kidhome_0</th>\n",
       "      <th>Kidhome_1</th>\n",
       "      <th>Teenhome_0</th>\n",
       "      <th>Teenhome_1</th>\n",
       "    </tr>\n",
       "    <tr>\n",
       "      <th>index</th>\n",
       "      <th></th>\n",
       "      <th></th>\n",
       "      <th></th>\n",
       "      <th></th>\n",
       "      <th></th>\n",
       "      <th></th>\n",
       "      <th></th>\n",
       "      <th></th>\n",
       "      <th></th>\n",
       "      <th></th>\n",
       "      <th></th>\n",
       "      <th></th>\n",
       "      <th></th>\n",
       "      <th></th>\n",
       "      <th></th>\n",
       "      <th></th>\n",
       "      <th></th>\n",
       "      <th></th>\n",
       "      <th></th>\n",
       "      <th></th>\n",
       "      <th></th>\n",
       "      <th></th>\n",
       "      <th></th>\n",
       "      <th></th>\n",
       "      <th></th>\n",
       "      <th></th>\n",
       "      <th></th>\n",
       "      <th></th>\n",
       "      <th></th>\n",
       "      <th></th>\n",
       "      <th></th>\n",
       "      <th></th>\n",
       "      <th></th>\n",
       "      <th></th>\n",
       "      <th></th>\n",
       "      <th></th>\n",
       "      <th></th>\n",
       "      <th></th>\n",
       "      <th></th>\n",
       "      <th></th>\n",
       "      <th></th>\n",
       "    </tr>\n",
       "  </thead>\n",
       "  <tbody>\n",
       "    <tr>\n",
       "      <th>0</th>\n",
       "      <td>58138</td>\n",
       "      <td>58</td>\n",
       "      <td>3</td>\n",
       "      <td>7</td>\n",
       "      <td>0</td>\n",
       "      <td>0</td>\n",
       "      <td>0</td>\n",
       "      <td>0</td>\n",
       "      <td>0</td>\n",
       "      <td>0</td>\n",
       "      <td>1</td>\n",
       "      <td>57</td>\n",
       "      <td>663.0</td>\n",
       "      <td>1617</td>\n",
       "      <td>0.392703</td>\n",
       "      <td>0.054422</td>\n",
       "      <td>0.337662</td>\n",
       "      <td>0.106370</td>\n",
       "      <td>0.054422</td>\n",
       "      <td>0.054422</td>\n",
       "      <td>22</td>\n",
       "      <td>0.363636</td>\n",
       "      <td>0.181818</td>\n",
       "      <td>0.454545</td>\n",
       "      <td>0.136364</td>\n",
       "      <td>30.136364</td>\n",
       "      <td>1.142857</td>\n",
       "      <td>0</td>\n",
       "      <td>0</td>\n",
       "      <td>1</td>\n",
       "      <td>0</td>\n",
       "      <td>0</td>\n",
       "      <td>0</td>\n",
       "      <td>0</td>\n",
       "      <td>1</td>\n",
       "      <td>0</td>\n",
       "      <td>0</td>\n",
       "      <td>1</td>\n",
       "      <td>0</td>\n",
       "      <td>1</td>\n",
       "      <td>0</td>\n",
       "    </tr>\n",
       "    <tr>\n",
       "      <th>1</th>\n",
       "      <td>46344</td>\n",
       "      <td>38</td>\n",
       "      <td>2</td>\n",
       "      <td>5</td>\n",
       "      <td>0</td>\n",
       "      <td>0</td>\n",
       "      <td>0</td>\n",
       "      <td>0</td>\n",
       "      <td>0</td>\n",
       "      <td>0</td>\n",
       "      <td>0</td>\n",
       "      <td>60</td>\n",
       "      <td>113.0</td>\n",
       "      <td>27</td>\n",
       "      <td>0.407407</td>\n",
       "      <td>0.037037</td>\n",
       "      <td>0.222222</td>\n",
       "      <td>0.074074</td>\n",
       "      <td>0.037037</td>\n",
       "      <td>0.222222</td>\n",
       "      <td>4</td>\n",
       "      <td>0.250000</td>\n",
       "      <td>0.500000</td>\n",
       "      <td>0.250000</td>\n",
       "      <td>0.500000</td>\n",
       "      <td>28.250000</td>\n",
       "      <td>0.200000</td>\n",
       "      <td>0</td>\n",
       "      <td>0</td>\n",
       "      <td>1</td>\n",
       "      <td>0</td>\n",
       "      <td>0</td>\n",
       "      <td>0</td>\n",
       "      <td>0</td>\n",
       "      <td>1</td>\n",
       "      <td>0</td>\n",
       "      <td>0</td>\n",
       "      <td>0</td>\n",
       "      <td>1</td>\n",
       "      <td>0</td>\n",
       "      <td>1</td>\n",
       "    </tr>\n",
       "    <tr>\n",
       "      <th>2</th>\n",
       "      <td>71613</td>\n",
       "      <td>26</td>\n",
       "      <td>1</td>\n",
       "      <td>4</td>\n",
       "      <td>0</td>\n",
       "      <td>0</td>\n",
       "      <td>0</td>\n",
       "      <td>0</td>\n",
       "      <td>0</td>\n",
       "      <td>0</td>\n",
       "      <td>0</td>\n",
       "      <td>49</td>\n",
       "      <td>312.0</td>\n",
       "      <td>776</td>\n",
       "      <td>0.548969</td>\n",
       "      <td>0.063144</td>\n",
       "      <td>0.163660</td>\n",
       "      <td>0.143041</td>\n",
       "      <td>0.027062</td>\n",
       "      <td>0.054124</td>\n",
       "      <td>20</td>\n",
       "      <td>0.400000</td>\n",
       "      <td>0.500000</td>\n",
       "      <td>0.100000</td>\n",
       "      <td>0.050000</td>\n",
       "      <td>15.600000</td>\n",
       "      <td>2.000000</td>\n",
       "      <td>0</td>\n",
       "      <td>0</td>\n",
       "      <td>1</td>\n",
       "      <td>0</td>\n",
       "      <td>0</td>\n",
       "      <td>0</td>\n",
       "      <td>0</td>\n",
       "      <td>0</td>\n",
       "      <td>1</td>\n",
       "      <td>0</td>\n",
       "      <td>1</td>\n",
       "      <td>0</td>\n",
       "      <td>1</td>\n",
       "      <td>0</td>\n",
       "    </tr>\n",
       "    <tr>\n",
       "      <th>3</th>\n",
       "      <td>26646</td>\n",
       "      <td>26</td>\n",
       "      <td>2</td>\n",
       "      <td>6</td>\n",
       "      <td>0</td>\n",
       "      <td>0</td>\n",
       "      <td>0</td>\n",
       "      <td>0</td>\n",
       "      <td>0</td>\n",
       "      <td>0</td>\n",
       "      <td>0</td>\n",
       "      <td>30</td>\n",
       "      <td>139.0</td>\n",
       "      <td>53</td>\n",
       "      <td>0.207547</td>\n",
       "      <td>0.075472</td>\n",
       "      <td>0.377358</td>\n",
       "      <td>0.188679</td>\n",
       "      <td>0.056604</td>\n",
       "      <td>0.094340</td>\n",
       "      <td>6</td>\n",
       "      <td>0.333333</td>\n",
       "      <td>0.666667</td>\n",
       "      <td>0.000000</td>\n",
       "      <td>0.333333</td>\n",
       "      <td>23.166667</td>\n",
       "      <td>0.333333</td>\n",
       "      <td>0</td>\n",
       "      <td>0</td>\n",
       "      <td>1</td>\n",
       "      <td>0</td>\n",
       "      <td>0</td>\n",
       "      <td>0</td>\n",
       "      <td>0</td>\n",
       "      <td>0</td>\n",
       "      <td>1</td>\n",
       "      <td>0</td>\n",
       "      <td>0</td>\n",
       "      <td>1</td>\n",
       "      <td>1</td>\n",
       "      <td>0</td>\n",
       "    </tr>\n",
       "    <tr>\n",
       "      <th>4</th>\n",
       "      <td>58293</td>\n",
       "      <td>94</td>\n",
       "      <td>5</td>\n",
       "      <td>5</td>\n",
       "      <td>0</td>\n",
       "      <td>0</td>\n",
       "      <td>0</td>\n",
       "      <td>0</td>\n",
       "      <td>0</td>\n",
       "      <td>0</td>\n",
       "      <td>0</td>\n",
       "      <td>33</td>\n",
       "      <td>161.0</td>\n",
       "      <td>422</td>\n",
       "      <td>0.409953</td>\n",
       "      <td>0.101896</td>\n",
       "      <td>0.279621</td>\n",
       "      <td>0.109005</td>\n",
       "      <td>0.063981</td>\n",
       "      <td>0.035545</td>\n",
       "      <td>14</td>\n",
       "      <td>0.357143</td>\n",
       "      <td>0.428571</td>\n",
       "      <td>0.214286</td>\n",
       "      <td>0.357143</td>\n",
       "      <td>11.500000</td>\n",
       "      <td>1.000000</td>\n",
       "      <td>0</td>\n",
       "      <td>0</td>\n",
       "      <td>0</td>\n",
       "      <td>0</td>\n",
       "      <td>1</td>\n",
       "      <td>0</td>\n",
       "      <td>1</td>\n",
       "      <td>0</td>\n",
       "      <td>0</td>\n",
       "      <td>0</td>\n",
       "      <td>0</td>\n",
       "      <td>1</td>\n",
       "      <td>1</td>\n",
       "      <td>0</td>\n",
       "    </tr>\n",
       "  </tbody>\n",
       "</table>\n",
       "</div>"
      ],
      "text/plain": [
       "       Income  Recency  NumDealsPurchases  NumWebVisitsMonth  AcceptedCmp3  \\\n",
       "index                                                                        \n",
       "0       58138       58                  3                  7             0   \n",
       "1       46344       38                  2                  5             0   \n",
       "2       71613       26                  1                  4             0   \n",
       "3       26646       26                  2                  6             0   \n",
       "4       58293       94                  5                  5             0   \n",
       "\n",
       "       AcceptedCmp4  AcceptedCmp5  AcceptedCmp1  AcceptedCmp2  Complain  \\\n",
       "index                                                                     \n",
       "0                 0             0             0             0         0   \n",
       "1                 0             0             0             0         0   \n",
       "2                 0             0             0             0         0   \n",
       "3                 0             0             0             0         0   \n",
       "4                 0             0             0             0         0   \n",
       "\n",
       "       Response  Age  Customer_Lifetime  TotalMnt  PercentMntWines  \\\n",
       "index                                                                \n",
       "0             1   57              663.0      1617         0.392703   \n",
       "1             0   60              113.0        27         0.407407   \n",
       "2             0   49              312.0       776         0.548969   \n",
       "3             0   30              139.0        53         0.207547   \n",
       "4             0   33              161.0       422         0.409953   \n",
       "\n",
       "       PercentMntFruits  PercentMntMeatProducts  PercentMntFishProducts  \\\n",
       "index                                                                     \n",
       "0              0.054422                0.337662                0.106370   \n",
       "1              0.037037                0.222222                0.074074   \n",
       "2              0.063144                0.163660                0.143041   \n",
       "3              0.075472                0.377358                0.188679   \n",
       "4              0.101896                0.279621                0.109005   \n",
       "\n",
       "       PercentMntSweetProducts  PercentMntGoldProds  Frequency  \\\n",
       "index                                                            \n",
       "0                     0.054422             0.054422         22   \n",
       "1                     0.037037             0.222222          4   \n",
       "2                     0.027062             0.054124         20   \n",
       "3                     0.056604             0.094340          6   \n",
       "4                     0.063981             0.035545         14   \n",
       "\n",
       "       PercentageWebPurchases  PercentageStorePurchases  \\\n",
       "index                                                     \n",
       "0                    0.363636                  0.181818   \n",
       "1                    0.250000                  0.500000   \n",
       "2                    0.400000                  0.500000   \n",
       "3                    0.333333                  0.666667   \n",
       "4                    0.357143                  0.428571   \n",
       "\n",
       "       PercentageCatalogPurchases  PercentageDealsPurchases  \\\n",
       "index                                                         \n",
       "0                        0.454545                  0.136364   \n",
       "1                        0.250000                  0.500000   \n",
       "2                        0.100000                  0.050000   \n",
       "3                        0.000000                  0.333333   \n",
       "4                        0.214286                  0.357143   \n",
       "\n",
       "       AvgTimeBetweenTransaction  AvgWebPurchases  Education_2n Cycle  \\\n",
       "index                                                                   \n",
       "0                      30.136364         1.142857                   0   \n",
       "1                      28.250000         0.200000                   0   \n",
       "2                      15.600000         2.000000                   0   \n",
       "3                      23.166667         0.333333                   0   \n",
       "4                      11.500000         1.000000                   0   \n",
       "\n",
       "       Education_Basic  Education_Graduation  Education_Master  Education_PhD  \\\n",
       "index                                                                           \n",
       "0                    0                     1                 0              0   \n",
       "1                    0                     1                 0              0   \n",
       "2                    0                     1                 0              0   \n",
       "3                    0                     1                 0              0   \n",
       "4                    0                     0                 0              1   \n",
       "\n",
       "       Marital_Status_Divorced  Marital_Status_Married  Marital_Status_Single  \\\n",
       "index                                                                           \n",
       "0                            0                       0                      1   \n",
       "1                            0                       0                      1   \n",
       "2                            0                       0                      0   \n",
       "3                            0                       0                      0   \n",
       "4                            0                       1                      0   \n",
       "\n",
       "       Marital_Status_Together  Marital_Status_Widow  Kidhome_0  Kidhome_1  \\\n",
       "index                                                                        \n",
       "0                            0                     0          1          0   \n",
       "1                            0                     0          0          1   \n",
       "2                            1                     0          1          0   \n",
       "3                            1                     0          0          1   \n",
       "4                            0                     0          0          1   \n",
       "\n",
       "       Teenhome_0  Teenhome_1  \n",
       "index                          \n",
       "0               1           0  \n",
       "1               0           1  \n",
       "2               1           0  \n",
       "3               1           0  \n",
       "4               1           0  "
      ]
     },
     "execution_count": 6,
     "metadata": {},
     "output_type": "execute_result"
    }
   ],
   "source": [
    "X.head()"
   ]
  },
  {
   "cell_type": "code",
   "execution_count": 7,
   "metadata": {},
   "outputs": [],
   "source": [
    "# Create the Target\n",
    "y = X['Response']"
   ]
  },
  {
   "cell_type": "code",
   "execution_count": 8,
   "metadata": {},
   "outputs": [],
   "source": [
    "# Split into train and test\n",
    "X_train, X_test, y_train, y_test = train_test_split(X, y, test_size=0.25, stratify=y, random_state=123)"
   ]
  },
  {
   "cell_type": "code",
   "execution_count": 9,
   "metadata": {},
   "outputs": [],
   "source": [
    "toDrop = ['Response', 'AvgWebPurchases','PercentageDealsPurchases']"
   ]
  },
  {
   "cell_type": "markdown",
   "metadata": {},
   "source": [
    "We have an issue with AvgWebPurchases, even if it doesn't contain infinite because we removed on the eda notebook it doesn't work with the sklearn algorithm. So we need to drop this feature.  \n",
    "We are also removing PercentageDealsPurchases because this feature improves the result on the SVM but here is doing the opposite."
   ]
  },
  {
   "cell_type": "code",
   "execution_count": 10,
   "metadata": {},
   "outputs": [],
   "source": [
    "# Remove the Target from the training\n",
    "X_train = X_train.drop(toDrop,axis=1)\n",
    "X_test = X_test.drop(toDrop,axis=1)"
   ]
  },
  {
   "cell_type": "code",
   "execution_count": 11,
   "metadata": {},
   "outputs": [],
   "source": [
    "# Dataframe for scaling\n",
    "tempDF = X.copy(deep=True)\n",
    "tempDF.drop(columns=toDrop, inplace=True)\n",
    "\n",
    "# Normalize training/test data\n",
    "scaler = MinMaxScaler(feature_range=(0, 1))\n",
    "tempDF_scaled = scaler.fit_transform(tempDF)\n",
    "X_train_scaled = scaler.transform(X_train)\n",
    "X_test_scaled = scaler.transform(X_test)"
   ]
  },
  {
   "cell_type": "markdown",
   "metadata": {},
   "source": [
    "### Logistic regression"
   ]
  },
  {
   "cell_type": "code",
   "execution_count": 12,
   "metadata": {},
   "outputs": [
    {
     "data": {
      "text/plain": [
       "LogisticRegression(max_iter=200, random_state=123)"
      ]
     },
     "execution_count": 12,
     "metadata": {},
     "output_type": "execute_result"
    }
   ],
   "source": [
    "# Create object and train the model\n",
    "classModel = LogisticRegression(random_state=123, max_iter=200)\n",
    "classModel.fit(X_train_scaled, y_train)"
   ]
  },
  {
   "cell_type": "code",
   "execution_count": 13,
   "metadata": {},
   "outputs": [
    {
     "data": {
      "text/plain": [
       "RFECV(cv=5, estimator=LogisticRegression(max_iter=200, random_state=123),\n",
       "      n_jobs=-1, scoring='roc_auc')"
      ]
     },
     "execution_count": 13,
     "metadata": {},
     "output_type": "execute_result"
    }
   ],
   "source": [
    "# Apply RFECV (Recursive Feature Elimination) to select features\n",
    "# see https://www.scikit-yb.org/en/latest/api/model_selection/rfecv.html\n",
    "vis = RFECV(classModel, cv=5, scoring='roc_auc', n_jobs=-1)\n",
    "vis.fit(X_train_scaled, y_train)"
   ]
  },
  {
   "cell_type": "markdown",
   "metadata": {},
   "source": [
    "Here we are removing features using RFECV that try to remove the less relevant feature one by one and see when the AUC in this case start to decrease."
   ]
  },
  {
   "cell_type": "code",
   "execution_count": 14,
   "metadata": {},
   "outputs": [
    {
     "data": {
      "text/plain": [
       "Index(['Recency', 'NumDealsPurchases', 'NumWebVisitsMonth', 'AcceptedCmp3',\n",
       "       'AcceptedCmp4', 'AcceptedCmp5', 'AcceptedCmp1', 'AcceptedCmp2',\n",
       "       'Customer_Lifetime', 'PercentMntWines', 'PercentMntMeatProducts',\n",
       "       'PercentMntFishProducts', 'PercentMntGoldProds',\n",
       "       'PercentageWebPurchases', 'PercentageStorePurchases',\n",
       "       'PercentageCatalogPurchases', 'Education_Basic', 'Education_PhD',\n",
       "       'Marital_Status_Married', 'Marital_Status_Together', 'Teenhome_1'],\n",
       "      dtype='object')"
      ]
     },
     "execution_count": 14,
     "metadata": {},
     "output_type": "execute_result"
    }
   ],
   "source": [
    "# Features to include (all in this case)\n",
    "tempDF.columns[vis.support_]"
   ]
  },
  {
   "cell_type": "code",
   "execution_count": 15,
   "metadata": {},
   "outputs": [],
   "source": [
    "toDrop = tempDF.columns.to_list()\n",
    "\n",
    "for i in tempDF.columns[vis.support_].to_list():\n",
    "    toDrop.remove(i)"
   ]
  },
  {
   "cell_type": "code",
   "execution_count": 16,
   "metadata": {},
   "outputs": [],
   "source": [
    "# Remove the Target from the training\n",
    "X_train = X_train.drop(toDrop,axis=1)\n",
    "X_test = X_test.drop(toDrop,axis=1)"
   ]
  },
  {
   "cell_type": "code",
   "execution_count": 17,
   "metadata": {},
   "outputs": [],
   "source": [
    "toDrop.append('Response')\n",
    "toDrop.append('AvgWebPurchases')\n",
    "toDrop.append('PercentageDealsPurchases')\n",
    "\n",
    "# Dataframe for scaling\n",
    "tempDF = X.copy(deep=True)\n",
    "tempDF.drop(columns=toDrop, inplace=True)\n",
    "\n",
    "# Normalize training/test data\n",
    "scaler = MinMaxScaler(feature_range=(0, 1))\n",
    "tempDF_scaled = scaler.fit_transform(tempDF)\n",
    "X_train_scaled = scaler.transform(X_train)\n",
    "X_test_scaled = scaler.transform(X_test)"
   ]
  },
  {
   "cell_type": "code",
   "execution_count": 18,
   "metadata": {},
   "outputs": [
    {
     "data": {
      "text/plain": [
       "LogisticRegression(max_iter=200, random_state=123)"
      ]
     },
     "execution_count": 18,
     "metadata": {},
     "output_type": "execute_result"
    }
   ],
   "source": [
    "# Create object and train the model\n",
    "classModel = LogisticRegression(random_state=123, max_iter=200)\n",
    "classModel.fit(X_train_scaled, y_train)"
   ]
  },
  {
   "cell_type": "code",
   "execution_count": 19,
   "metadata": {},
   "outputs": [],
   "source": [
    "# Function to create dataframe with metrics\n",
    "def performanceMetricsDF(metricsObj, yTrain, yPredTrain, yTest, yPredTest):\n",
    "  measures_list = ['ACCURACY','PRECISION', 'RECALL','F1 SCORE','AUC']\n",
    "  train_results = [metricsObj.accuracy_score(yTrain, yPredTrain),\n",
    "                metricsObj.precision_score(yTrain, yPredTrain),\n",
    "                metricsObj.recall_score(yTrain, yPredTrain),\n",
    "                metricsObj.f1_score(yTrain, yPredTrain),\n",
    "                metricsObj.roc_auc_score(yTrain, yPredTrain)\n",
    "                ]\n",
    "  test_results = [metricsObj.accuracy_score(yTest, yPredTest),\n",
    "               metricsObj.precision_score(yTest, yPredTest),\n",
    "               metricsObj.recall_score(yTest, yPredTest),\n",
    "               metricsObj.f1_score(yTest, yPredTest),\n",
    "               metricsObj.roc_auc_score(yTest, yPredTest)\n",
    "               ]\n",
    "  resultsDF = pd.DataFrame({'Measure': measures_list, 'Train': train_results, 'Test':test_results})\n",
    "  return(resultsDF)"
   ]
  },
  {
   "cell_type": "code",
   "execution_count": 20,
   "metadata": {},
   "outputs": [],
   "source": [
    "# predict y for X_train and X_test\n",
    "y_pred_train = classModel.predict(X_train_scaled) \n",
    "y_pred_test = classModel.predict(X_test_scaled) "
   ]
  },
  {
   "cell_type": "code",
   "execution_count": 21,
   "metadata": {},
   "outputs": [],
   "source": [
    "# Function to plot confusion matrix - Adapted from https://github.com/DTrimarchi10/confusion_matrix/blob/master/cf_matrix.py\n",
    "def make_confusion_matrix(cf,\n",
    "                          group_names=None,\n",
    "                          categories='auto',\n",
    "                          count=True,\n",
    "                          percent=True,\n",
    "                          cbar=True,\n",
    "                          xyticks=True,\n",
    "                          xyplotlabels=True,\n",
    "                          sum_stats=True,\n",
    "                          figsize=None,\n",
    "                          cmap='Blues',\n",
    "                          title=None):\n",
    "    '''\n",
    "    This function will make a pretty plot of an sklearn Confusion Matrix cm using a Seaborn heatmap visualization.\n",
    "    Arguments\n",
    "    ---------\n",
    "    cf:            confusion matrix to be passed in\n",
    "    group_names:   List of strings that represent the labels row by row to be shown in each square.\n",
    "    categories:    List of strings containing the categories to be displayed on the x,y axis. Default is 'auto'\n",
    "    count:         If True, show the raw number in the confusion matrix. Default is True.\n",
    "    normalize:     If True, show the proportions for each category. Default is True.\n",
    "    cbar:          If True, show the color bar. The cbar values are based off the values in the confusion matrix.\n",
    "                   Default is True.\n",
    "    xyticks:       If True, show x and y ticks. Default is True.\n",
    "    xyplotlabels:  If True, show 'True Label' and 'Predicted Label' on the figure. Default is True.\n",
    "    sum_stats:     If True, display summary statistics below the figure. Default is True.\n",
    "    figsize:       Tuple representing the figure size. Default will be the matplotlib rcParams value.\n",
    "    cmap:          Colormap of the values displayed from matplotlib.pyplot.cm. Default is 'Blues'\n",
    "                   See http://matplotlib.org/examples/color/colormaps_reference.html\n",
    "                   \n",
    "    title:         Title for the heatmap. Default is None.\n",
    "    '''\n",
    "\n",
    "\n",
    "    # CODE TO GENERATE TEXT INSIDE EACH SQUARE\n",
    "    blanks = ['' for i in range(cf.size)]\n",
    "\n",
    "    if group_names and len(group_names)==cf.size:\n",
    "        group_labels = [\"{}\\n\".format(value) for value in group_names]\n",
    "    else:\n",
    "        group_labels = blanks\n",
    "\n",
    "    if count:\n",
    "        group_counts = [\"{0:0.0f}\\n\".format(value) for value in cf.flatten()]\n",
    "    else:\n",
    "        group_counts = blanks\n",
    "\n",
    "    if percent:\n",
    "        group_percentages = [\"{0:.2%}\".format(value) for value in cf.flatten()/np.sum(cf)]\n",
    "    else:\n",
    "        group_percentages = blanks\n",
    "\n",
    "    box_labels = [f\"{v1}{v2}{v3}\".strip() for v1, v2, v3 in zip(group_labels,group_counts,group_percentages)]\n",
    "    box_labels = np.asarray(box_labels).reshape(cf.shape[0],cf.shape[1])\n",
    "\n",
    "\n",
    "    # CODE TO GENERATE SUMMARY STATISTICS & TEXT FOR SUMMARY STATS\n",
    "    if sum_stats:\n",
    "        #Accuracy is sum of diagonal divided by total observations\n",
    "        accuracy  = np.trace(cf) / float(np.sum(cf))\n",
    "\n",
    "        #if it is a binary confusion matrix, show some more stats\n",
    "        if len(cf)==2:\n",
    "            #Metrics for Binary Confusion Matrices\n",
    "            precision = cf[1,1] / sum(cf[:,1])\n",
    "            recall    = cf[1,1] / sum(cf[1,:])\n",
    "            f1_score  = 2*precision*recall / (precision + recall)\n",
    "            stats_text = \"\\n\\nAccuracy={:0.3f}\\nPrecision={:0.3f}\\nRecall={:0.3f}\\nF1 Score={:0.3f}\".format(\n",
    "                accuracy,precision,recall,f1_score)\n",
    "        else:\n",
    "            stats_text = \"\\n\\nAccuracy={:0.3f}\".format(accuracy)\n",
    "    else:\n",
    "        stats_text = \"\"\n",
    "\n",
    "\n",
    "    # SET FIGURE PARAMETERS ACCORDING TO OTHER ARGUMENTS\n",
    "    if figsize==None:\n",
    "        #Get default figure size if not set\n",
    "        figsize = plt.rcParams.get('figure.figsize')\n",
    "\n",
    "    if xyticks==False:\n",
    "        #Do not show categories if xyticks is False\n",
    "        categories=False\n",
    "\n",
    "\n",
    "    # MAKE THE HEATMAP VISUALIZATION\n",
    "    plt.figure(figsize=figsize)\n",
    "    ax = sns.heatmap(cf,annot=box_labels, fmt=\"\",cmap=cmap,cbar=cbar,xticklabels=categories,yticklabels=categories)\n",
    "\n",
    "    if xyplotlabels:\n",
    "        plt.ylabel('True label')\n",
    "        plt.xlabel('Predicted label' + stats_text)\n",
    "    else:\n",
    "        plt.xlabel(stats_text)\n",
    "    \n",
    "    if title:\n",
    "        plt.title(title)"
   ]
  },
  {
   "cell_type": "code",
   "execution_count": 22,
   "metadata": {},
   "outputs": [
    {
     "data": {
      "image/png": "[encoded data removed]",
      "text/plain": [
       "<Figure size 576x396 with 2 Axes>"
      ]
     },
     "metadata": {},
     "output_type": "display_data"
    }
   ],
   "source": [
    "# Show the confusion matrix\n",
    "cf = metrics.confusion_matrix(y_test,y_pred_test)\n",
    "labels = ['True Neg','False Pos','False Neg','True Pos']\n",
    "categories = ['0', '1']\n",
    "make_confusion_matrix(cf, \n",
    "                      group_names=labels,\n",
    "                      categories=categories, \n",
    "                      cmap='Blues')"
   ]
  },
  {
   "cell_type": "code",
   "execution_count": 23,
   "metadata": {
    "scrolled": true
   },
   "outputs": [
    {
     "data": {
      "text/html": [
       "<div>\n",
       "<style scoped>\n",
       "    .dataframe tbody tr th:only-of-type {\n",
       "        vertical-align: middle;\n",
       "    }\n",
       "\n",
       "    .dataframe tbody tr th {\n",
       "        vertical-align: top;\n",
       "    }\n",
       "\n",
       "    .dataframe thead th {\n",
       "        text-align: right;\n",
       "    }\n",
       "</style>\n",
       "<table border=\"1\" class=\"dataframe\">\n",
       "  <thead>\n",
       "    <tr style=\"text-align: right;\">\n",
       "      <th></th>\n",
       "      <th>Measure</th>\n",
       "      <th>Train</th>\n",
       "      <th>Test</th>\n",
       "    </tr>\n",
       "  </thead>\n",
       "  <tbody>\n",
       "    <tr>\n",
       "      <th>0</th>\n",
       "      <td>ACCURACY</td>\n",
       "      <td>0.896949</td>\n",
       "      <td>0.894309</td>\n",
       "    </tr>\n",
       "    <tr>\n",
       "      <th>1</th>\n",
       "      <td>PRECISION</td>\n",
       "      <td>0.774436</td>\n",
       "      <td>0.794872</td>\n",
       "    </tr>\n",
       "    <tr>\n",
       "      <th>2</th>\n",
       "      <td>RECALL</td>\n",
       "      <td>0.457778</td>\n",
       "      <td>0.413333</td>\n",
       "    </tr>\n",
       "    <tr>\n",
       "      <th>3</th>\n",
       "      <td>F1 SCORE</td>\n",
       "      <td>0.575419</td>\n",
       "      <td>0.543860</td>\n",
       "    </tr>\n",
       "    <tr>\n",
       "      <th>4</th>\n",
       "      <td>AUC</td>\n",
       "      <td>0.716889</td>\n",
       "      <td>0.697074</td>\n",
       "    </tr>\n",
       "  </tbody>\n",
       "</table>\n",
       "</div>"
      ],
      "text/plain": [
       "     Measure     Train      Test\n",
       "0   ACCURACY  0.896949  0.894309\n",
       "1  PRECISION  0.774436  0.794872\n",
       "2     RECALL  0.457778  0.413333\n",
       "3   F1 SCORE  0.575419  0.543860\n",
       "4        AUC  0.716889  0.697074"
      ]
     },
     "execution_count": 23,
     "metadata": {},
     "output_type": "execute_result"
    }
   ],
   "source": [
    "resultsDF = performanceMetricsDF(metrics, y_train, y_pred_train, y_test, y_pred_test)\n",
    "resultsDF"
   ]
  },
  {
   "cell_type": "markdown",
   "metadata": {},
   "source": [
    "- As expected, due to imbalanced dataset, we obtain high false negative rate\n",
    "- F1 score and AUC are acceptable, they can be improved further with class balacing"
   ]
  },
  {
   "cell_type": "code",
   "execution_count": 24,
   "metadata": {},
   "outputs": [
    {
     "data": {
      "image/png": "[encoded data removed]",
      "text/plain": [
       "<Figure size 576x396 with 1 Axes>"
      ]
     },
     "metadata": {},
     "output_type": "display_data"
    },
    {
     "data": {
      "text/plain": [
       "<AxesSubplot:title={'center':'ROC Curves for LogisticRegression'}, xlabel='False Positive Rate', ylabel='True Positive Rate'>"
      ]
     },
     "execution_count": 24,
     "metadata": {},
     "output_type": "execute_result"
    }
   ],
   "source": [
    "# ROC curve\n",
    "visualizer = ROCAUC(classModel, classes=['0','1'])\n",
    "visualizer.fit(X_train_scaled, y_train)\n",
    "visualizer.score(X_test_scaled, y_test)\n",
    "visualizer.show()"
   ]
  },
  {
   "cell_type": "code",
   "execution_count": 25,
   "metadata": {},
   "outputs": [
    {
     "data": {
      "image/png": "[encoded data removed]",
      "text/plain": [
       "<Figure size 576x396 with 1 Axes>"
      ]
     },
     "metadata": {},
     "output_type": "display_data"
    },
    {
     "data": {
      "text/plain": [
       "<AxesSubplot:title={'center':'Precision-Recall Curve for LogisticRegression'}, xlabel='Recall', ylabel='Precision'>"
      ]
     },
     "execution_count": 25,
     "metadata": {},
     "output_type": "execute_result"
    }
   ],
   "source": [
    "# Precison-Recall curve\n",
    "visualizer = PrecisionRecallCurve(classModel, classes=['0','1'])\n",
    "visualizer.fit(X_train_scaled, y_train)\n",
    "visualizer.score(X_test_scaled, y_test)\n",
    "visualizer.show()"
   ]
  },
  {
   "cell_type": "markdown",
   "metadata": {},
   "source": [
    "Here the average precision is 70%, we should check later how does it change with more balanced classes."
   ]
  },
  {
   "cell_type": "code",
   "execution_count": 26,
   "metadata": {},
   "outputs": [
    {
     "data": {
      "image/png": "[encoded data removed]",
      "text/plain": [
       "<Figure size 576x396 with 1 Axes>"
      ]
     },
     "metadata": {},
     "output_type": "display_data"
    },
    {
     "data": {
      "text/plain": [
       "<AxesSubplot:title={'center':'Learning Curve for LogisticRegression'}, xlabel='Training Instances', ylabel='Score'>"
      ]
     },
     "execution_count": 26,
     "metadata": {},
     "output_type": "execute_result"
    }
   ],
   "source": [
    "# Plot the learning curve\n",
    "cv = 10\n",
    "visualizer = LearningCurve(estimator=classModel, cv=cv, scoring='roc_auc', n_jobs=-1, random_state=123)\n",
    "visualizer.fit(X_train_scaled, y_train)\n",
    "visualizer.show()"
   ]
  },
  {
   "cell_type": "markdown",
   "metadata": {},
   "source": [
    "We will talk about this graph later when we will compare the result with the oversampled and the undersampled one."
   ]
  },
  {
   "cell_type": "markdown",
   "metadata": {},
   "source": [
    "### Modeling and evaluating - with oversampling to remove the imbalance"
   ]
  },
  {
   "cell_type": "code",
   "execution_count": 27,
   "metadata": {},
   "outputs": [
    {
     "name": "stdout",
     "output_type": "stream",
     "text": [
      "Counter({0: 1250, 1: 225})\n"
     ]
    },
    {
     "data": {
      "text/plain": [
       "<AxesSubplot:xlabel='Response', ylabel='count'>"
      ]
     },
     "execution_count": 27,
     "metadata": {},
     "output_type": "execute_result"
    },
    {
     "data": {
      "image/png": "[encoded data removed]",
      "text/plain": [
       "<Figure size 432x288 with 1 Axes>"
      ]
     },
     "metadata": {},
     "output_type": "display_data"
    }
   ],
   "source": [
    "# Display target balance in the training dataset\n",
    "print(collections.Counter(y_train))\n",
    "fig, ax = plt.subplots(figsize=(6,4))\n",
    "sns.countplot(x=\"Response\", data=pd.DataFrame(data={'Response':y_train}), ax=ax)"
   ]
  },
  {
   "cell_type": "code",
   "execution_count": 28,
   "metadata": {},
   "outputs": [
    {
     "name": "stdout",
     "output_type": "stream",
     "text": [
      "Counter({1: 1250, 0: 1250})\n"
     ]
    },
    {
     "data": {
      "text/plain": [
       "<AxesSubplot:xlabel='Response', ylabel='count'>"
      ]
     },
     "execution_count": 28,
     "metadata": {},
     "output_type": "execute_result"
    },
    {
     "data": {
      "image/png": "[encoded data removed]",
      "text/plain": [
       "<Figure size 432x288 with 1 Axes>"
      ]
     },
     "metadata": {},
     "output_type": "display_data"
    }
   ],
   "source": [
    "# Import package\n",
    "from imblearn.over_sampling import SMOTE\n",
    "\n",
    "# Applyting SMOTE to generare new instances (oversampling)\n",
    "sm = SMOTE(random_state=123, sampling_strategy=1.0)\n",
    "X_train_scaled2, y_train2 = sm.fit_resample(X_train_scaled, y_train)\n",
    "\n",
    "# Display target balance in the training dataset\n",
    "print(collections.Counter(y_train2))\n",
    "fig, ax = plt.subplots(figsize=(6,4))\n",
    "sns.countplot(x=\"Response\", data=pd.DataFrame(data={'Response':y_train2}), ax=ax)"
   ]
  },
  {
   "cell_type": "markdown",
   "metadata": {},
   "source": [
    "After trying different sampling strategies from 0,5 to 1, we obtain the best results with 1"
   ]
  },
  {
   "cell_type": "code",
   "execution_count": 29,
   "metadata": {},
   "outputs": [
    {
     "data": {
      "text/html": [
       "<div>\n",
       "<style scoped>\n",
       "    .dataframe tbody tr th:only-of-type {\n",
       "        vertical-align: middle;\n",
       "    }\n",
       "\n",
       "    .dataframe tbody tr th {\n",
       "        vertical-align: top;\n",
       "    }\n",
       "\n",
       "    .dataframe thead th {\n",
       "        text-align: right;\n",
       "    }\n",
       "</style>\n",
       "<table border=\"1\" class=\"dataframe\">\n",
       "  <thead>\n",
       "    <tr style=\"text-align: right;\">\n",
       "      <th></th>\n",
       "      <th>Measure</th>\n",
       "      <th>Train</th>\n",
       "      <th>Test</th>\n",
       "    </tr>\n",
       "  </thead>\n",
       "  <tbody>\n",
       "    <tr>\n",
       "      <th>0</th>\n",
       "      <td>ACCURACY</td>\n",
       "      <td>0.858000</td>\n",
       "      <td>0.833333</td>\n",
       "    </tr>\n",
       "    <tr>\n",
       "      <th>1</th>\n",
       "      <td>PRECISION</td>\n",
       "      <td>0.847708</td>\n",
       "      <td>0.474453</td>\n",
       "    </tr>\n",
       "    <tr>\n",
       "      <th>2</th>\n",
       "      <td>RECALL</td>\n",
       "      <td>0.872800</td>\n",
       "      <td>0.866667</td>\n",
       "    </tr>\n",
       "    <tr>\n",
       "      <th>3</th>\n",
       "      <td>F1 SCORE</td>\n",
       "      <td>0.860071</td>\n",
       "      <td>0.613208</td>\n",
       "    </tr>\n",
       "    <tr>\n",
       "      <th>4</th>\n",
       "      <td>AUC</td>\n",
       "      <td>0.858000</td>\n",
       "      <td>0.847002</td>\n",
       "    </tr>\n",
       "  </tbody>\n",
       "</table>\n",
       "</div>"
      ],
      "text/plain": [
       "     Measure     Train      Test\n",
       "0   ACCURACY  0.858000  0.833333\n",
       "1  PRECISION  0.847708  0.474453\n",
       "2     RECALL  0.872800  0.866667\n",
       "3   F1 SCORE  0.860071  0.613208\n",
       "4        AUC  0.858000  0.847002"
      ]
     },
     "execution_count": 29,
     "metadata": {},
     "output_type": "execute_result"
    }
   ],
   "source": [
    "# Train de model\n",
    "classModel.fit(X_train_scaled2, y_train2)\n",
    "\n",
    "# Predict values\n",
    "# predict y for X_train and X_test\n",
    "y_pred_train = classModel.predict(X_train_scaled2) \n",
    "y_pred_test = classModel.predict(X_test_scaled) \n",
    "\n",
    "# Show performance results\n",
    "resultsDF = performanceMetricsDF(metrics, y_train2, y_pred_train, y_test, y_pred_test)\n",
    "resultsDF"
   ]
  },
  {
   "cell_type": "markdown",
   "metadata": {},
   "source": [
    "In this iteration AUC has improved while F1 demonstrates some overfitting. This is related to the drop in precision score: oversampling leads to increase in false positive rate (as initially there were much more negative observations)"
   ]
  },
  {
   "cell_type": "code",
   "execution_count": 30,
   "metadata": {},
   "outputs": [
    {
     "data": {
      "image/png": "[encoded data removed]",
      "text/plain": [
       "<Figure size 576x396 with 2 Axes>"
      ]
     },
     "metadata": {},
     "output_type": "display_data"
    }
   ],
   "source": [
    "# Show the confusion matrix\n",
    "cf = metrics.confusion_matrix(y_test,y_pred_test)\n",
    "labels = ['True Neg','False Pos','False Neg','True Pos']\n",
    "categories = ['0', '1']\n",
    "make_confusion_matrix(cf, \n",
    "                      group_names=labels,\n",
    "                      categories=categories, \n",
    "                      cmap='Blues')"
   ]
  },
  {
   "cell_type": "markdown",
   "metadata": {},
   "source": [
    "- True positive and false positive have increased while false negative has dropped. \n",
    "- According to our assumption, the company gets more value in case of maximizing true positives and minimizing false negatives. In this case we reach the goal"
   ]
  },
  {
   "cell_type": "code",
   "execution_count": 31,
   "metadata": {},
   "outputs": [
    {
     "data": {
      "image/png": "[encoded data removed]",
      "text/plain": [
       "<Figure size 576x396 with 1 Axes>"
      ]
     },
     "metadata": {},
     "output_type": "display_data"
    },
    {
     "data": {
      "text/plain": [
       "<AxesSubplot:title={'center':'ROC Curves for LogisticRegression'}, xlabel='False Positive Rate', ylabel='True Positive Rate'>"
      ]
     },
     "execution_count": 31,
     "metadata": {},
     "output_type": "execute_result"
    }
   ],
   "source": [
    "# ROC curve\n",
    "visualizer = ROCAUC(classModel, classes=['0','1'])\n",
    "visualizer.fit(X_train_scaled2, y_train)\n",
    "visualizer.score(X_test_scaled, y_test)\n",
    "visualizer.show()"
   ]
  },
  {
   "cell_type": "markdown",
   "metadata": {},
   "source": [
    "ROC graph shows that the in class 1 true positive rate is increased with the rising of false positive rate, contrary to class 0"
   ]
  },
  {
   "cell_type": "code",
   "execution_count": 32,
   "metadata": {},
   "outputs": [
    {
     "data": {
      "image/png": "[encoded data removed]",
      "text/plain": [
       "<Figure size 576x396 with 1 Axes>"
      ]
     },
     "metadata": {},
     "output_type": "display_data"
    },
    {
     "data": {
      "text/plain": [
       "<AxesSubplot:title={'center':'Precision-Recall Curve for LogisticRegression'}, xlabel='Recall', ylabel='Precision'>"
      ]
     },
     "execution_count": 32,
     "metadata": {},
     "output_type": "execute_result"
    }
   ],
   "source": [
    "# Precison-Recall curve\n",
    "visualizer = PrecisionRecallCurve(classModel, classes=['0','1'])\n",
    "visualizer.fit(X_train_scaled2, y_train)\n",
    "visualizer.score(X_test_scaled, y_test)\n",
    "visualizer.show()"
   ]
  },
  {
   "cell_type": "markdown",
   "metadata": {},
   "source": [
    "Now the average precision is lower because we have more false positive, which is normal with oversamplig."
   ]
  },
  {
   "cell_type": "code",
   "execution_count": 33,
   "metadata": {},
   "outputs": [
    {
     "data": {
      "text/html": [
       "<div>\n",
       "<style scoped>\n",
       "    .dataframe tbody tr th:only-of-type {\n",
       "        vertical-align: middle;\n",
       "    }\n",
       "\n",
       "    .dataframe tbody tr th {\n",
       "        vertical-align: top;\n",
       "    }\n",
       "\n",
       "    .dataframe thead th {\n",
       "        text-align: right;\n",
       "    }\n",
       "</style>\n",
       "<table border=\"1\" class=\"dataframe\">\n",
       "  <thead>\n",
       "    <tr style=\"text-align: right;\">\n",
       "      <th></th>\n",
       "      <th>feature</th>\n",
       "      <th>coef</th>\n",
       "    </tr>\n",
       "  </thead>\n",
       "  <tbody>\n",
       "    <tr>\n",
       "      <th>0</th>\n",
       "      <td>PercentageStorePurchases</td>\n",
       "      <td>4.255601</td>\n",
       "    </tr>\n",
       "    <tr>\n",
       "      <th>1</th>\n",
       "      <td>Recency</td>\n",
       "      <td>3.494877</td>\n",
       "    </tr>\n",
       "    <tr>\n",
       "      <th>2</th>\n",
       "      <td>Customer_Lifetime</td>\n",
       "      <td>3.225486</td>\n",
       "    </tr>\n",
       "    <tr>\n",
       "      <th>3</th>\n",
       "      <td>PercentageCatalogPurchases</td>\n",
       "      <td>2.612831</td>\n",
       "    </tr>\n",
       "    <tr>\n",
       "      <th>4</th>\n",
       "      <td>PercentMntMeatProducts</td>\n",
       "      <td>2.524494</td>\n",
       "    </tr>\n",
       "    <tr>\n",
       "      <th>5</th>\n",
       "      <td>NumDealsPurchases</td>\n",
       "      <td>2.446681</td>\n",
       "    </tr>\n",
       "    <tr>\n",
       "      <th>6</th>\n",
       "      <td>PercentMntFishProducts</td>\n",
       "      <td>2.405585</td>\n",
       "    </tr>\n",
       "    <tr>\n",
       "      <th>7</th>\n",
       "      <td>NumWebVisitsMonth</td>\n",
       "      <td>2.159514</td>\n",
       "    </tr>\n",
       "    <tr>\n",
       "      <th>8</th>\n",
       "      <td>AcceptedCmp5</td>\n",
       "      <td>1.941729</td>\n",
       "    </tr>\n",
       "    <tr>\n",
       "      <th>9</th>\n",
       "      <td>PercentMntWines</td>\n",
       "      <td>1.885916</td>\n",
       "    </tr>\n",
       "  </tbody>\n",
       "</table>\n",
       "</div>"
      ],
      "text/plain": [
       "                      feature      coef\n",
       "0    PercentageStorePurchases  4.255601\n",
       "1                     Recency  3.494877\n",
       "2           Customer_Lifetime  3.225486\n",
       "3  PercentageCatalogPurchases  2.612831\n",
       "4      PercentMntMeatProducts  2.524494\n",
       "5           NumDealsPurchases  2.446681\n",
       "6      PercentMntFishProducts  2.405585\n",
       "7           NumWebVisitsMonth  2.159514\n",
       "8                AcceptedCmp5  1.941729\n",
       "9             PercentMntWines  1.885916"
      ]
     },
     "execution_count": 33,
     "metadata": {},
     "output_type": "execute_result"
    }
   ],
   "source": [
    "# Show 10 top features coefficients\n",
    "abs_coef = np.concatenate(np.abs(classModel.coef_))\n",
    "sorted_index = np.argsort(abs_coef)[::-1] # sort indices\n",
    "top_10 = sorted_index[:10]\n",
    "top_10DF = pd.DataFrame(data={'feature': list(X_train.columns[top_10]), 'coef': abs_coef[top_10]})\n",
    "top_10DF"
   ]
  },
  {
   "cell_type": "markdown",
   "metadata": {},
   "source": [
    "Here we see which are the 10 most important feature for this model to undestand if a customer will accept or not the campaign.  \n",
    "What is important to notice, is that half of these features are features that we engineered."
   ]
  },
  {
   "cell_type": "code",
   "execution_count": 34,
   "metadata": {},
   "outputs": [
    {
     "data": {
      "image/png": "[encoded data removed]",
      "text/plain": [
       "<Figure size 576x396 with 1 Axes>"
      ]
     },
     "metadata": {},
     "output_type": "display_data"
    },
    {
     "data": {
      "text/plain": [
       "<AxesSubplot:title={'center':'Learning Curve for LogisticRegression'}, xlabel='Training Instances', ylabel='Score'>"
      ]
     },
     "execution_count": 34,
     "metadata": {},
     "output_type": "execute_result"
    }
   ],
   "source": [
    "# Plot the learning curve\n",
    "cv = 10\n",
    "visualizer = LearningCurve(estimator=classModel, cv=cv, scoring='roc_auc', n_jobs=-1, random_state=123)\n",
    "visualizer.fit(X_train_scaled2, y_train2)\n",
    "visualizer.show()"
   ]
  },
  {
   "cell_type": "markdown",
   "metadata": {},
   "source": [
    "We can notice that comapred the first graph this one show less variance, this was aspected because the variance can be caused by the lack of data."
   ]
  },
  {
   "cell_type": "markdown",
   "metadata": {},
   "source": [
    "### Modeling and evaluating - with undersampling to remove the imbalance"
   ]
  },
  {
   "cell_type": "code",
   "execution_count": 35,
   "metadata": {},
   "outputs": [
    {
     "name": "stdout",
     "output_type": "stream",
     "text": [
      "Counter({0: 225, 1: 225})\n"
     ]
    },
    {
     "data": {
      "text/plain": [
       "<AxesSubplot:xlabel='Response', ylabel='count'>"
      ]
     },
     "execution_count": 35,
     "metadata": {},
     "output_type": "execute_result"
    },
    {
     "data": {
      "image/png": "[encoded data removed]",
      "text/plain": [
       "<Figure size 432x288 with 1 Axes>"
      ]
     },
     "metadata": {},
     "output_type": "display_data"
    }
   ],
   "source": [
    "# Subset by class\n",
    "ss_class_0 = pd.DataFrame(data=X_train_scaled[y_train == 0], index=X_train[y_train == 0].index)\n",
    "ss_class_1 = pd.DataFrame(data=X_train_scaled[y_train == 1], index=X_train[y_train == 1].index)\n",
    "\n",
    "# Do random under-sampling (the same 0's as the existing 1's)\n",
    "count_class_0, count_class_1 = y_train.value_counts()\n",
    "ss_class_0_under = ss_class_0.sample(count_class_1, replace=False)\n",
    "X_train_scaled3 = pd.concat([ss_class_0_under, ss_class_1], axis=0)\n",
    "y_train3 = y_train[X_train_scaled3.index]\n",
    "\n",
    "# Present results\n",
    "print(collections.Counter(y_train3))\n",
    "fig, ax = plt.subplots(figsize=(6,4))\n",
    "sns.countplot(x=\"Response\", data=pd.DataFrame(data={'Response':y_train3}), ax=ax)\n"
   ]
  },
  {
   "cell_type": "code",
   "execution_count": 36,
   "metadata": {},
   "outputs": [
    {
     "data": {
      "text/html": [
       "<div>\n",
       "<style scoped>\n",
       "    .dataframe tbody tr th:only-of-type {\n",
       "        vertical-align: middle;\n",
       "    }\n",
       "\n",
       "    .dataframe tbody tr th {\n",
       "        vertical-align: top;\n",
       "    }\n",
       "\n",
       "    .dataframe thead th {\n",
       "        text-align: right;\n",
       "    }\n",
       "</style>\n",
       "<table border=\"1\" class=\"dataframe\">\n",
       "  <thead>\n",
       "    <tr style=\"text-align: right;\">\n",
       "      <th></th>\n",
       "      <th>Measure</th>\n",
       "      <th>Train</th>\n",
       "      <th>Test</th>\n",
       "    </tr>\n",
       "  </thead>\n",
       "  <tbody>\n",
       "    <tr>\n",
       "      <th>0</th>\n",
       "      <td>ACCURACY</td>\n",
       "      <td>0.813333</td>\n",
       "      <td>0.823171</td>\n",
       "    </tr>\n",
       "    <tr>\n",
       "      <th>1</th>\n",
       "      <td>PRECISION</td>\n",
       "      <td>0.813333</td>\n",
       "      <td>0.455224</td>\n",
       "    </tr>\n",
       "    <tr>\n",
       "      <th>2</th>\n",
       "      <td>RECALL</td>\n",
       "      <td>0.813333</td>\n",
       "      <td>0.813333</td>\n",
       "    </tr>\n",
       "    <tr>\n",
       "      <th>3</th>\n",
       "      <td>F1 SCORE</td>\n",
       "      <td>0.813333</td>\n",
       "      <td>0.583732</td>\n",
       "    </tr>\n",
       "    <tr>\n",
       "      <th>4</th>\n",
       "      <td>AUC</td>\n",
       "      <td>0.813333</td>\n",
       "      <td>0.819137</td>\n",
       "    </tr>\n",
       "  </tbody>\n",
       "</table>\n",
       "</div>"
      ],
      "text/plain": [
       "     Measure     Train      Test\n",
       "0   ACCURACY  0.813333  0.823171\n",
       "1  PRECISION  0.813333  0.455224\n",
       "2     RECALL  0.813333  0.813333\n",
       "3   F1 SCORE  0.813333  0.583732\n",
       "4        AUC  0.813333  0.819137"
      ]
     },
     "execution_count": 36,
     "metadata": {},
     "output_type": "execute_result"
    }
   ],
   "source": [
    "# Train de model\n",
    "classModel.fit(X_train_scaled3, y_train3)\n",
    "\n",
    "# Predict values\n",
    "# predict y for X_train and X_test\n",
    "y_pred_train = classModel.predict(X_train_scaled3) \n",
    "y_pred_test = classModel.predict(X_test_scaled) \n",
    "\n",
    "# Show performance results\n",
    "resultsDF = performanceMetricsDF(metrics, y_train3, y_pred_train, y_test, y_pred_test)\n",
    "resultsDF"
   ]
  },
  {
   "cell_type": "markdown",
   "metadata": {},
   "source": [
    "This results are pretty similar to the one of the oversampled dataset, but has we will see later they are not good as the other dataset."
   ]
  },
  {
   "cell_type": "code",
   "execution_count": 37,
   "metadata": {},
   "outputs": [
    {
     "data": {
      "image/png": "[encoded data removed]",
      "text/plain": [
       "<Figure size 576x396 with 2 Axes>"
      ]
     },
     "metadata": {},
     "output_type": "display_data"
    }
   ],
   "source": [
    "# Show the confusion matrix\n",
    "cf = metrics.confusion_matrix(y_test,y_pred_test)\n",
    "labels = ['True Neg','False Pos','False Neg','True Pos']\n",
    "categories = ['0', '1']\n",
    "make_confusion_matrix(cf, \n",
    "                      group_names=labels,\n",
    "                      categories=categories, \n",
    "                      cmap='Blues')"
   ]
  },
  {
   "cell_type": "markdown",
   "metadata": {},
   "source": [
    "Also here we obtained a similar result of the oversampled dataset for the same reason."
   ]
  },
  {
   "cell_type": "code",
   "execution_count": 38,
   "metadata": {},
   "outputs": [
    {
     "name": "stdout",
     "output_type": "stream",
     "text": [
      "AUC:0.9196482813749001\n"
     ]
    }
   ],
   "source": [
    "# Check AUC\n",
    "FP,TP,thresholds = metrics.roc_curve(y_test,classModel.decision_function(X_test_scaled))\n",
    "print(\"AUC:{}\".format(metrics.auc(FP, TP))) # AUC of ROC"
   ]
  },
  {
   "cell_type": "code",
   "execution_count": 39,
   "metadata": {},
   "outputs": [
    {
     "data": {
      "image/png": "[encoded data removed]",
      "text/plain": [
       "<Figure size 576x396 with 1 Axes>"
      ]
     },
     "metadata": {},
     "output_type": "display_data"
    },
    {
     "data": {
      "text/plain": [
       "<AxesSubplot:title={'center':'ROC Curves for LogisticRegression'}, xlabel='False Positive Rate', ylabel='True Positive Rate'>"
      ]
     },
     "execution_count": 39,
     "metadata": {},
     "output_type": "execute_result"
    }
   ],
   "source": [
    "# ROC curve\n",
    "visualizer = ROCAUC(classModel, classes=['0','1'])\n",
    "visualizer.fit(X_train_scaled3, y_train)\n",
    "visualizer.score(X_test_scaled, y_test)\n",
    "visualizer.show()"
   ]
  },
  {
   "cell_type": "markdown",
   "metadata": {},
   "source": [
    "This is the same result that we have on the oversampled one."
   ]
  },
  {
   "cell_type": "code",
   "execution_count": 40,
   "metadata": {},
   "outputs": [
    {
     "data": {
      "image/png": "[encoded data removed]",
      "text/plain": [
       "<Figure size 576x396 with 1 Axes>"
      ]
     },
     "metadata": {},
     "output_type": "display_data"
    },
    {
     "data": {
      "text/plain": [
       "<AxesSubplot:title={'center':'Precision-Recall Curve for LogisticRegression'}, xlabel='Recall', ylabel='Precision'>"
      ]
     },
     "execution_count": 40,
     "metadata": {},
     "output_type": "execute_result"
    }
   ],
   "source": [
    "# Precison-Recall curve\n",
    "visualizer = PrecisionRecallCurve(classModel, classes=['0','1'])\n",
    "visualizer.fit(X_train_scaled3, y_train)\n",
    "visualizer.score(X_test_scaled, y_test)\n",
    "visualizer.show()"
   ]
  },
  {
   "cell_type": "markdown",
   "metadata": {},
   "source": [
    "This is the same average precision of the oversampled dataset for the same reason."
   ]
  },
  {
   "cell_type": "code",
   "execution_count": 41,
   "metadata": {},
   "outputs": [
    {
     "data": {
      "text/html": [
       "<div>\n",
       "<style scoped>\n",
       "    .dataframe tbody tr th:only-of-type {\n",
       "        vertical-align: middle;\n",
       "    }\n",
       "\n",
       "    .dataframe tbody tr th {\n",
       "        vertical-align: top;\n",
       "    }\n",
       "\n",
       "    .dataframe thead th {\n",
       "        text-align: right;\n",
       "    }\n",
       "</style>\n",
       "<table border=\"1\" class=\"dataframe\">\n",
       "  <thead>\n",
       "    <tr style=\"text-align: right;\">\n",
       "      <th></th>\n",
       "      <th>feature</th>\n",
       "      <th>coef</th>\n",
       "    </tr>\n",
       "  </thead>\n",
       "  <tbody>\n",
       "    <tr>\n",
       "      <th>0</th>\n",
       "      <td>PercentageStorePurchases</td>\n",
       "      <td>2.776050</td>\n",
       "    </tr>\n",
       "    <tr>\n",
       "      <th>1</th>\n",
       "      <td>Recency</td>\n",
       "      <td>2.477725</td>\n",
       "    </tr>\n",
       "    <tr>\n",
       "      <th>2</th>\n",
       "      <td>Customer_Lifetime</td>\n",
       "      <td>2.223402</td>\n",
       "    </tr>\n",
       "    <tr>\n",
       "      <th>3</th>\n",
       "      <td>PercentageCatalogPurchases</td>\n",
       "      <td>1.691693</td>\n",
       "    </tr>\n",
       "    <tr>\n",
       "      <th>4</th>\n",
       "      <td>NumDealsPurchases</td>\n",
       "      <td>1.316944</td>\n",
       "    </tr>\n",
       "    <tr>\n",
       "      <th>5</th>\n",
       "      <td>AcceptedCmp4</td>\n",
       "      <td>1.313086</td>\n",
       "    </tr>\n",
       "    <tr>\n",
       "      <th>6</th>\n",
       "      <td>AcceptedCmp3</td>\n",
       "      <td>1.265295</td>\n",
       "    </tr>\n",
       "    <tr>\n",
       "      <th>7</th>\n",
       "      <td>AcceptedCmp5</td>\n",
       "      <td>1.254598</td>\n",
       "    </tr>\n",
       "    <tr>\n",
       "      <th>8</th>\n",
       "      <td>PercentMntWines</td>\n",
       "      <td>1.170226</td>\n",
       "    </tr>\n",
       "    <tr>\n",
       "      <th>9</th>\n",
       "      <td>PercentMntFishProducts</td>\n",
       "      <td>1.110368</td>\n",
       "    </tr>\n",
       "  </tbody>\n",
       "</table>\n",
       "</div>"
      ],
      "text/plain": [
       "                      feature      coef\n",
       "0    PercentageStorePurchases  2.776050\n",
       "1                     Recency  2.477725\n",
       "2           Customer_Lifetime  2.223402\n",
       "3  PercentageCatalogPurchases  1.691693\n",
       "4           NumDealsPurchases  1.316944\n",
       "5                AcceptedCmp4  1.313086\n",
       "6                AcceptedCmp3  1.265295\n",
       "7                AcceptedCmp5  1.254598\n",
       "8             PercentMntWines  1.170226\n",
       "9      PercentMntFishProducts  1.110368"
      ]
     },
     "execution_count": 41,
     "metadata": {},
     "output_type": "execute_result"
    }
   ],
   "source": [
    "# Show 10 top features coefficients\n",
    "abs_coef = np.concatenate(np.abs(classModel.coef_))\n",
    "sorted_index = np.argsort(abs_coef)[::-1] # sort indices\n",
    "top_10 = sorted_index[:10]\n",
    "top_10DF = pd.DataFrame(data={'feature': list(X_train.columns[top_10]), 'coef': abs_coef[top_10]})\n",
    "top_10DF"
   ]
  },
  {
   "cell_type": "markdown",
   "metadata": {},
   "source": [
    "The feature list is changed, but as we will see on the next graph we will not take a look on this list because oversampling is better."
   ]
  },
  {
   "cell_type": "code",
   "execution_count": 42,
   "metadata": {},
   "outputs": [
    {
     "data": {
      "image/png": "[encoded data removed]",
      "text/plain": [
       "<Figure size 576x396 with 1 Axes>"
      ]
     },
     "metadata": {},
     "output_type": "display_data"
    },
    {
     "data": {
      "text/plain": [
       "<AxesSubplot:title={'center':'Learning Curve for LogisticRegression'}, xlabel='Training Instances', ylabel='Score'>"
      ]
     },
     "execution_count": 42,
     "metadata": {},
     "output_type": "execute_result"
    }
   ],
   "source": [
    "# Plot the learning curve\n",
    "cv = 10\n",
    "visualizer = LearningCurve(estimator=classModel, cv=cv, scoring='roc_auc', n_jobs=-1, random_state=123)\n",
    "visualizer.fit(X_train_scaled3, y_train3)\n",
    "visualizer.show()"
   ]
  },
  {
   "cell_type": "markdown",
   "metadata": {},
   "source": [
    "This graph show more variance than the oversampled one, that's why we ended up with choosing oversampling. That was expected because the original dataset is not a big one, so in this case oversamplig is a better choice for all the models. We runned the same graph on each of them an the conclusion was the same for all of them."
   ]
  }
 ],
 "metadata": {
  "interpreter": {
   "hash": "d7a18bc08bf6b314cad8b0dd8f53415ad78d1015cc806d14e4873c235fb4e191"
  },
  "kernelspec": {
   "display_name": "Python 3 (ipykernel)",
   "language": "python",
   "name": "python3"
  },
  "language_info": {
   "codemirror_mode": {
    "name": "ipython",
    "version": 3
   },
   "file_extension": ".py",
   "mimetype": "text/x-python",
   "name": "python",
   "nbconvert_exporter": "python",
   "pygments_lexer": "ipython3",
   "version": "3.11.5"
  }
 },
 "nbformat": 4,
 "nbformat_minor": 4
}
