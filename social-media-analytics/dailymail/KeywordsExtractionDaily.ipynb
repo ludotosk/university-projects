{
 "cells": [
  {
   "cell_type": "markdown",
   "metadata": {},
   "source": [
    "##### Social Media Analytics\n",
    "### Introduction to Text Mining\n",
    "## Keywords extraction (using RAKE method)\n",
    "(c) Nuno Antonio 2019-2022 v1.02"
   ]
  },
  {
   "cell_type": "markdown",
   "metadata": {},
   "source": [
    "### Initial setup"
   ]
  },
  {
   "cell_type": "code",
   "execution_count": 1,
   "metadata": {},
   "outputs": [],
   "source": [
    "# Import packages\n",
    "import csv\n",
    "import re\n",
    "\n",
    "import nltk\n",
    "import numpy as np\n",
    "import pandas as pd\n",
    "from bs4 import BeautifulSoup\n",
    "from nltk.tokenize import word_tokenize\n",
    "from rake_nltk import Rake"
   ]
  },
  {
   "cell_type": "code",
   "execution_count": 2,
   "metadata": {},
   "outputs": [],
   "source": [
    "ds = pd.read_parquet(\"DailyMail.parquet.snappy\", engine=\"fastparquet\")"
   ]
  },
  {
   "cell_type": "markdown",
   "metadata": {},
   "source": [
    "### Functions"
   ]
  },
  {
   "cell_type": "code",
   "execution_count": 3,
   "metadata": {},
   "outputs": [],
   "source": [
    "# Text preprocessing\n",
    "def textPreProcess(\n",
    "    rawText,\n",
    "    removeHTML=True,\n",
    "    charsToRemove=r\"\\?|\\.|\\!|\\;|\\.|\\\"|\\,|\\(|\\)|\\&|\\:|\\-\",\n",
    "    removeNumbers=True,\n",
    "    removeLineBreaks=False,\n",
    "    specialCharsToRemove=r\"[^\\x00-\\xfd]\",\n",
    "    convertToLower=True,\n",
    "    removeConsecutiveSpaces=True,\n",
    "):\n",
    "    if type(rawText) != str:\n",
    "        return rawText\n",
    "    procText = rawText\n",
    "\n",
    "    # Remove HTML\n",
    "    if removeHTML:\n",
    "        procText = BeautifulSoup(procText, \"html.parser\").get_text()\n",
    "\n",
    "    # Remove punctuation and other special characters\n",
    "    if len(charsToRemove) > 0:\n",
    "        procText = re.sub(charsToRemove, \" \", procText)\n",
    "\n",
    "    # Remove numbers\n",
    "    if removeNumbers:\n",
    "        procText = re.sub(r\"\\d+\", \" \", procText)\n",
    "\n",
    "    # Remove line breaks\n",
    "    if removeLineBreaks:\n",
    "        procText = procText.replace(\"\\n\", \" \").replace(\"\\r\", \"\")\n",
    "\n",
    "    # Remove special characters\n",
    "    if len(specialCharsToRemove) > 0:\n",
    "        procText = re.sub(specialCharsToRemove, \" \", procText)\n",
    "\n",
    "    # Normalize to lower case\n",
    "    if convertToLower:\n",
    "        procText = procText.lower()\n",
    "\n",
    "    # Replace multiple consecutive spaces with just one space\n",
    "    if removeConsecutiveSpaces:\n",
    "        procText = re.sub(\" +\", \" \", procText)\n",
    "\n",
    "    return procText"
   ]
  },
  {
   "cell_type": "code",
   "execution_count": 4,
   "metadata": {},
   "outputs": [],
   "source": [
    "# Tokenize words\n",
    "def tokenize_words(words):\n",
    "    if (type(words) != str) or (word_tokenize(words) == \"\"):\n",
    "        return np.nan\n",
    "    else:\n",
    "        return word_tokenize(words)"
   ]
  },
  {
   "cell_type": "code",
   "execution_count": 5,
   "metadata": {},
   "outputs": [],
   "source": [
    "# Function to create text from words\n",
    "def recreateText(words):\n",
    "    if type(words) == list:\n",
    "        temp_str = (\" \").join(words)\n",
    "        return temp_str\n",
    "    else:\n",
    "        return np.nan"
   ]
  },
  {
   "cell_type": "markdown",
   "metadata": {},
   "source": [
    "### Analysis"
   ]
  },
  {
   "cell_type": "code",
   "execution_count": 6,
   "metadata": {},
   "outputs": [],
   "source": [
    "# Create a dataframe with only the description\n",
    "processedReviews = pd.DataFrame(\n",
    "    data=ds.text.apply(textPreProcess, charsToRemove=\"\", removeNumbers=False).values,\n",
    "    index=ds.index,\n",
    "    columns=[\"PreProcessedText\"],\n",
    ")"
   ]
  },
  {
   "cell_type": "code",
   "execution_count": 7,
   "metadata": {},
   "outputs": [],
   "source": [
    "# Remove rows with empty text\n",
    "processedReviews.PreProcessedText = processedReviews.PreProcessedText.str.strip()\n",
    "processedReviews = processedReviews[processedReviews.PreProcessedText != \"\"]"
   ]
  },
  {
   "cell_type": "code",
   "execution_count": 12,
   "metadata": {},
   "outputs": [],
   "source": [
    "# Find specific terms\n",
    "termsToSearch = [\"last year\"]\n",
    "searchList = re.compile(\"|\".join(termsToSearch))\n",
    "\n",
    "# Get words from sentences\n",
    "listOfWords = processedReviews.PreProcessedText.apply(tokenize_words)\n",
    "\n",
    "# Reconstruct sentences with spaces in the beginning and in the end\n",
    "ppText = listOfWords.apply(recreateText)\n",
    "\n",
    "# Look for search terms in sentences and present them\n",
    "ppText_searched = []\n",
    "for review in ppText:\n",
    "    if searchList.search(\" \" + review + \" \"):\n",
    "        ppText_searched.append(review)"
   ]
  },
  {
   "cell_type": "code",
   "execution_count": 13,
   "metadata": {},
   "outputs": [
    {
     "data": {
      "text/plain": [
       "[\"wagner group boss yevgeny prigozhin said today his mercenaries would fight on in ukraine if left alone without having to rely on the 'clowns ' running the russian army.prigozhin , who continues to butt heads with russian officials , said at a training camp on thursday that he would pull his forces out 'if the whole chain [ of command ] is 100 per cent failed and will only be led by clowns who turn people into meat . 'the group 's leader , who was celebrating his 62nd birthday , has offered up his forces in brutal human wave strikes into ukraine since the war started , but has clashed with russian commanders over strategy and 'withheld ' supplies needed to sustain his assaults.he also confirmed today that his men would finally leave the eastern city of bakhmut on june 5 after handing it over to the russian army . the wagner group captured the besieged city after months of relentless shelling and surrounding trench warfare.speaking to russian reporters , prigozhin looked on across a night scene lit by blasts and red flares against burst of automatic gunfire from his mercenaries . 'beautiful , is n't it ? ' he said . he spoke to journalists about the prosthetic legs which his wounded men have received , including those who continued to fight.prigozhin said his men wanted to rest at camps in russian-controlled ukraine for around a month and then things would become clearer . 'it has been a tough year . then we 'll see how it goes , ' he said.the restaurateur-turned-mercenary has gained widespread notoriety during the 15-month war in ukraine.he has regularly insulted president vladimir putin 's top military brass , especially defence minister sergei shoigu and chief of the general staff valery gerasimov , over their performance.neither shoigu or gerasimov have responded to his insults in public.prigozhin said on wednesday he had asked prosecutors to investigate whether senior russian defence officials had committed any 'crime ' before or during the war in ukraine.despite their success in bakhmut , many mercenaries have been killed in the handover to the russian army . ukraine claims to have killed scores of wagner mercenaries as they leave . on may 25 , as he confirmed the start of the handover , prigozhin admitted 20,000 of his mercenaries had been killed capturing the completely obliterated city.bakhmut is considered to be of symbolic importance , contested since putin 's initial wins dried up last year , but of limited strategic value to russian forces . russian groups also claimed today they had launched yet another devastating strike into russia , saying they were marching into the border town of shebekino.fighters of the russian volunteer corps said in a video shared on telegram that they were moving on the town in russia 's belgorod region on the border of ukraine.later , the group said fighters had hit the interior ministry 's department in the town with ussr-designed grad multiple launch rocket systems.video appeared to show russian district administration officials in the town burning documents amid fears the settlement would be taken by anti-kremlin groups.the free russian legion , who made headlines last week as they apparently marched back east into russia to take hold of bordering villages in belgorod , also today announced a raid into russia.vyacheslav gladkov , governor of russia 's belgorod oblast , was forced to announce a 'counter-terrorist operation ' when the free russia legion and the russian volunteer corps claimed to have taken the step of taking the fight to russia on may 22.again today , he said ukraine 's armed forces had repeatedly shelled shebekino with soviet-designed grad 122 mm rockets , setting alight a dormitory and damaging an administrative building . at least nine civilians were injured in shelling in the region , he said . in unverified video posted on social media , plumes of smoke were shown rising above a large building in shebekino as flames licked through the destroyed roof . 'as soon as it calms down , we will continue the evacuation of people , ' gladkov said . 'all temporary accommodation facilities are ready . 'russia confirmed it had repelled three attempted incursions along its border with ukraine by what it casts as pro-ukrainian militants , while heavy shelling prompted a partial evacuation of civilians from the area.the country 's defence ministry accused ukraine of using what it cast as 'terrorist formations ' to carry out attempted attacks on russian civilians . 'the selfless actions of russian servicemen repelled three attacks by ukrainian terrorist formations , ' the ministry said . 'no violations of the state border were allowed , ' the ministry said.more than 30 ukrainian fighters had been killed , along with four armoured vehicles destroyed , it claimed.kyiv has denied any involvement but russian officials say the group of fighters is a proxy run by ukraine.the russian volunteer corps also said in march that they had crossed into russia 's bryansk oblast , on the border with ukraine - but the attack was inconclusive.both groups claim they employ russian citizens fighting against the regime . the russian volunteer corps was founded by a far-right russian national last august and comprises russians who have been fighting in and for ukraine against their own country . the ukrainian military intelligence agency says the rvc is an independent underground group inside russia that also has a unit in the ukrainian foreign legion.the foreign legion says it has nothing to do with the rvc . the freedom of russia legion says it was formed in spring 2022 'out of the wish of russians to fight in the ranks of the armed forces of ukraine against putin 's armed gang ' . it says it cooperates with the ukrainian armed forces and operates under ukrainian command . it has claimed responsibility for the previous attack in belgorod and says it has been fighting in eastern ukraine .\",\n",
       " \"the white house on wednesday rejected the claims of ex-biden aide tara reade who said she was in danger of being killed after accusing him of assault - and who appears to be seeking to defect to russia.white house national security spokesman john kirby fielded questions about reade from the white house on wednesday , after her stunning appearance on kremlin-backed sputnik tv alongside convicted 'spy ' maria butina.she spoke of her bid to move to russia in an interview where she blasted biden and the 'corrupt ' democratic national committee and echoed kremlin talking points on the war in ukraine.asked if she was part of a russian influence operation , kirby responded : ' i 've seen no evidence or proof of that . 'he was initially reluctant to get into the details of reade 's case but did contradict her claim of being a target for assassination . 'we 'd be loath to comment on the musings of a potential russian citizen - that 's really up for her to speak to , ' kirby said . ' i mean , i ca n't get inside her head and speak for her motivations and intentions . that 's really for her to speak to . 'the one thing i will say is that allegations that her life was at risk by the united states government . absolutely false , baseless . there 's nothing to that . 'kirby said he has n't seen a link to russian influence operations but then did opine on moscow 's efforts and desire to interfere in u.s . elections . ' i would let this prospective russian citizen speak for her intentions and motivations . i mean , look , it 's a matter of record that that mr. putin and the russian government have tried to interfere and actually did interfere in our elections going back as far as 2016 , ' he said , referencing the hacking operations that u.s. intelligence traced to a st. petersburg troll farm backed by the kremlin . 'and then that 's a matter of record . it should come as no surprise to anybody that that mr. putin would show an interest in making it hard for president biden to win election and to try to interfere in his ability to govern as president united states . but whether this particular move by this particular individual is some sort of russian information , or propaganda campaign i just do n't know . 'his comments came following the news that reade , who during the 2020 campaign accused biden of trying to assault her in 1993 , is seeking to defect to russia . she said on a kremlin-backed program that she has fears for her own safety in the u.s. reade made a series of stunning assertions while appearing on russian state tv with maria butina , who was convicted of acting as an unregistered foreign agent inside the u.s. while cultivating relationships with a series of u.s. political figures . reade called butina 'my friend . 'butina , who was elected to the state duma in russia and subjected to u.s. sanctions after russia 's ukraine invasion , said reade made her decision on a visit to moscow . ' i 'm still kind of in a daze a bit but i feel very good , ' reade said in an appearance aired on sputnik . ' i feel very surrounded by protection and safety . and i just really so appreciate maria [ butina ] and everyone who 's been giving me that at a time when it 's been very difficult to know if i 'm safe or not . ' she fielded questions from audience members during an appearance , where she bashed the u.s. position arming ukraine following russia 's invasion . 'it 's very sad that america has chosen the wrong side in history , ' she said , echoing kremlin propaganda about the ukrainian government.she described her visit to moscow as breaking impressions . 'the food tastes so good - there 's no chemicals , there 's no gmos , ' she said . ' i 'm not just giving you a smoke screen . 'she said she was n't sure she would go back to the u.s. even if biden is replaced , although she expressed doubts he 'makes it to run again . '' i 'm not sure if the new president will change anything for me . i have lawyers working right now to figure out because some of the cases are sealed that are against me , so i do n't know what they have in mind . but i do know this that unfortunately , the democratic national committee is quite corrupt . unless that 's dismantled and taken down . i 'm not sure things will get better , ' she said . ' i just did n't want to walk home and walk into a cage or be killed , which is basically my two choices , ' she told sputnik . 'to my russian brothers and sisters , i 'm sorry right now that american elites are choosing to have such an aggressive stance . just know that most american citizens do want to be friends , ' she said , the dailybeast reported.she also tore into u.s. defense contractors , and called the bombing of the nordstream pipeline a 'war crime ' that she suggested was carried out by the u.s. echoing kremlin claims . butina said through a translator she would pursue 'people to people contacts ' in russia and experience russian culture , and pledged to help her draft her applications to support her finding ' a way for tara to stay here in russia ' that would go all the way to russian president vladimir putin . she said she would help pursue a 'fast track procedure . ' reade during the 2020 presidential campaign accused biden of having sexually assaulted her while he was a senator . biden and his team denied the allegation . but after the allegations drew headlines , there were reports she 'left a trail of aggrieved acquaintances in california 's central coast region who say they remember two things about her she spoke favorably about her time working for biden , and she left them feeling duped . 'that included a landlord who called her 'manipulative ' and who said when then she and her husband wanted to sell the unit she was renting reade , who went by a different name , told her `` you 're going to have to pay me to get me to leave . ' pbs interviewed 74 former biden staffers after reade leveled her allegations of sexual assault from the 1990s.the new york times reported in april 2020 that reade , who had featured in reports from multiple women who said biden engaged in kissing and hugging that made them uncomfortable , had alleged that biden sexually assaulted her in 1993 in a senate office building.but it also reported that 'no other allegation about sexual assault surfaced in the course of reporting , nor did any former biden staff members corroborate any details of ms. reade 's allegation . 'she issued a cryptic tweet earlier this month after republican reps. matt gaetz ( r-fla. ) and marjorie taylor greene ( r-ga. ) invited her to testify . ' i want to make something clear . if something happens to me , all roads lead to joe biden . joe biden and dnc political machine threats , bullying and intimidation over the last three years will not work . i am not suicidal . i should not be under investigation nor am i a foreign agent . ' late last year , russian diplomats sought to bring reade to the un to testify about diversion of u.s. weapons provided to ukraine , semafor reported .\",\n",
       " \"a british paratrooper wrote off an mod land rover after 'stupidly ' drinking five vodka cokes and crashing into a tree while driving to fetch a phone charger , a military court heard.the elite fighting force were in the middle of a high profile nato exercise in macedonia after the start of the ukraine war when private thomas strong decided to drive half a mile in the dark to pick up the charger.pte kai neilan , 21 , a fellow member of the 3rd battalion , parachute regiment , was in the passenger seat when they swerved to avoid a dog and crashed.the court heard the paratroopers - accustomed to entering the battlefield from the air and attack areas not directly accessible by other transport - had done £23,102 worth of damage to the vehicle after smashing into a tree.pte strong , 22 , has been fined £1,380 for his 'serious error of judgment ' after admittting misconduct through alcohol.at bulford military court , wilts , pte neilan was also ordered to pay £920 for conduct prejudicial to good order and service discipline.prosecuting , captain jack hook told the court pte strong and pte neilan were on exercise swift response in north macedonia in may last year , which involved 3,000 troops from eight nato allies . 'on may 15 , pte strong was was relieved of his duties at 8pm and by around 10pm he had had around five vodka cokes , ' he said . 'pte strong volunteered to get a phone charger as there was n't one at the tent . 'pte neilan offered to go with him and had had roughly the same amount to drink - he was aware pte strong had been drinking that evening . 'pte strong drove the vehicle back to camp but crashed into a tree because a dog ran out . 'cpt hook told the court there had been such 'substantial ' damage to the car from impact , it had been deemed a 'write-off'.this figure was arrived at via estimating cost of spare parts and associated labour if it were to be put back on the road.in mitigation , kim wilson said pte strong 'was not drunk ' , but knew he should not have offered to get a charger if he was going to drive a one-mile round trip . 'he accepts he was stupid , ' he said . 'the intentions he had were correct , but it was a foolish decision . 'meanwhile , bob scott , defending pte neilan , said the young paratrooper had made a mistake getting in the car knowing pte strong had been drinking.mr scott said : 'it was simply a foolish decision to go with him . 'sentencing the pair , assistant judge advocate general jane england told the paratroopers - often used in surprise attacks , to seize strategic objectives such as airfields or bridges - their behaviour was 'stupid'.she said : 'you came off duty and went to see those at the ammo tent after drinking vodka cokes . 'at this point you had done nothing wrong . 'addressing pte strong , she continued : 'you then made a serious error of judgment by deciding to drive . 'and pte neilan , you went along as a willing passenger . 'as there were many troops in tents nearby , the judge warned the consequences could have been 'far more serious ' if they had crashed into something other than a tree . 'the total distance was about a mile , when other people were moving about , ' she added . 'you could have just walked . '\"]"
      ]
     },
     "execution_count": 13,
     "metadata": {},
     "output_type": "execute_result"
    }
   ],
   "source": [
    "# The first 3 reviews\n",
    "# termsToSearch = ['hygiene', 'clean', 'safe']\n",
    "ppText_searched[0:3]"
   ]
  }
 ],
 "metadata": {
  "kernelspec": {
   "display_name": "Python 3 (ipykernel)",
   "language": "python",
   "name": "python3"
  },
  "language_info": {
   "codemirror_mode": {
    "name": "ipython",
    "version": 3
   },
   "file_extension": ".py",
   "mimetype": "text/x-python",
   "name": "python",
   "nbconvert_exporter": "python",
   "pygments_lexer": "ipython3",
   "version": "3.9.12"
  },
  "vscode": {
   "interpreter": {
    "hash": "d7a18bc08bf6b314cad8b0dd8f53415ad78d1015cc806d14e4873c235fb4e191"
   }
  }
 },
 "nbformat": 4,
 "nbformat_minor": 4
}
