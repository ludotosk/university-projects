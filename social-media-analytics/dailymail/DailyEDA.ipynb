{
 "cells": [
  {
   "cell_type": "code",
   "execution_count": 1,
   "id": "5582c528-427b-4490-8c3f-20eb88765a3d",
   "metadata": {
    "id": "wkoSgmbga2qS"
   },
   "outputs": [],
   "source": [
    "# Installing the necessary packages:\n",
    "# Packages\n",
    "import matplotlib.pyplot as plt\n",
    "import numpy as np\n",
    "import pandas as pd\n",
    "import seaborn as sns  # visualizations"
   ]
  },
  {
   "cell_type": "code",
   "execution_count": 3,
   "id": "a5ac030a-aca0-4505-909c-0fad9f50d354",
   "metadata": {},
   "outputs": [
    {
     "ename": "FileNotFoundError",
     "evalue": "[Errno 2] No such file or directory: 'dailymailWithSentimentComplete.parquet.snappy'",
     "output_type": "error",
     "traceback": [
      "\u001b[0;31m---------------------------------------------------------------------------\u001b[0m",
      "\u001b[0;31mFileNotFoundError\u001b[0m                         Traceback (most recent call last)",
      "Input \u001b[0;32mIn [3]\u001b[0m, in \u001b[0;36m<cell line: 1>\u001b[0;34m()\u001b[0m\n\u001b[0;32m----> 1\u001b[0m ds \u001b[38;5;241m=\u001b[39m \u001b[43mpd\u001b[49m\u001b[38;5;241;43m.\u001b[39;49m\u001b[43mread_parquet\u001b[49m\u001b[43m(\u001b[49m\u001b[38;5;124;43m\"\u001b[39;49m\u001b[38;5;124;43mdailymailWithSentimentComplete.parquet.snappy\u001b[39;49m\u001b[38;5;124;43m\"\u001b[39;49m\u001b[43m,\u001b[49m\u001b[43m \u001b[49m\u001b[43mengine\u001b[49m\u001b[38;5;241;43m=\u001b[39;49m\u001b[38;5;124;43m\"\u001b[39;49m\u001b[38;5;124;43mfastparquet\u001b[39;49m\u001b[38;5;124;43m\"\u001b[39;49m\u001b[43m)\u001b[49m\n",
      "File \u001b[0;32m~/anaconda3/lib/python3.9/site-packages/pandas/io/parquet.py:509\u001b[0m, in \u001b[0;36mread_parquet\u001b[0;34m(path, engine, columns, storage_options, use_nullable_dtypes, dtype_backend, **kwargs)\u001b[0m\n\u001b[1;32m    506\u001b[0m     use_nullable_dtypes \u001b[38;5;241m=\u001b[39m \u001b[38;5;28;01mFalse\u001b[39;00m\n\u001b[1;32m    507\u001b[0m check_dtype_backend(dtype_backend)\n\u001b[0;32m--> 509\u001b[0m \u001b[38;5;28;01mreturn\u001b[39;00m \u001b[43mimpl\u001b[49m\u001b[38;5;241;43m.\u001b[39;49m\u001b[43mread\u001b[49m\u001b[43m(\u001b[49m\n\u001b[1;32m    510\u001b[0m \u001b[43m    \u001b[49m\u001b[43mpath\u001b[49m\u001b[43m,\u001b[49m\n\u001b[1;32m    511\u001b[0m \u001b[43m    \u001b[49m\u001b[43mcolumns\u001b[49m\u001b[38;5;241;43m=\u001b[39;49m\u001b[43mcolumns\u001b[49m\u001b[43m,\u001b[49m\n\u001b[1;32m    512\u001b[0m \u001b[43m    \u001b[49m\u001b[43mstorage_options\u001b[49m\u001b[38;5;241;43m=\u001b[39;49m\u001b[43mstorage_options\u001b[49m\u001b[43m,\u001b[49m\n\u001b[1;32m    513\u001b[0m \u001b[43m    \u001b[49m\u001b[43muse_nullable_dtypes\u001b[49m\u001b[38;5;241;43m=\u001b[39;49m\u001b[43muse_nullable_dtypes\u001b[49m\u001b[43m,\u001b[49m\n\u001b[1;32m    514\u001b[0m \u001b[43m    \u001b[49m\u001b[43mdtype_backend\u001b[49m\u001b[38;5;241;43m=\u001b[39;49m\u001b[43mdtype_backend\u001b[49m\u001b[43m,\u001b[49m\n\u001b[1;32m    515\u001b[0m \u001b[43m    \u001b[49m\u001b[38;5;241;43m*\u001b[39;49m\u001b[38;5;241;43m*\u001b[39;49m\u001b[43mkwargs\u001b[49m\u001b[43m,\u001b[49m\n\u001b[1;32m    516\u001b[0m \u001b[43m\u001b[49m\u001b[43m)\u001b[49m\n",
      "File \u001b[0;32m~/anaconda3/lib/python3.9/site-packages/pandas/io/parquet.py:332\u001b[0m, in \u001b[0;36mFastParquetImpl.read\u001b[0;34m(self, path, columns, storage_options, **kwargs)\u001b[0m\n\u001b[1;32m    325\u001b[0m         parquet_kwargs[\u001b[38;5;124m\"\u001b[39m\u001b[38;5;124mopen_with\u001b[39m\u001b[38;5;124m\"\u001b[39m] \u001b[38;5;241m=\u001b[39m \u001b[38;5;28;01mlambda\u001b[39;00m path, _: fsspec\u001b[38;5;241m.\u001b[39mopen(\n\u001b[1;32m    326\u001b[0m             path, \u001b[38;5;124m\"\u001b[39m\u001b[38;5;124mrb\u001b[39m\u001b[38;5;124m\"\u001b[39m, \u001b[38;5;241m*\u001b[39m\u001b[38;5;241m*\u001b[39m(storage_options \u001b[38;5;129;01mor\u001b[39;00m {})\n\u001b[1;32m    327\u001b[0m         )\u001b[38;5;241m.\u001b[39mopen()\n\u001b[1;32m    328\u001b[0m \u001b[38;5;28;01melif\u001b[39;00m \u001b[38;5;28misinstance\u001b[39m(path, \u001b[38;5;28mstr\u001b[39m) \u001b[38;5;129;01mand\u001b[39;00m \u001b[38;5;129;01mnot\u001b[39;00m os\u001b[38;5;241m.\u001b[39mpath\u001b[38;5;241m.\u001b[39misdir(path):\n\u001b[1;32m    329\u001b[0m     \u001b[38;5;66;03m# use get_handle only when we are very certain that it is not a directory\u001b[39;00m\n\u001b[1;32m    330\u001b[0m     \u001b[38;5;66;03m# fsspec resources can also point to directories\u001b[39;00m\n\u001b[1;32m    331\u001b[0m     \u001b[38;5;66;03m# this branch is used for example when reading from non-fsspec URLs\u001b[39;00m\n\u001b[0;32m--> 332\u001b[0m     handles \u001b[38;5;241m=\u001b[39m \u001b[43mget_handle\u001b[49m\u001b[43m(\u001b[49m\n\u001b[1;32m    333\u001b[0m \u001b[43m        \u001b[49m\u001b[43mpath\u001b[49m\u001b[43m,\u001b[49m\u001b[43m \u001b[49m\u001b[38;5;124;43m\"\u001b[39;49m\u001b[38;5;124;43mrb\u001b[39;49m\u001b[38;5;124;43m\"\u001b[39;49m\u001b[43m,\u001b[49m\u001b[43m \u001b[49m\u001b[43mis_text\u001b[49m\u001b[38;5;241;43m=\u001b[39;49m\u001b[38;5;28;43;01mFalse\u001b[39;49;00m\u001b[43m,\u001b[49m\u001b[43m \u001b[49m\u001b[43mstorage_options\u001b[49m\u001b[38;5;241;43m=\u001b[39;49m\u001b[43mstorage_options\u001b[49m\n\u001b[1;32m    334\u001b[0m \u001b[43m    \u001b[49m\u001b[43m)\u001b[49m\n\u001b[1;32m    335\u001b[0m     path \u001b[38;5;241m=\u001b[39m handles\u001b[38;5;241m.\u001b[39mhandle\n\u001b[1;32m    337\u001b[0m \u001b[38;5;28;01mtry\u001b[39;00m:\n",
      "File \u001b[0;32m~/anaconda3/lib/python3.9/site-packages/pandas/io/common.py:868\u001b[0m, in \u001b[0;36mget_handle\u001b[0;34m(path_or_buf, mode, encoding, compression, memory_map, is_text, errors, storage_options)\u001b[0m\n\u001b[1;32m    859\u001b[0m         handle \u001b[38;5;241m=\u001b[39m \u001b[38;5;28mopen\u001b[39m(\n\u001b[1;32m    860\u001b[0m             handle,\n\u001b[1;32m    861\u001b[0m             ioargs\u001b[38;5;241m.\u001b[39mmode,\n\u001b[0;32m   (...)\u001b[0m\n\u001b[1;32m    864\u001b[0m             newline\u001b[38;5;241m=\u001b[39m\u001b[38;5;124m\"\u001b[39m\u001b[38;5;124m\"\u001b[39m,\n\u001b[1;32m    865\u001b[0m         )\n\u001b[1;32m    866\u001b[0m     \u001b[38;5;28;01melse\u001b[39;00m:\n\u001b[1;32m    867\u001b[0m         \u001b[38;5;66;03m# Binary mode\u001b[39;00m\n\u001b[0;32m--> 868\u001b[0m         handle \u001b[38;5;241m=\u001b[39m \u001b[38;5;28;43mopen\u001b[39;49m\u001b[43m(\u001b[49m\u001b[43mhandle\u001b[49m\u001b[43m,\u001b[49m\u001b[43m \u001b[49m\u001b[43mioargs\u001b[49m\u001b[38;5;241;43m.\u001b[39;49m\u001b[43mmode\u001b[49m\u001b[43m)\u001b[49m\n\u001b[1;32m    869\u001b[0m     handles\u001b[38;5;241m.\u001b[39mappend(handle)\n\u001b[1;32m    871\u001b[0m \u001b[38;5;66;03m# Convert BytesIO or file objects passed with an encoding\u001b[39;00m\n",
      "\u001b[0;31mFileNotFoundError\u001b[0m: [Errno 2] No such file or directory: 'dailymailWithSentimentComplete.parquet.snappy'"
     ]
    }
   ],
   "source": [
    "ds = pd.read_parquet(\"dailymailWithSentimentComplete.parquet.snappy\", engine=\"fastparquet\")"
   ]
  },
  {
   "cell_type": "code",
   "execution_count": null,
   "id": "40370106-c1ee-4309-80ad-dd2c27259701",
   "metadata": {},
   "outputs": [],
   "source": [
    "ds.head()"
   ]
  },
  {
   "cell_type": "code",
   "execution_count": null,
   "id": "258c1702-eb70-4396-8b7d-dceeb02de5c7",
   "metadata": {},
   "outputs": [],
   "source": [
    "ds.info()"
   ]
  },
  {
   "cell_type": "code",
   "execution_count": null,
   "id": "2a100bae-6901-46ab-85d2-26bef5e40e76",
   "metadata": {},
   "outputs": [],
   "source": [
    "ds[\"date\"] = pd.to_datetime(ds[\"date\"], format=\"%d/%m/%y\")"
   ]
  },
  {
   "cell_type": "code",
   "execution_count": null,
   "id": "0925a654-9e5d-4bc4-adff-17dd5c49ea0d",
   "metadata": {},
   "outputs": [],
   "source": [
    "colors = {\"Negative\": \"#f40000\", \"Neutral\": \"#707070\", \"Positive\": \"#00d600\"}"
   ]
  },
  {
   "cell_type": "markdown",
   "id": "18caeb97-2f5d-4a6e-acd9-4b848e877ffa",
   "metadata": {},
   "source": [
    "The distribution of positive and negative here is the same for comments and the text of the article, for this topic was expected this outcome."
   ]
  },
  {
   "cell_type": "code",
   "execution_count": null,
   "id": "398b2029-1cec-47ed-8110-bd229306f505",
   "metadata": {},
   "outputs": [],
   "source": [
    "# Visualising distribution of categorical variables\n",
    "fig, ax = plt.subplots(1, 1, figsize=(8, 5))\n",
    "_ = sns.countplot(x=\"Polarity_Articles\", data=ds, palette=colors)\n",
    "_ = plt.xlabel(\"Marital Status\", fontsize=14)\n",
    "_ = plt.title(\"Counts\", fontsize=14)"
   ]
  },
  {
   "cell_type": "code",
   "execution_count": null,
   "id": "7d82ef99-6614-4cf7-9f34-ac2a7cfa1cf9",
   "metadata": {},
   "outputs": [],
   "source": [
    "# Visualising distribution of categorical variables\n",
    "fig, ax = plt.subplots(1, 1, figsize=(8, 5))\n",
    "_ = sns.countplot(x=\"Polarity_Comments\", data=ds, palette=colors)\n",
    "_ = plt.xlabel(\"Marital Status\", fontsize=14)\n",
    "_ = plt.title(\"Counts\", fontsize=14)"
   ]
  },
  {
   "cell_type": "markdown",
   "id": "ac305963-da11-4370-87f5-59aa816d45c7",
   "metadata": {},
   "source": [
    "Now let's see what happend when there is a different polarity between comments and articles.  \n",
    "As we can see positive comments are supporting Russia while negatives are against Ukrainian allies. Talking about the sentiment analysis of the articles the analysis of the sentiment an article that talk about losses is classified negative and one talking about winning are classified positive. In this case the fact that one article is positive or negative doesn't mean that is talking about Russia or Ukraine, because it can be that is talking about a Russian win or Ukrainian one but still is a win so is classified positive."
   ]
  },
  {
   "cell_type": "code",
   "execution_count": null,
   "id": "e37ec4bf-d96e-4952-acac-f3fc9554e871",
   "metadata": {},
   "outputs": [],
   "source": [
    "ds.query(\"Polarity_Articles == 'Negative' & Polarity_Comments == 'Positive'\")"
   ]
  },
  {
   "cell_type": "code",
   "execution_count": null,
   "id": "9ac9dd93-16b1-4115-80ad-605773ee29b9",
   "metadata": {},
   "outputs": [],
   "source": [
    "ds.query(\"Polarity_Articles == 'Negative' & Polarity_Comments == 'Positive'\").iloc[\n",
    "    0\n",
    "].text"
   ]
  },
  {
   "cell_type": "code",
   "execution_count": null,
   "id": "e7b0613b-2588-4fce-adc4-2a492dc6d910",
   "metadata": {},
   "outputs": [],
   "source": [
    "ds.query(\"Polarity_Articles == 'Negative' & Polarity_Comments == 'Positive'\").iloc[\n",
    "    0\n",
    "].comments"
   ]
  },
  {
   "cell_type": "code",
   "execution_count": null,
   "id": "46f4d545-6746-404b-bc9e-6349ff93aeb0",
   "metadata": {},
   "outputs": [],
   "source": [
    "ds.query(\"Polarity_Articles == 'Negative' & Polarity_Comments == 'Positive'\").iloc[\n",
    "    1\n",
    "].text"
   ]
  },
  {
   "cell_type": "code",
   "execution_count": null,
   "id": "84008080-ed3b-411b-a9ef-6099752c3c8a",
   "metadata": {},
   "outputs": [],
   "source": [
    "ds.query(\"Polarity_Articles == 'Negative' & Polarity_Comments == 'Positive'\").iloc[\n",
    "    1\n",
    "].comments"
   ]
  },
  {
   "cell_type": "markdown",
   "id": "615891b6-c374-4c7c-9b08-0ee424ac5cf8",
   "metadata": {},
   "source": [
    "We can see that when we have positive comments and negative articles when is about a battle winned by Russian, so people on the comments are happy while the sentiment of the text is negative.  \n",
    "Now let's see what happen whe articles are positive and the comments are negative."
   ]
  },
  {
   "cell_type": "code",
   "execution_count": null,
   "id": "92710559-608c-4672-853a-929205aee5c1",
   "metadata": {},
   "outputs": [],
   "source": [
    "ds.query(\"Polarity_Articles == 'Positive' & Polarity_Comments == 'Negative'\")"
   ]
  },
  {
   "cell_type": "code",
   "execution_count": null,
   "id": "5340669a-e5eb-409b-9f44-f6d2d776b9a6",
   "metadata": {},
   "outputs": [],
   "source": [
    "ds.query(\"Polarity_Articles == 'Positive' & Polarity_Comments == 'Negative'\").iloc[\n",
    "    2\n",
    "].text"
   ]
  },
  {
   "cell_type": "code",
   "execution_count": null,
   "id": "94d9a1ec-d0e0-408b-8da1-da40fd8b312d",
   "metadata": {},
   "outputs": [],
   "source": [
    "ds.query(\"Polarity_Articles == 'Positive' & Polarity_Comments == 'Negative'\").iloc[\n",
    "    2\n",
    "].comments"
   ]
  },
  {
   "cell_type": "code",
   "execution_count": null,
   "id": "1d8c7205-42cb-4ab6-b0a6-c2c585f7d773",
   "metadata": {},
   "outputs": [],
   "source": [
    "ds.query(\"Polarity_Articles == 'Positive' & Polarity_Comments == 'Negative'\").iloc[\n",
    "    1\n",
    "].text"
   ]
  },
  {
   "cell_type": "code",
   "execution_count": null,
   "id": "7dab9ed3-3b61-4d22-b78c-e3ee5e92d586",
   "metadata": {},
   "outputs": [],
   "source": [
    "ds.query(\"Polarity_Articles == 'Positive' & Polarity_Comments == 'Negative'\").iloc[\n",
    "    1\n",
    "].comments"
   ]
  },
  {
   "cell_type": "markdown",
   "id": "1c73e44a-d0fc-4fe3-aa9b-3234d793bd90",
   "metadata": {},
   "source": [
    "Neutral articles apperently are not talking about thing happend in the war field, these are things like statements which aren't neither positive or negative."
   ]
  },
  {
   "cell_type": "code",
   "execution_count": null,
   "id": "97d5d81f-6754-41d4-8f75-de51ccb84e11",
   "metadata": {},
   "outputs": [],
   "source": [
    "ds.query(\"Polarity_Articles == 'Neutral'\")"
   ]
  },
  {
   "cell_type": "code",
   "execution_count": null,
   "id": "57aa51d9-fa27-47e0-a0b7-d15d0efe0f11",
   "metadata": {},
   "outputs": [],
   "source": [
    "ds.query(\"Polarity_Articles == 'Neutral'\").iloc[0].text"
   ]
  },
  {
   "cell_type": "code",
   "execution_count": null,
   "id": "15a907bc-89a3-4994-b060-0ea2498d3bc2",
   "metadata": {},
   "outputs": [],
   "source": [
    "ds.query(\"Polarity_Articles == 'Neutral'\").iloc[-1].text"
   ]
  },
  {
   "cell_type": "code",
   "execution_count": null,
   "id": "9b511095-b085-4699-8482-80d9e6d47be4",
   "metadata": {},
   "outputs": [],
   "source": [
    "ds[\"MonthYear\"] = ds[\"date\"].apply(lambda x: x.strftime(\"%Y-%m\"))\n",
    "\n",
    "overTimeSentiment = ds.groupby([ds[\"MonthYear\"], \"Polarity_Articles\"])[\n",
    "    \"Polarity_Articles\"\n",
    "].count()\n",
    "\n",
    "overTimeSentiment = (\n",
    "    pd.DataFrame(data=overTimeSentiment)\n",
    "    .rename(columns={\"Polarity_Articles\": \"count\"})\n",
    "    .reset_index()\n",
    ")\n",
    "\n",
    "# Visualising distribution of categorical variables\n",
    "fig, ax = plt.subplots(1, 1, figsize=(24, 8))\n",
    "_ = sns.barplot(\n",
    "    x=\"MonthYear\",\n",
    "    y=\"count\",\n",
    "    hue=\"Polarity_Articles\",\n",
    "    data=overTimeSentiment,\n",
    "    palette=colors,\n",
    ")\n",
    "_ = plt.xlabel(\"Month and Year\", fontsize=14)\n",
    "_ = plt.title(\"Sentiment of articles over time\", fontsize=14)"
   ]
  },
  {
   "cell_type": "code",
   "execution_count": null,
   "id": "8d95c7b7-9154-4885-937e-d3f111ed4612",
   "metadata": {},
   "outputs": [],
   "source": [
    "ds[\"MonthYear\"] = ds[\"date\"].apply(lambda x: x.strftime(\"%Y-%m\"))\n",
    "\n",
    "overTimeSentiment = ds.groupby([ds[\"MonthYear\"], \"Polarity_Comments\"], sort=False)[\n",
    "    \"Polarity_Comments\"\n",
    "].count()\n",
    "\n",
    "overTimeSentiment = (\n",
    "    pd.DataFrame(data=overTimeSentiment)\n",
    "    .rename(columns={\"Polarity_Comments\": \"count\"})\n",
    "    .reset_index()\n",
    ")\n",
    "\n",
    "# Visualising distribution of categorical variables\n",
    "fig, ax = plt.subplots(1, 1, figsize=(24, 8))\n",
    "_ = sns.barplot(\n",
    "    x=\"MonthYear\",\n",
    "    y=\"count\",\n",
    "    hue=\"Polarity_Comments\",\n",
    "    data=overTimeSentiment,\n",
    "    palette=colors,\n",
    ")\n",
    "_ = plt.xlabel(\"Month and Year\", fontsize=14)\n",
    "_ = plt.title(\"Sentiment of comments over time\", fontsize=14)"
   ]
  }
 ],
 "metadata": {
  "kernelspec": {
   "display_name": "Python 3 (ipykernel)",
   "language": "python",
   "name": "python3"
  },
  "language_info": {
   "codemirror_mode": {
    "name": "ipython",
    "version": 3
   },
   "file_extension": ".py",
   "mimetype": "text/x-python",
   "name": "python",
   "nbconvert_exporter": "python",
   "pygments_lexer": "ipython3",
   "version": "3.9.12"
  }
 },
 "nbformat": 4,
 "nbformat_minor": 5
}
