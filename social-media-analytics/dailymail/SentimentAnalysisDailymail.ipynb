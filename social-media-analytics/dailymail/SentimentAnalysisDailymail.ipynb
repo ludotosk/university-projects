{
 "cells": [
  {
   "cell_type": "markdown",
   "metadata": {},
   "source": [
    "##### Social Media Analytics\n",
    "### Introduction to Text Mining\n",
    "## Sentiment Analysis\n",
    "(c) Nuno Antonio 2019-2022 v1.02"
   ]
  },
  {
   "cell_type": "markdown",
   "metadata": {},
   "source": [
    "### Initial setup"
   ]
  },
  {
   "cell_type": "code",
   "execution_count": 1,
   "metadata": {},
   "outputs": [],
   "source": [
    "# Import packages\n",
    "import csv\n",
    "import pickle\n",
    "import re\n",
    "\n",
    "import nltk\n",
    "import numpy as np\n",
    "import pandas as pd\n",
    "from bs4 import BeautifulSoup\n",
    "from nltk.corpus import stopwords\n",
    "from nltk.tokenize import sent_tokenize, word_tokenize\n",
    "from tqdm import tqdm\n",
    "from vaderSentiment.vaderSentiment import SentimentIntensityAnalyzer"
   ]
  },
  {
   "cell_type": "code",
   "execution_count": 2,
   "metadata": {},
   "outputs": [],
   "source": [
    "ds = pd.read_parquet(\"DailyMail.parquet.snappy\", engine=\"fastparquet\")"
   ]
  },
  {
   "cell_type": "code",
   "execution_count": 3,
   "metadata": {},
   "outputs": [],
   "source": [
    "ds[\"title\"] = ds[\"title\"].astype(\"string\")\n",
    "ds[\"author\"] = ds[\"author\"].astype(\"string\")\n",
    "ds[\"text\"] = ds[\"text\"].astype(\"string\")"
   ]
  },
  {
   "cell_type": "code",
   "execution_count": 4,
   "metadata": {},
   "outputs": [
    {
     "data": {
      "text/html": [
       "<div>\n",
       "<style scoped>\n",
       "    .dataframe tbody tr th:only-of-type {\n",
       "        vertical-align: middle;\n",
       "    }\n",
       "\n",
       "    .dataframe tbody tr th {\n",
       "        vertical-align: top;\n",
       "    }\n",
       "\n",
       "    .dataframe thead th {\n",
       "        text-align: right;\n",
       "    }\n",
       "</style>\n",
       "<table border=\"1\" class=\"dataframe\">\n",
       "  <thead>\n",
       "    <tr style=\"text-align: right;\">\n",
       "      <th></th>\n",
       "      <th>Unnamed: 0</th>\n",
       "      <th>title</th>\n",
       "      <th>author</th>\n",
       "      <th>date</th>\n",
       "      <th>text</th>\n",
       "      <th>link</th>\n",
       "      <th>comments</th>\n",
       "    </tr>\n",
       "  </thead>\n",
       "  <tbody>\n",
       "    <tr>\n",
       "      <th>0</th>\n",
       "      <td>0</td>\n",
       "      <td>Wave of looting ravages Russian border area am...</td>\n",
       "      <td>Will Stewart, Christian Oliver</td>\n",
       "      <td>03/06/23</td>\n",
       "      <td>A wave of looting has reportedly hit a border ...</td>\n",
       "      <td>https://www.dailymail.co.uk/news/article-12155...</td>\n",
       "      <td>[Russians don't appear to understand that peop...</td>\n",
       "    </tr>\n",
       "    <tr>\n",
       "      <th>1</th>\n",
       "      <td>1</td>\n",
       "      <td>EXCLUSIVE: 'This is the beginning of the end o...</td>\n",
       "      <td>Chris Pleasance</td>\n",
       "      <td>03/06/23</td>\n",
       "      <td>In the dawn hours of May 3, Moscovites awoke t...</td>\n",
       "      <td>https://www.dailymail.co.uk/news/article-12152...</td>\n",
       "      <td>[Putin: How does it feel when your country is ...</td>\n",
       "    </tr>\n",
       "    <tr>\n",
       "      <th>2</th>\n",
       "      <td>2</td>\n",
       "      <td>Naked protest at St Peter's Basilica: Man stri...</td>\n",
       "      <td>Christian Oliver</td>\n",
       "      <td>02/06/23</td>\n",
       "      <td>Visitors to St. Peter's Basilica got an unexpe...</td>\n",
       "      <td>https://www.dailymail.co.uk/news/article-12151...</td>\n",
       "      <td>[Joe Biden needs to put some clothes on., He c...</td>\n",
       "    </tr>\n",
       "    <tr>\n",
       "      <th>3</th>\n",
       "      <td>3</td>\n",
       "      <td>Russia accuses Apple of 'close cooperation' wi...</td>\n",
       "      <td>Keith Griffith For Dailymail.com, Reuters</td>\n",
       "      <td>01/06/23</td>\n",
       "      <td>Russian security services have accused Apple o...</td>\n",
       "      <td>https://www.dailymail.co.uk/news/article-12150...</td>\n",
       "      <td>[Russia has turned into a criminal gang/mafia ...</td>\n",
       "    </tr>\n",
       "    <tr>\n",
       "      <th>4</th>\n",
       "      <td>4</td>\n",
       "      <td>Foster mother who 'rescued' orphans from Ukrai...</td>\n",
       "      <td>Ed Wight</td>\n",
       "      <td>01/06/23</td>\n",
       "      <td>A foster mum who rescued orphans from war-torn...</td>\n",
       "      <td>https://www.dailymail.co.uk/news/article-12148...</td>\n",
       "      <td>[I cannot believe what I have just read!  I fe...</td>\n",
       "    </tr>\n",
       "  </tbody>\n",
       "</table>\n",
       "</div>"
      ],
      "text/plain": [
       "   Unnamed: 0                                              title  \\\n",
       "0           0  Wave of looting ravages Russian border area am...   \n",
       "1           1  EXCLUSIVE: 'This is the beginning of the end o...   \n",
       "2           2  Naked protest at St Peter's Basilica: Man stri...   \n",
       "3           3  Russia accuses Apple of 'close cooperation' wi...   \n",
       "4           4  Foster mother who 'rescued' orphans from Ukrai...   \n",
       "\n",
       "                                      author      date  \\\n",
       "0             Will Stewart, Christian Oliver  03/06/23   \n",
       "1                            Chris Pleasance  03/06/23   \n",
       "2                           Christian Oliver  02/06/23   \n",
       "3  Keith Griffith For Dailymail.com, Reuters  01/06/23   \n",
       "4                                   Ed Wight  01/06/23   \n",
       "\n",
       "                                                text  \\\n",
       "0  A wave of looting has reportedly hit a border ...   \n",
       "1  In the dawn hours of May 3, Moscovites awoke t...   \n",
       "2  Visitors to St. Peter's Basilica got an unexpe...   \n",
       "3  Russian security services have accused Apple o...   \n",
       "4  A foster mum who rescued orphans from war-torn...   \n",
       "\n",
       "                                                link  \\\n",
       "0  https://www.dailymail.co.uk/news/article-12155...   \n",
       "1  https://www.dailymail.co.uk/news/article-12152...   \n",
       "2  https://www.dailymail.co.uk/news/article-12151...   \n",
       "3  https://www.dailymail.co.uk/news/article-12150...   \n",
       "4  https://www.dailymail.co.uk/news/article-12148...   \n",
       "\n",
       "                                            comments  \n",
       "0  [Russians don't appear to understand that peop...  \n",
       "1  [Putin: How does it feel when your country is ...  \n",
       "2  [Joe Biden needs to put some clothes on., He c...  \n",
       "3  [Russia has turned into a criminal gang/mafia ...  \n",
       "4  [I cannot believe what I have just read!  I fe...  "
      ]
     },
     "execution_count": 4,
     "metadata": {},
     "output_type": "execute_result"
    }
   ],
   "source": [
    "ds.head()"
   ]
  },
  {
   "cell_type": "code",
   "execution_count": 5,
   "metadata": {},
   "outputs": [
    {
     "name": "stdout",
     "output_type": "stream",
     "text": [
      "<class 'pandas.core.frame.DataFrame'>\n",
      "RangeIndex: 1277 entries, 0 to 1276\n",
      "Data columns (total 7 columns):\n",
      " #   Column      Non-Null Count  Dtype \n",
      "---  ------      --------------  ----- \n",
      " 0   Unnamed: 0  1277 non-null   int64 \n",
      " 1   title       1277 non-null   string\n",
      " 2   author      1277 non-null   string\n",
      " 3   date        1277 non-null   object\n",
      " 4   text        1277 non-null   string\n",
      " 5   link        1277 non-null   object\n",
      " 6   comments    1277 non-null   object\n",
      "dtypes: int64(1), object(3), string(3)\n",
      "memory usage: 70.0+ KB\n"
     ]
    }
   ],
   "source": [
    "ds.info()"
   ]
  },
  {
   "cell_type": "code",
   "execution_count": 6,
   "metadata": {},
   "outputs": [],
   "source": [
    "ds = ds.dropna(subset=[\"text\"])"
   ]
  },
  {
   "cell_type": "markdown",
   "metadata": {},
   "source": [
    "### Functions"
   ]
  },
  {
   "cell_type": "code",
   "execution_count": 7,
   "metadata": {},
   "outputs": [],
   "source": [
    "# Text preprocessing\n",
    "def textPreProcess(\n",
    "    rawText,\n",
    "    removeHTML=True,\n",
    "    charsToRemove=r\"\\?|\\.|\\!|\\;|\\.|\\\"|\\,|\\(|\\)|\\&|\\:|\\-\",\n",
    "    removeNumbers=True,\n",
    "    removeLineBreaks=False,\n",
    "    specialCharsToRemove=r\"[^\\x00-\\xfd]\",\n",
    "    convertToLower=True,\n",
    "    removeConsecutiveSpaces=True,\n",
    "):\n",
    "    if type(rawText) != str:\n",
    "        return rawText\n",
    "    procText = rawText\n",
    "\n",
    "    # Remove HTML\n",
    "    if removeHTML:\n",
    "        procText = BeautifulSoup(procText, \"html.parser\").get_text()\n",
    "\n",
    "    # Remove punctuation and other special characters\n",
    "    if len(charsToRemove) > 0:\n",
    "        procText = re.sub(charsToRemove, \" \", procText)\n",
    "\n",
    "    # Remove numbers\n",
    "    if removeNumbers:\n",
    "        procText = re.sub(r\"\\d+\", \" \", procText)\n",
    "\n",
    "    # Remove line breaks\n",
    "    if removeLineBreaks:\n",
    "        procText = procText.replace(\"\\n\", \" \").replace(\"\\r\", \"\")\n",
    "\n",
    "    # Remove special characters\n",
    "    if len(specialCharsToRemove) > 0:\n",
    "        procText = re.sub(specialCharsToRemove, \" \", procText)\n",
    "\n",
    "    # Normalize to lower case\n",
    "    if convertToLower:\n",
    "        procText = procText.lower()\n",
    "\n",
    "    # Replace multiple consecutive spaces with just one space\n",
    "    if removeConsecutiveSpaces:\n",
    "        procText = re.sub(\" +\", \" \", procText)\n",
    "\n",
    "    return procText"
   ]
  },
  {
   "cell_type": "code",
   "execution_count": 8,
   "metadata": {},
   "outputs": [],
   "source": [
    "# Tokenize words\n",
    "def tokenize_words(words):\n",
    "    if (type(words) != str) or (word_tokenize(words) == \"\"):\n",
    "        return np.nan\n",
    "    else:\n",
    "        return word_tokenize(words)"
   ]
  },
  {
   "cell_type": "code",
   "execution_count": 9,
   "metadata": {},
   "outputs": [],
   "source": [
    "# Function to create text from words\n",
    "def recreateText(words):\n",
    "    if type(words) == list:\n",
    "        temp_str = (\" \").join(words)\n",
    "        return temp_str\n",
    "    else:\n",
    "        return np.nan"
   ]
  },
  {
   "cell_type": "code",
   "execution_count": 10,
   "metadata": {},
   "outputs": [],
   "source": [
    "# Function to break texts into sentences\n",
    "def tokenize_sentences(texts):\n",
    "    s_token = sent_tokenize(texts)\n",
    "    return s_token"
   ]
  },
  {
   "cell_type": "code",
   "execution_count": 11,
   "metadata": {},
   "outputs": [],
   "source": [
    "# Function to remove stop words\n",
    "def removeStopWords(t, stop_words):\n",
    "    if type(t) == list:\n",
    "        return [w for w in t if not w in stop_words]\n",
    "    else:\n",
    "        return np.nan"
   ]
  },
  {
   "cell_type": "markdown",
   "metadata": {},
   "source": [
    "### Analysis"
   ]
  },
  {
   "cell_type": "code",
   "execution_count": 12,
   "metadata": {},
   "outputs": [],
   "source": [
    "# Because a review can express multiple opinions, let's analyze opinions by sentence\n",
    "\n",
    "# Break reviews' into a list of lists sentencesc\n",
    "listOfSentences = ds.text.apply(tokenize_sentences)"
   ]
  },
  {
   "cell_type": "code",
   "execution_count": 13,
   "metadata": {},
   "outputs": [],
   "source": [
    "# Create a dataframe with only the description\n",
    "processedReviews = pd.DataFrame(\n",
    "    data=ds.text.apply(\n",
    "        textPreProcess, charsToRemove=\"\", removeLineBreaks=False, removeNumbers=False\n",
    "    ).values,\n",
    "    index=ds.index,\n",
    "    columns=[\"PreProcessedText\"],\n",
    ")"
   ]
  },
  {
   "cell_type": "code",
   "execution_count": 14,
   "metadata": {},
   "outputs": [
    {
     "data": {
      "text/plain": [
       "\"A wave of looting has reportedly hit a border zone in Russia as Vladimir Putin's authorities lose control of the Belgorod Oblast region.Homes and local shops appeared to be targeted by Russian looters amid the chaos as tens of\\xa0thousands of Russians evacuating border areas in the Belgorod region as pro-Ukraine forces hit back at Russia.A video from the town of Shebekino showed a building ablaze after a suspected strike. Ukraine's military has not claimed responsibility for the attacks, or denied it was behind them.Shelling has pounded the settlement for several days, forcing\\xa0thousands of residents to flee villages near Russia's southwestern border as shelling intensified.Incandescent over the attacks, Kremlin mouthpieces on Russia's state television called for the deployment of tactical nuclear weapons to target major Ukrainian cities.Nearby village Sobolevka - where two were killed - was heavily hit by drone attacks, according to local officials, with six wounded, including two children.The attacks appear to show Russian control slipping from key settlements near the Ukrainian border.Partisan fighters in at least two anti-Putin armed groups are seeking to establish a bridgehead of 'free Russia' in border areas of Belgorod region.Russian commanders handed out medals to defenders in a desperate bid to shore up morale in the blitzed frontier zone.Putin's state media also showed a macabre but unverified video of corpses of alleged Russian Volunteer Corps and Ukrainian fighters slain inside Russia. It was claimed that more than 50 had been killed.A video also showed a drone attack over Belgorod city - 25 miles from the border with Ukraine - with Russian air defences at work.Many residents of the border region have relocated to Belgorod, where temporary accommodation is provided.A man evidently from Shebekino recorded a video around his looted flat.'I am truly speechless,' he said. Looters turned everything upside down.'They stole everything. All our money, everything we saved. How low did they go? Just look at it. How is it even possible?'To loot your own people during such difficult times. I am lost for words.'Another showed a shop after its security guard had fled the town, said reports.'Look what the looters have done,' said a woman's voice. How terrible - they knocked the door out. This was done by our own [Russian] people.'They must have stolen something. Some tape was put over, but it was torn apart, too. Awful. It was done by some of our own people.'Later footage showed buildings ablaze in another border village Novaya Tavolzhanka.Reports said a woman pensioner died and another resident sustained shrapnel wounds on the left shoulder.Governor of Belgorod region Vyacheslav Gladkov earlier said five people had been killed in the border region today, and 16 wounded.Two men were killed in the village of Sobolevka, and a woman died in an ambulance. Two more women died in the Shebekinsky district.Putin's propagandists are incandescent over the attacks, with one - Vladimir Solovyov - calling for all major Ukrainian cities to be totally wiped out with tactical nuclear weapons after giving residents six hours to leave before 'blowing the hell' out of them.In a TV rant, Solovyov - considered to be Putin's favourite state TV propagandist - said: 'I'm furious actually. A beautiful Russian city on our land is being ironed by all kinds of Nazi scum.'We should wipe Lviv, Ivano-Frankivsk, Kyiv, Odessa, Mykolayiv, Kharkiv off the face of the earth, then rebuild it, just tear it down in blocks.'Raise everything we have and wipe it off the face of the earth. You need tactical nuclear weapons - use them.'We should not get used to our territory being attacked. They want a war without rules? We can fight back.'We're not them, we'll warn the civilians to leave. We'll give them six hours to leave quickly.'And blow the hell out of these cities. Then we rebuild them.'Amid the reported attacks, residents from the hardest hit provincial towns, have poured into the region's main city, also called Belgorod.At Belgorod's sports arena, which has become the city's biggest centre for displaced people, displaced people were organised to smaller dormitories.Belgorod governor Vyacheslav Gladkov said 2,500 people were being accommodated in temporary shelters, including the sports arena.'We have never had a situation like this,' Gladkov told reporters at the arena.He said the conditions at the arena were becoming 'cramped' and displaced people were being moved to other spots.Belgorod mayor Valentin Demidov told reporters that a total of 5,000 people had transited through the temporary shelters and registered in recent days, with many then going to stay with relatives.'We are trying to re-settle people as quickly as possible,' he said.Separately, Russia faced a drone attack aimed at a key oil refinery in Smolensk region.Earlier on Friday Putin's occupiers faced a suspected Storm Shadow missile strike on Berdiansk, a strategic port on the Sea of Azov.\""
      ]
     },
     "execution_count": 14,
     "metadata": {},
     "output_type": "execute_result"
    }
   ],
   "source": [
    "# Check first review\n",
    "ds.text[0]"
   ]
  },
  {
   "cell_type": "code",
   "execution_count": 15,
   "metadata": {},
   "outputs": [
    {
     "data": {
      "text/plain": [
       "[\"A wave of looting has reportedly hit a border zone in Russia as Vladimir Putin's authorities lose control of the Belgorod Oblast region.Homes and local shops appeared to be targeted by Russian looters amid the chaos as tens of\\xa0thousands of Russians evacuating border areas in the Belgorod region as pro-Ukraine forces hit back at Russia.A video from the town of Shebekino showed a building ablaze after a suspected strike.\",\n",
       " \"Ukraine's military has not claimed responsibility for the attacks, or denied it was behind them.Shelling has pounded the settlement for several days, forcing\\xa0thousands of residents to flee villages near Russia's southwestern border as shelling intensified.Incandescent over the attacks, Kremlin mouthpieces on Russia's state television called for the deployment of tactical nuclear weapons to target major Ukrainian cities.Nearby village Sobolevka - where two were killed - was heavily hit by drone attacks, according to local officials, with six wounded, including two children.The attacks appear to show Russian control slipping from key settlements near the Ukrainian border.Partisan fighters in at least two anti-Putin armed groups are seeking to establish a bridgehead of 'free Russia' in border areas of Belgorod region.Russian commanders handed out medals to defenders in a desperate bid to shore up morale in the blitzed frontier zone.Putin's state media also showed a macabre but unverified video of corpses of alleged Russian Volunteer Corps and Ukrainian fighters slain inside Russia.\",\n",
       " 'It was claimed that more than 50 had been killed.A video also showed a drone attack over Belgorod city - 25 miles from the border with Ukraine - with Russian air defences at work.Many residents of the border region have relocated to Belgorod, where temporary accommodation is provided.A man evidently from Shebekino recorded a video around his looted flat.',\n",
       " \"'I am truly speechless,' he said.\",\n",
       " 'Looters turned everything upside down.',\n",
       " \"'They stole everything.\",\n",
       " 'All our money, everything we saved.',\n",
       " 'How low did they go?',\n",
       " 'Just look at it.',\n",
       " 'How is it even possible?',\n",
       " \"'To loot your own people during such difficult times.\",\n",
       " 'I am lost for words.',\n",
       " \"'Another showed a shop after its security guard had fled the town, said reports.\",\n",
       " \"'Look what the looters have done,' said a woman's voice.\",\n",
       " 'How terrible - they knocked the door out.',\n",
       " 'This was done by our own [Russian] people.',\n",
       " \"'They must have stolen something.\",\n",
       " 'Some tape was put over, but it was torn apart, too.',\n",
       " 'Awful.',\n",
       " 'It was done by some of our own people.',\n",
       " \"'Later footage showed buildings ablaze in another border village Novaya Tavolzhanka.Reports said a woman pensioner died and another resident sustained shrapnel wounds on the left shoulder.Governor of Belgorod region Vyacheslav Gladkov earlier said five people had been killed in the border region today, and 16 wounded.Two men were killed in the village of Sobolevka, and a woman died in an ambulance.\",\n",
       " \"Two more women died in the Shebekinsky district.Putin's propagandists are incandescent over the attacks, with one - Vladimir Solovyov - calling for all major Ukrainian cities to be totally wiped out with tactical nuclear weapons after giving residents six hours to leave before 'blowing the hell' out of them.In a TV rant, Solovyov - considered to be Putin's favourite state TV propagandist - said: 'I'm furious actually.\",\n",
       " 'A beautiful Russian city on our land is being ironed by all kinds of Nazi scum.',\n",
       " \"'We should wipe Lviv, Ivano-Frankivsk, Kyiv, Odessa, Mykolayiv, Kharkiv off the face of the earth, then rebuild it, just tear it down in blocks.\",\n",
       " \"'Raise everything we have and wipe it off the face of the earth.\",\n",
       " 'You need tactical nuclear weapons - use them.',\n",
       " \"'We should not get used to our territory being attacked.\",\n",
       " 'They want a war without rules?',\n",
       " 'We can fight back.',\n",
       " \"'We're not them, we'll warn the civilians to leave.\",\n",
       " \"We'll give them six hours to leave quickly.\",\n",
       " \"'And blow the hell out of these cities.\",\n",
       " 'Then we rebuild them.',\n",
       " \"'Amid the reported attacks, residents from the hardest hit provincial towns, have poured into the region's main city, also called Belgorod.At Belgorod's sports arena, which has become the city's biggest centre for displaced people, displaced people were organised to smaller dormitories.Belgorod governor Vyacheslav Gladkov said 2,500 people were being accommodated in temporary shelters, including the sports arena.\",\n",
       " \"'We have never had a situation like this,' Gladkov told reporters at the arena.He said the conditions at the arena were becoming 'cramped' and displaced people were being moved to other spots.Belgorod mayor Valentin Demidov told reporters that a total of 5,000 people had transited through the temporary shelters and registered in recent days, with many then going to stay with relatives.\",\n",
       " \"'We are trying to re-settle people as quickly as possible,' he said.Separately, Russia faced a drone attack aimed at a key oil refinery in Smolensk region.Earlier on Friday Putin's occupiers faced a suspected Storm Shadow missile strike on Berdiansk, a strategic port on the Sea of Azov.\"]"
      ]
     },
     "execution_count": 15,
     "metadata": {},
     "output_type": "execute_result"
    }
   ],
   "source": [
    "# Sentences of first review\n",
    "listOfSentences[0]"
   ]
  },
  {
   "cell_type": "code",
   "execution_count": 16,
   "metadata": {},
   "outputs": [],
   "source": [
    "# Create DataFrame for sentences\n",
    "sentences = pd.DataFrame(\n",
    "    data=[item for elem in listOfSentences for item in elem], columns=[\"BaseText\"]\n",
    ")"
   ]
  },
  {
   "cell_type": "code",
   "execution_count": 17,
   "metadata": {},
   "outputs": [],
   "source": [
    "# Add a column with the review ID\n",
    "sentencesPerReview = []\n",
    "for elem in listOfSentences:\n",
    "    sentencesPerReview.append(len(elem))\n",
    "sentences[\"link\"] = np.repeat(ds[\"link\"].values, sentencesPerReview)"
   ]
  },
  {
   "cell_type": "code",
   "execution_count": 18,
   "metadata": {},
   "outputs": [
    {
     "name": "stderr",
     "output_type": "stream",
     "text": [
      "/home/tosk/anaconda3/lib/python3.9/site-packages/bs4/__init__.py:435: MarkupResemblesLocatorWarning: The input looks more like a filename than markup. You may want to open this file and pass the filehandle into Beautiful Soup.\n",
      "  warnings.warn(\n"
     ]
    }
   ],
   "source": [
    "# Preprocess text\n",
    "sentences[\"PreProcessedText\"] = sentences[\"BaseText\"].apply(textPreProcess)"
   ]
  },
  {
   "cell_type": "code",
   "execution_count": 19,
   "metadata": {},
   "outputs": [],
   "source": [
    "# Get words\n",
    "sentences[\"Words\"] = sentences[\"PreProcessedText\"].apply(tokenize_words)"
   ]
  },
  {
   "cell_type": "code",
   "execution_count": 20,
   "metadata": {},
   "outputs": [],
   "source": [
    "# Remove stopwords\n",
    "stop_words = set(stopwords.words(\"english\"))\n",
    "sentences[\"WordsCleaned\"] = sentences[\"Words\"].apply(\n",
    "    removeStopWords, stop_words=stop_words\n",
    ")"
   ]
  },
  {
   "cell_type": "code",
   "execution_count": 21,
   "metadata": {},
   "outputs": [],
   "source": [
    "# Recreate sentence without stopwords\n",
    "sentences[\"ProcessedText\"] = sentences[\"WordsCleaned\"].apply(recreateText)"
   ]
  },
  {
   "cell_type": "code",
   "execution_count": 22,
   "metadata": {},
   "outputs": [],
   "source": [
    "# Create sentiment analysis object\n",
    "analyser = SentimentIntensityAnalyzer()"
   ]
  },
  {
   "cell_type": "code",
   "execution_count": 23,
   "metadata": {},
   "outputs": [
    {
     "name": "stdout",
     "output_type": "stream",
     "text": [
      "wave looting reportedly hit border zone russia vladimir putin 's authorities lose control belgorod oblast region homes local shops appeared targeted russian looters amid chaos tens thousands russians evacuating border areas belgorod region pro ukraine forces hit back russia video town shebekino showed building ablaze suspected strike {'neg': 0.186, 'neu': 0.814, 'pos': 0.0, 'compound': -0.8316}\n"
     ]
    }
   ],
   "source": [
    "# To test, let's evaluate first sentence of first review\n",
    "# Scales:\n",
    "#   compound: -1:most extreme negative, 1:most extreme positive\n",
    "#     positive: compound >=0.05\n",
    "#     neutral: -0.05<compound<0.05\n",
    "#     negative: compound <= -0.05\n",
    "#   pos, neu, neg: proportion of text that are positive, neutral or negative\n",
    "score = analyser.polarity_scores(sentences[\"ProcessedText\"][0])\n",
    "print(sentences[\"ProcessedText\"][0], score)"
   ]
  },
  {
   "cell_type": "code",
   "execution_count": 25,
   "metadata": {},
   "outputs": [],
   "source": [
    "# Computing sentences sentiment requires around 40 minutes, using this file we have the saved results.\n",
    "\"\"\"\n",
    "open_file = open(\"sentences-dailymail.pkl\", \"rb\")\n",
    "sentences = pickle.load(open_file)\n",
    "open_file.close()\n",
    "\"\"\""
   ]
  },
  {
   "cell_type": "code",
   "execution_count": 24,
   "metadata": {},
   "outputs": [
    {
     "name": "stderr",
     "output_type": "stream",
     "text": [
      "100%|██████████| 28069/28069 [55:20<00:00,  8.45it/s]  \n"
     ]
    }
   ],
   "source": [
    "# Process sentiment for all sentences\n",
    "all_scores = []\n",
    "for t in tqdm(sentences[\"ProcessedText\"]):\n",
    "    try:\n",
    "        score = analyser.polarity_scores(t)\n",
    "        all_scores.append(score)\n",
    "    except:\n",
    "        all_scores.append(dict({\"neg\": 0.0, \"neu\": 0.0, \"pos\": 0.0, \"compound\": 0.0}))\n",
    "sentences[\"Sentiment\"] = [c[\"compound\"] for c in all_scores]"
   ]
  },
  {
   "cell_type": "code",
   "execution_count": 25,
   "metadata": {},
   "outputs": [],
   "source": [
    "file_name = \"sentences-dailymail.pkl\"\n",
    "\n",
    "open_file = open(file_name, \"wb\")\n",
    "pickle.dump(sentences, open_file)\n",
    "open_file.close()"
   ]
  },
  {
   "cell_type": "code",
   "execution_count": 26,
   "metadata": {},
   "outputs": [],
   "source": [
    "# Compute review's sentiment as the mean sentiment from its sentences\n",
    "meanByReview = sentences.groupby(\"link\")[\"Sentiment\"].mean()\n",
    "\n",
    "# Consider sentences with no result as neutral (0)\n",
    "meanByReview = meanByReview.fillna(0)\n",
    "\n",
    "# Add column Sentiment to reviews Dataframe\n",
    "ds[\"Sentiment\"] = meanByReview[ds[\"link\"]].values"
   ]
  },
  {
   "cell_type": "code",
   "execution_count": 27,
   "metadata": {},
   "outputs": [],
   "source": [
    "# Assign a qualitative evaluation to the review\n",
    "bins = pd.IntervalIndex.from_tuples(\n",
    "    [(-1.1, -0.05), (-0.05, 0.05), (0.05, 1)], closed=\"right\"\n",
    ")\n",
    "x = pd.cut(ds[\"Sentiment\"].to_list(), bins)\n",
    "x.categories = [\"Negative\", \"Neutral\", \"Positive\"]\n",
    "ds[\"Polarity\"] = x"
   ]
  },
  {
   "cell_type": "code",
   "execution_count": 28,
   "metadata": {},
   "outputs": [
    {
     "data": {
      "text/html": [
       "<div>\n",
       "<style scoped>\n",
       "    .dataframe tbody tr th:only-of-type {\n",
       "        vertical-align: middle;\n",
       "    }\n",
       "\n",
       "    .dataframe tbody tr th {\n",
       "        vertical-align: top;\n",
       "    }\n",
       "\n",
       "    .dataframe thead th {\n",
       "        text-align: right;\n",
       "    }\n",
       "</style>\n",
       "<table border=\"1\" class=\"dataframe\">\n",
       "  <thead>\n",
       "    <tr style=\"text-align: right;\">\n",
       "      <th></th>\n",
       "      <th>Unnamed: 0</th>\n",
       "      <th>title</th>\n",
       "      <th>author</th>\n",
       "      <th>date</th>\n",
       "      <th>text</th>\n",
       "      <th>link</th>\n",
       "      <th>comments</th>\n",
       "      <th>Sentiment</th>\n",
       "      <th>Polarity</th>\n",
       "    </tr>\n",
       "  </thead>\n",
       "  <tbody>\n",
       "    <tr>\n",
       "      <th>0</th>\n",
       "      <td>0</td>\n",
       "      <td>Wave of looting ravages Russian border area am...</td>\n",
       "      <td>Will Stewart, Christian Oliver</td>\n",
       "      <td>03/06/23</td>\n",
       "      <td>A wave of looting has reportedly hit a border ...</td>\n",
       "      <td>https://www.dailymail.co.uk/news/article-12155...</td>\n",
       "      <td>[Russians don't appear to understand that peop...</td>\n",
       "      <td>-0.269744</td>\n",
       "      <td>Negative</td>\n",
       "    </tr>\n",
       "    <tr>\n",
       "      <th>1</th>\n",
       "      <td>1</td>\n",
       "      <td>EXCLUSIVE: 'This is the beginning of the end o...</td>\n",
       "      <td>Chris Pleasance</td>\n",
       "      <td>03/06/23</td>\n",
       "      <td>In the dawn hours of May 3, Moscovites awoke t...</td>\n",
       "      <td>https://www.dailymail.co.uk/news/article-12152...</td>\n",
       "      <td>[Putin: How does it feel when your country is ...</td>\n",
       "      <td>-0.207373</td>\n",
       "      <td>Negative</td>\n",
       "    </tr>\n",
       "    <tr>\n",
       "      <th>2</th>\n",
       "      <td>2</td>\n",
       "      <td>Naked protest at St Peter's Basilica: Man stri...</td>\n",
       "      <td>Christian Oliver</td>\n",
       "      <td>02/06/23</td>\n",
       "      <td>Visitors to St. Peter's Basilica got an unexpe...</td>\n",
       "      <td>https://www.dailymail.co.uk/news/article-12151...</td>\n",
       "      <td>[Joe Biden needs to put some clothes on., He c...</td>\n",
       "      <td>-0.546350</td>\n",
       "      <td>Negative</td>\n",
       "    </tr>\n",
       "    <tr>\n",
       "      <th>3</th>\n",
       "      <td>3</td>\n",
       "      <td>Russia accuses Apple of 'close cooperation' wi...</td>\n",
       "      <td>Keith Griffith For Dailymail.com, Reuters</td>\n",
       "      <td>01/06/23</td>\n",
       "      <td>Russian security services have accused Apple o...</td>\n",
       "      <td>https://www.dailymail.co.uk/news/article-12150...</td>\n",
       "      <td>[Russia has turned into a criminal gang/mafia ...</td>\n",
       "      <td>0.105950</td>\n",
       "      <td>Positive</td>\n",
       "    </tr>\n",
       "    <tr>\n",
       "      <th>4</th>\n",
       "      <td>4</td>\n",
       "      <td>Foster mother who 'rescued' orphans from Ukrai...</td>\n",
       "      <td>Ed Wight</td>\n",
       "      <td>01/06/23</td>\n",
       "      <td>A foster mum who rescued orphans from war-torn...</td>\n",
       "      <td>https://www.dailymail.co.uk/news/article-12148...</td>\n",
       "      <td>[I cannot believe what I have just read!  I fe...</td>\n",
       "      <td>-0.199058</td>\n",
       "      <td>Negative</td>\n",
       "    </tr>\n",
       "  </tbody>\n",
       "</table>\n",
       "</div>"
      ],
      "text/plain": [
       "   Unnamed: 0                                              title  \\\n",
       "0           0  Wave of looting ravages Russian border area am...   \n",
       "1           1  EXCLUSIVE: 'This is the beginning of the end o...   \n",
       "2           2  Naked protest at St Peter's Basilica: Man stri...   \n",
       "3           3  Russia accuses Apple of 'close cooperation' wi...   \n",
       "4           4  Foster mother who 'rescued' orphans from Ukrai...   \n",
       "\n",
       "                                      author      date  \\\n",
       "0             Will Stewart, Christian Oliver  03/06/23   \n",
       "1                            Chris Pleasance  03/06/23   \n",
       "2                           Christian Oliver  02/06/23   \n",
       "3  Keith Griffith For Dailymail.com, Reuters  01/06/23   \n",
       "4                                   Ed Wight  01/06/23   \n",
       "\n",
       "                                                text  \\\n",
       "0  A wave of looting has reportedly hit a border ...   \n",
       "1  In the dawn hours of May 3, Moscovites awoke t...   \n",
       "2  Visitors to St. Peter's Basilica got an unexpe...   \n",
       "3  Russian security services have accused Apple o...   \n",
       "4  A foster mum who rescued orphans from war-torn...   \n",
       "\n",
       "                                                link  \\\n",
       "0  https://www.dailymail.co.uk/news/article-12155...   \n",
       "1  https://www.dailymail.co.uk/news/article-12152...   \n",
       "2  https://www.dailymail.co.uk/news/article-12151...   \n",
       "3  https://www.dailymail.co.uk/news/article-12150...   \n",
       "4  https://www.dailymail.co.uk/news/article-12148...   \n",
       "\n",
       "                                            comments  Sentiment  Polarity  \n",
       "0  [Russians don't appear to understand that peop...  -0.269744  Negative  \n",
       "1  [Putin: How does it feel when your country is ...  -0.207373  Negative  \n",
       "2  [Joe Biden needs to put some clothes on., He c...  -0.546350  Negative  \n",
       "3  [Russia has turned into a criminal gang/mafia ...   0.105950  Positive  \n",
       "4  [I cannot believe what I have just read!  I fe...  -0.199058  Negative  "
      ]
     },
     "execution_count": 28,
     "metadata": {},
     "output_type": "execute_result"
    }
   ],
   "source": [
    "ds.head()"
   ]
  },
  {
   "cell_type": "code",
   "execution_count": 29,
   "metadata": {},
   "outputs": [],
   "source": [
    "ds.to_parquet(\"dailymailWithSentiment.parquet.snappy\", engine=\"fastparquet\")"
   ]
  }
 ],
 "metadata": {
  "kernelspec": {
   "display_name": "Python 3 (ipykernel)",
   "language": "python",
   "name": "python3"
  },
  "language_info": {
   "codemirror_mode": {
    "name": "ipython",
    "version": 3
   },
   "file_extension": ".py",
   "mimetype": "text/x-python",
   "name": "python",
   "nbconvert_exporter": "python",
   "pygments_lexer": "ipython3",
   "version": "3.9.12"
  },
  "vscode": {
   "interpreter": {
    "hash": "d7a18bc08bf6b314cad8b0dd8f53415ad78d1015cc806d14e4873c235fb4e191"
   }
  }
 },
 "nbformat": 4,
 "nbformat_minor": 4
}
