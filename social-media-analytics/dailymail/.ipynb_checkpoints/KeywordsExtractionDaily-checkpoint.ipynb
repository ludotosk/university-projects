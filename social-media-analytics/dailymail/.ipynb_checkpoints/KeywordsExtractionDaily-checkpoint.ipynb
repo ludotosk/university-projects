{
 "cells": [
  {
   "cell_type": "markdown",
   "metadata": {},
   "source": [
    "##### Social Media Analytics\n",
    "### Introduction to Text Mining\n",
    "## Keywords extraction (using RAKE method)\n",
    "(c) Nuno Antonio 2019-2022 v1.02"
   ]
  },
  {
   "cell_type": "markdown",
   "metadata": {},
   "source": [
    "### Initial setup"
   ]
  },
  {
   "cell_type": "code",
   "execution_count": 1,
   "metadata": {},
   "outputs": [],
   "source": [
    "# Import packages\n",
    "import csv\n",
    "import pandas as pd\n",
    "import numpy as np\n",
    "import nltk\n",
    "import re\n",
    "from nltk.tokenize import word_tokenize\n",
    "import re\n",
    "from bs4 import BeautifulSoup\n",
    "from rake_nltk import Rake"
   ]
  },
  {
   "cell_type": "code",
   "execution_count": 2,
   "metadata": {},
   "outputs": [],
   "source": [
    "ds = pd.read_parquet(\"sputnik.parquet.snappy\", engine=\"fastparquet\")"
   ]
  },
  {
   "cell_type": "markdown",
   "metadata": {},
   "source": [
    "### Functions"
   ]
  },
  {
   "cell_type": "code",
   "execution_count": 3,
   "metadata": {},
   "outputs": [],
   "source": [
    "# Text preprocessing\n",
    "def textPreProcess(rawText, removeHTML=True, charsToRemove = r'\\?|\\.|\\!|\\;|\\.|\\\"|\\,|\\(|\\)|\\&|\\:|\\-', removeNumbers=True, removeLineBreaks=False, specialCharsToRemove = r'[^\\x00-\\xfd]', convertToLower=True, removeConsecutiveSpaces=True):\n",
    "    if type(rawText) != str:\n",
    "        return rawText\n",
    "    procText = rawText\n",
    "        \n",
    "    # Remove HTML\n",
    "    if removeHTML:\n",
    "        procText = BeautifulSoup(procText,'html.parser').get_text()\n",
    "\n",
    "    # Remove punctuation and other special characters\n",
    "    if len(charsToRemove)>0:\n",
    "        procText = re.sub(charsToRemove,' ',procText)\n",
    "\n",
    "    # Remove numbers\n",
    "    if removeNumbers:\n",
    "        procText = re.sub(r'\\d+',' ',procText)\n",
    "\n",
    "    # Remove line breaks\n",
    "    if removeLineBreaks:\n",
    "        procText = procText.replace('\\n',' ').replace('\\r', '')\n",
    "\n",
    "    # Remove special characters\n",
    "    if len(specialCharsToRemove)>0:\n",
    "        procText = re.sub(specialCharsToRemove,' ',procText)\n",
    "\n",
    "    # Normalize to lower case\n",
    "    if convertToLower:\n",
    "        procText = procText.lower() \n",
    "\n",
    "    # Replace multiple consecutive spaces with just one space\n",
    "    if removeConsecutiveSpaces:\n",
    "        procText = re.sub(' +', ' ', procText)\n",
    "\n",
    "    return procText"
   ]
  },
  {
   "cell_type": "code",
   "execution_count": 4,
   "metadata": {},
   "outputs": [],
   "source": [
    "# Tokenize words\n",
    "def tokenize_words(words):\n",
    "    if (type(words) != str) or (word_tokenize(words) == ''):\n",
    "        return np.nan\n",
    "    else:\n",
    "        return word_tokenize(words)"
   ]
  },
  {
   "cell_type": "code",
   "execution_count": 5,
   "metadata": {},
   "outputs": [],
   "source": [
    "# Function to create text from words\n",
    "def recreateText(words):\n",
    "    if type(words) == list:\n",
    "        temp_str = (' ').join(words)\n",
    "        return temp_str\n",
    "    else:\n",
    "        return np.nan"
   ]
  },
  {
   "cell_type": "markdown",
   "metadata": {},
   "source": [
    "### Analysis"
   ]
  },
  {
   "cell_type": "code",
   "execution_count": 6,
   "metadata": {},
   "outputs": [],
   "source": [
    "# Create a dataframe with only the description\n",
    "processedReviews = pd.DataFrame(data=ds.text.apply(textPreProcess,charsToRemove ='', removeNumbers=False).values, index=ds.index, columns=['PreProcessedText'])"
   ]
  },
  {
   "cell_type": "code",
   "execution_count": 7,
   "metadata": {},
   "outputs": [],
   "source": [
    "# Remove rows with empty text\n",
    "processedReviews.PreProcessedText = processedReviews.PreProcessedText.str.strip()\n",
    "processedReviews = processedReviews[processedReviews.PreProcessedText != '']"
   ]
  },
  {
   "cell_type": "code",
   "execution_count": 8,
   "metadata": {},
   "outputs": [],
   "source": [
    "# Find specific terms\n",
    "termsToSearch = ['hygiene', 'clean', 'safe']\n",
    "searchList =  re.compile('|'.join(termsToSearch))\n",
    "\n",
    "# Get words from sentences\n",
    "listOfWords =  processedReviews.PreProcessedText.apply(tokenize_words)\n",
    "\n",
    "# Reconstruct sentences with spaces in the beginning and in the end\n",
    "ppText = listOfWords.apply(recreateText)\n",
    "\n",
    "# Look for search terms in sentences and present them\n",
    "ppText_searched=[]\n",
    "for review in ppText:\n",
    "    if searchList.search(' '+ review +' '):\n",
    "        ppText_searched.append(review)"
   ]
  },
  {
   "cell_type": "code",
   "execution_count": 9,
   "metadata": {},
   "outputs": [
    {
     "data": {
      "text/plain": [
       "[\"in a statement for the newspaper , the nuclear emergency support team ( nest ) said that the network of atomic sensors was being deployed `` throughout the region '' and would have the ability `` to characterize the size , location and effects of any nuclear explosion . `` the sensors will be able to detect radiation from both a dirty bomb and a nuclear weapon activated in ukraine , the report said . the move would allegedly deny russia any opportunity to use nuclear weapons in ukraine without attribution , the report the statement as saying . the sensors will presumably serve as deterrence because they would make russian decision-makers aware the united states can expose the use of a nuclear weapon as a false-flag operation , the report cited the statement as saying . `` if a nuclear emergency were to occur in ukraine , whether a radiation release from a nuclear reactor or a nuclear weapon detonation , '' the statement said . `` scientific analyses would be rapidly provided to us government authorities and decision-making centers in ukraine and the region to make actionable , technically informed decisions to protect public health and safety . '' earlier this week , us national nuclear security administration chief jill hruby confirmed in a congressional testimony that her agency , along with the national security agency ( nsa ) , have installed sensors in ukraine to detect radiological activity and has already started training people in ukraine on how to respond in case of a nuclear blast .\",\n",
       " \"`` the increased military presence and activity in the region again underlines the importance and urgency of agreeing on the protection of the plant , '' rafael grossi said in a statement . this week , the iaea experts present at the station were once again forced to take cover after a shelling warning . meanwhile , sounds of bombing in the distance were heard , the agency 's statement added . `` in addition , one landmine exploded near the site , '' grossi said . on thursday , the iaea said that a regular , seventh rotation of the agency 's specialists had taken place at the power plant on schedule . for the next month , two iaea officers will work at the znpp . the iaea mission has been stationed at znpp since september . grossi also expressed the hope on thursday that a safety zone around the znpp will be created before the end of this year . located on the left bank of the dnepr river , the znpp is the largest nuclear power plant in europe by number of units and energy output . it came under russia 's control in early march 2022 and has since been repeatedly shelled , raising international concerns over a possible nuclear accident . an international mission led by grossi first visited the plant from august 31 to september 5. iaea observers have since been staying at the plant on a rotational basis . following the visit by the mission , the iaea published a report in which it confirmed multiple attacks on the znpp . on october 5 , 2022 , the znpp was placed under the control of russian institutions by order of russian president vladimir putin . on december 8 , moscow sent proposals to the iaea with specific parameters for creating a security zone around znpp .\",\n",
       " \"nikolay azarov , a former ukrainian prime minister , claims that the current authorities in kiev are putting the nuclear security of the whole continent at risk by `` destroying nuclear facilities '' without considering the consequences . he also argues that kiev 's stance is putting the safe operation of nuclear power plants in ukraine in jeopardy , thus increasing the likelihood of accidents.russia 's foreign ministry has said russian control of the zaporozhye nuclear power plant ( znpp ) is to prevent nuclear and radioactive material leaks . russian defense minister sergey shoigu has argued that the kiev regime is deliberately shelling the facility in order to create the appearance of a nuclear catastrophe threat . the international atomic energy agency has called for the creation of a safety zone around it.earlier in the month , it was reported that a drone belonging to ukrainian militants crashed in close proximity to the znpp . the drone was identified as a polish-made warmate carrying a two-kilogram explosive munition.the znpp is located on the left bank of the dnepr river near the city of energodar . it is the largest nuclear power plant in europe in terms of the number of units and installed capacity , with six power units each generating one gigawatt of electricity . in october 2022 , the nuclear power plant came under the ownership of the russian federation , and since then has regularly been a target of ukrainian forces .\"]"
      ]
     },
     "execution_count": 9,
     "metadata": {},
     "output_type": "execute_result"
    }
   ],
   "source": [
    "# The first 3 reviews\n",
    "# termsToSearch = ['hygiene', 'clean', 'safe']\n",
    "ppText_searched[0:3]"
   ]
  }
 ],
 "metadata": {
  "kernelspec": {
   "display_name": "Python 3 (ipykernel)",
   "language": "python",
   "name": "python3"
  },
  "language_info": {
   "codemirror_mode": {
    "name": "ipython",
    "version": 3
   },
   "file_extension": ".py",
   "mimetype": "text/x-python",
   "name": "python",
   "nbconvert_exporter": "python",
   "pygments_lexer": "ipython3",
   "version": "3.9.12"
  },
  "vscode": {
   "interpreter": {
    "hash": "d7a18bc08bf6b314cad8b0dd8f53415ad78d1015cc806d14e4873c235fb4e191"
   }
  }
 },
 "nbformat": 4,
 "nbformat_minor": 4
}
