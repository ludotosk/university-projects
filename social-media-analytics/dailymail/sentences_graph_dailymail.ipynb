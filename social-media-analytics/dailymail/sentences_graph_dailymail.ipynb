{
 "cells": [
  {
   "cell_type": "markdown",
   "metadata": {
    "id": "bscy2e1Ddl0t"
   },
   "source": [
    "##### Social Media Analytics\n",
    "### Introduction to Text Mining\n",
    "## Named Entity Recognition"
   ]
  },
  {
   "cell_type": "markdown",
   "metadata": {
    "id": "8BKUq55Ddl0u"
   },
   "source": [
    "### Initial setup"
   ]
  },
  {
   "cell_type": "code",
   "execution_count": 1,
   "metadata": {
    "colab": {
     "base_uri": "https://localhost:8080/"
    },
    "id": "QD3opKcZ3MXW",
    "outputId": "fd1dd844-e1b8-4984-ec5e-d3138a516cc7"
   },
   "outputs": [
    {
     "name": "stderr",
     "output_type": "stream",
     "text": [
      "[nltk_data] Downloading package punkt to /home/tosk/nltk_data...\n",
      "[nltk_data]   Package punkt is already up-to-date!\n"
     ]
    },
    {
     "data": {
      "text/plain": [
       "True"
      ]
     },
     "execution_count": 1,
     "metadata": {},
     "output_type": "execute_result"
    }
   ],
   "source": [
    "import warnings\n",
    "\n",
    "warnings.filterwarnings(\"ignore\")\n",
    "import nltk\n",
    "\n",
    "nltk.download(\"punkt\")"
   ]
  },
  {
   "cell_type": "code",
   "execution_count": 3,
   "metadata": {
    "id": "nt9qL1J5dl0v"
   },
   "outputs": [],
   "source": [
    "from nltk.tokenize import sent_tokenize\n",
    "from tqdm import tqdm"
   ]
  },
  {
   "cell_type": "code",
   "execution_count": 4,
   "metadata": {
    "id": "rL3k6YHHdl0w"
   },
   "outputs": [],
   "source": [
    "# Import packages\n",
    "import csv\n",
    "import re\n",
    "from collections import Counter\n",
    "\n",
    "import nltk\n",
    "import numpy\n",
    "import numpy as np\n",
    "import pandas as pd\n",
    "import spacy\n",
    "from bs4 import BeautifulSoup\n",
    "from spacy import displacy"
   ]
  },
  {
   "cell_type": "code",
   "execution_count": 5,
   "metadata": {
    "id": "-DZYXvGxdl0x"
   },
   "outputs": [],
   "source": [
    "ds = pd.read_parquet(\"DailyMail.parquet.snappy\", engine=\"fastparquet\")"
   ]
  },
  {
   "cell_type": "markdown",
   "metadata": {
    "id": "OV-FodwKdl0x"
   },
   "source": [
    "### Functions"
   ]
  },
  {
   "cell_type": "code",
   "execution_count": 6,
   "metadata": {
    "id": "Fy1K3mUNdl0x"
   },
   "outputs": [],
   "source": [
    "# Text preprocessing\n",
    "def textPreProcess(\n",
    "    rawText,\n",
    "    removeHTML=True,\n",
    "    charsToRemove=r\"\\?|\\.|\\!|\\;|\\.|\\\"|\\,|\\(|\\)|\\&|\\:|\\-\",\n",
    "    removeNumbers=True,\n",
    "    removeLineBreaks=False,\n",
    "    specialCharsToRemove=r\"[^\\x00-\\xfd]\",\n",
    "    convertToLower=True,\n",
    "    removeConsecutiveSpaces=True,\n",
    "):\n",
    "    if type(rawText) != str:\n",
    "        return rawText\n",
    "    procText = rawText\n",
    "\n",
    "    # Remove HTML\n",
    "    if removeHTML:\n",
    "        procText = BeautifulSoup(procText, \"html.parser\").get_text()\n",
    "\n",
    "    # Remove punctuation and other special characters\n",
    "    if len(charsToRemove) > 0:\n",
    "        procText = re.sub(charsToRemove, \" \", procText)\n",
    "\n",
    "    # Remove numbers\n",
    "    if removeNumbers:\n",
    "        procText = re.sub(r\"\\d+\", \" \", procText)\n",
    "\n",
    "    # Remove line breaks\n",
    "    if removeLineBreaks:\n",
    "        procText = procText.replace(\"\\n\", \" \").replace(\"\\r\", \"\")\n",
    "\n",
    "    # Remove special characters\n",
    "    if len(specialCharsToRemove) > 0:\n",
    "        procText = re.sub(specialCharsToRemove, \" \", procText)\n",
    "\n",
    "    # Normalize to lower case\n",
    "    # Since we want to find the persons in the articles we don' want to normalize to lower case\n",
    "\n",
    "    # Replace multiple consecutive spaces with just one space\n",
    "    if removeConsecutiveSpaces:\n",
    "        procText = re.sub(\" +\", \" \", procText)\n",
    "\n",
    "    return procText"
   ]
  },
  {
   "cell_type": "markdown",
   "metadata": {
    "id": "MtrKy62ldl0y"
   },
   "source": [
    "### Analysis"
   ]
  },
  {
   "cell_type": "code",
   "execution_count": 7,
   "metadata": {
    "id": "iRzLcKBOdl0y"
   },
   "outputs": [],
   "source": [
    "# Create a dataframe with only the description\n",
    "processedReviews = pd.DataFrame(\n",
    "    data=ds.text.apply(\n",
    "        textPreProcess, charsToRemove=\"\", removeLineBreaks=False, removeNumbers=False\n",
    "    ).values,\n",
    "    index=ds.index,\n",
    "    columns=[\"PreProcessedText\"],\n",
    ")"
   ]
  },
  {
   "cell_type": "code",
   "execution_count": 8,
   "metadata": {
    "id": "_vlWx_Lzdl0y"
   },
   "outputs": [],
   "source": [
    "# Remove rows with empty text\n",
    "processedReviews.PreProcessedText = processedReviews.PreProcessedText.str.strip()\n",
    "processedReviews = processedReviews[processedReviews.PreProcessedText != \"\"]"
   ]
  },
  {
   "cell_type": "code",
   "execution_count": 9,
   "metadata": {
    "colab": {
     "base_uri": "https://localhost:8080/",
     "height": 206
    },
    "id": "5O32yKLXdl0y",
    "outputId": "f5e2b0e3-b09b-496c-94b2-6e95f3d3006d"
   },
   "outputs": [
    {
     "data": {
      "text/html": [
       "<div>\n",
       "<style scoped>\n",
       "    .dataframe tbody tr th:only-of-type {\n",
       "        vertical-align: middle;\n",
       "    }\n",
       "\n",
       "    .dataframe tbody tr th {\n",
       "        vertical-align: top;\n",
       "    }\n",
       "\n",
       "    .dataframe thead th {\n",
       "        text-align: right;\n",
       "    }\n",
       "</style>\n",
       "<table border=\"1\" class=\"dataframe\">\n",
       "  <thead>\n",
       "    <tr style=\"text-align: right;\">\n",
       "      <th></th>\n",
       "      <th>PreProcessedText</th>\n",
       "    </tr>\n",
       "  </thead>\n",
       "  <tbody>\n",
       "    <tr>\n",
       "      <th>0</th>\n",
       "      <td>A wave of looting has reportedly hit a border ...</td>\n",
       "    </tr>\n",
       "    <tr>\n",
       "      <th>1</th>\n",
       "      <td>In the dawn hours of May 3, Moscovites awoke t...</td>\n",
       "    </tr>\n",
       "    <tr>\n",
       "      <th>2</th>\n",
       "      <td>Visitors to St. Peter's Basilica got an unexpe...</td>\n",
       "    </tr>\n",
       "    <tr>\n",
       "      <th>3</th>\n",
       "      <td>Russian security services have accused Apple o...</td>\n",
       "    </tr>\n",
       "    <tr>\n",
       "      <th>4</th>\n",
       "      <td>A foster mum who rescued orphans from war-torn...</td>\n",
       "    </tr>\n",
       "  </tbody>\n",
       "</table>\n",
       "</div>"
      ],
      "text/plain": [
       "                                    PreProcessedText\n",
       "0  A wave of looting has reportedly hit a border ...\n",
       "1  In the dawn hours of May 3, Moscovites awoke t...\n",
       "2  Visitors to St. Peter's Basilica got an unexpe...\n",
       "3  Russian security services have accused Apple o...\n",
       "4  A foster mum who rescued orphans from war-torn..."
      ]
     },
     "execution_count": 9,
     "metadata": {},
     "output_type": "execute_result"
    }
   ],
   "source": [
    "processedReviews.head()"
   ]
  },
  {
   "cell_type": "code",
   "execution_count": 10,
   "metadata": {
    "id": "qHZG8OVPkeIe"
   },
   "outputs": [],
   "source": [
    "sentences = []\n",
    "for review in processedReviews[\"PreProcessedText\"]:\n",
    "    sentences = sentences + nltk.tokenize.sent_tokenize(review)"
   ]
  },
  {
   "cell_type": "code",
   "execution_count": 11,
   "metadata": {
    "id": "YgTeeEfedl0z"
   },
   "outputs": [],
   "source": [
    "# Load Spacy English model\n",
    "nlp = spacy.load(\"en_core_web_sm\")"
   ]
  },
  {
   "cell_type": "code",
   "execution_count": 12,
   "metadata": {
    "colab": {
     "base_uri": "https://localhost:8080/"
    },
    "id": "oFSR61Exgq-F",
    "outputId": "b5e0ab15-d503-4aad-fb9d-090271ed025f"
   },
   "outputs": [
    {
     "name": "stderr",
     "output_type": "stream",
     "text": [
      "100%|██████████| 28576/28576 [26:00<00:00, 18.31it/s]   \n"
     ]
    }
   ],
   "source": [
    "# creating a dataframe with each article and the persons mentioned\n",
    "persons_df = pd.DataFrame({\"id\": [], \"persons\": []})\n",
    "\n",
    "for i, sentence in enumerate(tqdm(sentences)):\n",
    "    doc = nlp(sentence)\n",
    "    entities = [(X.text, X.label_) for X in doc.ents]\n",
    "    persons = []\n",
    "    for entity in entities:\n",
    "        if entity[1] == \"PERSON\":\n",
    "            persons.append(entity[0])\n",
    "\n",
    "    persons_df.loc[i] = [i, persons]"
   ]
  },
  {
   "cell_type": "code",
   "execution_count": 13,
   "metadata": {
    "colab": {
     "base_uri": "https://localhost:8080/",
     "height": 424
    },
    "id": "RlljhOUHn8-q",
    "outputId": "691a8683-2c95-49ec-adea-007a45370d1e"
   },
   "outputs": [
    {
     "data": {
      "text/html": [
       "<div>\n",
       "<style scoped>\n",
       "    .dataframe tbody tr th:only-of-type {\n",
       "        vertical-align: middle;\n",
       "    }\n",
       "\n",
       "    .dataframe tbody tr th {\n",
       "        vertical-align: top;\n",
       "    }\n",
       "\n",
       "    .dataframe thead th {\n",
       "        text-align: right;\n",
       "    }\n",
       "</style>\n",
       "<table border=\"1\" class=\"dataframe\">\n",
       "  <thead>\n",
       "    <tr style=\"text-align: right;\">\n",
       "      <th></th>\n",
       "      <th>id</th>\n",
       "      <th>persons</th>\n",
       "    </tr>\n",
       "  </thead>\n",
       "  <tbody>\n",
       "    <tr>\n",
       "      <th>0</th>\n",
       "      <td>0</td>\n",
       "      <td>[Vladimir Putin's]</td>\n",
       "    </tr>\n",
       "    <tr>\n",
       "      <th>1</th>\n",
       "      <td>1</td>\n",
       "      <td>[Putin]</td>\n",
       "    </tr>\n",
       "    <tr>\n",
       "      <th>2</th>\n",
       "      <td>2</td>\n",
       "      <td>[]</td>\n",
       "    </tr>\n",
       "    <tr>\n",
       "      <th>3</th>\n",
       "      <td>3</td>\n",
       "      <td>[]</td>\n",
       "    </tr>\n",
       "    <tr>\n",
       "      <th>4</th>\n",
       "      <td>4</td>\n",
       "      <td>[]</td>\n",
       "    </tr>\n",
       "    <tr>\n",
       "      <th>...</th>\n",
       "      <td>...</td>\n",
       "      <td>...</td>\n",
       "    </tr>\n",
       "    <tr>\n",
       "      <th>28571</th>\n",
       "      <td>28571</td>\n",
       "      <td>[]</td>\n",
       "    </tr>\n",
       "    <tr>\n",
       "      <th>28572</th>\n",
       "      <td>28572</td>\n",
       "      <td>[]</td>\n",
       "    </tr>\n",
       "    <tr>\n",
       "      <th>28573</th>\n",
       "      <td>28573</td>\n",
       "      <td>[Putin]</td>\n",
       "    </tr>\n",
       "    <tr>\n",
       "      <th>28574</th>\n",
       "      <td>28574</td>\n",
       "      <td>[Putin]</td>\n",
       "    </tr>\n",
       "    <tr>\n",
       "      <th>28575</th>\n",
       "      <td>28575</td>\n",
       "      <td>[]</td>\n",
       "    </tr>\n",
       "  </tbody>\n",
       "</table>\n",
       "<p>28576 rows × 2 columns</p>\n",
       "</div>"
      ],
      "text/plain": [
       "          id             persons\n",
       "0          0  [Vladimir Putin's]\n",
       "1          1             [Putin]\n",
       "2          2                  []\n",
       "3          3                  []\n",
       "4          4                  []\n",
       "...      ...                 ...\n",
       "28571  28571                  []\n",
       "28572  28572                  []\n",
       "28573  28573             [Putin]\n",
       "28574  28574             [Putin]\n",
       "28575  28575                  []\n",
       "\n",
       "[28576 rows x 2 columns]"
      ]
     },
     "execution_count": 13,
     "metadata": {},
     "output_type": "execute_result"
    }
   ],
   "source": [
    "persons_df"
   ]
  },
  {
   "cell_type": "code",
   "execution_count": 14,
   "metadata": {
    "colab": {
     "base_uri": "https://localhost:8080/"
    },
    "id": "VRUy01G1j1VA",
    "outputId": "a94b18f0-cd18-4e2a-bb76-7e9d527a7ce0"
   },
   "outputs": [
    {
     "name": "stderr",
     "output_type": "stream",
     "text": [
      "100%|██████████| 28576/28576 [00:52<00:00, 545.95it/s] \n"
     ]
    }
   ],
   "source": [
    "# cleaning the dataframe\n",
    "persons_df_clean = pd.DataFrame({\"id\": [], \"persons\": []})\n",
    "\n",
    "# taking just the last name from all the entities that has both first name and second name\n",
    "for i in tqdm(range(len(persons_df))):\n",
    "    persons = persons_df.loc[i][1]\n",
    "    cleaned_persons = []\n",
    "    for person in persons:\n",
    "        person = person.split(\" \")[-1]\n",
    "        cleaned_persons.append(person)\n",
    "\n",
    "    persons_df_clean.loc[i] = [i, cleaned_persons]"
   ]
  },
  {
   "cell_type": "code",
   "execution_count": 15,
   "metadata": {
    "id": "JpoI35XrpbeL"
   },
   "outputs": [],
   "source": [
    "final_persons_df = pd.DataFrame({\"id\": [], \"persons\": []})\n",
    "\n",
    "for i in range(len(persons_df_clean)):\n",
    "    final_persons_df.loc[i] = [i, list(set(persons_df_clean.loc[i][1]))]"
   ]
  },
  {
   "cell_type": "code",
   "execution_count": 16,
   "metadata": {
    "colab": {
     "base_uri": "https://localhost:8080/",
     "height": 424
    },
    "id": "qVcq_GSM3P5g",
    "outputId": "bf98b8e1-27dd-4917-f5ef-0d5debd7324b"
   },
   "outputs": [
    {
     "data": {
      "text/html": [
       "<div>\n",
       "<style scoped>\n",
       "    .dataframe tbody tr th:only-of-type {\n",
       "        vertical-align: middle;\n",
       "    }\n",
       "\n",
       "    .dataframe tbody tr th {\n",
       "        vertical-align: top;\n",
       "    }\n",
       "\n",
       "    .dataframe thead th {\n",
       "        text-align: right;\n",
       "    }\n",
       "</style>\n",
       "<table border=\"1\" class=\"dataframe\">\n",
       "  <thead>\n",
       "    <tr style=\"text-align: right;\">\n",
       "      <th></th>\n",
       "      <th>id</th>\n",
       "      <th>persons</th>\n",
       "    </tr>\n",
       "  </thead>\n",
       "  <tbody>\n",
       "    <tr>\n",
       "      <th>0</th>\n",
       "      <td>0</td>\n",
       "      <td>[Putin's]</td>\n",
       "    </tr>\n",
       "    <tr>\n",
       "      <th>1</th>\n",
       "      <td>1</td>\n",
       "      <td>[Putin]</td>\n",
       "    </tr>\n",
       "    <tr>\n",
       "      <th>2</th>\n",
       "      <td>2</td>\n",
       "      <td>[]</td>\n",
       "    </tr>\n",
       "    <tr>\n",
       "      <th>3</th>\n",
       "      <td>3</td>\n",
       "      <td>[]</td>\n",
       "    </tr>\n",
       "    <tr>\n",
       "      <th>4</th>\n",
       "      <td>4</td>\n",
       "      <td>[]</td>\n",
       "    </tr>\n",
       "    <tr>\n",
       "      <th>...</th>\n",
       "      <td>...</td>\n",
       "      <td>...</td>\n",
       "    </tr>\n",
       "    <tr>\n",
       "      <th>28571</th>\n",
       "      <td>28571</td>\n",
       "      <td>[]</td>\n",
       "    </tr>\n",
       "    <tr>\n",
       "      <th>28572</th>\n",
       "      <td>28572</td>\n",
       "      <td>[]</td>\n",
       "    </tr>\n",
       "    <tr>\n",
       "      <th>28573</th>\n",
       "      <td>28573</td>\n",
       "      <td>[Putin]</td>\n",
       "    </tr>\n",
       "    <tr>\n",
       "      <th>28574</th>\n",
       "      <td>28574</td>\n",
       "      <td>[Putin]</td>\n",
       "    </tr>\n",
       "    <tr>\n",
       "      <th>28575</th>\n",
       "      <td>28575</td>\n",
       "      <td>[]</td>\n",
       "    </tr>\n",
       "  </tbody>\n",
       "</table>\n",
       "<p>28576 rows × 2 columns</p>\n",
       "</div>"
      ],
      "text/plain": [
       "          id    persons\n",
       "0          0  [Putin's]\n",
       "1          1    [Putin]\n",
       "2          2         []\n",
       "3          3         []\n",
       "4          4         []\n",
       "...      ...        ...\n",
       "28571  28571         []\n",
       "28572  28572         []\n",
       "28573  28573    [Putin]\n",
       "28574  28574    [Putin]\n",
       "28575  28575         []\n",
       "\n",
       "[28576 rows x 2 columns]"
      ]
     },
     "execution_count": 16,
     "metadata": {},
     "output_type": "execute_result"
    }
   ],
   "source": [
    "persons_df_clean"
   ]
  },
  {
   "cell_type": "code",
   "execution_count": 18,
   "metadata": {
    "colab": {
     "base_uri": "https://localhost:8080/"
    },
    "id": "of5eOG8Ct_FU",
    "outputId": "394abf3f-5d16-4cd3-fd84-fd9508983998"
   },
   "outputs": [
    {
     "name": "stderr",
     "output_type": "stream",
     "text": [
      "  0%|          | 20/28576 [00:00<00:10, 2762.77it/s]\n"
     ]
    },
    {
     "ename": "AttributeError",
     "evalue": "'DataFrame' object has no attribute 'append'",
     "output_type": "error",
     "traceback": [
      "\u001b[0;31m---------------------------------------------------------------------------\u001b[0m",
      "\u001b[0;31mAttributeError\u001b[0m                            Traceback (most recent call last)",
      "Input \u001b[0;32mIn [18]\u001b[0m, in \u001b[0;36m<cell line: 4>\u001b[0;34m()\u001b[0m\n\u001b[1;32m      8\u001b[0m values_to_add \u001b[38;5;241m=\u001b[39m {\u001b[38;5;124m\"\u001b[39m\u001b[38;5;124mSource\u001b[39m\u001b[38;5;124m\"\u001b[39m: persons[j], \u001b[38;5;124m\"\u001b[39m\u001b[38;5;124mTarget\u001b[39m\u001b[38;5;124m\"\u001b[39m: persons[k]}\n\u001b[1;32m      9\u001b[0m row_to_add \u001b[38;5;241m=\u001b[39m pd\u001b[38;5;241m.\u001b[39mSeries(values_to_add)\n\u001b[0;32m---> 10\u001b[0m edge_dataframe \u001b[38;5;241m=\u001b[39m \u001b[43medge_dataframe\u001b[49m\u001b[38;5;241;43m.\u001b[39;49m\u001b[43mappend\u001b[49m(row_to_add, ignore_index\u001b[38;5;241m=\u001b[39m\u001b[38;5;28;01mTrue\u001b[39;00m)\n",
      "File \u001b[0;32m~/anaconda3/lib/python3.9/site-packages/pandas/core/generic.py:5989\u001b[0m, in \u001b[0;36mNDFrame.__getattr__\u001b[0;34m(self, name)\u001b[0m\n\u001b[1;32m   5982\u001b[0m \u001b[38;5;28;01mif\u001b[39;00m (\n\u001b[1;32m   5983\u001b[0m     name \u001b[38;5;129;01mnot\u001b[39;00m \u001b[38;5;129;01min\u001b[39;00m \u001b[38;5;28mself\u001b[39m\u001b[38;5;241m.\u001b[39m_internal_names_set\n\u001b[1;32m   5984\u001b[0m     \u001b[38;5;129;01mand\u001b[39;00m name \u001b[38;5;129;01mnot\u001b[39;00m \u001b[38;5;129;01min\u001b[39;00m \u001b[38;5;28mself\u001b[39m\u001b[38;5;241m.\u001b[39m_metadata\n\u001b[1;32m   5985\u001b[0m     \u001b[38;5;129;01mand\u001b[39;00m name \u001b[38;5;129;01mnot\u001b[39;00m \u001b[38;5;129;01min\u001b[39;00m \u001b[38;5;28mself\u001b[39m\u001b[38;5;241m.\u001b[39m_accessors\n\u001b[1;32m   5986\u001b[0m     \u001b[38;5;129;01mand\u001b[39;00m \u001b[38;5;28mself\u001b[39m\u001b[38;5;241m.\u001b[39m_info_axis\u001b[38;5;241m.\u001b[39m_can_hold_identifiers_and_holds_name(name)\n\u001b[1;32m   5987\u001b[0m ):\n\u001b[1;32m   5988\u001b[0m     \u001b[38;5;28;01mreturn\u001b[39;00m \u001b[38;5;28mself\u001b[39m[name]\n\u001b[0;32m-> 5989\u001b[0m \u001b[38;5;28;01mreturn\u001b[39;00m \u001b[38;5;28;43mobject\u001b[39;49m\u001b[38;5;241;43m.\u001b[39;49m\u001b[38;5;21;43m__getattribute__\u001b[39;49m\u001b[43m(\u001b[49m\u001b[38;5;28;43mself\u001b[39;49m\u001b[43m,\u001b[49m\u001b[43m \u001b[49m\u001b[43mname\u001b[49m\u001b[43m)\u001b[49m\n",
      "\u001b[0;31mAttributeError\u001b[0m: 'DataFrame' object has no attribute 'append'"
     ]
    }
   ],
   "source": [
    "final_persons_df\n",
    "edge_dataframe = pd.DataFrame({\"Source\": [], \"Target\": []})\n",
    "\n",
    "for i in tqdm(range(len(final_persons_df))):\n",
    "    persons = final_persons_df.loc[i][1]\n",
    "    for j in range(len(persons) - 1):\n",
    "        for k in range(j + 1, len(persons)):\n",
    "            values_to_add = {\"Source\": persons[j], \"Target\": persons[k]}\n",
    "            row_to_add = pd.Series(values_to_add)\n",
    "            edge_dataframe = edge_dataframe.append(row_to_add, ignore_index=True)"
   ]
  },
  {
   "cell_type": "code",
   "execution_count": null,
   "metadata": {
    "id": "scZYmxtS7rNT"
   },
   "outputs": [],
   "source": [
    "for i, row in edge_dataframe.iterrows():\n",
    "    if row[0] == row[1]:\n",
    "        edge_dataframe = edge_dataframe.drop(i)"
   ]
  },
  {
   "cell_type": "code",
   "execution_count": null,
   "metadata": {
    "colab": {
     "base_uri": "https://localhost:8080/",
     "height": 1000
    },
    "id": "Ha7Decodzd0p",
    "outputId": "17562a6d-b0da-4ffa-fce9-8852f3ed8521"
   },
   "outputs": [],
   "source": [
    "edge_dataframe.head(50)"
   ]
  },
  {
   "cell_type": "code",
   "execution_count": null,
   "metadata": {
    "id": "ojw-G6oMoYI6"
   },
   "outputs": [],
   "source": [
    "# function to check if there is a number in a string\n",
    "def num_there(s):\n",
    "    return any(i.isdigit() for i in s)"
   ]
  },
  {
   "cell_type": "code",
   "execution_count": null,
   "metadata": {
    "id": "dxwAqU-h8Z4r"
   },
   "outputs": [],
   "source": [
    "for i, row in edge_dataframe.iterrows():\n",
    "\n",
    "    if row[0] == row[1]:\n",
    "        edge_dataframe = edge_dataframe.drop(i)\n",
    "\n",
    "    elif row[0] == row[1]:\n",
    "        edge_dataframe = edge_dataframe.drop(i)\n",
    "\n",
    "    elif num_there(row[0]) == True or num_there(row[1]) == True:\n",
    "        edge_dataframe = edge_dataframe.drop(i)\n",
    "\n",
    "    elif len(row[0]) == 1 or len(row[1]) == 1:\n",
    "        edge_dataframe = edge_dataframe.drop(i)\n",
    "\n",
    "    elif \".\" in row[0] or \".\" in row[1]:\n",
    "        edge_dataframe = edge_dataframe.drop(i)\n",
    "\n",
    "    elif \".\" in row[0] or \".\" in row[1]:\n",
    "        edge_dataframe = edge_dataframe.drop(i)\n",
    "\n",
    "    elif row[0] == \"Kyiv\" or row[1] == \"Kyiv\":\n",
    "        edge_dataframe = edge_dataframe.drop(i)\n",
    "\n",
    "    elif \"Peter\" in row[0] or \"Peter\" in row[1]:\n",
    "        edge_dataframe = edge_dataframe.drop(i)\n",
    "\n",
    "    elif \"Twitter\" in row[0] or \"Twitter\" in row[1]:\n",
    "        edge_dataframe = edge_dataframe.drop(i)\n",
    "\n",
    "    elif \"?\" in row[0] or \"?\" in row[1]:\n",
    "        edge_dataframe = edge_dataframe.drop(i)\n",
    "\n",
    "    elif '\"' in row[0] or '\"' in row[1]:\n",
    "        edge_dataframe = edge_dataframe.drop(i)"
   ]
  },
  {
   "cell_type": "code",
   "execution_count": null,
   "metadata": {
    "colab": {
     "base_uri": "https://localhost:8080/",
     "height": 363
    },
    "id": "iRlGGr2Kd2jr",
    "outputId": "c289af0d-fad9-437c-aa9a-da52f032c0d0"
   },
   "outputs": [],
   "source": [
    "edge_dataframe.head(10)"
   ]
  },
  {
   "cell_type": "code",
   "execution_count": 27,
   "metadata": {
    "colab": {
     "base_uri": "https://localhost:8080/"
    },
    "id": "i8Za-_MXbPjE",
    "outputId": "82137a16-3651-4970-b455-d9db774e3658"
   },
   "outputs": [
    {
     "name": "stderr",
     "output_type": "stream",
     "text": [
      "100%|██████████| 13185/13185 [00:32<00:00, 401.55it/s]\n"
     ]
    }
   ],
   "source": [
    "edges_DailyMail = pd.DataFrame({\"Source\": [], \"Target\": []})\n",
    "\n",
    "for i in tqdm(range(len(edge_dataframe))):\n",
    "\n",
    "    person1 = edge_dataframe.iloc[i][0]\n",
    "    person2 = edge_dataframe.iloc[i][1]\n",
    "\n",
    "    person1 = person1.split(\"-\")[-1]\n",
    "    person2 = person2.split(\"-\")[-1]\n",
    "\n",
    "    if \"'\" in person1:\n",
    "        person1 = person1.split(\"'\")[0]\n",
    "\n",
    "    if \"'\" in person2:\n",
    "        person2 = person2.split(\"'\")[0]\n",
    "\n",
    "    edges_DailyMail.loc[i] = [person1, person2]"
   ]
  },
  {
   "cell_type": "code",
   "execution_count": null,
   "metadata": {
    "id": "WquAZ6b1ck1M"
   },
   "outputs": [],
   "source": [
    "edges_DailyMail.iloc[515]"
   ]
  },
  {
   "cell_type": "code",
   "execution_count": null,
   "metadata": {
    "id": "g1JSWYlT-Fjg"
   },
   "outputs": [],
   "source": [
    "edges_DailyMail.to_csv(\"edges_DailyMail.csv\", index=False)"
   ]
  }
 ],
 "metadata": {
  "colab": {
   "provenance": []
  },
  "interpreter": {
   "hash": "d7a18bc08bf6b314cad8b0dd8f53415ad78d1015cc806d14e4873c235fb4e191"
  },
  "kernelspec": {
   "display_name": "Python 3 (ipykernel)",
   "language": "python",
   "name": "python3"
  },
  "language_info": {
   "codemirror_mode": {
    "name": "ipython",
    "version": 3
   },
   "file_extension": ".py",
   "mimetype": "text/x-python",
   "name": "python",
   "nbconvert_exporter": "python",
   "pygments_lexer": "ipython3",
   "version": "3.9.12"
  }
 },
 "nbformat": 4,
 "nbformat_minor": 4
}
