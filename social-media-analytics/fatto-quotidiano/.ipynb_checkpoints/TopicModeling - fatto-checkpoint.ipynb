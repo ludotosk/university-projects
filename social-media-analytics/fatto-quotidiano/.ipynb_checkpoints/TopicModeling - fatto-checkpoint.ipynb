{
 "cells": [
  {
   "cell_type": "markdown",
   "metadata": {},
   "source": [
    "##### Social Media Analytics\n",
    "### Introduction to Text Mining\n",
    "## Topic Modeling\n",
    "(c) Nuno Antonio 2019-2022 v1.02"
   ]
  },
  {
   "cell_type": "markdown",
   "metadata": {},
   "source": [
    "### Initial setup"
   ]
  },
  {
   "cell_type": "code",
   "execution_count": 1,
   "metadata": {},
   "outputs": [],
   "source": [
    "# Import packages\n",
    "import csv\n",
    "import re\n",
    "\n",
    "import gensim\n",
    "import gensim.corpora as corpora\n",
    "import matplotlib.pyplot as plt\n",
    "import nltk\n",
    "import numpy as np\n",
    "import pandas as pd\n",
    "import pyLDAvis\n",
    "import pyLDAvis.gensim\n",
    "import spacy\n",
    "from bs4 import BeautifulSoup\n",
    "from gensim.models import CoherenceModel\n",
    "from gensim.utils import simple_preprocess\n",
    "from nltk.corpus import stopwords\n",
    "from nltk.stem import WordNetLemmatizer\n",
    "from nltk.tokenize import word_tokenize\n",
    "\n",
    "# For pyLDAvis new version - replace the previous line\n",
    "# import pyLDAvis.gensim_models as gensimvis\n",
    "# pyLDAvis.enable_notebook()"
   ]
  },
  {
   "cell_type": "code",
   "execution_count": 2,
   "metadata": {},
   "outputs": [],
   "source": [
    "# Just because of versions on my computer\n",
    "import warnings\n",
    "\n",
    "warnings.filterwarnings(\"ignore\", category=DeprecationWarning)"
   ]
  },
  {
   "cell_type": "code",
   "execution_count": 3,
   "metadata": {},
   "outputs": [],
   "source": [
    "# Load dataset\n",
    "ds = pd.read_parquet(\"falso-quotidiano.parquet.snappy\", engine=\"fastparquet\")"
   ]
  },
  {
   "cell_type": "code",
   "execution_count": 4,
   "metadata": {},
   "outputs": [
    {
     "data": {
      "text/html": [
       "<div>\n",
       "<style scoped>\n",
       "    .dataframe tbody tr th:only-of-type {\n",
       "        vertical-align: middle;\n",
       "    }\n",
       "\n",
       "    .dataframe tbody tr th {\n",
       "        vertical-align: top;\n",
       "    }\n",
       "\n",
       "    .dataframe thead th {\n",
       "        text-align: right;\n",
       "    }\n",
       "</style>\n",
       "<table border=\"1\" class=\"dataframe\">\n",
       "  <thead>\n",
       "    <tr style=\"text-align: right;\">\n",
       "      <th></th>\n",
       "      <th>link</th>\n",
       "      <th>title</th>\n",
       "      <th>author</th>\n",
       "      <th>date</th>\n",
       "      <th>text</th>\n",
       "      <th>comments</th>\n",
       "    </tr>\n",
       "    <tr>\n",
       "      <th>index</th>\n",
       "      <th></th>\n",
       "      <th></th>\n",
       "      <th></th>\n",
       "      <th></th>\n",
       "      <th></th>\n",
       "      <th></th>\n",
       "    </tr>\n",
       "  </thead>\n",
       "  <tbody>\n",
       "    <tr>\n",
       "      <th>0</th>\n",
       "      <td>https://www.ilfattoquotidiano.it/2023/05/17/da...</td>\n",
       "      <td>“Da esponente del ‘partito unico bellicista’ v...</td>\n",
       "      <td>Thomas Mackinson</td>\n",
       "      <td>2023-05-17</td>\n",
       "      <td>La controffensiva di Kiev? “Deve ancora cominc...</td>\n",
       "      <td>[Articolo di una supericialita'imbarazzante,ch...</td>\n",
       "    </tr>\n",
       "    <tr>\n",
       "      <th>1</th>\n",
       "      <td>https://www.ilfattoquotidiano.it/2023/05/16/ar...</td>\n",
       "      <td>‘Armi offensive? Sarebbe una guerra mondiale’....</td>\n",
       "      <td>Gianni Rosini</td>\n",
       "      <td>2023-05-16</td>\n",
       "      <td>Da mesi, ormai, la guerra mostra un sostanzial...</td>\n",
       "      <td>[Come auspicato dal comico di Kiev, un bel gio...</td>\n",
       "    </tr>\n",
       "    <tr>\n",
       "      <th>2</th>\n",
       "      <td>https://www.ilfattoquotidiano.it/2023/05/14/oc...</td>\n",
       "      <td>“Occupare città russe, bombardare oleodotti e ...</td>\n",
       "      <td>F. Q.</td>\n",
       "      <td>2023-05-14</td>\n",
       "      <td>Occupare città russe per guadagnare vantaggio ...</td>\n",
       "      <td>[Incredibile scoop del Washington Post: \"Zelen...</td>\n",
       "    </tr>\n",
       "    <tr>\n",
       "      <th>3</th>\n",
       "      <td>https://www.ilfattoquotidiano.it/2023/05/14/ir...</td>\n",
       "      <td>Irritazione della Santa Sede dopo il no di Zel...</td>\n",
       "      <td>Francesco Antonio Grana</td>\n",
       "      <td>2023-05-14</td>\n",
       "      <td>“Con le armi non si otterrà mai la sicurezza e...</td>\n",
       "      <td>[Ma che cosa ci si poteva attendere dal pres U...</td>\n",
       "    </tr>\n",
       "    <tr>\n",
       "      <th>4</th>\n",
       "      <td>https://www.ilfattoquotidiano.it/2023/05/14/ze...</td>\n",
       "      <td>Zelensky dice no alla mediazione di Papa Franc...</td>\n",
       "      <td>F. Q.</td>\n",
       "      <td>2023-05-14</td>\n",
       "      <td>Una chiusura che certifica lo stallo. Le spera...</td>\n",
       "      <td>[“A pensar male si commette peccato, ma spesso...</td>\n",
       "    </tr>\n",
       "  </tbody>\n",
       "</table>\n",
       "</div>"
      ],
      "text/plain": [
       "                                                    link  \\\n",
       "index                                                      \n",
       "0      https://www.ilfattoquotidiano.it/2023/05/17/da...   \n",
       "1      https://www.ilfattoquotidiano.it/2023/05/16/ar...   \n",
       "2      https://www.ilfattoquotidiano.it/2023/05/14/oc...   \n",
       "3      https://www.ilfattoquotidiano.it/2023/05/14/ir...   \n",
       "4      https://www.ilfattoquotidiano.it/2023/05/14/ze...   \n",
       "\n",
       "                                                   title  \\\n",
       "index                                                      \n",
       "0      “Da esponente del ‘partito unico bellicista’ v...   \n",
       "1      ‘Armi offensive? Sarebbe una guerra mondiale’....   \n",
       "2      “Occupare città russe, bombardare oleodotti e ...   \n",
       "3      Irritazione della Santa Sede dopo il no di Zel...   \n",
       "4      Zelensky dice no alla mediazione di Papa Franc...   \n",
       "\n",
       "                        author       date  \\\n",
       "index                                       \n",
       "0             Thomas Mackinson 2023-05-17   \n",
       "1                Gianni Rosini 2023-05-16   \n",
       "2                        F. Q. 2023-05-14   \n",
       "3      Francesco Antonio Grana 2023-05-14   \n",
       "4                        F. Q. 2023-05-14   \n",
       "\n",
       "                                                    text  \\\n",
       "index                                                      \n",
       "0      La controffensiva di Kiev? “Deve ancora cominc...   \n",
       "1      Da mesi, ormai, la guerra mostra un sostanzial...   \n",
       "2      Occupare città russe per guadagnare vantaggio ...   \n",
       "3      “Con le armi non si otterrà mai la sicurezza e...   \n",
       "4      Una chiusura che certifica lo stallo. Le spera...   \n",
       "\n",
       "                                                comments  \n",
       "index                                                     \n",
       "0      [Articolo di una supericialita'imbarazzante,ch...  \n",
       "1      [Come auspicato dal comico di Kiev, un bel gio...  \n",
       "2      [Incredibile scoop del Washington Post: \"Zelen...  \n",
       "3      [Ma che cosa ci si poteva attendere dal pres U...  \n",
       "4      [“A pensar male si commette peccato, ma spesso...  "
      ]
     },
     "execution_count": 4,
     "metadata": {},
     "output_type": "execute_result"
    }
   ],
   "source": [
    "ds.head()"
   ]
  },
  {
   "cell_type": "markdown",
   "metadata": {},
   "source": [
    "### Functions"
   ]
  },
  {
   "cell_type": "code",
   "execution_count": 91,
   "metadata": {},
   "outputs": [],
   "source": [
    "# ds.text = ds.text.replace({\" said \":'' , \" u \":'', \"'s \":''}, regex = True)"
   ]
  },
  {
   "cell_type": "code",
   "execution_count": 5,
   "metadata": {},
   "outputs": [],
   "source": [
    "# Text preprocessing\n",
    "def textPreProcess(\n",
    "    rawText,\n",
    "    removeHTML=True,\n",
    "    charsToRemove=r\"\\?|\\.|\\!|\\;|\\.|\\\"|\\,|\\(|\\)|\\&|\\:|\\-|\\'s|\\'|\\]|\\[\",\n",
    "    removeNumbers=True,\n",
    "    removeLineBreaks=False,\n",
    "    specialCharsToRemove=r\"[^\\x00-\\xfd]\",\n",
    "    convertToLower=True,\n",
    "    removeConsecutiveSpaces=True,\n",
    "):\n",
    "    if type(rawText) != str:\n",
    "        return rawText\n",
    "    procText = rawText\n",
    "\n",
    "    # Remove HTML\n",
    "    if removeHTML:\n",
    "        procText = BeautifulSoup(procText, \"html.parser\").get_text()\n",
    "\n",
    "    # Remove punctuation and other special characters\n",
    "    if len(charsToRemove) > 0:\n",
    "        procText = re.sub(charsToRemove, \" \", procText)\n",
    "\n",
    "    # Remove numbers\n",
    "    if removeNumbers:\n",
    "        procText = re.sub(r\"\\d+\", \" \", procText)\n",
    "\n",
    "    # Remove line breaks\n",
    "    if removeLineBreaks:\n",
    "        procText = procText.replace(\"\\n\", \" \").replace(\"\\r\", \"\")\n",
    "\n",
    "    # Remove special characters\n",
    "    if len(specialCharsToRemove) > 0:\n",
    "        procText = re.sub(specialCharsToRemove, \" \", procText)\n",
    "\n",
    "    # Normalize to lower case\n",
    "    if convertToLower:\n",
    "        procText = procText.lower()\n",
    "\n",
    "    # Replace multiple consecutive spaces with just one space\n",
    "    if removeConsecutiveSpaces:\n",
    "        procText = re.sub(\" +\", \" \", procText)\n",
    "\n",
    "    return procText"
   ]
  },
  {
   "cell_type": "code",
   "execution_count": 6,
   "metadata": {},
   "outputs": [],
   "source": [
    "# Tokenize words\n",
    "def tokenize_words(words):\n",
    "    if (type(words) != str) or (word_tokenize(words) == \"\"):\n",
    "        return np.nan\n",
    "    else:\n",
    "        return word_tokenize(words)"
   ]
  },
  {
   "cell_type": "code",
   "execution_count": 7,
   "metadata": {},
   "outputs": [],
   "source": [
    "# Function to create text from words\n",
    "def recreateText(words):\n",
    "    if type(words) == list:\n",
    "        temp_str = (\" \").join(words)\n",
    "        return temp_str\n",
    "    else:\n",
    "        return np.nan"
   ]
  },
  {
   "cell_type": "code",
   "execution_count": 8,
   "metadata": {},
   "outputs": [],
   "source": [
    "# Function to remove stop words\n",
    "def removeStopWords(t, stop_words):\n",
    "    if type(t) == list:\n",
    "        return [w for w in t if not w in stop_words]\n",
    "    else:\n",
    "        return np.nan"
   ]
  },
  {
   "cell_type": "code",
   "execution_count": 9,
   "metadata": {},
   "outputs": [],
   "source": [
    "# Function to lemmatize words\n",
    "def lemmatize(words):\n",
    "    if type(words) == list:\n",
    "        lemmatizer = WordNetLemmatizer()\n",
    "        return [lemmatizer.lemmatize(x) for x in words]\n",
    "    else:\n",
    "        return np.nan"
   ]
  },
  {
   "cell_type": "markdown",
   "metadata": {},
   "source": [
    "### Analysis"
   ]
  },
  {
   "cell_type": "code",
   "execution_count": 10,
   "metadata": {},
   "outputs": [
    {
     "name": "stderr",
     "output_type": "stream",
     "text": [
      "/home/tosk/anaconda3/lib/python3.9/site-packages/bs4/__init__.py:435: MarkupResemblesLocatorWarning: The input looks more like a filename than markup. You may want to open this file and pass the filehandle into Beautiful Soup.\n",
      "  warnings.warn(\n"
     ]
    }
   ],
   "source": [
    "# Create a dataframe with only the description\n",
    "processedReviews = pd.DataFrame(\n",
    "    data=ds.text.apply(textPreProcess).values,\n",
    "    index=ds.index,\n",
    "    columns=[\"PreProcessedText\"],\n",
    ")"
   ]
  },
  {
   "cell_type": "code",
   "execution_count": 11,
   "metadata": {},
   "outputs": [],
   "source": [
    "# Tokekinze words\n",
    "processedReviews[\"Words\"] = processedReviews[\"PreProcessedText\"].apply(tokenize_words)\n",
    "\n",
    "# Remove stopwords\n",
    "stop_words = set(stopwords.words(\"italian\"))\n",
    "stop_words.update(\n",
    "    [\n",
    "        \"vladimir\",\n",
    "        \"volodymyr\",\n",
    "        \"joe\",\n",
    "        \"dmitry\",\n",
    "        \"sergei\",\n",
    "        \"rishi\",\n",
    "        \"ben\",\n",
    "        \"antony\",\n",
    "        \"olaf\",\n",
    "        \"dmytro\",\n",
    "        \"maria\",\n",
    "        \"james\",\n",
    "        \"ursula\",\n",
    "        \"emmanuel\",\n",
    "        \"john\",\n",
    "        \"mykhailo\",\n",
    "        \"jens\",\n",
    "        \"oleh\",\n",
    "        \"alexei\",\n",
    "        \"fumio\",\n",
    "        \"valery\",\n",
    "    ]\n",
    ")\n",
    "processedReviews[\"WordsCleaned\"] = processedReviews[\"Words\"].apply(\n",
    "    removeStopWords, stop_words=stop_words\n",
    ")\n",
    "\n",
    "# Remove all reviews with no words\n",
    "processedReviews = processedReviews[processedReviews[\"WordsCleaned\"].str.len() > 0]\n",
    "\n",
    "# Lemmative words\n",
    "processedReviews[\"WordsLemmatized\"] = processedReviews[\"WordsCleaned\"].apply(lemmatize)"
   ]
  },
  {
   "cell_type": "code",
   "execution_count": 12,
   "metadata": {},
   "outputs": [],
   "source": [
    "# Create dictionary (needed for LDA)\n",
    "id2word = corpora.Dictionary(processedReviews[\"WordsLemmatized\"])"
   ]
  },
  {
   "cell_type": "code",
   "execution_count": 13,
   "metadata": {},
   "outputs": [],
   "source": [
    "# Create corpus\n",
    "corpus = processedReviews[\"WordsLemmatized\"]"
   ]
  },
  {
   "cell_type": "code",
   "execution_count": 14,
   "metadata": {},
   "outputs": [],
   "source": [
    "# Create TDM (Frequency)\n",
    "tdm = [id2word.doc2bow(text) for text in corpus]"
   ]
  },
  {
   "cell_type": "code",
   "execution_count": 22,
   "metadata": {},
   "outputs": [],
   "source": [
    "# Build LDA model (can take from 2 to 10 minutes depending on the computer)\n",
    "lda_model = gensim.models.ldamodel.LdaModel(\n",
    "    corpus=tdm,\n",
    "    id2word=id2word,\n",
    "    num_topics=7,\n",
    "    random_state=123,\n",
    "    update_every=1,\n",
    "    chunksize=100,\n",
    "    passes=10,\n",
    "    alpha=\"auto\",\n",
    "    per_word_topics=True,\n",
    ")"
   ]
  },
  {
   "cell_type": "code",
   "execution_count": 23,
   "metadata": {},
   "outputs": [
    {
     "name": "stdout",
     "output_type": "stream",
     "text": [
      "[(4, '0.013*\"papa\" + 0.010*\"teatro\" + 0.010*\"francesco\" + 0.010*\"gergiev\" + 0.009*\"orchestra\" + 0.008*\"artisti\" + 0.007*\"preghiera\" + 0.006*\"san\" + 0.006*\"concerto\" + 0.006*\"cultura\"'), (5, '0.032*\"%\" + 0.019*\"gas\" + 0.013*\"miliardi\" + 0.013*\"euro\" + 0.010*\"dollari\" + 0.009*\"sanzioni\" + 0.007*\"milioni\" + 0.006*\"petrolio\" + 0.006*\"russia\" + 0.006*\"anno\"'), (3, '0.016*\"the\" + 0.011*\"@\" + 0.011*\"of\" + 0.007*\"twitter\" + 0.007*\"#\" + 0.006*\"abramovich\" + 0.006*\"to\" + 0.006*\"ukraine\" + 0.006*\"and\" + 0.005*\"club\"'), (0, '0.010*\"forze\" + 0.009*\"russi\" + 0.008*\"mosca\" + 0.008*\"secondo\" + 0.007*\"difesa\" + 0.007*\"militari\" + 0.007*\"russe\" + 0.007*\"nucleare\" + 0.006*\"centrale\" + 0.006*\"russo\"'), (6, '0.017*\"guerra\" + 0.008*\"putin\" + 0.007*\"italia\" + 0.007*\"anni\" + 0.007*\"pace\" + 0.006*\"quando\" + 0.006*\"poi\" + 0.006*\"così\" + 0.006*\"fare\" + 0.006*\"fa\"'), (1, '0.017*\"ucraina\" + 0.011*\"persone\" + 0.010*\"kiev\" + 0.010*\"città\" + 0.007*\"russi\" + 0.007*\"video\" + 0.007*\"bambino\" + 0.006*\"ucraino\" + 0.006*\"ucraini\" + 0.005*\"dopo\"'), (2, '0.016*\"ucraina\" + 0.014*\"russia\" + 0.009*\"presidente\" + 0.009*\"putin\" + 0.006*\"russa\" + 0.006*\"parte\" + 0.005*\"paese\" + 0.005*\"stato\" + 0.005*\"guerra\" + 0.005*\"mosca\"')]\n"
     ]
    },
    {
     "name": "stderr",
     "output_type": "stream",
     "text": [
      "/home/tosk/anaconda3/lib/python3.9/site-packages/pyLDAvis/_prepare.py:243: FutureWarning: In a future version of pandas all arguments of DataFrame.drop except for the argument 'labels' will be keyword-only\n",
      "  default_term_info = default_term_info.sort_values(\n"
     ]
    },
    {
     "data": {
      "text/html": [
       "\n",
       "<link rel=\"stylesheet\" type=\"text/css\" href=\"https://cdn.jsdelivr.net/gh/bmabey/pyLDAvis@3.4.0/pyLDAvis/js/ldavis.v1.0.0.css\">\n",
       "\n",
       "\n",
       "<div id=\"ldavis_el4805451397698849670884022720923\" style=\"background-color:white;\"></div>\n",
       "<script type=\"text/javascript\">\n",
       "\n",
       "var ldavis_el4805451397698849670884022720923_data = {\"mdsDat\": {\"x\": [0.2183337024200386, 0.15999673090167574, 0.13413627645064902, 0.025309574674796075, -0.01695356347122366, -0.283057542902547, -0.2377651780733886], \"y\": [-0.005764420609092039, 0.04774114148937098, 0.20225214976084968, -0.09966004958728493, -0.27797749051899984, 0.08786534048376812, 0.04554332898138791], \"topics\": [1, 2, 3, 4, 5, 6, 7], \"cluster\": [1, 1, 1, 1, 1, 1, 1], \"Freq\": [44.14654123413372, 18.11065374570351, 16.73374932852295, 9.243282405663274, 7.431932577498958, 3.2624553788417026, 1.0713853296358724]}, \"tinfo\": {\"Term\": [\"%\", \"russia\", \"guerra\", \"gas\", \"sanzioni\", \"presidente\", \"ucraina\", \"persone\", \"citt\\u00e0\", \"russi\", \"mosca\", \"putin\", \"kiev\", \"euro\", \"miliardi\", \"forze\", \"italia\", \"difesa\", \"video\", \"bambino\", \"secondo\", \"pace\", \"militari\", \"the\", \"russo\", \"twitter\", \"milioni\", \"@\", \"dollari\", \"paesi\", \"nato\", \"consiglio\", \"decisione\", \"usa\", \"draghi\", \"esteri\", \"sostegno\", \"biden\", \"internazionali\", \"premier\", \"presidente\", \"diritto\", \"richiesta\", \"possibilit\\u00e0\", \"membri\", \"accordo\", \"condanna\", \"sostenere\", \"alleati\", \"confini\", \"parlamento\", \"banche\", \"dichiarazione\", \"francese\", \"dichiarazioni\", \"alleanza\", \"washington\", \"berlino\", \"sottolineato\", \"rapporti\", \"internazionale\", \"ministro\", \"unione\", \"uniti\", \"governo\", \"russia\", \"stampa\", \"europea\", \"crisi\", \"paesi\", \"federazione\", \"parte\", \"putin\", \"paese\", \"russa\", \"ucraina\", \"stati\", \"essere\", \"invasione\", \"conflitto\", \"detto\", \"mosca\", \"gi\\u00e0\", \"ue\", \"stato\", \"sanzioni\", \"russo\", \"europa\", \"dopo\", \"guerra\", \"sicurezza\", \"solo\", \"due\", \"fatto\", \"prima\", \"video\", \"immagini\", \"notte\", \"bombardamenti\", \"bambino\", \"donne\", \"rifugiati\", \"accoglienza\", \"fuga\", \"case\", \"ospedale\", \"cibo\", \"citt\\u00e0\", \"stazione\", \"mostrano\", \"leopoli\", \"parenti\", \"polizia\", \"volontari\", \"anonymous\", \"rifugio\", \"abitanti\", \"bucha\", \"feriti\", \"mariupol\", \"edificio\", \"ong\", \"rifugi\", \"bombardamento\", \"associazioni\", \"kharkiv\", \"decine\", \"civili\", \"persone\", \"foto\", \"confine\", \"profughi\", \"capitale\", \"migliaia\", \"kiev\", \"vittime\", \"ucraini\", \"social\", \"famiglie\", \"bombe\", \"centro\", \"ucraino\", \"ucraina\", \"russi\", \"giorni\", \"casa\", \"mila\", \"ore\", \"dopo\", \"stata\", \"sotto\", \"attacco\", \"stato\", \"due\", \"mentre\", \"os\", \"russo\", \"guerra\", \"prima\", \"paese\", \"me\", \"salvini\", \"qualcuno\", \"onda\", \"so\", \"rai\", \"matteo\", \"tg\", \"fratelli\", \"lega\", \"berlusconi\", \"renzi\", \"marito\", \"pensiero\", \"streaming\", \"pd\", \"pensato\", \"anpi\", \"racconto\", \"ospite\", \"aggressore\", \"fly\", \"conte\", \"nicola\", \"andata\", \"spero\", \"luca\", \"veramente\", \"sky\", \"giuseppe\", \"qualcosa\", \"commento\", \"cosa\", \"cuore\", \"pace\", \"dire\", \"po\", \"parlare\", \"fare\", \"no\", \"milano\", \"purtroppo\", \"dice\", \"guerra\", \"quel\", \"quando\", \"qualche\", \"storia\", \"fa\", \"cos\\u00ec\", \"nessuno\", \"italia\", \"mai\", \"anni\", \"mondo\", \"poi\", \"popolo\", \"sempre\", \"putin\", \"fatto\", \"molto\", \"solo\", \"ogni\", \"oggi\", \"d\", \"ucraina\", \"armi\", \"os\", \"pu\\u00f2\", \"parole\", \"prima\", \"ancora\", \"siti\", \"chernobyl\", \"esposizione\", \"bunker\", \"impianto\", \"iodio\", \"spaziale\", \"perdite\", \"musk\", \"agenti\", \"controllata\", \"autoproclamate\", \"munizioni\", \"attrezzature\", \"satelliti\", \"fedorov\", \"aerea\", \"relativi\", \"laboratori\", \"addestramento\", \"mercenari\", \"laboratorio\", \"interrotto\", \"volo\", \"comando\", \"funzionamento\", \"radiazioni\", \"acciaio\", \"elicotteri\", \"produce\", \"sistemi\", \"intelligence\", \"armate\", \"nucleare\", \"nucleari\", \"forze\", \"centrale\", \"mar\", \"zaporizhzhia\", \"milizie\", \"aerei\", \"missili\", \"sito\", \"difesa\", \"truppe\", \"internet\", \"controllo\", \"ministero\", \"isola\", \"militari\", \"russe\", \"agenzia\", \"operazione\", \"russi\", \"secondo\", \"esercito\", \"militare\", \"attacchi\", \"mosca\", \"operazioni\", \"soldati\", \"russo\", \"ucraine\", \"attacco\", \"russa\", \"stato\", \"armi\", \"sicurezza\", \"gas\", \"petrolio\", \"banca\", \"prezzi\", \"+\", \"materie\", \"gazprom\", \"imprese\", \"mercati\", \"valuta\", \"titoli\", \"swift\", \"cubi\", \"carbone\", \"energetici\", \"importazioni\", \"borsa\", \"sberbank\", \"esportazioni\", \"rinnovabili\", \"miliardi\", \"rubli\", \"rublo\", \"incertezza\", \"rialzo\", \"transazioni\", \"calo\", \"default\", \"%\", \"flussi\", \"euro\", \"mercato\", \"dollari\", \"aziende\", \"grano\", \"prezzo\", \"gasdotto\", \"produzione\", \"prodotti\", \"energia\", \"settore\", \"aumento\", \"milioni\", \"quota\", \"anno\", \"forniture\", \"sanzioni\", \"circa\", \"prime\", \"societ\\u00e0\", \"economia\", \"misure\", \"italia\", \"russia\", \"oltre\", \"russo\", \"the\", \"of\", \"#\", \"abramovich\", \"to\", \"and\", \"club\", \"chelsea\", \"roman\", \"pic\", \"february\", \"russian\", \"march\", \"board\", \"attore\", \"fifa\", \"war\", \"is\", \"uefa\", \"utenti\", \"star\", \"cantante\", \"canzone\", \"cancro\", \"musicale\", \"lusso\", \"airbnb\", \"sterline\", \"ukrainian\", \"atleti\", \"national\", \"ukraine\", \"@\", \"calcio\", \"oligarca\", \"miliardario\", \"oligarchi\", \"for\", \"twitter\", \"londra\", \"post\", \"tweet\", \"yacht\", \"on\", \"pietroburgo\", \"s\", \"gergiev\", \"orchestra\", \"artisti\", \"preghiera\", \"digiuno\", \"bergoglio\", \"segui\", \"festival\", \"patriarca\", \"vaticano\", \"balletto\", \"credenti\", \"nori\", \"bolshoi\", \"cattolica\", \"vescovi\", \"beppe\", \"culturali\", \"magnate\", \"basilica\", \"padiglione\", \"ortodossi\", \"netrebko\", \"filarmonica\", \"danza\", \"ges\\u00f9\", \"ballerino\", \"docenti\", \"gomez\", \"columbia\", \"kirill\", \"concerto\", \"papa\", \"musica\", \"artista\", \"chiesa\", \"peter\", \"francesco\", \"teatro\", \"maestro\", \"arte\", \"cultura\", \"santa\", \"sala\", \"dostoevskij\", \"dio\", \"san\", \"scala\", \"milano\", \"direttore\", \"santo\"], \"Freq\": [1589.0, 4314.0, 3803.0, 940.0, 1467.0, 2690.0, 7317.0, 1456.0, 1139.0, 1945.0, 2138.0, 3536.0, 1943.0, 669.0, 661.0, 866.0, 1677.0, 859.0, 786.0, 783.0, 1557.0, 984.0, 987.0, 342.0, 2321.0, 496.0, 650.0, 405.0, 489.0, 1186.0, 1011.6486033593566, 797.8419688034126, 619.4638812650869, 571.0748944298559, 545.8170886081572, 512.9904623354324, 489.30849087704, 390.2948036748553, 366.1952080309375, 356.26167764141906, 2684.239553027788, 307.7677719351969, 298.0438438927579, 291.935447046948, 288.3302732260449, 279.8474984368034, 279.0286604532668, 274.420838857533, 267.11897304027735, 255.67568699947105, 252.25943440203852, 249.45742798970988, 236.55109537191277, 233.04868824003177, 222.1576722691894, 202.87778726142693, 201.8748032081636, 197.38790733681574, 197.14010375978572, 195.38481441088837, 822.8081539683052, 740.3253764703854, 758.6127356841404, 644.8217635483464, 1063.5453105257047, 3917.6181833735154, 355.2622245116987, 855.7323009865024, 716.8907377992173, 1038.0724882741606, 315.8152174794334, 1590.2083831434454, 2665.587129947533, 1550.821435439254, 1634.3361841913327, 4654.978054857611, 1293.9022916793217, 1459.3764341767221, 1142.5160633285693, 909.4196235510993, 1129.4380605708973, 1501.166696583476, 1183.6398218817833, 695.7490472490111, 1518.428272066233, 1025.1497116410064, 1378.6028926963463, 877.9012548928102, 1257.4016890183707, 1506.3124291600989, 723.2489558926532, 878.6950065052702, 857.9034490591537, 808.9187113526152, 802.3255018904338, 785.6888563057295, 401.8077855899277, 352.1007530865359, 347.49152146486426, 781.3839527224824, 336.1402787681926, 305.47344859556284, 296.73956498402816, 277.9915506792785, 216.3546107512118, 207.11916528596004, 190.90343341118123, 1133.6926311125148, 168.14666284869924, 159.68850926907706, 156.67273704932097, 152.10312601361284, 146.56572146568385, 140.20428598433824, 134.1334934365161, 131.75774818931959, 121.07088146737524, 118.14316572401367, 117.09446178815912, 266.51333448914994, 113.25920424190666, 110.40696350753059, 110.22354585409123, 107.66742485429273, 104.03856131451663, 230.25013793558, 182.8125565934346, 468.49361872554937, 1244.7275022733957, 245.2188422171883, 383.00792791399033, 309.5414012092734, 425.88670007238073, 240.0111907564062, 1234.257624477851, 256.0722616321471, 720.3193591977771, 361.3700388363867, 246.51727172654964, 262.2154665949144, 319.07009695162344, 737.448916711417, 2024.250832548082, 832.1027724876205, 606.8721020249646, 418.9783156454588, 381.035644942939, 391.77025778188187, 634.2610736644209, 467.1217421410941, 346.3085324371682, 403.9710254380357, 570.4404765946438, 463.6051668183967, 394.4822537819595, 397.0346638006911, 416.32870275461755, 436.5729459982358, 360.15763786952834, 351.04562046229034, 253.44641481764086, 240.11827709601513, 200.14097655412598, 184.95820326843634, 172.89891669862632, 172.62524641986033, 165.98164865675116, 163.96005765201292, 149.39397937130593, 130.16892908730856, 116.6162593693874, 113.07623807644605, 106.85943593252281, 103.91855752654547, 95.70486735879916, 93.9130344711898, 92.51093635807555, 86.43302156196016, 86.17915318249845, 84.88178143223196, 84.62893278366458, 84.10807973611281, 83.36819486577691, 82.08936947115107, 81.55394701844656, 80.55412636982767, 79.43656504282214, 78.02934278196388, 77.47911511133731, 76.381138990821, 162.27627799929408, 103.99967074587138, 595.8561413319351, 228.28118988807978, 721.9216987937292, 262.55564540342453, 134.4896308596771, 217.5708543318351, 630.1554018012844, 330.1877673735661, 210.19340723062086, 110.89703491535283, 347.00369067307105, 1850.2813131451508, 259.11930524916426, 710.9528104692271, 300.2350588547566, 283.5823689781616, 627.6506877920847, 648.3839583087057, 261.88960816979244, 790.1829437391281, 427.7541662266021, 740.0195767870421, 588.50311678564, 695.7026839579669, 346.8353585956894, 447.57518548515486, 850.9883752640834, 494.9246560208801, 427.5304117751136, 460.0175849519649, 347.10910535427246, 383.95993646741607, 357.9748733920855, 583.5917868792751, 323.5030744554154, 350.7752928521149, 310.49230248137775, 291.7851862652471, 330.6071317038596, 316.19871656605227, 153.08818258780573, 142.32376368734347, 103.05851726285641, 96.26138844305082, 88.0816228081949, 87.75755806347819, 81.82991073945901, 81.6611683835758, 76.3486005356997, 71.90119810816327, 68.58481163394815, 67.95709373133381, 66.71492299322037, 65.84282932126636, 64.76808428959316, 64.86917761955105, 64.58906221078625, 62.47017896630925, 58.25430969536396, 57.00765037960404, 55.789422242724875, 54.11361265852478, 53.67073966407207, 53.26169822348813, 52.94171720431646, 52.04344192298452, 51.122956103321876, 50.156679750759025, 49.25883044424687, 48.64372984538545, 184.09875517730995, 123.02845620511965, 212.94651630910363, 393.4297521160248, 257.0414018721422, 617.5971915142765, 371.40948723209834, 140.69432903125087, 101.1303721649569, 71.1346335370178, 144.88259795023663, 192.12850022563484, 239.01899164230514, 431.52449014480766, 290.8609017096423, 108.16409655284824, 176.98863695810206, 283.28071851657666, 106.15952946000772, 405.2005981361543, 395.39323552170106, 224.34650372249527, 199.78793585789856, 562.3370623476245, 464.62131137895915, 242.35331130438783, 322.2005944144517, 189.48883636057445, 477.0028011043811, 150.47747092867843, 189.14757772313195, 352.3690183056968, 174.67905077157812, 214.94241604652012, 236.97808643301994, 244.878799835934, 181.6709944226001, 155.9307231215809, 939.3085503296668, 298.49284510102945, 283.93270343592326, 265.2705431540032, 238.9722261719003, 175.69833765281683, 164.85118088713946, 147.65205232405935, 123.92573960104647, 116.78958633489852, 108.79591715915834, 98.94823511414924, 98.0530273173284, 98.07101842841469, 94.37802868454182, 89.68058807568194, 87.96936054430425, 84.58176679749268, 84.33186131989889, 84.21245650082024, 654.6871349332927, 94.72857229359592, 78.96942893795477, 78.92391335169495, 77.8071793849819, 76.01105735963003, 74.72202085766769, 73.79509934017179, 1571.0248520158639, 73.08936998515648, 652.6166060053056, 274.32198549659375, 462.95660003527365, 186.83609218887852, 140.50754321147863, 200.52213079666348, 160.4346178668718, 193.16099240251324, 165.37773507982595, 247.66602017151183, 188.2597450000041, 167.05096502227627, 358.4159939114296, 130.21989981052812, 290.5460275411955, 149.00995662538125, 441.80910758700463, 284.1904665794037, 194.71212282202177, 225.68821926484023, 159.89813403011817, 189.76087620833766, 251.86368945318216, 298.48745569330316, 180.79881198463644, 173.322775040893, 341.14904497844066, 234.8139128550797, 138.8671082843505, 136.90460112643726, 131.40787927587888, 118.44902579971578, 110.76605670072763, 95.89940841151547, 81.69136593788758, 76.13968820095899, 76.38170384489715, 75.96904512899117, 74.52008251329684, 63.666481338987694, 58.305884279593904, 57.16728797703943, 56.10601858776591, 55.107001389573774, 51.49156311955123, 50.09508618352313, 48.224294768685695, 45.50428903303678, 45.177018951284744, 43.937546762886946, 41.68300103272109, 40.950368539774246, 40.06421543380373, 38.212241327983, 36.997886221232285, 35.2824047039526, 35.40411581414827, 120.90835762992398, 244.31491432632416, 68.65281971667069, 48.48320424076642, 49.630667442234206, 105.0195507292123, 71.94629611572562, 157.156578363492, 88.5858072831783, 94.33944057142102, 66.29778826409463, 60.07997977606901, 59.092389147720866, 59.73863895955039, 59.4731985989203, 66.9036409205755, 64.02169982076028, 52.74416088867095, 49.45416542111007, 41.44681336535377, 36.6262353442934, 32.936643659921494, 27.138243325214724, 24.70868598743959, 22.998792919230354, 20.37393259996479, 19.59603081103423, 18.401913567003096, 17.332696868286497, 17.221503685293275, 17.002897534969627, 16.636734028616736, 16.80053847735214, 16.3310751916957, 15.72548986561172, 15.641128705623982, 15.270076707945497, 15.156177308385388, 14.972649143730628, 15.058970596901016, 14.775712312551747, 14.066996957781198, 14.137689928666928, 13.933796586626718, 13.67122012985227, 41.527356768676874, 43.57034788171184, 90.49705066448482, 36.45180026316948, 32.18639816381926, 34.8632968404947, 19.370740730166908, 68.75680840617011, 69.79536879634672, 24.66185603597963, 33.01514352697093, 42.525242299476595, 29.662983424810214, 28.678100138384345, 23.98882258734223, 31.312087817747642, 44.904995785559635, 38.35298758676041, 41.453133311401416, 37.676231050071706, 22.29880503127715], \"Total\": [1589.0, 4314.0, 3803.0, 940.0, 1467.0, 2690.0, 7317.0, 1456.0, 1139.0, 1945.0, 2138.0, 3536.0, 1943.0, 669.0, 661.0, 866.0, 1677.0, 859.0, 786.0, 783.0, 1557.0, 984.0, 987.0, 342.0, 2321.0, 496.0, 650.0, 405.0, 489.0, 1186.0, 1012.486665814078, 798.6800730534828, 620.3030064032764, 571.9129670297041, 546.654624214454, 513.8288004856826, 490.1479302462145, 391.13228215390575, 367.0349552718684, 357.0999138238699, 2690.6768647614967, 308.60582535832924, 298.8828192399068, 292.77419813505105, 289.16794519888464, 280.6872069663498, 279.8685405196805, 275.2595667615677, 267.9566995608641, 256.51520275087984, 253.0975599223396, 250.30102220554946, 237.3915537903994, 233.8888183295519, 222.99573633568411, 203.7151518757909, 202.7126097122597, 198.22700868025137, 197.978544659264, 196.2230221532512, 826.6061572150224, 749.292723079921, 776.0709323630799, 660.0326458395948, 1099.8138774338568, 4314.473482111336, 362.3408784385267, 936.700693586466, 785.2865178376335, 1186.0390260651495, 323.76919037705846, 1977.9687795303305, 3536.7091355010357, 1980.7650788815552, 2114.645365025942, 7317.910015565093, 1655.6295798990493, 1937.3359264219728, 1456.304016836851, 1119.5795392426458, 1467.411439856268, 2138.337842147655, 1595.663181310839, 831.2117722009435, 2516.326999709967, 1467.6636589111058, 2321.7826437033546, 1175.6001570078224, 2104.7662896090706, 3803.495606395977, 879.8398842816114, 1633.5493922979174, 1597.967055977971, 1433.41235119743, 1543.6665677810304, 786.5405651409166, 402.65899168688674, 352.9542025173337, 348.3425978292015, 783.3229918226629, 336.99084033479375, 306.3246483206216, 297.5908752378324, 278.8428951788581, 217.20745278101043, 207.96904878430038, 191.75435762293114, 1139.3520122815323, 168.99843755853743, 160.54023181011416, 157.52315200834764, 152.95404004384451, 147.4166896893028, 141.0545459156681, 134.99716834581713, 132.61184636851434, 121.92216749235465, 118.9928399996703, 117.94428188184362, 268.5138232379838, 114.10967041361519, 111.25824749692121, 111.07503141791938, 108.51803928605099, 104.89552726836811, 235.22057464208257, 188.30516473724734, 506.90378480944804, 1456.9278144088435, 265.92938959200274, 440.1504185165134, 348.2918997704397, 503.63381325941, 266.95755780864386, 1943.6465407833648, 293.490164451112, 1136.6830743804774, 474.89782304281033, 292.20663036174744, 318.8550457496604, 421.845711842973, 1493.5915713922955, 7317.910015565093, 1945.1942742114252, 1369.6478756667125, 723.4572863009381, 621.8673416917251, 700.0083068258826, 2104.7662896090706, 1149.6664061947527, 600.0937536960912, 888.9277789207686, 2516.326999709967, 1597.967055977971, 1018.6395576944595, 1381.9475912754701, 2321.7826437033546, 3803.495606395977, 1543.6665677810304, 1980.7650788815552, 254.29137228533745, 240.96277431356287, 200.987864663088, 185.80378823719093, 173.74464101950073, 173.47008214648378, 166.8276037519275, 164.80506622258872, 150.23965188581957, 131.01565235720028, 117.46270462327634, 113.92388415436255, 107.70521376188233, 104.76473971792646, 96.5532178869788, 94.75796957349868, 93.35711890662623, 87.27784322221086, 87.02658587252213, 85.726708931544, 85.4784414147732, 84.95544061767977, 84.21247865148477, 82.93746949983664, 82.39943972623, 81.39966490526517, 80.28314430884586, 78.8758425174205, 78.3275196834834, 77.22574719843081, 173.75922359371495, 107.81471445308124, 733.5533561568371, 257.73470982577686, 984.00481100734, 314.08674866955806, 148.79663466019267, 264.73487020073173, 953.5353117960502, 437.73881262294134, 255.38992103336238, 118.36023141822679, 479.72394751814966, 3803.495606395977, 341.2621102918276, 1227.2935784617723, 423.27420406519536, 400.0549130400684, 1165.7032907653934, 1239.815333179965, 364.907788094776, 1677.890812215667, 724.0237385136978, 1628.5414369351192, 1199.0900301203835, 1627.5013589176672, 562.6193383121682, 994.0773338900426, 3536.7091355010357, 1433.41235119743, 1166.4019662765313, 1633.5493922979174, 956.9968757100255, 1306.3583357917066, 1131.7677466363946, 7317.910015565093, 917.9538590048664, 1381.9475912754701, 859.1171068710206, 608.737460314409, 1543.6665677810304, 1427.2651128019781, 153.92311617532172, 143.15739189180093, 103.90470484025269, 97.10779329095999, 88.91580644646402, 88.5914692707883, 82.66224657236252, 82.49515283286401, 77.18455432496609, 72.73498270876578, 69.42531139324686, 68.79529351015664, 67.54793593147652, 66.6785535452917, 65.60121842536593, 65.70571325723566, 65.42306172234329, 63.31383670834174, 59.08699801882027, 57.840947999795596, 56.62389770048769, 54.94589241213743, 54.50833942391406, 54.09700728486611, 53.775639545813554, 52.880585628273636, 51.95466167038801, 50.995650485292785, 50.09152746835244, 49.482957250074094, 192.11613901402822, 128.65464505397676, 227.73406255015982, 483.57324574045754, 304.3145751964392, 866.266362298618, 497.79648830104617, 167.83550087917496, 117.49167714707349, 76.63355718756812, 186.90014750717768, 273.19597771727285, 361.9970413444045, 859.7076009720321, 509.7420605711646, 133.534498604522, 274.938395809281, 550.326174223322, 132.78536293385062, 987.1524685673747, 977.0192847564948, 414.03274751266713, 353.08932961260757, 1945.1942742114252, 1557.4625395354806, 524.6010170172366, 963.518159077568, 367.0230256651584, 2138.337842147655, 242.9149971522618, 392.50796871650635, 2321.7826437033546, 391.2279400746413, 888.9277789207686, 2114.645365025942, 2516.326999709967, 917.9538590048664, 879.8398842816114, 940.1859239111438, 299.3687681819191, 284.81034210822867, 266.1467394757974, 239.84862848757834, 176.5742081322723, 165.73010713128053, 148.52864414837606, 124.80409926465207, 117.665284769463, 109.68060593837845, 99.82640206634697, 98.92857850106142, 98.94698779556464, 95.25651776387, 90.55619495235058, 88.8491217434163, 85.45916688603893, 85.20779067061058, 85.08860399949624, 661.8444081197769, 95.77252783522593, 79.84653050955639, 79.80936086069785, 78.68329418997128, 76.89016804565675, 75.59823706690739, 74.67208103036769, 1589.7225171442851, 73.96934065007743, 669.9796096384644, 284.45023001387244, 489.2913142118929, 200.50909256970877, 149.63349715916638, 224.74527570652248, 178.65417534725137, 225.29539404522882, 189.99223186685637, 340.93446171425484, 245.50344891871683, 217.31733571887628, 650.0608327750057, 153.92393184133843, 545.9156762456441, 199.87701513712707, 1467.6636589111058, 672.7175511049003, 346.1695737255334, 516.6097665572635, 243.07666637816772, 381.58194529658346, 1677.890812215667, 4314.473482111336, 901.2347795343004, 2321.7826437033546, 342.0356260321776, 235.70145502718123, 139.75610612513503, 137.79043323383618, 132.2935576151218, 119.33546277513588, 111.65267252330305, 96.78521958091866, 82.57916839243815, 77.02609146310574, 77.2709913657021, 76.85665316440222, 75.40669044847462, 64.56417117847089, 59.19849842970018, 58.056626989857214, 56.99582708176793, 55.99275779315785, 52.37801974823584, 50.98281157612899, 49.11205977272391, 46.39443987776746, 46.06453405485951, 44.840294396523575, 42.58252419450882, 41.83751408714155, 40.958857679557326, 39.10027887375615, 37.88824814519663, 36.168430118554326, 36.29713025140065, 137.41120191546264, 405.5267939164071, 82.54344954768749, 53.926117667999016, 56.75855367653262, 196.22365531577532, 111.95641678897829, 496.47020261274463, 201.31441168440776, 304.535671147838, 128.3804804291397, 104.08176662326142, 107.89076316120554, 160.35839769601805, 295.1169403180619, 67.83600119367232, 64.95346998164278, 53.678168558583835, 50.39017990755442, 42.388318169229414, 37.558589882102915, 33.91208104949098, 28.07138716365359, 25.639910187412227, 23.93539556648777, 21.305993432656653, 20.536569901654964, 19.335564422155947, 18.264433261864284, 18.158534099908888, 17.935800738838275, 17.57166831781547, 17.760658122900786, 17.2729979995039, 16.65720667803032, 16.579313591007818, 16.20613177935646, 16.089347858472426, 15.905745068275834, 15.99842942888667, 15.707896644534166, 14.99866858839116, 15.077052250977253, 14.866042683174085, 14.622805117059325, 50.85357211929585, 59.55859127762515, 158.7264462014818, 52.99521235909087, 48.01404757682532, 56.9337024857818, 23.426701454471324, 172.1063030913565, 196.00578627412176, 36.55212950710186, 64.19671096639695, 108.77174305703699, 58.320327479080696, 54.54830829542877, 42.67163737734397, 88.37548280293302, 244.07296777636708, 178.7349271270379, 255.38992103336238, 369.65274141858123, 39.31686855133644], \"Category\": [\"Default\", \"Default\", \"Default\", \"Default\", \"Default\", \"Default\", \"Default\", \"Default\", \"Default\", \"Default\", \"Default\", \"Default\", \"Default\", \"Default\", \"Default\", \"Default\", \"Default\", \"Default\", \"Default\", \"Default\", \"Default\", \"Default\", \"Default\", \"Default\", \"Default\", \"Default\", \"Default\", \"Default\", \"Default\", \"Default\", \"Topic1\", \"Topic1\", \"Topic1\", \"Topic1\", \"Topic1\", \"Topic1\", \"Topic1\", \"Topic1\", \"Topic1\", \"Topic1\", \"Topic1\", \"Topic1\", \"Topic1\", \"Topic1\", \"Topic1\", \"Topic1\", \"Topic1\", \"Topic1\", \"Topic1\", \"Topic1\", \"Topic1\", \"Topic1\", \"Topic1\", \"Topic1\", \"Topic1\", \"Topic1\", \"Topic1\", \"Topic1\", \"Topic1\", \"Topic1\", \"Topic1\", \"Topic1\", \"Topic1\", \"Topic1\", \"Topic1\", \"Topic1\", \"Topic1\", \"Topic1\", \"Topic1\", \"Topic1\", \"Topic1\", \"Topic1\", \"Topic1\", \"Topic1\", \"Topic1\", \"Topic1\", \"Topic1\", \"Topic1\", \"Topic1\", \"Topic1\", \"Topic1\", \"Topic1\", \"Topic1\", \"Topic1\", \"Topic1\", \"Topic1\", \"Topic1\", \"Topic1\", \"Topic1\", \"Topic1\", \"Topic1\", \"Topic1\", \"Topic1\", \"Topic1\", \"Topic1\", \"Topic2\", \"Topic2\", \"Topic2\", \"Topic2\", \"Topic2\", \"Topic2\", \"Topic2\", \"Topic2\", \"Topic2\", \"Topic2\", \"Topic2\", \"Topic2\", \"Topic2\", \"Topic2\", \"Topic2\", \"Topic2\", \"Topic2\", \"Topic2\", \"Topic2\", \"Topic2\", \"Topic2\", \"Topic2\", \"Topic2\", \"Topic2\", \"Topic2\", \"Topic2\", \"Topic2\", \"Topic2\", \"Topic2\", \"Topic2\", \"Topic2\", \"Topic2\", \"Topic2\", \"Topic2\", \"Topic2\", \"Topic2\", \"Topic2\", \"Topic2\", \"Topic2\", \"Topic2\", \"Topic2\", \"Topic2\", \"Topic2\", \"Topic2\", \"Topic2\", \"Topic2\", \"Topic2\", \"Topic2\", \"Topic2\", \"Topic2\", \"Topic2\", \"Topic2\", \"Topic2\", \"Topic2\", \"Topic2\", \"Topic2\", \"Topic2\", \"Topic2\", \"Topic2\", \"Topic2\", \"Topic2\", \"Topic2\", \"Topic2\", \"Topic2\", \"Topic2\", \"Topic3\", \"Topic3\", \"Topic3\", \"Topic3\", \"Topic3\", \"Topic3\", \"Topic3\", \"Topic3\", \"Topic3\", \"Topic3\", \"Topic3\", \"Topic3\", \"Topic3\", \"Topic3\", \"Topic3\", \"Topic3\", \"Topic3\", \"Topic3\", \"Topic3\", \"Topic3\", \"Topic3\", \"Topic3\", \"Topic3\", \"Topic3\", \"Topic3\", \"Topic3\", \"Topic3\", \"Topic3\", \"Topic3\", \"Topic3\", \"Topic3\", \"Topic3\", \"Topic3\", \"Topic3\", \"Topic3\", \"Topic3\", \"Topic3\", \"Topic3\", \"Topic3\", \"Topic3\", \"Topic3\", \"Topic3\", \"Topic3\", \"Topic3\", \"Topic3\", \"Topic3\", \"Topic3\", \"Topic3\", \"Topic3\", \"Topic3\", \"Topic3\", \"Topic3\", \"Topic3\", \"Topic3\", \"Topic3\", \"Topic3\", \"Topic3\", \"Topic3\", \"Topic3\", \"Topic3\", \"Topic3\", \"Topic3\", \"Topic3\", \"Topic3\", \"Topic3\", \"Topic3\", \"Topic3\", \"Topic3\", \"Topic3\", \"Topic3\", \"Topic3\", \"Topic3\", \"Topic4\", \"Topic4\", \"Topic4\", \"Topic4\", \"Topic4\", \"Topic4\", \"Topic4\", \"Topic4\", \"Topic4\", \"Topic4\", \"Topic4\", \"Topic4\", \"Topic4\", \"Topic4\", \"Topic4\", \"Topic4\", \"Topic4\", \"Topic4\", \"Topic4\", \"Topic4\", \"Topic4\", \"Topic4\", \"Topic4\", \"Topic4\", \"Topic4\", \"Topic4\", \"Topic4\", \"Topic4\", \"Topic4\", \"Topic4\", \"Topic4\", \"Topic4\", \"Topic4\", \"Topic4\", \"Topic4\", \"Topic4\", \"Topic4\", \"Topic4\", \"Topic4\", \"Topic4\", \"Topic4\", \"Topic4\", \"Topic4\", \"Topic4\", \"Topic4\", \"Topic4\", \"Topic4\", \"Topic4\", \"Topic4\", \"Topic4\", \"Topic4\", \"Topic4\", \"Topic4\", \"Topic4\", \"Topic4\", \"Topic4\", \"Topic4\", \"Topic4\", \"Topic4\", \"Topic4\", \"Topic4\", \"Topic4\", \"Topic4\", \"Topic4\", \"Topic4\", \"Topic4\", \"Topic4\", \"Topic4\", \"Topic5\", \"Topic5\", \"Topic5\", \"Topic5\", \"Topic5\", \"Topic5\", \"Topic5\", \"Topic5\", \"Topic5\", \"Topic5\", \"Topic5\", \"Topic5\", \"Topic5\", \"Topic5\", \"Topic5\", \"Topic5\", \"Topic5\", \"Topic5\", \"Topic5\", \"Topic5\", \"Topic5\", \"Topic5\", \"Topic5\", \"Topic5\", \"Topic5\", \"Topic5\", \"Topic5\", \"Topic5\", \"Topic5\", \"Topic5\", \"Topic5\", \"Topic5\", \"Topic5\", \"Topic5\", \"Topic5\", \"Topic5\", \"Topic5\", \"Topic5\", \"Topic5\", \"Topic5\", \"Topic5\", \"Topic5\", \"Topic5\", \"Topic5\", \"Topic5\", \"Topic5\", \"Topic5\", \"Topic5\", \"Topic5\", \"Topic5\", \"Topic5\", \"Topic5\", \"Topic5\", \"Topic5\", \"Topic5\", \"Topic5\", \"Topic6\", \"Topic6\", \"Topic6\", \"Topic6\", \"Topic6\", \"Topic6\", \"Topic6\", \"Topic6\", \"Topic6\", \"Topic6\", \"Topic6\", \"Topic6\", \"Topic6\", \"Topic6\", \"Topic6\", \"Topic6\", \"Topic6\", \"Topic6\", \"Topic6\", \"Topic6\", \"Topic6\", \"Topic6\", \"Topic6\", \"Topic6\", \"Topic6\", \"Topic6\", \"Topic6\", \"Topic6\", \"Topic6\", \"Topic6\", \"Topic6\", \"Topic6\", \"Topic6\", \"Topic6\", \"Topic6\", \"Topic6\", \"Topic6\", \"Topic6\", \"Topic6\", \"Topic6\", \"Topic6\", \"Topic6\", \"Topic6\", \"Topic6\", \"Topic6\", \"Topic6\", \"Topic7\", \"Topic7\", \"Topic7\", \"Topic7\", \"Topic7\", \"Topic7\", \"Topic7\", \"Topic7\", \"Topic7\", \"Topic7\", \"Topic7\", \"Topic7\", \"Topic7\", \"Topic7\", \"Topic7\", \"Topic7\", \"Topic7\", \"Topic7\", \"Topic7\", \"Topic7\", \"Topic7\", \"Topic7\", \"Topic7\", \"Topic7\", \"Topic7\", \"Topic7\", \"Topic7\", \"Topic7\", \"Topic7\", \"Topic7\", \"Topic7\", \"Topic7\", \"Topic7\", \"Topic7\", \"Topic7\", \"Topic7\", \"Topic7\", \"Topic7\", \"Topic7\", \"Topic7\", \"Topic7\", \"Topic7\", \"Topic7\", \"Topic7\", \"Topic7\", \"Topic7\", \"Topic7\", \"Topic7\", \"Topic7\", \"Topic7\", \"Topic7\"], \"logprob\": [30.0, 29.0, 28.0, 27.0, 26.0, 25.0, 24.0, 23.0, 22.0, 21.0, 20.0, 19.0, 18.0, 17.0, 16.0, 15.0, 14.0, 13.0, 12.0, 11.0, 10.0, 9.0, 8.0, 7.0, 6.0, 5.0, 4.0, 3.0, 2.0, 1.0, -5.6544, -5.8918, -6.1448, -6.2262, -6.2714, -6.3334, -6.3807, -6.6068, -6.6705, -6.698, -4.6785, -6.8444, -6.8765, -6.8972, -6.9096, -6.9395, -6.9424, -6.959, -6.986, -7.0298, -7.0432, -7.0544, -7.1075, -7.1225, -7.1703, -7.2611, -7.2661, -7.2885, -7.2898, -7.2987, -5.861, -5.9666, -5.9422, -6.1047, -5.6043, -4.3005, -6.7008, -5.8217, -5.9988, -5.6286, -6.8185, -5.2021, -4.6855, -5.2272, -5.1747, -4.128, -5.4083, -5.2879, -5.5327, -5.7609, -5.5442, -5.2597, -5.4974, -6.0287, -5.2483, -5.6411, -5.3449, -5.7962, -5.4369, -5.2563, -5.9899, -5.7953, -5.8192, -5.878, -5.8862, -5.0161, -5.6867, -5.8188, -5.8319, -5.0216, -5.8652, -5.9608, -5.9898, -6.0551, -6.3058, -6.3494, -6.4309, -4.6495, -6.5578, -6.6095, -6.6285, -6.6581, -6.6952, -6.7396, -6.7839, -6.8017, -6.8863, -6.9108, -6.9197, -6.0973, -6.953, -6.9785, -6.9802, -7.0036, -7.0379, -6.2435, -6.4742, -5.5332, -4.556, -6.1805, -5.7346, -5.9476, -5.6285, -6.202, -4.5645, -6.1372, -5.103, -5.7928, -6.1753, -6.1135, -5.9173, -5.0795, -4.0697, -4.9587, -5.2744, -5.6449, -5.7398, -5.712, -5.2302, -5.5361, -5.8354, -5.6813, -5.3363, -5.5437, -5.7051, -5.6987, -5.6512, -5.6037, -5.7961, -5.8218, -6.0685, -6.1225, -6.3046, -6.3835, -6.4509, -6.4525, -6.4917, -6.504, -6.597, -6.7348, -6.8447, -6.8756, -6.9321, -6.96, -7.0423, -7.0612, -7.0763, -7.1442, -7.1472, -7.1624, -7.1653, -7.1715, -7.1803, -7.1958, -7.2023, -7.2147, -7.2287, -7.2465, -7.2536, -7.2679, -6.5143, -6.9592, -5.2136, -6.173, -5.0217, -6.0332, -6.7021, -6.2211, -5.1576, -5.804, -6.2556, -6.895, -5.7543, -4.0805, -6.0463, -5.037, -5.899, -5.9561, -5.1616, -5.1291, -6.0357, -4.9313, -5.5451, -4.9969, -5.226, -5.0587, -5.7548, -5.4998, -4.8572, -5.3992, -5.5456, -5.4723, -5.754, -5.6531, -5.7232, -5.2344, -5.8244, -5.7435, -5.8655, -5.9276, -5.8027, -5.8472, -5.9791, -6.052, -6.3748, -6.443, -6.5318, -6.5355, -6.6054, -6.6075, -6.6748, -6.7348, -6.782, -6.7912, -6.8097, -6.8228, -6.8393, -6.8377, -6.842, -6.8754, -6.9453, -6.9669, -6.9885, -7.019, -7.0272, -7.0349, -7.0409, -7.058, -7.0758, -7.0949, -7.113, -7.1256, -5.7946, -6.1977, -5.649, -5.0352, -5.4608, -4.5842, -5.0928, -6.0635, -6.3937, -6.7455, -6.0342, -5.7519, -5.5335, -4.9428, -5.3372, -6.3264, -5.834, -5.3636, -6.3451, -5.0057, -5.0302, -5.5969, -5.7128, -4.678, -4.8689, -5.5197, -5.2349, -5.7658, -4.8426, -5.9963, -5.7676, -5.1454, -5.8471, -5.6397, -5.5421, -5.5093, -5.8079, -5.9607, -3.9468, -5.0932, -5.1432, -5.2112, -5.3156, -5.6232, -5.6869, -5.7971, -5.9723, -6.0316, -6.1025, -6.1974, -6.2065, -6.2063, -6.2447, -6.2957, -6.315, -6.3543, -6.3572, -6.3586, -4.3078, -6.241, -6.4229, -6.4235, -6.4377, -6.4611, -6.4782, -6.4907, -3.4325, -6.5003, -4.311, -5.1777, -4.6543, -5.5617, -5.8467, -5.491, -5.7141, -5.5284, -5.6837, -5.2799, -5.5541, -5.6737, -4.9103, -5.9227, -5.1202, -5.788, -4.7011, -5.1423, -5.5204, -5.3728, -5.7174, -5.5462, -5.2631, -5.0932, -5.5946, -5.6368, -4.1363, -4.5099, -5.0351, -5.0494, -5.0904, -5.1942, -5.2612, -5.4054, -5.5657, -5.6361, -5.6329, -5.6383, -5.6576, -5.815, -5.903, -5.9227, -5.9414, -5.9594, -6.0272, -6.0547, -6.0928, -6.1509, -6.1581, -6.1859, -6.2386, -6.2563, -6.2782, -6.3255, -6.3578, -6.4053, -6.4018, -5.1736, -4.4702, -5.7396, -6.0874, -6.0641, -5.3145, -5.6927, -4.9114, -5.4847, -5.4218, -5.7745, -5.873, -5.8896, -5.8787, -5.8831, -4.6519, -4.6959, -4.8897, -4.9541, -5.1307, -5.2544, -5.3606, -5.5542, -5.648, -5.7197, -5.8409, -5.8798, -5.9427, -6.0025, -6.009, -6.0218, -6.0435, -6.0337, -6.0621, -6.0999, -6.1052, -6.1292, -6.1367, -6.1489, -6.1432, -6.1622, -6.2113, -6.2063, -6.2208, -6.2398, -5.1288, -5.0808, -4.3498, -5.2591, -5.3836, -5.3037, -5.8914, -4.6246, -4.6096, -5.6499, -5.3582, -5.105, -5.4652, -5.499, -5.6776, -5.4111, -5.0506, -5.2083, -5.1306, -5.2261, -5.7506], \"loglift\": [30.0, 29.0, 28.0, 27.0, 26.0, 25.0, 24.0, 23.0, 22.0, 21.0, 20.0, 19.0, 18.0, 17.0, 16.0, 15.0, 14.0, 13.0, 12.0, 11.0, 10.0, 9.0, 8.0, 7.0, 6.0, 5.0, 4.0, 3.0, 2.0, 1.0, 0.8168, 0.8166, 0.8163, 0.8162, 0.8161, 0.816, 0.8159, 0.8155, 0.8154, 0.8153, 0.8153, 0.8149, 0.8148, 0.8148, 0.8148, 0.8147, 0.8147, 0.8146, 0.8145, 0.8144, 0.8143, 0.8143, 0.8141, 0.8141, 0.8139, 0.8135, 0.8135, 0.8134, 0.8134, 0.8134, 0.8131, 0.8056, 0.7949, 0.7943, 0.7841, 0.7212, 0.7979, 0.7272, 0.7265, 0.6844, 0.7928, 0.5995, 0.5349, 0.573, 0.56, 0.3653, 0.5711, 0.5344, 0.575, 0.6098, 0.5559, 0.4639, 0.519, 0.6398, 0.3125, 0.4588, 0.2964, 0.5257, 0.3025, -0.1086, 0.6217, 0.1976, 0.1957, 0.2455, 0.1633, 1.7076, 1.7066, 1.7062, 1.7062, 1.7062, 1.7061, 1.7059, 1.7058, 1.7056, 1.7047, 1.7046, 1.7042, 1.7037, 1.7036, 1.7034, 1.7033, 1.7031, 1.7029, 1.7026, 1.7023, 1.7022, 1.7017, 1.7015, 1.7014, 1.7012, 1.7012, 1.701, 1.701, 1.7008, 1.7005, 1.6873, 1.6791, 1.6299, 1.5513, 1.6276, 1.5696, 1.5907, 1.541, 1.6023, 1.2546, 1.5723, 1.2525, 1.4355, 1.5386, 1.5131, 1.4294, 1.0029, 0.4235, 0.8595, 0.8947, 1.1624, 1.2188, 1.1283, 0.5092, 0.808, 1.1589, 0.92, 0.2245, 0.4712, 0.76, 0.4614, -0.0099, -0.4561, 0.2533, -0.0217, 1.7844, 1.7842, 1.7835, 1.7832, 1.7829, 1.7829, 1.7827, 1.7826, 1.7821, 1.7813, 1.7805, 1.7803, 1.7799, 1.7796, 1.7789, 1.7788, 1.7786, 1.778, 1.778, 1.7778, 1.7778, 1.7777, 1.7777, 1.7775, 1.7774, 1.7773, 1.7771, 1.777, 1.7769, 1.7767, 1.7194, 1.7517, 1.5798, 1.6664, 1.478, 1.6085, 1.6866, 1.5915, 1.3735, 1.5058, 1.593, 1.7226, 1.4639, 1.0672, 1.5124, 1.2418, 1.4443, 1.4436, 1.1686, 1.1395, 1.456, 1.0347, 1.2615, 0.999, 1.076, 0.9379, 1.304, 0.9898, 0.3632, 0.7243, 0.7841, 0.5205, 0.7736, 0.5633, 0.6367, -0.7411, 0.7448, 0.4166, 0.77, 1.0524, 0.2468, 0.2806, 2.3758, 2.3754, 2.3731, 2.3725, 2.3718, 2.3718, 2.3712, 2.3711, 2.3704, 2.3697, 2.3691, 2.369, 2.3689, 2.3687, 2.3685, 2.3685, 2.3684, 2.3679, 2.3671, 2.3668, 2.3664, 2.366, 2.3658, 2.3657, 2.3656, 2.3653, 2.3651, 2.3647, 2.3645, 2.3642, 2.3386, 2.3366, 2.3141, 2.175, 2.2124, 2.0429, 2.0884, 2.2049, 2.2313, 2.3068, 2.1266, 2.0292, 1.9662, 1.692, 1.8202, 2.1706, 1.9408, 1.7172, 2.1575, 1.4908, 1.4766, 1.7685, 1.8118, 1.1403, 1.1717, 1.609, 1.2859, 1.7202, 0.881, 1.9024, 1.6512, 0.4959, 1.5749, 0.9616, 0.1926, 0.0515, 0.7613, 0.6509, 2.5985, 2.5965, 2.5963, 2.5961, 2.5957, 2.5944, 2.5941, 2.5935, 2.5923, 2.5919, 2.5913, 2.5905, 2.5905, 2.5905, 2.5901, 2.5897, 2.5894, 2.5891, 2.5891, 2.589, 2.5885, 2.5884, 2.5883, 2.5882, 2.5882, 2.5879, 2.5877, 2.5876, 2.5876, 2.5874, 2.5731, 2.5631, 2.5441, 2.5288, 2.5365, 2.4853, 2.4918, 2.4455, 2.4606, 2.2798, 2.3339, 2.3363, 2.004, 2.4322, 1.9687, 2.3057, 1.3988, 1.7377, 2.024, 1.7713, 2.1805, 1.9008, 0.703, -0.0716, 0.993, 0.0044, 3.4201, 3.4189, 3.4163, 3.4162, 3.416, 3.4152, 3.4147, 3.4135, 3.4119, 3.4111, 3.4111, 3.4111, 3.4109, 3.4087, 3.4075, 3.4073, 3.407, 3.4067, 3.4056, 3.4051, 3.4044, 3.4033, 3.4032, 3.4024, 3.4013, 3.4013, 3.4006, 3.3997, 3.3989, 3.3979, 3.3978, 3.2947, 2.916, 3.2384, 3.3163, 3.2885, 2.7976, 2.9805, 2.2724, 2.6018, 2.2508, 2.7618, 2.8732, 2.8207, 2.4353, 1.8208, 4.5224, 4.5218, 4.5187, 4.5175, 4.5138, 4.5111, 4.507, 4.5024, 4.4992, 4.4963, 4.4915, 4.4893, 4.4867, 4.4839, 4.4832, 4.4828, 4.4815, 4.4806, 4.4801, 4.4787, 4.478, 4.4767, 4.4765, 4.4758, 4.4757, 4.475, 4.4721, 4.4719, 4.4715, 4.4689, 4.3336, 4.2236, 3.9744, 4.162, 4.1363, 4.0458, 4.3461, 3.6187, 3.5036, 4.1427, 3.8712, 3.5971, 3.8602, 3.8933, 3.9603, 3.4986, 2.8433, 2.9971, 2.718, 2.2527, 3.9691]}, \"token.table\": {\"Topic\": [6, 1, 5, 5, 1, 2, 3, 6, 7, 2, 6, 4, 2, 1, 4, 4, 2, 4, 4, 1, 2, 4, 5, 3, 6, 1, 1, 1, 2, 3, 4, 5, 6, 3, 1, 2, 3, 4, 5, 1, 2, 3, 4, 5, 2, 3, 1, 2, 4, 1, 3, 4, 2, 3, 7, 6, 7, 7, 2, 6, 1, 2, 4, 1, 2, 4, 6, 4, 1, 5, 4, 3, 5, 7, 7, 2, 3, 5, 1, 7, 7, 7, 1, 3, 1, 6, 7, 2, 2, 2, 3, 5, 2, 4, 3, 6, 5, 6, 6, 6, 1, 2, 4, 5, 1, 2, 3, 5, 2, 7, 2, 4, 5, 1, 2, 6, 4, 2, 7, 2, 1, 2, 4, 5, 2, 4, 1, 2, 6, 7, 4, 3, 6, 1, 3, 7, 1, 1, 2, 4, 1, 1, 2, 3, 4, 1, 3, 4, 1, 2, 4, 1, 2, 3, 1, 2, 3, 4, 7, 1, 5, 5, 3, 7, 7, 2, 3, 1, 2, 3, 4, 7, 2, 4, 1, 5, 1, 2, 3, 1, 3, 1, 1, 1, 4, 7, 3, 7, 1, 3, 4, 1, 3, 4, 7, 1, 7, 4, 5, 6, 2, 1, 2, 3, 4, 5, 3, 7, 1, 1, 2, 3, 4, 5, 1, 5, 2, 4, 5, 1, 4, 5, 1, 2, 4, 5, 4, 1, 2, 3, 4, 1, 1, 5, 1, 3, 5, 1, 5, 1, 2, 3, 4, 5, 2, 3, 5, 1, 3, 5, 1, 2, 3, 4, 5, 6, 1, 4, 4, 2, 7, 6, 7, 5, 3, 1, 2, 5, 6, 1, 5, 1, 2, 4, 2, 3, 6, 3, 7, 1, 3, 2, 4, 5, 1, 5, 5, 7, 7, 1, 2, 3, 4, 5, 3, 1, 2, 3, 4, 5, 7, 1, 3, 5, 1, 5, 1, 2, 3, 4, 2, 4, 5, 5, 5, 1, 4, 1, 2, 1, 2, 4, 4, 1, 2, 3, 4, 5, 4, 6, 1, 4, 1, 3, 5, 2, 4, 1, 2, 4, 4, 7, 4, 4, 3, 2, 1, 6, 3, 6, 6, 7, 7, 1, 3, 1, 4, 6, 3, 2, 4, 5, 3, 3, 1, 1, 2, 3, 4, 5, 5, 1, 5, 4, 1, 2, 4, 1, 2, 4, 5, 2, 3, 7, 4, 6, 1, 5, 1, 2, 5, 1, 2, 4, 1, 2, 3, 4, 2, 4, 1, 2, 4, 1, 5, 1, 2, 4, 1, 5, 1, 2, 3, 4, 5, 1, 2, 3, 5, 6, 1, 2, 4, 5, 2, 4, 2, 7, 6, 4, 6, 1, 1, 2, 3, 7, 3, 1, 3, 6, 7, 2, 1, 4, 1, 4, 6, 1, 2, 3, 5, 1, 2, 3, 5, 4, 6, 1, 6, 1, 2, 4, 5, 1, 3, 6, 3, 2, 1, 2, 4, 1, 4, 5, 7, 1, 2, 7, 1, 2, 3, 4, 5, 2, 3, 1, 3, 7, 1, 2, 3, 5, 1, 5, 3, 7, 2, 1, 1, 3, 1, 3, 1, 2, 3, 4, 7, 3, 3, 3, 4, 1, 2, 3, 1, 7, 5, 6, 1, 4, 6, 7, 1, 3, 5, 1, 2, 3, 4, 5, 2, 1, 3, 1, 1, 2, 3, 6, 7, 1, 1, 2, 5, 1, 3, 5, 1, 2, 3, 4, 5, 1, 2, 5, 2, 4, 5, 4, 4, 5, 2, 3, 1, 3, 1, 3, 4, 1, 3, 4, 1, 2, 3, 5, 1, 3, 3, 1, 2, 3, 4, 5, 1, 2, 3, 4, 1, 5, 3, 4, 3, 1, 4, 3, 5, 1, 2, 2, 2, 5, 6, 5, 5, 1, 2, 3, 4, 5, 1, 2, 4, 5, 1, 2, 3, 4, 6, 1, 3, 4, 5, 6, 1, 2, 3, 4, 5, 1, 3, 5, 6, 3, 7, 3, 2, 3, 4, 6, 7, 3, 7, 3, 7, 1, 5, 4, 5, 1, 3, 4, 7, 1, 2, 4, 5, 7, 1, 2, 3, 4, 1, 2, 5, 1, 4, 1, 4, 4, 1, 2, 3, 4, 6, 3, 3, 2, 3, 6, 1, 2, 3, 4, 5, 2, 4, 1, 2, 3, 4, 5, 1, 1, 1, 2, 3, 4, 5, 1, 4, 3, 1, 2, 6, 1, 2, 3, 4, 6, 1, 2, 4, 5, 1, 2, 3, 4, 2, 6, 1, 2, 3, 3, 5, 2, 3, 7, 3, 6, 5, 6, 5, 1, 2, 4, 1, 6, 1, 2, 3, 6, 1, 2, 3, 4, 2, 4, 1, 2, 3, 4, 1, 2, 4, 1, 5, 6, 2, 6, 6, 1, 5, 1, 5, 1, 6, 5, 7, 3, 7, 2, 1, 2, 3, 4, 2, 6, 1, 4, 6, 2, 4], \"Freq\": [0.9945898168881578, 0.011322730731860357, 0.9882227766529234, 0.9964618163842355, 0.12822827191714237, 0.04931856612197783, 0.21453576263060356, 0.6016865066881295, 0.0024659283060988915, 0.9924364247181509, 0.9942635115132066, 0.9804757763492019, 0.9980144712523186, 0.9975516982986967, 0.9854610266796013, 0.9935334465981006, 0.21936847320265193, 0.7758153320581592, 0.9898950590019566, 0.20529777055231474, 0.13525500177564265, 0.5410200071025706, 0.11834812655368733, 0.9944027826566043, 0.9765897358012527, 0.9964894517211614, 0.9964296486617727, 0.5051619306973372, 0.2459248788831697, 0.2214024550629106, 0.016114735653313114, 0.011910891569840128, 0.9888091708526551, 0.9951523975459405, 0.26403995025711535, 0.2038634034543309, 0.4543943330006171, 0.03254445898517933, 0.04482538690411493, 0.2802630637980709, 0.012822493114944421, 0.15386991737933306, 0.020149632037769805, 0.5330493566355466, 0.9926134128735002, 0.9853589046769012, 0.043910866420333754, 0.017564346568133504, 0.935301454753109, 0.4488243019607109, 0.3529589170758988, 0.19826704601177034, 0.10903985413931988, 0.3582738064577653, 0.5140450266567937, 0.3124085711790724, 0.6664716185153544, 0.9873660265095727, 0.9914626744181668, 0.9676947516183478, 0.1226081113533577, 0.35965045996984923, 0.5149540676841023, 0.30373671112832384, 0.454480115910529, 0.2418644181207023, 0.9797545805807316, 0.9898235113209107, 0.23007828544649775, 0.7684614733913026, 0.9884397104863107, 0.06483496500529239, 0.932626035076129, 0.9334161840762238, 0.9387030021958565, 0.9970344393731407, 0.0012766125984291176, 0.9971548009730604, 0.9948021698270132, 0.9605452048033282, 0.9674664745842108, 0.985127506547601, 0.9938100832554528, 0.9960608379931288, 0.9971051171034249, 0.9912618536229424, 0.930770736560198, 0.9961457546749427, 0.9952262380572003, 0.8216899920276047, 0.17562839524254148, 0.9904431048191061, 0.991656304701417, 0.9885921278466214, 0.15749281222478548, 0.835923387962323, 0.9920866267505958, 0.9812602836838484, 0.9914981217834149, 0.9768903761494315, 0.15090329123881557, 0.8458526587859926, 0.001985569621563363, 0.9904293418459467, 0.21701350304002934, 0.5791634253106516, 0.18936847080563068, 0.01382251611719932, 0.9944410158788254, 0.9361989192775919, 0.03013279593673758, 0.7452844861686428, 0.22298268993185807, 0.241794564070307, 0.7562006464551758, 0.9918869886918822, 0.9919152488285363, 0.36885006741383775, 0.6147501123563963, 0.9960660209640997, 0.08473095418185649, 0.3017611175248573, 0.1902730199171514, 0.42216826294117965, 0.9953025823241274, 0.004388459357690156, 0.07496491669377595, 0.9232521319128195, 0.9941544388633704, 0.9574086427280122, 0.9855763771037487, 0.9646178680486018, 0.0278255154244789, 0.06716075572295667, 0.20148226716887, 0.7387683129525233, 0.9968966125379161, 0.08860607274087327, 0.8701570733270375, 0.038623159912688346, 0.9979915313191781, 0.8119119438489426, 0.04644600778893841, 0.13397886862193772, 0.007145539659836679, 0.9991485037921595, 0.985602149813181, 0.9938738280792467, 0.3164345225188193, 0.04000896261732199, 0.6437805802969083, 0.17994601059636864, 0.008179364118016756, 0.8124835023896645, 0.37263613994434974, 0.09840175124071573, 0.5226584819998672, 0.005646002120368935, 0.9738724672998228, 0.9130425439804221, 0.08659259831334547, 0.9906136475917173, 0.5975816712426475, 0.39532325943744373, 0.9571717378017662, 0.11251879896038597, 0.8846305573437242, 0.515123356123791, 0.1086795416864945, 0.31631931645337424, 0.05919942514630189, 0.9375920346853603, 0.9718267698889198, 0.02655264398603606, 0.9978994033725039, 0.9909995674274249, 0.7693820351506765, 0.0688286851640552, 0.1615088948899117, 0.27515824607652295, 0.7233326620344959, 0.9983505993193629, 0.9955347292641273, 0.4978436848948177, 0.5024964296134609, 0.9672476231850778, 0.6336599045786652, 0.3507760186060468, 0.14008868628294527, 0.8373482839185138, 0.02228683645410493, 0.14608305025080925, 0.5518693009475016, 0.19748264200572363, 0.10279918350982874, 0.9980368959087995, 0.9285634729489353, 0.03883167235576932, 0.9462665421432207, 0.0122626333755061, 0.99705974104872, 0.5972159503910857, 0.30122109192358654, 0.0726921562528529, 0.003325784926601113, 0.02518094301569414, 0.42182585685256363, 0.5624344758034181, 0.9988024903010843, 0.5369322207177143, 0.290368939875314, 0.10701096706611787, 0.0625795129041625, 0.0031289756452081248, 0.33734212839840455, 0.6582285432163991, 0.9902754042703572, 0.9782093395127138, 0.9868091150782484, 0.08212722134105485, 0.18771936306526824, 0.7274125318779144, 0.08387326477210072, 0.45367811399454483, 0.461302956246554, 0.9858253492890157, 0.9912929367188558, 0.7530960325990538, 0.10375072142043167, 0.1171712127484477, 0.025292464425876376, 0.9983870104499803, 0.025373906541982034, 0.9746565277596628, 0.7468525712302689, 0.15991831821331498, 0.09271859938963475, 0.9138458056676815, 0.08540615006240014, 0.2702231369641009, 0.07892231301808661, 0.5387305714712868, 0.04975537125053286, 0.06348099090585227, 0.8452922498514757, 0.030800122464223808, 0.12662272568625343, 0.32720340415325183, 0.660699181463297, 0.011536017454121058, 0.5643874906785793, 0.07464704759284052, 0.3453297996117389, 0.011859811299797093, 0.004185815752869562, 0.9835515069337359, 0.9760039231403996, 0.021620340069565817, 0.9892594841110268, 0.9919938307582422, 0.9618334798559294, 0.9818000623763105, 0.9430554768489059, 0.9868953725751993, 0.9887536264807396, 0.14291275532833186, 0.08932047208020742, 0.1250486609122904, 0.6431073989774934, 0.25015382566973565, 0.7454584004958122, 0.15699559156276957, 0.12929048716933964, 0.7134064381308206, 0.9212971923708272, 0.04512476044265276, 0.030083173628435173, 0.5984673318171626, 0.40091500869305063, 0.9961998254730607, 0.9917488368066661, 0.996977168170925, 0.9833476574093988, 0.9987386283063988, 0.10075331273401965, 0.8955850020801747, 0.9955946017056383, 0.9876761427713652, 0.9549337087864981, 0.3599465298772644, 0.4431796016947251, 0.0876137598078534, 0.06863077851615183, 0.04015630657859948, 0.9841277392204278, 0.7420112301064331, 0.15354117514871293, 0.03697522177050638, 0.012533973481527586, 0.055149483318721375, 0.9417435627200034, 0.9674364197718439, 0.01182018182052065, 0.020912629374767303, 0.053463964632800995, 0.9423023766531176, 0.3959515550556974, 0.1148943091363478, 0.48639467254517943, 0.002629160392136105, 0.9983634000469579, 0.9897002964594892, 0.9938580132188279, 0.9964407932799282, 0.9898588229254143, 0.038863734752074136, 0.9560478749010238, 0.9956373937170124, 0.003629297911483642, 0.9971802269593047, 0.1872175374997319, 0.8087797619988419, 0.9906740981419251, 0.7848635908336231, 0.15312736724050566, 0.01442006597332116, 0.04738021676948381, 0.0006866698082533886, 0.9933236317711313, 0.982269889316308, 0.19580471390474236, 0.7982807566885649, 0.37845132435136103, 0.4708292066733468, 0.15018855706542203, 0.9778056207454372, 0.017005315143398907, 0.29017621679952477, 0.6348890984585347, 0.0746020415530693, 0.17697871801192597, 0.8259006840556545, 0.9816034312917025, 0.9827850204881105, 0.9922478548255348, 0.9966788881400753, 0.5563436768529902, 0.44209452892782264, 0.9840172638990115, 0.9799817435281377, 0.3009400587143019, 0.6839546788961406, 0.9263012709466844, 0.40882637440540215, 0.5911408386672706, 0.15491359017492634, 0.840108315948639, 0.9946067060355538, 0.9934523711782287, 0.9943622148769522, 0.003724203051973604, 0.9967480633873653, 0.9950391677797029, 0.9949216826598096, 0.9959610142884913, 0.5104847893173747, 0.38679039805970317, 0.01276211973293437, 0.019634030358360567, 0.06970080777218002, 0.9935571085453937, 0.031639981446178043, 0.9632616573614203, 0.988981724575235, 0.08615601741639577, 0.8990193121710863, 0.011237741402138578, 0.03216120008102064, 0.6126708615434432, 0.2299525805792976, 0.1254286803159805, 0.011746743911667919, 0.8222720738167543, 0.16053883345946154, 0.10571093890436392, 0.8809244908696994, 0.009065574818476299, 0.9896585843503294, 0.2445924934767327, 0.20305791911275922, 0.5507176897149075, 0.5978091793842664, 0.06746110531246062, 0.33419193708634337, 0.4274922197301863, 0.1610693434528427, 0.0010130147386971239, 0.4102709691723352, 0.06524556843631846, 0.9264870717957222, 0.32344454677485085, 0.1599051691920611, 0.5142404872881056, 0.9875980070355898, 0.010676735211195566, 0.01830187999756877, 0.27818857596304536, 0.7027921919066409, 0.5005477915144696, 0.4979271224489488, 0.5272624856448462, 0.02143343437580676, 0.36694039651381166, 0.009430711125354973, 0.07458835162780751, 0.37111475270570293, 0.04586811550295205, 0.4912058187497956, 0.06087949875846362, 0.03085673224744047, 0.7019470779661552, 0.00795010015018297, 0.22307045715513393, 0.0668743718515391, 0.9966349132300173, 0.9918881913426286, 0.3019140652099932, 0.6793066467224848, 0.9863201112304202, 0.9846529615241565, 0.9642635590633064, 0.9995193360757134, 0.11783798922053094, 0.1616846828839843, 0.7179896087390489, 0.9322938463351832, 0.9886966710524188, 0.21702439276690533, 0.7538742064534606, 0.027413607507398567, 0.9309270527098981, 0.9972965259783616, 0.18404657574411779, 0.8127000479487448, 0.15444544504534777, 0.8445208378011569, 0.9970239681927279, 0.5190000181604876, 0.10487168508552625, 0.2939469129404531, 0.08267256926450244, 0.39185080904446623, 0.2173465820833306, 0.36259261530247944, 0.028213258251201568, 0.09271945054125626, 0.89010672519606, 0.45866029686974485, 0.5351036796813691, 0.3528492322104144, 0.336205400502376, 0.11095887805358944, 0.2008355692769969, 0.0926863403965217, 0.35220809350678245, 0.546849408339478, 0.9956739943527694, 0.9886907485491713, 0.4134930958128474, 0.019825011443081724, 0.5664288983737635, 0.17289998761860692, 0.617499955780739, 0.20583331859357967, 0.9853207229434816, 0.4399947786285495, 0.5599933546181539, 0.9255755910307453, 0.397265427043655, 0.28727572775287985, 0.2539893713885663, 0.008683397312429618, 0.0521003838745777, 0.9953404182499028, 0.9915229577735883, 0.2652426056055666, 0.7337362499893452, 0.9650580473173496, 0.7830307675233131, 0.17720425493274206, 0.02069907251351118, 0.018679650804875943, 0.8751819941740958, 0.12394195871251647, 0.42210987269854544, 0.567013261833867, 0.993762570484761, 0.9956634907002803, 0.17375874951841858, 0.8234653781525054, 0.5191072023673194, 0.4796813388963838, 0.8038549528458918, 0.14914290005631325, 0.03538984069132857, 0.011122521360131836, 0.9750424169689024, 0.9920009939331723, 0.9961747008604303, 0.9927004093172428, 0.9939977948296285, 0.12354764472187388, 0.854537875992961, 0.021964025728333135, 0.12805900164094194, 0.8110403437259656, 0.9954278190399363, 0.9866786507842317, 0.11224856483114491, 0.4053420396680233, 0.374161882770483, 0.10601253345163686, 0.0873675673491416, 0.9005580019065365, 0.006720582103780123, 0.3754221135682072, 0.1720428671016334, 0.4276494125097745, 0.003072194055386311, 0.02211979719878144, 0.9971733886428936, 0.3821411483028471, 0.6167580393538975, 0.9973556476630023, 0.19045387944666645, 0.46628363588666616, 0.03283687576666663, 0.30866663220666635, 0.9724116899343317, 0.9969198709344623, 0.997518518537495, 0.0022299221725875446, 0.9956913262283205, 0.06674222607280672, 0.03559585390549692, 0.8943458293756101, 0.5195422487855318, 0.23321098449225863, 0.2144245440748267, 0.007773699483075288, 0.024616715029738414, 0.17332545825524243, 0.262876945020451, 0.5633077393295378, 0.04210698469822849, 0.08421396939645698, 0.8684565594009626, 0.9902399275040626, 0.1375971316740574, 0.8566531100997768, 0.890058023756286, 0.1091038867830286, 0.05914148625872018, 0.9378149963882771, 0.7538081017856492, 0.2406191652736637, 0.005654974507019124, 0.5866487769468495, 0.36083555724905425, 0.05121536941599479, 0.12285180504879203, 0.13230194389869912, 0.708760413743031, 0.03543802068715155, 0.06330599189209246, 0.9323246078653618, 0.9950849536874082, 0.20288544189409352, 0.19310783023654685, 0.5793234907096405, 0.020370024286555575, 0.004888805828773338, 0.1816785342708606, 0.04395448409778885, 0.7589474254218208, 0.01465149469926295, 0.14942445742425498, 0.8445730202240499, 0.9882037671335758, 0.9816251008149259, 0.9972901255325006, 0.9937671831784549, 0.979248821795558, 0.9918903383498519, 0.9913158924393589, 0.9970462696980981, 0.9903215744871179, 0.9956756717819354, 0.9953861861872123, 0.987206230348982, 0.9929865073272985, 0.9919337219901406, 0.9893980301441517, 0.7727063965545611, 0.10687371213055741, 0.001418677594653417, 0.11207552997761994, 0.006620495441715946, 0.3162680663739538, 0.22415115383785078, 0.4042908939084523, 0.05322310502085954, 0.2698959209166052, 0.42772077371926764, 0.009767661899839044, 0.28891715724787065, 0.0030845248104754875, 0.9081061724552963, 0.00023177799194877395, 0.022482465219031075, 0.06906984160073464, 0.9888538840928999, 0.59394017943059, 0.17917267196745862, 0.000430703538383314, 0.15160764551092654, 0.07451171214031332, 0.13892797870502555, 0.46083427082642625, 0.19653226255832884, 0.19992074984381725, 0.4583093551609746, 0.5316388519867306, 0.9960044686723684, 0.2786052081863703, 0.2622166665283485, 0.15159401033670147, 0.12291406243516337, 0.18437109365274504, 0.48010704346685135, 0.5144004037144836, 0.4069500087248463, 0.5595562619966636, 0.6983888943332368, 0.301158918336869, 0.9908352552010916, 0.9946270610541846, 0.6154365113082584, 0.11749242488612205, 0.04475901900423697, 0.21260534027012562, 0.4449545221207632, 0.1964734253520253, 0.2985625581329796, 0.060354581644086205, 0.9731045391121855, 0.48386577542990694, 0.022131074967688052, 0.4506691629783749, 0.04325619198229937, 0.16700376381911683, 0.0651722005147773, 0.7657733560486333, 0.821740424498179, 0.17730498785852825, 0.036436293358408915, 0.9577539968496057, 0.994002745018037, 0.06353643089065407, 0.03038698868683455, 0.17955947860402235, 0.6602263905594052, 0.06629888440763902, 0.9830516823608378, 0.9957141641023786, 0.7601635183058254, 0.17898586996120544, 0.05896005128133826, 0.40649638004225114, 0.02322836457384292, 0.03290684981294414, 0.10065624648665265, 0.437467532807375, 0.5171869520606325, 0.4815188864012785, 0.5380920859475873, 0.1365125542278862, 0.2815954033400343, 0.023874392891872476, 0.019589245449741517, 0.9976579922603409, 0.9954240763495106, 0.2882882865126661, 0.5765765730253322, 0.008332031402100174, 0.10165078310562214, 0.026662500486720562, 0.9950573196658853, 0.9919885243890294, 0.9950900915165891, 0.9797404077890368, 0.016558992807702032, 0.9773566863644043, 0.5036243530124667, 0.40620478904459745, 0.038271971558805754, 0.0487097819839346, 0.003479270141709614, 0.7815757918983911, 0.17697195287962023, 0.03744799002913466, 0.004227998874257139, 0.6032602281718416, 0.22652063903685749, 0.07232764263983871, 0.0973641343228598, 0.9940920308319916, 0.9718600760544792, 0.23746739985789164, 0.052492793652797104, 0.7099025427330655, 0.9942703319569693, 0.9917216082194595, 0.4693738983365236, 0.1683623765772313, 0.35713231395170275, 0.9951150395977428, 0.9969721691152716, 0.9937946555586972, 0.9902220664525091, 0.9884228625286893, 0.14124790863701575, 0.28641937029172637, 0.5708769640746053, 0.4751501146910669, 0.5140968454034495, 0.3988154756478778, 0.2658769837652519, 0.018127976165812625, 0.31623247311473135, 0.6361105821332702, 0.2765817010177742, 0.07980420622251984, 0.0075158070928743, 0.5521078069188768, 0.44730956579075676, 0.16715301237643138, 0.6334219416370032, 0.08269675349149763, 0.11700710866350196, 0.431844965085565, 0.49344145622955254, 0.0743175056193763, 0.8373317405708537, 0.16241348416245008, 0.9736908773019763, 0.11643883305702712, 0.8805686749937676, 0.976556104104031, 0.9780033864802794, 0.021905214189940382, 0.9772243904383358, 0.022726148614845017, 0.9984036609023823, 0.9807226877893656, 0.9943459553872116, 0.9609199871424967, 0.9888959345540169, 0.9478249813061378, 0.9993127307543004, 0.027258153658953697, 0.8722609170865183, 0.09540353780633794, 0.9797214792476514, 0.9925238431074843, 0.9825280703385656, 0.9964846305650585, 0.41313672312696753, 0.5764698462236756, 0.13617985876541325, 0.8596353584566712], \"Term\": [\"#\", \"%\", \"%\", \"+\", \"@\", \"@\", \"@\", \"@\", \"@\", \"abitanti\", \"abramovich\", \"acciaio\", \"accoglienza\", \"accordo\", \"addestramento\", \"aerea\", \"aerei\", \"aerei\", \"agenti\", \"agenzia\", \"agenzia\", \"agenzia\", \"agenzia\", \"aggressore\", \"airbnb\", \"alleanza\", \"alleati\", \"ancora\", \"ancora\", \"ancora\", \"ancora\", \"ancora\", \"and\", \"andata\", \"anni\", \"anni\", \"anni\", \"anni\", \"anni\", \"anno\", \"anno\", \"anno\", \"anno\", \"anno\", \"anonymous\", \"anpi\", \"armate\", \"armate\", \"armate\", \"armi\", \"armi\", \"armi\", \"arte\", \"arte\", \"arte\", \"artista\", \"artista\", \"artisti\", \"associazioni\", \"atleti\", \"attacchi\", \"attacchi\", \"attacchi\", \"attacco\", \"attacco\", \"attacco\", \"attore\", \"attrezzature\", \"aumento\", \"aumento\", \"autoproclamate\", \"aziende\", \"aziende\", \"ballerino\", \"balletto\", \"bambino\", \"bambino\", \"banca\", \"banche\", \"basilica\", \"beppe\", \"bergoglio\", \"berlino\", \"berlusconi\", \"biden\", \"board\", \"bolshoi\", \"bombardamenti\", \"bombardamento\", \"bombe\", \"bombe\", \"borsa\", \"bucha\", \"bunker\", \"calcio\", \"calcio\", \"calo\", \"cancro\", \"cantante\", \"canzone\", \"capitale\", \"capitale\", \"capitale\", \"carbone\", \"casa\", \"casa\", \"casa\", \"casa\", \"case\", \"cattolica\", \"centrale\", \"centrale\", \"centrale\", \"centro\", \"centro\", \"chelsea\", \"chernobyl\", \"chiesa\", \"chiesa\", \"cibo\", \"circa\", \"circa\", \"circa\", \"circa\", \"citt\\u00e0\", \"citt\\u00e0\", \"civili\", \"civili\", \"club\", \"columbia\", \"comando\", \"commento\", \"commento\", \"concerto\", \"concerto\", \"concerto\", \"condanna\", \"confine\", \"confine\", \"confine\", \"confini\", \"conflitto\", \"conflitto\", \"conflitto\", \"conflitto\", \"consiglio\", \"conte\", \"controllata\", \"controllo\", \"controllo\", \"controllo\", \"cosa\", \"cosa\", \"cosa\", \"cos\\u00ec\", \"cos\\u00ec\", \"cos\\u00ec\", \"cos\\u00ec\", \"credenti\", \"crisi\", \"crisi\", \"cubi\", \"cultura\", \"cultura\", \"culturali\", \"cuore\", \"cuore\", \"d\", \"d\", \"d\", \"d\", \"danza\", \"decine\", \"decine\", \"decisione\", \"default\", \"detto\", \"detto\", \"detto\", \"dice\", \"dice\", \"dichiarazione\", \"dichiarazioni\", \"difesa\", \"difesa\", \"digiuno\", \"dio\", \"dio\", \"dire\", \"dire\", \"dire\", \"direttore\", \"direttore\", \"direttore\", \"direttore\", \"diritto\", \"docenti\", \"dollari\", \"dollari\", \"dollari\", \"donne\", \"dopo\", \"dopo\", \"dopo\", \"dopo\", \"dopo\", \"dostoevskij\", \"dostoevskij\", \"draghi\", \"due\", \"due\", \"due\", \"due\", \"due\", \"economia\", \"economia\", \"edificio\", \"elicotteri\", \"energetici\", \"energia\", \"energia\", \"energia\", \"esercito\", \"esercito\", \"esercito\", \"esportazioni\", \"esposizione\", \"essere\", \"essere\", \"essere\", \"essere\", \"esteri\", \"euro\", \"euro\", \"europa\", \"europa\", \"europa\", \"europea\", \"europea\", \"fa\", \"fa\", \"fa\", \"fa\", \"fa\", \"famiglie\", \"famiglie\", \"famiglie\", \"fare\", \"fare\", \"fare\", \"fatto\", \"fatto\", \"fatto\", \"fatto\", \"fatto\", \"february\", \"federazione\", \"federazione\", \"fedorov\", \"feriti\", \"festival\", \"fifa\", \"filarmonica\", \"flussi\", \"fly\", \"for\", \"for\", \"for\", \"for\", \"forniture\", \"forniture\", \"forze\", \"forze\", \"forze\", \"foto\", \"foto\", \"foto\", \"francesco\", \"francesco\", \"francese\", \"fratelli\", \"fuga\", \"funzionamento\", \"gas\", \"gasdotto\", \"gasdotto\", \"gazprom\", \"gergiev\", \"ges\\u00f9\", \"giorni\", \"giorni\", \"giorni\", \"giorni\", \"giorni\", \"giuseppe\", \"gi\\u00e0\", \"gi\\u00e0\", \"gi\\u00e0\", \"gi\\u00e0\", \"gi\\u00e0\", \"gomez\", \"governo\", \"governo\", \"governo\", \"grano\", \"grano\", \"guerra\", \"guerra\", \"guerra\", \"guerra\", \"immagini\", \"impianto\", \"importazioni\", \"imprese\", \"incertezza\", \"intelligence\", \"intelligence\", \"internazionale\", \"internazionale\", \"internazionali\", \"internet\", \"internet\", \"interrotto\", \"invasione\", \"invasione\", \"invasione\", \"invasione\", \"invasione\", \"iodio\", \"is\", \"isola\", \"isola\", \"italia\", \"italia\", \"italia\", \"kharkiv\", \"kharkiv\", \"kiev\", \"kiev\", \"kiev\", \"kirill\", \"kirill\", \"laboratori\", \"laboratorio\", \"lega\", \"leopoli\", \"londra\", \"londra\", \"luca\", \"lusso\", \"maestro\", \"maestro\", \"magnate\", \"mai\", \"mai\", \"mar\", \"mar\", \"march\", \"marito\", \"mariupol\", \"mariupol\", \"materie\", \"matteo\", \"me\", \"membri\", \"mentre\", \"mentre\", \"mentre\", \"mentre\", \"mentre\", \"mercati\", \"mercato\", \"mercato\", \"mercenari\", \"migliaia\", \"migliaia\", \"migliaia\", \"mila\", \"mila\", \"mila\", \"mila\", \"milano\", \"milano\", \"milano\", \"miliardario\", \"miliardario\", \"miliardi\", \"miliardi\", \"milioni\", \"milioni\", \"milioni\", \"militare\", \"militare\", \"militare\", \"militari\", \"militari\", \"militari\", \"militari\", \"milizie\", \"milizie\", \"ministero\", \"ministero\", \"ministero\", \"ministro\", \"ministro\", \"missili\", \"missili\", \"missili\", \"misure\", \"misure\", \"molto\", \"molto\", \"molto\", \"molto\", \"molto\", \"mondo\", \"mondo\", \"mondo\", \"mondo\", \"mondo\", \"mosca\", \"mosca\", \"mosca\", \"mosca\", \"mostrano\", \"munizioni\", \"musica\", \"musica\", \"musicale\", \"musk\", \"national\", \"nato\", \"nessuno\", \"nessuno\", \"nessuno\", \"netrebko\", \"nicola\", \"no\", \"no\", \"no\", \"nori\", \"notte\", \"nucleare\", \"nucleare\", \"nucleari\", \"nucleari\", \"of\", \"oggi\", \"oggi\", \"oggi\", \"oggi\", \"ogni\", \"ogni\", \"ogni\", \"ogni\", \"oligarca\", \"oligarca\", \"oligarchi\", \"oligarchi\", \"oltre\", \"oltre\", \"oltre\", \"oltre\", \"on\", \"on\", \"on\", \"onda\", \"ong\", \"operazione\", \"operazione\", \"operazione\", \"operazioni\", \"operazioni\", \"operazioni\", \"orchestra\", \"ore\", \"ore\", \"ortodossi\", \"os\", \"os\", \"os\", \"os\", \"os\", \"ospedale\", \"ospite\", \"pace\", \"pace\", \"padiglione\", \"paese\", \"paese\", \"paese\", \"paese\", \"paesi\", \"paesi\", \"papa\", \"papa\", \"parenti\", \"parlamento\", \"parlare\", \"parlare\", \"parole\", \"parole\", \"parte\", \"parte\", \"parte\", \"parte\", \"patriarca\", \"pd\", \"pensato\", \"pensiero\", \"perdite\", \"persone\", \"persone\", \"persone\", \"peter\", \"peter\", \"petrolio\", \"pic\", \"pietroburgo\", \"pietroburgo\", \"pietroburgo\", \"pietroburgo\", \"po\", \"po\", \"po\", \"poi\", \"poi\", \"poi\", \"poi\", \"poi\", \"polizia\", \"popolo\", \"popolo\", \"possibilit\\u00e0\", \"post\", \"post\", \"post\", \"post\", \"preghiera\", \"premier\", \"presidente\", \"presidente\", \"prezzi\", \"prezzo\", \"prezzo\", \"prezzo\", \"prima\", \"prima\", \"prima\", \"prima\", \"prima\", \"prime\", \"prime\", \"prime\", \"prodotti\", \"prodotti\", \"prodotti\", \"produce\", \"produzione\", \"produzione\", \"profughi\", \"profughi\", \"purtroppo\", \"purtroppo\", \"putin\", \"putin\", \"putin\", \"pu\\u00f2\", \"pu\\u00f2\", \"pu\\u00f2\", \"qualche\", \"qualche\", \"qualche\", \"qualche\", \"qualcosa\", \"qualcosa\", \"qualcuno\", \"quando\", \"quando\", \"quando\", \"quando\", \"quando\", \"quel\", \"quel\", \"quel\", \"quel\", \"quota\", \"quota\", \"racconto\", \"radiazioni\", \"rai\", \"rapporti\", \"relativi\", \"renzi\", \"rialzo\", \"richiesta\", \"rifugi\", \"rifugiati\", \"rifugio\", \"rinnovabili\", \"roman\", \"rubli\", \"rublo\", \"russa\", \"russa\", \"russa\", \"russa\", \"russa\", \"russe\", \"russe\", \"russe\", \"russe\", \"russi\", \"russi\", \"russi\", \"russi\", \"russi\", \"russia\", \"russia\", \"russia\", \"russia\", \"russian\", \"russo\", \"russo\", \"russo\", \"russo\", \"russo\", \"s\", \"s\", \"s\", \"s\", \"sala\", \"sala\", \"salvini\", \"san\", \"san\", \"san\", \"san\", \"san\", \"santa\", \"santa\", \"santo\", \"santo\", \"sanzioni\", \"sanzioni\", \"satelliti\", \"sberbank\", \"scala\", \"scala\", \"scala\", \"scala\", \"secondo\", \"secondo\", \"secondo\", \"secondo\", \"segui\", \"sempre\", \"sempre\", \"sempre\", \"sempre\", \"settore\", \"settore\", \"settore\", \"sicurezza\", \"sicurezza\", \"sistemi\", \"sistemi\", \"siti\", \"sito\", \"sito\", \"sito\", \"sito\", \"sito\", \"sky\", \"so\", \"social\", \"social\", \"social\", \"societ\\u00e0\", \"societ\\u00e0\", \"societ\\u00e0\", \"societ\\u00e0\", \"societ\\u00e0\", \"soldati\", \"soldati\", \"solo\", \"solo\", \"solo\", \"solo\", \"solo\", \"sostegno\", \"sostenere\", \"sotto\", \"sotto\", \"sotto\", \"sotto\", \"sotto\", \"sottolineato\", \"spaziale\", \"spero\", \"stampa\", \"stampa\", \"star\", \"stata\", \"stata\", \"stata\", \"stata\", \"stata\", \"stati\", \"stati\", \"stati\", \"stati\", \"stato\", \"stato\", \"stato\", \"stato\", \"stazione\", \"sterline\", \"storia\", \"storia\", \"storia\", \"streaming\", \"swift\", \"teatro\", \"teatro\", \"teatro\", \"tg\", \"the\", \"titoli\", \"to\", \"transazioni\", \"truppe\", \"truppe\", \"truppe\", \"tweet\", \"tweet\", \"twitter\", \"twitter\", \"twitter\", \"twitter\", \"ucraina\", \"ucraina\", \"ucraina\", \"ucraina\", \"ucraine\", \"ucraine\", \"ucraini\", \"ucraini\", \"ucraini\", \"ucraini\", \"ucraino\", \"ucraino\", \"ucraino\", \"ue\", \"ue\", \"uefa\", \"ukraine\", \"ukraine\", \"ukrainian\", \"unione\", \"unione\", \"uniti\", \"uniti\", \"usa\", \"utenti\", \"valuta\", \"vaticano\", \"veramente\", \"vescovi\", \"video\", \"vittime\", \"vittime\", \"vittime\", \"volo\", \"volontari\", \"war\", \"washington\", \"yacht\", \"yacht\", \"zaporizhzhia\", \"zaporizhzhia\"]}, \"R\": 30, \"lambda.step\": 0.01, \"plot.opts\": {\"xlab\": \"PC1\", \"ylab\": \"PC2\"}, \"topic.order\": [3, 2, 7, 1, 6, 4, 5]};\n",
       "\n",
       "function LDAvis_load_lib(url, callback){\n",
       "  var s = document.createElement('script');\n",
       "  s.src = url;\n",
       "  s.async = true;\n",
       "  s.onreadystatechange = s.onload = callback;\n",
       "  s.onerror = function(){console.warn(\"failed to load library \" + url);};\n",
       "  document.getElementsByTagName(\"head\")[0].appendChild(s);\n",
       "}\n",
       "\n",
       "if(typeof(LDAvis) !== \"undefined\"){\n",
       "   // already loaded: just create the visualization\n",
       "   !function(LDAvis){\n",
       "       new LDAvis(\"#\" + \"ldavis_el4805451397698849670884022720923\", ldavis_el4805451397698849670884022720923_data);\n",
       "   }(LDAvis);\n",
       "}else if(typeof define === \"function\" && define.amd){\n",
       "   // require.js is available: use it to load d3/LDAvis\n",
       "   require.config({paths: {d3: \"https://d3js.org/d3.v5\"}});\n",
       "   require([\"d3\"], function(d3){\n",
       "      window.d3 = d3;\n",
       "      LDAvis_load_lib(\"https://cdn.jsdelivr.net/gh/bmabey/pyLDAvis@3.4.0/pyLDAvis/js/ldavis.v3.0.0.js\", function(){\n",
       "        new LDAvis(\"#\" + \"ldavis_el4805451397698849670884022720923\", ldavis_el4805451397698849670884022720923_data);\n",
       "      });\n",
       "    });\n",
       "}else{\n",
       "    // require.js not available: dynamically load d3 & LDAvis\n",
       "    LDAvis_load_lib(\"https://d3js.org/d3.v5.js\", function(){\n",
       "         LDAvis_load_lib(\"https://cdn.jsdelivr.net/gh/bmabey/pyLDAvis@3.4.0/pyLDAvis/js/ldavis.v3.0.0.js\", function(){\n",
       "                 new LDAvis(\"#\" + \"ldavis_el4805451397698849670884022720923\", ldavis_el4805451397698849670884022720923_data);\n",
       "            })\n",
       "         });\n",
       "}\n",
       "</script>"
      ],
      "text/plain": [
       "<IPython.core.display.HTML object>"
      ]
     },
     "execution_count": 23,
     "metadata": {},
     "output_type": "execute_result"
    }
   ],
   "source": [
    "# Print the keywords in the 10 topics\n",
    "print(lda_model.print_topics(0))\n",
    "doc_lda = lda_model[tdm]\n",
    "# Interpretation: Topic 0 is represented as 0.055\"walking\" + 0.054\"garden\" + ...\n",
    "\n",
    "# Visualize the topics (can take some mintues to run)\n",
    "vis = pyLDAvis.gensim.prepare(lda_model, tdm, id2word)\n",
    "pyLDAvis.display(vis)\n",
    "\n",
    "# If it is a newwer version of puLDavis, use this instead of the previous\n",
    "# vis = gensimvis.prepare(lda_model, tdm, id2word)\n",
    "# pyLDAvis.display(vis)\n",
    "\n",
    "# pyLDAvis.enable_notebook() # Remove remarks to see in notebook instead of the browser"
   ]
  },
  {
   "cell_type": "markdown",
   "metadata": {},
   "source": [
    "### Evaluation of topic models\n",
    "Good description at: https://towardsdatascience.com/evaluate-topic-model-in-python-latent-dirichlet-allocation-lda-7d57484bb5d0"
   ]
  },
  {
   "cell_type": "code",
   "execution_count": 17,
   "metadata": {},
   "outputs": [
    {
     "name": "stdout",
     "output_type": "stream",
     "text": [
      "\n",
      "Perplexity:  -8.988704698705364\n"
     ]
    }
   ],
   "source": [
    "# Compute Perplexity\n",
    "print(\n",
    "    \"\\nPerplexity: \", lda_model.log_perplexity(tdm)\n",
    ")  # lower value is better (some liteture do not recommend the use of this measure)"
   ]
  },
  {
   "cell_type": "code",
   "execution_count": 18,
   "metadata": {},
   "outputs": [
    {
     "name": "stdout",
     "output_type": "stream",
     "text": [
      "\n",
      "Coherence Score:  0.4635733323458404\n"
     ]
    }
   ],
   "source": [
    "# Compute Coherence Score\n",
    "coherence_model_lda = CoherenceModel(\n",
    "    model=lda_model, texts=corpus, dictionary=id2word, coherence=\"c_v\"\n",
    ")\n",
    "coherence_lda = coherence_model_lda.get_coherence()\n",
    "print(\"\\nCoherence Score: \", coherence_lda)"
   ]
  },
  {
   "cell_type": "code",
   "execution_count": 19,
   "metadata": {},
   "outputs": [
    {
     "data": {
      "image/png": "[encoded data removed]",
      "text/plain": [
       "<Figure size 432x288 with 1 Axes>"
      ]
     },
     "metadata": {
      "needs_background": "light"
     },
     "output_type": "display_data"
    }
   ],
   "source": [
    "# HOW TO SELECT K (based on https://www.machinelearningplus.com/nlp/topic-modeling-gensim-python/)\n",
    "def compute_coherence_values(dictionary, corpus, texts, limit, start=2, step=3):\n",
    "    \"\"\"\n",
    "    Compute c_v coherence for various number of topics\n",
    "\n",
    "    Parameters:\n",
    "    ----------\n",
    "    dictionary : Gensim dictionary\n",
    "    corpus : Gensim corpus\n",
    "    texts : List of input texts\n",
    "    limit : Max num of topics\n",
    "\n",
    "    Returns:\n",
    "    -------\n",
    "    model_list : List of LDA topic models\n",
    "    coherence_values : Coherence values corresponding to the LDA model with respective number of topics\n",
    "    \"\"\"\n",
    "    coherence_values = []\n",
    "    model_list = []\n",
    "    for num_topics in range(start, limit, step):\n",
    "        model = gensim.models.ldamodel.LdaModel(\n",
    "            corpus=corpus,\n",
    "            id2word=id2word,\n",
    "            num_topics=num_topics,\n",
    "            random_state=123,\n",
    "            update_every=1,\n",
    "            chunksize=100,\n",
    "            passes=10,\n",
    "            alpha=\"auto\",\n",
    "            per_word_topics=True,\n",
    "        )\n",
    "        model_list.append(model)\n",
    "        coherencemodel = CoherenceModel(\n",
    "            model=model, texts=texts, dictionary=dictionary, coherence=\"c_v\"\n",
    "        )\n",
    "        coherence_values.append(coherencemodel.get_coherence())\n",
    "\n",
    "    return model_list, coherence_values\n",
    "\n",
    "\n",
    "# ATTENTION!!!! Can take a LONG time to run.\n",
    "lowerBound = 2\n",
    "upperBound = 20\n",
    "step = 6\n",
    "model_list, coherence_values = compute_coherence_values(\n",
    "    dictionary=id2word,\n",
    "    corpus=tdm,\n",
    "    texts=corpus,\n",
    "    start=lowerBound,\n",
    "    limit=upperBound,\n",
    "    step=step,\n",
    ")\n",
    "\n",
    "# Show graph\n",
    "x = range(lowerBound, upperBound, step)\n",
    "plt.plot(x, coherence_values)\n",
    "plt.xlabel(\"Num Topics\")\n",
    "plt.ylabel(\"Coherence score\")\n",
    "plt.legend((\"coherence_values\"), loc=\"best\")\n",
    "plt.show()\n",
    "# The coherence score is decreasing. A higher value should be chosen, because as K increases the probability of having repeated keywords increases.\n",
    "# ...So, in this case we may choose 8, as there is an inflaction at K=8"
   ]
  }
 ],
 "metadata": {
  "kernelspec": {
   "display_name": "Python 3 (ipykernel)",
   "language": "python",
   "name": "python3"
  },
  "language_info": {
   "codemirror_mode": {
    "name": "ipython",
    "version": 3
   },
   "file_extension": ".py",
   "mimetype": "text/x-python",
   "name": "python",
   "nbconvert_exporter": "python",
   "pygments_lexer": "ipython3",
   "version": "3.9.12"
  },
  "vscode": {
   "interpreter": {
    "hash": "d7a18bc08bf6b314cad8b0dd8f53415ad78d1015cc806d14e4873c235fb4e191"
   }
  }
 },
 "nbformat": 4,
 "nbformat_minor": 4
}
