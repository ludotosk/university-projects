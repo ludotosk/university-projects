{
 "cells": [
  {
   "cell_type": "markdown",
   "metadata": {},
   "source": [
    "##### Social Media Analytics\n",
    "### Introduction to Text Mining\n",
    "## Sentiment Analysis\n",
    "(c) Nuno Antonio 2019-2022 v1.02"
   ]
  },
  {
   "cell_type": "markdown",
   "metadata": {},
   "source": [
    "### Initial setup"
   ]
  },
  {
   "cell_type": "code",
   "execution_count": 90,
   "metadata": {},
   "outputs": [],
   "source": [
    "# Import packages\n",
    "import csv\n",
    "import re\n",
    "\n",
    "import nltk\n",
    "import numpy as np\n",
    "import pandas as pd\n",
    "from bs4 import BeautifulSoup\n",
    "from feel_it import SentimentClassifier\n",
    "from nltk.corpus import stopwords\n",
    "from nltk.tokenize import sent_tokenize, word_tokenize\n",
    "from tqdm import tqdm"
   ]
  },
  {
   "cell_type": "code",
   "execution_count": 120,
   "metadata": {},
   "outputs": [],
   "source": [
    "ds = pd.read_parquet(\"fatto.parquet.snappy\", engine=\"fastparquet\")"
   ]
  },
  {
   "cell_type": "code",
   "execution_count": 121,
   "metadata": {},
   "outputs": [],
   "source": [
    "ds[\"title\"] = ds[\"title\"].astype(\"string\")\n",
    "ds[\"author\"] = ds[\"author\"].astype(\"string\")\n",
    "ds[\"text\"] = ds[\"text\"].astype(\"string\")"
   ]
  },
  {
   "cell_type": "code",
   "execution_count": 93,
   "metadata": {},
   "outputs": [
    {
     "data": {
      "text/html": [
       "<div>\n",
       "<style scoped>\n",
       "    .dataframe tbody tr th:only-of-type {\n",
       "        vertical-align: middle;\n",
       "    }\n",
       "\n",
       "    .dataframe tbody tr th {\n",
       "        vertical-align: top;\n",
       "    }\n",
       "\n",
       "    .dataframe thead th {\n",
       "        text-align: right;\n",
       "    }\n",
       "</style>\n",
       "<table border=\"1\" class=\"dataframe\">\n",
       "  <thead>\n",
       "    <tr style=\"text-align: right;\">\n",
       "      <th></th>\n",
       "      <th>link</th>\n",
       "      <th>title</th>\n",
       "      <th>author</th>\n",
       "      <th>date</th>\n",
       "      <th>text</th>\n",
       "      <th>comments</th>\n",
       "    </tr>\n",
       "    <tr>\n",
       "      <th>index</th>\n",
       "      <th></th>\n",
       "      <th></th>\n",
       "      <th></th>\n",
       "      <th></th>\n",
       "      <th></th>\n",
       "      <th></th>\n",
       "    </tr>\n",
       "  </thead>\n",
       "  <tbody>\n",
       "    <tr>\n",
       "      <th>0</th>\n",
       "      <td>https://www.ilfattoquotidiano.it/2023/05/17/da...</td>\n",
       "      <td>“Da esponente del ‘partito unico bellicista’ v...</td>\n",
       "      <td>Thomas Mackinson</td>\n",
       "      <td>2023-05-17</td>\n",
       "      <td>La controffensiva di Kiev? “Deve ancora cominc...</td>\n",
       "      <td>[Articolo di una supericialita'imbarazzante,ch...</td>\n",
       "    </tr>\n",
       "    <tr>\n",
       "      <th>1</th>\n",
       "      <td>https://www.ilfattoquotidiano.it/2023/05/16/ar...</td>\n",
       "      <td>‘Armi offensive? Sarebbe una guerra mondiale’....</td>\n",
       "      <td>Gianni Rosini</td>\n",
       "      <td>2023-05-16</td>\n",
       "      <td>Da mesi, ormai, la guerra mostra un sostanzial...</td>\n",
       "      <td>[Come auspicato dal comico di Kiev, un bel gio...</td>\n",
       "    </tr>\n",
       "    <tr>\n",
       "      <th>2</th>\n",
       "      <td>https://www.ilfattoquotidiano.it/2023/05/14/oc...</td>\n",
       "      <td>“Occupare città russe, bombardare oleodotti e ...</td>\n",
       "      <td>F. Q.</td>\n",
       "      <td>2023-05-14</td>\n",
       "      <td>Occupare città russe per guadagnare vantaggio ...</td>\n",
       "      <td>[Incredibile scoop del Washington Post: \"Zelen...</td>\n",
       "    </tr>\n",
       "    <tr>\n",
       "      <th>3</th>\n",
       "      <td>https://www.ilfattoquotidiano.it/2023/05/14/ir...</td>\n",
       "      <td>Irritazione della Santa Sede dopo il no di Zel...</td>\n",
       "      <td>Francesco Antonio Grana</td>\n",
       "      <td>2023-05-14</td>\n",
       "      <td>“Con le armi non si otterrà mai la sicurezza e...</td>\n",
       "      <td>[Ma che cosa ci si poteva attendere dal pres U...</td>\n",
       "    </tr>\n",
       "    <tr>\n",
       "      <th>4</th>\n",
       "      <td>https://www.ilfattoquotidiano.it/2023/05/14/ze...</td>\n",
       "      <td>Zelensky dice no alla mediazione di Papa Franc...</td>\n",
       "      <td>F. Q.</td>\n",
       "      <td>2023-05-14</td>\n",
       "      <td>Una chiusura che certifica lo stallo. Le spera...</td>\n",
       "      <td>[“A pensar male si commette peccato, ma spesso...</td>\n",
       "    </tr>\n",
       "  </tbody>\n",
       "</table>\n",
       "</div>"
      ],
      "text/plain": [
       "                                                    link  \\\n",
       "index                                                      \n",
       "0      https://www.ilfattoquotidiano.it/2023/05/17/da...   \n",
       "1      https://www.ilfattoquotidiano.it/2023/05/16/ar...   \n",
       "2      https://www.ilfattoquotidiano.it/2023/05/14/oc...   \n",
       "3      https://www.ilfattoquotidiano.it/2023/05/14/ir...   \n",
       "4      https://www.ilfattoquotidiano.it/2023/05/14/ze...   \n",
       "\n",
       "                                                   title  \\\n",
       "index                                                      \n",
       "0      “Da esponente del ‘partito unico bellicista’ v...   \n",
       "1      ‘Armi offensive? Sarebbe una guerra mondiale’....   \n",
       "2      “Occupare città russe, bombardare oleodotti e ...   \n",
       "3      Irritazione della Santa Sede dopo il no di Zel...   \n",
       "4      Zelensky dice no alla mediazione di Papa Franc...   \n",
       "\n",
       "                        author       date  \\\n",
       "index                                       \n",
       "0             Thomas Mackinson 2023-05-17   \n",
       "1                Gianni Rosini 2023-05-16   \n",
       "2                        F. Q. 2023-05-14   \n",
       "3      Francesco Antonio Grana 2023-05-14   \n",
       "4                        F. Q. 2023-05-14   \n",
       "\n",
       "                                                    text  \\\n",
       "index                                                      \n",
       "0      La controffensiva di Kiev? “Deve ancora cominc...   \n",
       "1      Da mesi, ormai, la guerra mostra un sostanzial...   \n",
       "2      Occupare città russe per guadagnare vantaggio ...   \n",
       "3      “Con le armi non si otterrà mai la sicurezza e...   \n",
       "4      Una chiusura che certifica lo stallo. Le spera...   \n",
       "\n",
       "                                                comments  \n",
       "index                                                     \n",
       "0      [Articolo di una supericialita'imbarazzante,ch...  \n",
       "1      [Come auspicato dal comico di Kiev, un bel gio...  \n",
       "2      [Incredibile scoop del Washington Post: \"Zelen...  \n",
       "3      [Ma che cosa ci si poteva attendere dal pres U...  \n",
       "4      [“A pensar male si commette peccato, ma spesso...  "
      ]
     },
     "execution_count": 93,
     "metadata": {},
     "output_type": "execute_result"
    }
   ],
   "source": [
    "ds.head()"
   ]
  },
  {
   "cell_type": "code",
   "execution_count": 94,
   "metadata": {},
   "outputs": [
    {
     "name": "stdout",
     "output_type": "stream",
     "text": [
      "<class 'pandas.core.frame.DataFrame'>\n",
      "Index: 2986 entries, 0 to 2985\n",
      "Data columns (total 6 columns):\n",
      " #   Column    Non-Null Count  Dtype         \n",
      "---  ------    --------------  -----         \n",
      " 0   link      2986 non-null   category      \n",
      " 1   title     2986 non-null   string        \n",
      " 2   author    2986 non-null   string        \n",
      " 3   date      2986 non-null   datetime64[ns]\n",
      " 4   text      2959 non-null   string        \n",
      " 5   comments  2986 non-null   object        \n",
      "dtypes: category(1), datetime64[ns](1), object(1), string(3)\n",
      "memory usage: 169.1+ KB\n"
     ]
    }
   ],
   "source": [
    "ds.info()"
   ]
  },
  {
   "cell_type": "code",
   "execution_count": 95,
   "metadata": {},
   "outputs": [],
   "source": [
    "ds = ds.dropna(subset=[\"text\"])"
   ]
  },
  {
   "cell_type": "markdown",
   "metadata": {},
   "source": [
    "### Functions"
   ]
  },
  {
   "cell_type": "code",
   "execution_count": 96,
   "metadata": {},
   "outputs": [],
   "source": [
    "# Text preprocessing\n",
    "def textPreProcess(\n",
    "    rawText,\n",
    "    removeHTML=True,\n",
    "    charsToRemove=r\"\\?|\\.|\\!|\\;|\\.|\\\"|\\,|\\(|\\)|\\&|\\:|\\-\",\n",
    "    removeNumbers=True,\n",
    "    removeLineBreaks=False,\n",
    "    specialCharsToRemove=r\"[^\\x00-\\xfd]\",\n",
    "    convertToLower=True,\n",
    "    removeConsecutiveSpaces=True,\n",
    "):\n",
    "    if type(rawText) != str:\n",
    "        return rawText\n",
    "    procText = rawText\n",
    "\n",
    "    # Remove HTML\n",
    "    if removeHTML:\n",
    "        procText = BeautifulSoup(procText, \"html.parser\").get_text()\n",
    "\n",
    "    # Remove punctuation and other special characters\n",
    "    if len(charsToRemove) > 0:\n",
    "        procText = re.sub(charsToRemove, \" \", procText)\n",
    "\n",
    "    # Remove numbers\n",
    "    if removeNumbers:\n",
    "        procText = re.sub(r\"\\d+\", \" \", procText)\n",
    "\n",
    "    # Remove line breaks\n",
    "    if removeLineBreaks:\n",
    "        procText = procText.replace(\"\\n\", \" \").replace(\"\\r\", \"\")\n",
    "\n",
    "    # Remove special characters\n",
    "    if len(specialCharsToRemove) > 0:\n",
    "        procText = re.sub(specialCharsToRemove, \" \", procText)\n",
    "\n",
    "    # Normalize to lower case\n",
    "    if convertToLower:\n",
    "        procText = procText.lower()\n",
    "\n",
    "    # Replace multiple consecutive spaces with just one space\n",
    "    if removeConsecutiveSpaces:\n",
    "        procText = re.sub(\" +\", \" \", procText)\n",
    "\n",
    "    return procText"
   ]
  },
  {
   "cell_type": "code",
   "execution_count": 97,
   "metadata": {},
   "outputs": [],
   "source": [
    "# Function to break texts into sentences\n",
    "def tokenize_sentences(texts):\n",
    "    s_token = sent_tokenize(texts)\n",
    "    return s_token"
   ]
  },
  {
   "cell_type": "markdown",
   "metadata": {},
   "source": [
    "### Analysis"
   ]
  },
  {
   "cell_type": "code",
   "execution_count": 98,
   "metadata": {},
   "outputs": [],
   "source": [
    "sentiment = pd.DataFrame(columns=[\"link\", \"text\", \"sentiment\"])"
   ]
  },
  {
   "cell_type": "code",
   "execution_count": 99,
   "metadata": {},
   "outputs": [],
   "source": [
    "sentiment.link = ds.link\n",
    "sentiment.text = ds.text"
   ]
  },
  {
   "cell_type": "code",
   "execution_count": 100,
   "metadata": {},
   "outputs": [
    {
     "name": "stderr",
     "output_type": "stream",
     "text": [
      "/home/tosk/anaconda3/lib/python3.9/site-packages/bs4/__init__.py:435: MarkupResemblesLocatorWarning: The input looks more like a filename than markup. You may want to open this file and pass the filehandle into Beautiful Soup.\n",
      "  warnings.warn(\n"
     ]
    }
   ],
   "source": [
    "sentiment.text = sentiment.text.apply(\n",
    "    textPreProcess, charsToRemove=\"\", removeLineBreaks=False, removeNumbers=False\n",
    ")"
   ]
  },
  {
   "cell_type": "code",
   "execution_count": 102,
   "metadata": {},
   "outputs": [],
   "source": [
    "stop_words = set(stopwords.words(\"italian\"))"
   ]
  },
  {
   "cell_type": "code",
   "execution_count": 103,
   "metadata": {},
   "outputs": [],
   "source": [
    "def removeStop(article):\n",
    "    words = article.split()\n",
    "    new_string = \"\"\n",
    "    for word in words:\n",
    "        isAStopWord = True  # if we have a stop word the boolean value change and we will not add it to the string\n",
    "        for stop in stop_words:\n",
    "            if word == stop:\n",
    "                isAStopWord = False\n",
    "        if isAStopWord:\n",
    "            new_string = new_string + \" \" + word\n",
    "\n",
    "    return new_string"
   ]
  },
  {
   "cell_type": "code",
   "execution_count": 104,
   "metadata": {},
   "outputs": [
    {
     "name": "stderr",
     "output_type": "stream",
     "text": [
      "100%|██████████| 2959/2959 [00:10<00:00, 275.30it/s]\n"
     ]
    }
   ],
   "source": [
    "# Remove stopwords\n",
    "tqdm.pandas()\n",
    "\n",
    "stop_words = set(stopwords.words(\"italian\"))\n",
    "\n",
    "sentiment.text = sentiment.text.progress_apply(removeStop)"
   ]
  },
  {
   "cell_type": "code",
   "execution_count": 105,
   "metadata": {},
   "outputs": [],
   "source": [
    "# Create sentiment analysis object\n",
    "sentiment_classifier = SentimentClassifier()"
   ]
  },
  {
   "cell_type": "code",
   "execution_count": 106,
   "metadata": {},
   "outputs": [
    {
     "name": "stderr",
     "output_type": "stream",
     "text": [
      "100%|██████████| 2959/2959 [16:26<00:00,  3.00it/s]\n"
     ]
    }
   ],
   "source": [
    "# Process sentiment for all sentences\n",
    "tqdm.pandas()\n",
    "\n",
    "sentiment.sentiment = sentiment.text.progress_apply(\n",
    "    lambda x: sentiment_classifier.predict([x])\n",
    ")"
   ]
  },
  {
   "cell_type": "code",
   "execution_count": 122,
   "metadata": {},
   "outputs": [
    {
     "ename": "ValueError",
     "evalue": "Length of values (2959) does not match length of index (2986)",
     "output_type": "error",
     "traceback": [
      "\u001b[0;31m---------------------------------------------------------------------------\u001b[0m",
      "\u001b[0;31mValueError\u001b[0m                                Traceback (most recent call last)",
      "Input \u001b[0;32mIn [122]\u001b[0m, in \u001b[0;36m<cell line: 1>\u001b[0;34m()\u001b[0m\n\u001b[0;32m----> 1\u001b[0m \u001b[43mds\u001b[49m\u001b[38;5;241;43m.\u001b[39;49m\u001b[43minsert\u001b[49m\u001b[43m(\u001b[49m\u001b[38;5;241;43m6\u001b[39;49m\u001b[43m,\u001b[49m\u001b[43m \u001b[49m\u001b[38;5;124;43m\"\u001b[39;49m\u001b[38;5;124;43msentiment\u001b[39;49m\u001b[38;5;124;43m\"\u001b[39;49m\u001b[43m,\u001b[49m\u001b[43m \u001b[49m\u001b[43msentiment\u001b[49m\u001b[38;5;241;43m.\u001b[39;49m\u001b[43msentiment\u001b[49m\u001b[38;5;241;43m.\u001b[39;49m\u001b[43mvalues\u001b[49m\u001b[43m)\u001b[49m\n",
      "File \u001b[0;32m~/anaconda3/lib/python3.9/site-packages/pandas/core/frame.py:4776\u001b[0m, in \u001b[0;36mDataFrame.insert\u001b[0;34m(self, loc, column, value, allow_duplicates)\u001b[0m\n\u001b[1;32m   4773\u001b[0m \u001b[38;5;28;01mif\u001b[39;00m \u001b[38;5;129;01mnot\u001b[39;00m \u001b[38;5;28misinstance\u001b[39m(loc, \u001b[38;5;28mint\u001b[39m):\n\u001b[1;32m   4774\u001b[0m     \u001b[38;5;28;01mraise\u001b[39;00m \u001b[38;5;167;01mTypeError\u001b[39;00m(\u001b[38;5;124m\"\u001b[39m\u001b[38;5;124mloc must be int\u001b[39m\u001b[38;5;124m\"\u001b[39m)\n\u001b[0;32m-> 4776\u001b[0m value \u001b[38;5;241m=\u001b[39m \u001b[38;5;28;43mself\u001b[39;49m\u001b[38;5;241;43m.\u001b[39;49m\u001b[43m_sanitize_column\u001b[49m\u001b[43m(\u001b[49m\u001b[43mvalue\u001b[49m\u001b[43m)\u001b[49m\n\u001b[1;32m   4777\u001b[0m \u001b[38;5;28mself\u001b[39m\u001b[38;5;241m.\u001b[39m_mgr\u001b[38;5;241m.\u001b[39minsert(loc, column, value)\n",
      "File \u001b[0;32m~/anaconda3/lib/python3.9/site-packages/pandas/core/frame.py:4870\u001b[0m, in \u001b[0;36mDataFrame._sanitize_column\u001b[0;34m(self, value)\u001b[0m\n\u001b[1;32m   4867\u001b[0m     \u001b[38;5;28;01mreturn\u001b[39;00m _reindex_for_setitem(Series(value), \u001b[38;5;28mself\u001b[39m\u001b[38;5;241m.\u001b[39mindex)\n\u001b[1;32m   4869\u001b[0m \u001b[38;5;28;01mif\u001b[39;00m is_list_like(value):\n\u001b[0;32m-> 4870\u001b[0m     \u001b[43mcom\u001b[49m\u001b[38;5;241;43m.\u001b[39;49m\u001b[43mrequire_length_match\u001b[49m\u001b[43m(\u001b[49m\u001b[43mvalue\u001b[49m\u001b[43m,\u001b[49m\u001b[43m \u001b[49m\u001b[38;5;28;43mself\u001b[39;49m\u001b[38;5;241;43m.\u001b[39;49m\u001b[43mindex\u001b[49m\u001b[43m)\u001b[49m\n\u001b[1;32m   4871\u001b[0m \u001b[38;5;28;01mreturn\u001b[39;00m sanitize_array(value, \u001b[38;5;28mself\u001b[39m\u001b[38;5;241m.\u001b[39mindex, copy\u001b[38;5;241m=\u001b[39m\u001b[38;5;28;01mTrue\u001b[39;00m, allow_2d\u001b[38;5;241m=\u001b[39m\u001b[38;5;28;01mTrue\u001b[39;00m)\n",
      "File \u001b[0;32m~/anaconda3/lib/python3.9/site-packages/pandas/core/common.py:576\u001b[0m, in \u001b[0;36mrequire_length_match\u001b[0;34m(data, index)\u001b[0m\n\u001b[1;32m    572\u001b[0m \u001b[38;5;124;03m\"\"\"\u001b[39;00m\n\u001b[1;32m    573\u001b[0m \u001b[38;5;124;03mCheck the length of data matches the length of the index.\u001b[39;00m\n\u001b[1;32m    574\u001b[0m \u001b[38;5;124;03m\"\"\"\u001b[39;00m\n\u001b[1;32m    575\u001b[0m \u001b[38;5;28;01mif\u001b[39;00m \u001b[38;5;28mlen\u001b[39m(data) \u001b[38;5;241m!=\u001b[39m \u001b[38;5;28mlen\u001b[39m(index):\n\u001b[0;32m--> 576\u001b[0m     \u001b[38;5;28;01mraise\u001b[39;00m \u001b[38;5;167;01mValueError\u001b[39;00m(\n\u001b[1;32m    577\u001b[0m         \u001b[38;5;124m\"\u001b[39m\u001b[38;5;124mLength of values \u001b[39m\u001b[38;5;124m\"\u001b[39m\n\u001b[1;32m    578\u001b[0m         \u001b[38;5;124mf\u001b[39m\u001b[38;5;124m\"\u001b[39m\u001b[38;5;124m(\u001b[39m\u001b[38;5;132;01m{\u001b[39;00m\u001b[38;5;28mlen\u001b[39m(data)\u001b[38;5;132;01m}\u001b[39;00m\u001b[38;5;124m) \u001b[39m\u001b[38;5;124m\"\u001b[39m\n\u001b[1;32m    579\u001b[0m         \u001b[38;5;124m\"\u001b[39m\u001b[38;5;124mdoes not match length of index \u001b[39m\u001b[38;5;124m\"\u001b[39m\n\u001b[1;32m    580\u001b[0m         \u001b[38;5;124mf\u001b[39m\u001b[38;5;124m\"\u001b[39m\u001b[38;5;124m(\u001b[39m\u001b[38;5;132;01m{\u001b[39;00m\u001b[38;5;28mlen\u001b[39m(index)\u001b[38;5;132;01m}\u001b[39;00m\u001b[38;5;124m)\u001b[39m\u001b[38;5;124m\"\u001b[39m\n\u001b[1;32m    581\u001b[0m     )\n",
      "\u001b[0;31mValueError\u001b[0m: Length of values (2959) does not match length of index (2986)"
     ]
    }
   ],
   "source": [
    "ds.insert(6, \"sentiment\", sentiment.sentiment.values)"
   ]
  },
  {
   "cell_type": "code",
   "execution_count": 111,
   "metadata": {},
   "outputs": [
    {
     "data": {
      "text/html": [
       "<div>\n",
       "<style scoped>\n",
       "    .dataframe tbody tr th:only-of-type {\n",
       "        vertical-align: middle;\n",
       "    }\n",
       "\n",
       "    .dataframe tbody tr th {\n",
       "        vertical-align: top;\n",
       "    }\n",
       "\n",
       "    .dataframe thead th {\n",
       "        text-align: right;\n",
       "    }\n",
       "</style>\n",
       "<table border=\"1\" class=\"dataframe\">\n",
       "  <thead>\n",
       "    <tr style=\"text-align: right;\">\n",
       "      <th></th>\n",
       "      <th>link</th>\n",
       "      <th>title</th>\n",
       "      <th>author</th>\n",
       "      <th>date</th>\n",
       "      <th>text</th>\n",
       "      <th>comments</th>\n",
       "      <th>sentiment</th>\n",
       "    </tr>\n",
       "    <tr>\n",
       "      <th>index</th>\n",
       "      <th></th>\n",
       "      <th></th>\n",
       "      <th></th>\n",
       "      <th></th>\n",
       "      <th></th>\n",
       "      <th></th>\n",
       "      <th></th>\n",
       "    </tr>\n",
       "  </thead>\n",
       "  <tbody>\n",
       "    <tr>\n",
       "      <th>0</th>\n",
       "      <td>https://www.ilfattoquotidiano.it/2023/05/17/da...</td>\n",
       "      <td>“Da esponente del ‘partito unico bellicista’ v...</td>\n",
       "      <td>Thomas Mackinson</td>\n",
       "      <td>2023-05-17</td>\n",
       "      <td>La controffensiva di Kiev? “Deve ancora cominc...</td>\n",
       "      <td>[Articolo di una supericialita'imbarazzante,ch...</td>\n",
       "      <td>[negative]</td>\n",
       "    </tr>\n",
       "    <tr>\n",
       "      <th>1</th>\n",
       "      <td>https://www.ilfattoquotidiano.it/2023/05/16/ar...</td>\n",
       "      <td>‘Armi offensive? Sarebbe una guerra mondiale’....</td>\n",
       "      <td>Gianni Rosini</td>\n",
       "      <td>2023-05-16</td>\n",
       "      <td>Da mesi, ormai, la guerra mostra un sostanzial...</td>\n",
       "      <td>[Come auspicato dal comico di Kiev, un bel gio...</td>\n",
       "      <td>[negative]</td>\n",
       "    </tr>\n",
       "    <tr>\n",
       "      <th>2</th>\n",
       "      <td>https://www.ilfattoquotidiano.it/2023/05/14/oc...</td>\n",
       "      <td>“Occupare città russe, bombardare oleodotti e ...</td>\n",
       "      <td>F. Q.</td>\n",
       "      <td>2023-05-14</td>\n",
       "      <td>Occupare città russe per guadagnare vantaggio ...</td>\n",
       "      <td>[Incredibile scoop del Washington Post: \"Zelen...</td>\n",
       "      <td>[negative]</td>\n",
       "    </tr>\n",
       "    <tr>\n",
       "      <th>3</th>\n",
       "      <td>https://www.ilfattoquotidiano.it/2023/05/14/ir...</td>\n",
       "      <td>Irritazione della Santa Sede dopo il no di Zel...</td>\n",
       "      <td>Francesco Antonio Grana</td>\n",
       "      <td>2023-05-14</td>\n",
       "      <td>“Con le armi non si otterrà mai la sicurezza e...</td>\n",
       "      <td>[Ma che cosa ci si poteva attendere dal pres U...</td>\n",
       "      <td>[negative]</td>\n",
       "    </tr>\n",
       "    <tr>\n",
       "      <th>4</th>\n",
       "      <td>https://www.ilfattoquotidiano.it/2023/05/14/ze...</td>\n",
       "      <td>Zelensky dice no alla mediazione di Papa Franc...</td>\n",
       "      <td>F. Q.</td>\n",
       "      <td>2023-05-14</td>\n",
       "      <td>Una chiusura che certifica lo stallo. Le spera...</td>\n",
       "      <td>[“A pensar male si commette peccato, ma spesso...</td>\n",
       "      <td>[negative]</td>\n",
       "    </tr>\n",
       "  </tbody>\n",
       "</table>\n",
       "</div>"
      ],
      "text/plain": [
       "                                                    link  \\\n",
       "index                                                      \n",
       "0      https://www.ilfattoquotidiano.it/2023/05/17/da...   \n",
       "1      https://www.ilfattoquotidiano.it/2023/05/16/ar...   \n",
       "2      https://www.ilfattoquotidiano.it/2023/05/14/oc...   \n",
       "3      https://www.ilfattoquotidiano.it/2023/05/14/ir...   \n",
       "4      https://www.ilfattoquotidiano.it/2023/05/14/ze...   \n",
       "\n",
       "                                                   title  \\\n",
       "index                                                      \n",
       "0      “Da esponente del ‘partito unico bellicista’ v...   \n",
       "1      ‘Armi offensive? Sarebbe una guerra mondiale’....   \n",
       "2      “Occupare città russe, bombardare oleodotti e ...   \n",
       "3      Irritazione della Santa Sede dopo il no di Zel...   \n",
       "4      Zelensky dice no alla mediazione di Papa Franc...   \n",
       "\n",
       "                        author       date  \\\n",
       "index                                       \n",
       "0             Thomas Mackinson 2023-05-17   \n",
       "1                Gianni Rosini 2023-05-16   \n",
       "2                        F. Q. 2023-05-14   \n",
       "3      Francesco Antonio Grana 2023-05-14   \n",
       "4                        F. Q. 2023-05-14   \n",
       "\n",
       "                                                    text  \\\n",
       "index                                                      \n",
       "0      La controffensiva di Kiev? “Deve ancora cominc...   \n",
       "1      Da mesi, ormai, la guerra mostra un sostanzial...   \n",
       "2      Occupare città russe per guadagnare vantaggio ...   \n",
       "3      “Con le armi non si otterrà mai la sicurezza e...   \n",
       "4      Una chiusura che certifica lo stallo. Le spera...   \n",
       "\n",
       "                                                comments   sentiment  \n",
       "index                                                                 \n",
       "0      [Articolo di una supericialita'imbarazzante,ch...  [negative]  \n",
       "1      [Come auspicato dal comico di Kiev, un bel gio...  [negative]  \n",
       "2      [Incredibile scoop del Washington Post: \"Zelen...  [negative]  \n",
       "3      [Ma che cosa ci si poteva attendere dal pres U...  [negative]  \n",
       "4      [“A pensar male si commette peccato, ma spesso...  [negative]  "
      ]
     },
     "execution_count": 111,
     "metadata": {},
     "output_type": "execute_result"
    }
   ],
   "source": [
    "ds.head()"
   ]
  },
  {
   "cell_type": "code",
   "execution_count": 112,
   "metadata": {},
   "outputs": [],
   "source": [
    "ds.to_parquet(\"FalsoSentimentArticles.parquet.snappy\", engine=\"fastparquet\")"
   ]
  }
 ],
 "metadata": {
  "kernelspec": {
   "display_name": "Python 3 (ipykernel)",
   "language": "python",
   "name": "python3"
  },
  "language_info": {
   "codemirror_mode": {
    "name": "ipython",
    "version": 3
   },
   "file_extension": ".py",
   "mimetype": "text/x-python",
   "name": "python",
   "nbconvert_exporter": "python",
   "pygments_lexer": "ipython3",
   "version": "3.9.12"
  },
  "vscode": {
   "interpreter": {
    "hash": "d7a18bc08bf6b314cad8b0dd8f53415ad78d1015cc806d14e4873c235fb4e191"
   }
  }
 },
 "nbformat": 4,
 "nbformat_minor": 4
}
