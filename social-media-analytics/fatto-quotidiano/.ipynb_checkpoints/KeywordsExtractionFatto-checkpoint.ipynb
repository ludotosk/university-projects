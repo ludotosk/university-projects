{
 "cells": [
  {
   "cell_type": "markdown",
   "metadata": {},
   "source": [
    "##### Social Media Analytics\n",
    "### Introduction to Text Mining\n",
    "## Keywords extraction (using RAKE method)\n",
    "(c) Nuno Antonio 2019-2022 v1.02"
   ]
  },
  {
   "cell_type": "markdown",
   "metadata": {},
   "source": [
    "### Initial setup"
   ]
  },
  {
   "cell_type": "code",
   "execution_count": 1,
   "metadata": {},
   "outputs": [],
   "source": [
    "# Import packages\n",
    "import csv\n",
    "import re\n",
    "\n",
    "import nltk\n",
    "import numpy as np\n",
    "import pandas as pd\n",
    "from bs4 import BeautifulSoup\n",
    "from nltk.tokenize import word_tokenize\n",
    "from rake_nltk import Rake"
   ]
  },
  {
   "cell_type": "code",
   "execution_count": 2,
   "metadata": {},
   "outputs": [],
   "source": [
    "ds = pd.read_parquet(\"fatto.parquet.snappy\", engine=\"fastparquet\")"
   ]
  },
  {
   "cell_type": "markdown",
   "metadata": {},
   "source": [
    "### Functions"
   ]
  },
  {
   "cell_type": "code",
   "execution_count": 3,
   "metadata": {},
   "outputs": [],
   "source": [
    "# Text preprocessing\n",
    "def textPreProcess(\n",
    "    rawText,\n",
    "    removeHTML=True,\n",
    "    charsToRemove=r\"\\?|\\.|\\!|\\;|\\.|\\\"|\\,|\\(|\\)|\\&|\\:|\\-\",\n",
    "    removeNumbers=True,\n",
    "    removeLineBreaks=False,\n",
    "    specialCharsToRemove=r\"[^\\x00-\\xfd]\",\n",
    "    convertToLower=True,\n",
    "    removeConsecutiveSpaces=True,\n",
    "):\n",
    "    if type(rawText) != str:\n",
    "        return rawText\n",
    "    procText = rawText\n",
    "\n",
    "    # Remove HTML\n",
    "    if removeHTML:\n",
    "        procText = BeautifulSoup(procText, \"html.parser\").get_text()\n",
    "\n",
    "    # Remove punctuation and other special characters\n",
    "    if len(charsToRemove) > 0:\n",
    "        procText = re.sub(charsToRemove, \" \", procText)\n",
    "\n",
    "    # Remove numbers\n",
    "    if removeNumbers:\n",
    "        procText = re.sub(r\"\\d+\", \" \", procText)\n",
    "\n",
    "    # Remove line breaks\n",
    "    if removeLineBreaks:\n",
    "        procText = procText.replace(\"\\n\", \" \").replace(\"\\r\", \"\")\n",
    "\n",
    "    # Remove special characters\n",
    "    if len(specialCharsToRemove) > 0:\n",
    "        procText = re.sub(specialCharsToRemove, \" \", procText)\n",
    "\n",
    "    # Normalize to lower case\n",
    "    if convertToLower:\n",
    "        procText = procText.lower()\n",
    "\n",
    "    # Replace multiple consecutive spaces with just one space\n",
    "    if removeConsecutiveSpaces:\n",
    "        procText = re.sub(\" +\", \" \", procText)\n",
    "\n",
    "    return procText"
   ]
  },
  {
   "cell_type": "code",
   "execution_count": 4,
   "metadata": {},
   "outputs": [],
   "source": [
    "# Tokenize words\n",
    "def tokenize_words(words):\n",
    "    if (type(words) != str) or (word_tokenize(words) == \"\"):\n",
    "        return np.nan\n",
    "    else:\n",
    "        return word_tokenize(words)"
   ]
  },
  {
   "cell_type": "code",
   "execution_count": 5,
   "metadata": {},
   "outputs": [],
   "source": [
    "# Function to create text from words\n",
    "def recreateText(words):\n",
    "    if type(words) == list:\n",
    "        temp_str = (\" \").join(words)\n",
    "        return temp_str\n",
    "    else:\n",
    "        return np.nan"
   ]
  },
  {
   "cell_type": "markdown",
   "metadata": {},
   "source": [
    "### Analysis"
   ]
  },
  {
   "cell_type": "code",
   "execution_count": 6,
   "metadata": {},
   "outputs": [
    {
     "name": "stderr",
     "output_type": "stream",
     "text": [
      "/home/tosk/anaconda3/lib/python3.9/site-packages/bs4/__init__.py:435: MarkupResemblesLocatorWarning: The input looks more like a filename than markup. You may want to open this file and pass the filehandle into Beautiful Soup.\n",
      "  warnings.warn(\n"
     ]
    }
   ],
   "source": [
    "# Create a dataframe with only the description\n",
    "processedReviews = pd.DataFrame(\n",
    "    data=ds.text.apply(textPreProcess, charsToRemove=\"\", removeNumbers=False).values,\n",
    "    index=ds.index,\n",
    "    columns=[\"PreProcessedText\"],\n",
    ")"
   ]
  },
  {
   "cell_type": "code",
   "execution_count": 7,
   "metadata": {},
   "outputs": [],
   "source": [
    "# Remove rows with empty text\n",
    "processedReviews.PreProcessedText = processedReviews.PreProcessedText.str.strip()\n",
    "processedReviews = processedReviews[processedReviews.PreProcessedText != \"\"]"
   ]
  },
  {
   "cell_type": "markdown",
   "metadata": {},
   "source": [
    "We have an error generate after the transformation of the text, so we need to iterate over ppText in order to clean it."
   ]
  },
  {
   "cell_type": "code",
   "execution_count": 18,
   "metadata": {},
   "outputs": [],
   "source": [
    "# Find specific terms\n",
    "termsToSearch = [\"stati uniti\"]\n",
    "searchList = re.compile(\"|\".join(termsToSearch))\n",
    "\n",
    "# Get words from sentences\n",
    "listOfWords = processedReviews.PreProcessedText.apply(tokenize_words)\n",
    "\n",
    "# Reconstruct sentences with spaces in the beginning and in the end\n",
    "ppText = listOfWords.apply(recreateText)\n",
    "\n",
    "for index, text in ppText.items():\n",
    "    if isinstance(text, float):\n",
    "        ppText = ppText.drop(index=index)\n",
    "    else:\n",
    "        pass\n",
    "\n",
    "# Look for search terms in sentences and present them\n",
    "ppText_searched = []\n",
    "for review in ppText:\n",
    "    if searchList.search(\" \" + review + \" \"):\n",
    "        ppText_searched.append(review)"
   ]
  },
  {
   "cell_type": "code",
   "execution_count": 17,
   "metadata": {},
   "outputs": [
    {
     "data": {
      "text/plain": [
       "['la controffensiva di kiev ? deve ancora cominciare e colpirà i russi in profondità , con attacchi massicci e ravvicinati sul fronte ma dove non se lo aspettano , sfruttando al massimo quel che non hanno : una moderna concezione di come si conducono le operazioni . passa per essere il più noto esponente del partito unico bellicista e non delude vittorio emanuele parsi , ordinario di relazioni internazionali cui abbiamo chiesto un giudizio a 360 gradi sulla guerra in ucraina , dalla situazione sul campo ai tavoli apparecchiati per la pace ma sostanzialmente vuoti ; dalla visita a roma di zelensky ( dall italia ha ricevuto solo pacche sulle spalle ) alle contraddizioni del governo meloni , stretto tra il consenso interno e quello internazionale . e poi sugli italiani contrari alla guerra , quelli che vogliono essere lasciati in pace , e fanno quasi una colpa a zelenski e agli ucraini di essere ancora lì a combattere e la dicotomia tra pace e guerra che sarebbe un falso : perché il contrario della guerra non è la pace , è la resistenza all aggressore . professor parsi , come vede la situazione sul campo ? mi sembra evidente che i russi siano in difficoltà più di quanto si pensasse . la vicenda di bakhmut è esemplificativa : sono tre mesi che dicono di volerla prendere domani ma sono stati non solo respinti , ma arretrano vistosamente . di fatto mosca è sulla difensiva . l avanzamento cui assistiamo è semplicemente il cambiamento dell inerzia : per prendere la città i russi hanno perso molte truppe , molti materiali , hanno sfilacciato le loro linee di rifornimento e a questo punto sono attaccati dalla difesa ucraina che li spinge un po indietro . ma non parlerei ancora della controffensiva .se non è ancora iniziata , come immagina sarà ? quando ci sarà vedrà coinvolti in maniera concentrata la gran parte dei materiali di rifornimento che sono arrivati fino a questo momento : carri armati , sistemi missilistici , aerei e droni insieme a pezzi d artiglieria e munizionamento . dato che non si può sorprendere il nemico su un quadrante piuttosto vasto , perché i russi sono trincerati un po dappertutto , ci sarà a mio avviso una sorpresa nella conduzione delle operazioni : operazioni di altissimo coordinamento tra artiglieria , lanciamissili , droni , mezzi corazzati , fanteria , truppe speciali ; quindi attacchi in profondità , in punti in cui il nemico non se l aspetta , sostenuti poi da rapidi e massicci attacchi sul fronte in cui le unità combattono in maniera molto ravvicinata e molto concentrata , in modo da non dare al nemico la possibilità di intrappolarlo tra le due linee difensive russe . vuol dire che kiev ha raggiunto una superiorità netta sul campo ? voglio dire che ora può sfruttare non solo o tanto i materiali , ma l addestramento , proprio quello che i russi non hanno . perché han continuato a mandare i wagneriani , che sono delinquenti di strada , e coscritti senza un addestramento particolare . adesso iniziano a trovarsi contro quelle decine e decine di migliaia di truppe ucraine che sono state addestrate in questi mesi in europa , in america , in nuova zelanda o in corea . un esempio della differenza ? se tu sai che tra 500 metri c è un campo minato , puoi contare sulla professionalità degli sminatori che effettivamente nel tempo che tu arrivi ti hanno liberato la strada davanti . e contemporaneamente l artiglieria sarà talmente efficace , perché ben addestrata , che coprirà l avanzata delle truppe a una distanza molto ravvicinata , minimizzando però il rischio del fuoco amico . mi spiego ? ma tutto questo si fa solo se tu prendi le persone e le addestri per settimane , per mesi , come è successo a combattenti di plotone , di compagnia , di battaglione di grandi unità . e quello che aveva già dato il vantaggio all inizio agli ucraini che si muovevano molto di più e molto più coordinati rispetto alla staticità e la prevedibilità dei russi . ricordiamo tutti la fantomatica carovana alle porte di kiev . ora l esercito ucraino si ritrova a fare quel che le truppe sapevano fare prima , ma moltiplicato per tre , quattro . è quello l elemento sorpresa , fare cose che il nemico non si aspetta che tu faccia perché sottovaluti il suo addestramento.e sicuro di non sottovalutare invece le riserve e la preparazione dei russi ? oltre a quel che si vede sul terreno , vorranno dire qualcosa i continui moniti da mosca sul rischio nucleare no ? il potenziale offensivo delle forze russe è inficiato da livelli di corruzione devastanti . la corruzione fa sì che ci sia molta meno roba sul terreno , è una questione di incultura strategica . e infatti in questi mesi abbiamo visto immagini di convogli militari russi sulle ferrovie che portavano al fronte carri e camion degli anni 40 , roba che non sta né in cielo né in terra . e noi italiani dovremmo ben sapere cosa significa tutto questo . cosa significa ? ce lo ricordiamo o no che quando entrammo in guerra ? la corruzione dei gerarchi , degli alti gradi militari e degli industriali uniti alla retorica di regime trasformarono gli iscritti alla gioventù italiana del littorio in 8 milioni di baionette per combattere , che non c erano . avevamo carri e arei che facevano schifo , navi anche importanti ma senza radar , senza sistemi a distanza . perché tutti abbiamo detto sì , sì , siamo fortissimi . ma è qualcosa che non filtra al di fuori , perché è tipico della corruzione che chi sta a monte non dica nulla , perché deve prendersi la sua parte . resta giusto il giovane soldato , senza la sua baionetta in mano.senta , ma lei è proprio sicuro che stiamo andando dritti alla vittoria ? sul fronte dell alleanza , l arretramento di mosca e la prospettiva di una controffensiva motivano a sostenere l aggredito in maniera ancora più determinata man mano che tramonta l idea che putin possa arrivare a più miti consigli . mi pare che questa situazione rafforzi il convincimento che si possa arrivare alla fine della guerra non cessando le ostilità ma respingendo l invasore . ecco , le trasferte in europa di zelensky hanno proprio questo obiettivo , anche perché la diplomazia della pace è sostanzialmente ferma.come vede le mediazioni tentate dal vaticano o dalla cina ? non mettono in campo nessuna proposta strategica . nel primo caso riguardano l impegno alla liberazione dei prigionieri e al rintraccio di molte migliaia di bambini rapiti . anche i cinesi non ce l hanno , salvo quattro chiacchiere tra xi jinping e zalensky , a mio avviso più un segnale che xi jinping dà a putin per dire : siamo amici , ti sostengo , ma a tutto c è un limite .cosa pensa del roadshow di zelensky per l europa ? in francia , germania , inghilterra e nelle altre tre capitali ha raccolto non solo pacche sulle spalle ma anche 2 miliardi di euro in più e 40 carri da parte dei tedeschi , sistemi missilistici dagli inglesi , nuovi carri armati dai francesi , l addestramento per gli f-16 per i piloti ucraini dagli inglesi : da noi niente . dalla visita a roma ha ricevuto solo pacche sulle spalle , l italia non è certo nel top ranking di quelli che danno aiuti militari . e questo succede anche se siamo pieni di materiale obsoleto ma utile come obici semoventi , leopard1 o gli m113 che stan lì a marcire e non costerebbe nulla dare a kiev , anche perché sono già patrimonio dismesso della difesa e dunque fuori dal bilancio dello stato.e le professioni di fede della meloni per un sostegno incondizionato ? e un fatto non siano arrivate armi ma solo un segnale politico di sostegno , come dire : noi comunque siamo da questa parte , senza se e senza ma . ma si capisce : da una parte meloni ha salvini come alleato , che per usare un eufemismo si muove in sintonia con le aspettative del cremlino , per non dire di berlusconi con le sue uscite . dall altra , ha i partner internazionali che temono , anche per le ragioni di cui sopra , che l italia sia il ventre molle di tutta questa faccenda . in mezzo , un opinione pubblica preoccupata del punto in cui la guerra si può spingere e un opposizione non tanto politico-parlamentare ma diffusa piuttosto forte.lei come si confronta con questa opposizione ? passo ormai come il più noto esponente del partito unico bellicista , ma devo dire che vado dappertutto , faccio 2 o 3 conferenze a settimana e non mi tirano le uova . noto che quando argomenti in maniera normale e pacata , come stiamo facendo qui , e non ti trinceri dietro la complessità l interlocutore capisce che una spiegazione anche articolata ha più verità di tante semplificazioni.ad esempio ? quando spiego che la guerra non è l opposto della pace . la guerra distrugge la pace per conseguire un obiettivo politico , che è poi l attacco a un modo di vivere delle istituzioni democratiche , perché questa guerra esattamente questo sta facendo . la guerra è qualcosa che l aggressore semmai impone all aggredito , per questo la sua antitesi non è la pace ma la resistenza . se perdiamo di vista questo è finita . le confesso che ho sofferto moltissimo nel sentire le dichiarazioni dei vertici dell anpi sul fatto che quella ucraina non è resistenza . con quelle parole hanno tradito il senso del sacrificio di tutti quei ragazzi italiani di vent anni che potevano starsene a casa e invece scesero in strada contro i tedeschi o salirono sui monti per combatterli e sono stati uccisi . milano è piena di targhe che li ricordano . ma il problema forse è proprio questo . ha letto i sondaggi sugli italiani e le armi a kiev ? li leggo , certo , ma non mi sorprendo . in italia non ci sono comunisti , a parte qualche anziano . non ci sono neanche tanti fascisti , in senso ideologico . ma c è molto residuo di una mentalità che è rimasta , anche una volta tramontate le due ideologie , che diffida dell occidente complessivamente preso . che non ha mai fatto i conti con l occidente per un motivo storico : noi , quando si è costituito , eravamo dall altra parte , coi nazifascisti , e quando poi il nazifascismo è stato sconfitto un pezzo importante di italiani era con un altro progetto totalitario , che era quello comunista . quindi no , noi non siamo esattamente come gli altri . non abbiamo neanche avuto una rieducazione politica massiccia come i tedeschi . ecco , penso che sia un po quello.e dunque , che cosa vogliono gli italiani ? vogliono essere lasciati in pace , e fanno quasi una colpa a zelenski e agli ucraini di essere ancora lì a combattere . l altro giorno ho letto un sondaggio commissionato dalla difesa . era interessante vedere come la percezione della minaccia alla sicurezza che hanno gli italiani è completamente privatistica . cioè le mie cose , la mia famiglia , il mio entourage : è completamente domestica . ci sono il terrorismo , le inondazioni , i terremoti , ma la guerra è in fondo . ma sono 14-15 mesi che si continua a parlare di guerra . la sicurezza , intesa come difesa dalla guerra convenzionale tra stati non c è. semmai c è un po di paura della guerra atomica ma così , come spauracchio , come timore dell armageddon . e questo cosa comporta ? gli italiani sono estremamente privatistici nella loro visione delle cose , e assolutamente poco internazionalizzati . faticano a fare questo passaggio ed è un elemento di cui secondo me anche il governo , in qualche modo , tiene conto . perché appunto un po di mentalità postfascista ce l ha dentro , un po di mentalità postcomunista è là fuori . poi c è la lega che è l inno al not in my back yard , non a spese mie , per cui chissenefrega degli altri capisce che non è facilissima la faccenda .',\n",
       " 'da mesi , ormai , la guerra mostra un sostanziale stallo sul campo di battaglia . mentre gli eserciti ucraino e russo da mesi dimostrano di non poter prevalere , almeno al momento , l uno sull altro , non si fermano la corsa alle armi , il ricorso a nuove strategie e gli appelli ai rispettivi alleati . così , mentre la russia , forte comunque di un vastissimo arsenale , teme per un disimpegno economico della cina e rafforza i legami con il sudafrica , volodymyr zelensky continua a chiedere senza sosta nuove armi sempre più potenti ai partner occidentali . e tra i missili a lungo raggio in arrivo da londra e nuovi carri armati da parigi , adesso arrivano anche le prime aperture ai caccia . così , l escalation prosegue senza freni apparenti.sembrano lontanissime , e forse se si considerano le tempistiche di guerra lo sono , le dichiarazioni rilasciate dal presidente americano joe biden appena 20 giorni dopo l invasione russa dell ucraina : l idea che invieremo armi offensive e che avremo aerei e carri armati e treni che entreranno in azione con piloti americani ed equipaggi americani , capite e non illudetevi , indipendentemente da quello che dite si chiama terza guerra mondiale . oggi quelle parole sono ampiamente superate dagli eventi : sono stati proprio gli americani a fornire il sistema lanciarazzi himars , capace di sparare anche ordigni a lunga gittata , all esercito ucraino . armi che permetterebbero a kiev di colpire la federazione anche oltre le linee di confine riconosciute . come in effetti è avvenuto con i diversi attacchi che si sono registrati contro obiettivi strategici , e non solo , in territorio russo : dai depositi di carburante a quelli di munizioni , fino agli aeroporti.la terza guerra mondiale temuta da biden , però , non è iniziata . così il blocco filo-kiev ha alzato la posta in gioco . ed ecco che ai sistemi anti-aerei , forniti anche dai paesi ue , italia compresa , e ai droni che in più di un occasione hanno sferrato attacchi in territorio russo si è presto aggiunta un altra arma inizialmente inserita nella lista nera degli stati uniti : i carri armati . a gennaio washington ha deciso di inviare nell area di conflitto i propri tank abrams , mentre dall europa arrivava l ok del cancelliere tedesco olaf scholz all invio dei leopard a zelensky , aprendo i flussi da diversi paesi europei.in questi giorni , con l offensiva russa che sembra essersi conclusa in un sostanziale nulla di fatto e la controffensiva ucraina che , allo stesso modo , stenta a partire per stessa ammissione dei vertici di kiev , il nuovo tour di zelensky rischia di rappresentare un nuovo passo in avanti dell escalation . arrivato in italia , ha incassato il pieno impegno di giorgia meloni per un sostegno a 360 gradi all ucraina , fino a quando sarà necessario . anche dal punto di vista militare . poi in un giorno è volato in germania e francia , per poi arrivare lunedì in gran bretagna . la richiesta è chiara : basta linee rosse sulle armi , serve una coalizione europea per fornire cacciabombardieri a kiev . le risposte sono state diverse tra loro : scholz ha evitato di entrare nel merito , macron ha promesso nuovi carri armati , mentre sunak ha offerto , come promesso , missili a lungo raggio e droni per la difesa aerea . nonostante le rassicurazioni dei mesi scorsi , nessuno di loro ha smentito la possibilità di fornire i jet all ucraina , con londra che , anzi , ha annunciato l inizio dell addestramento dei militari di zelensky sugli f-16 . ma il passo in avanti sui caccia , in realtà , lo aveva già fatto il presidente ceco petr pavel qualche giorno fa : vale la pena valutare la possibilità di fornire all ucraina i nostri aerei l-159 . come aerei di supporto diretto al combattimento potrebbero aiutare in modo significativo l ucraina nella controffensiva . l escalation continua .',\n",
       " 'con le armi non si otterrà mai la sicurezza e la stabilita , ma al contrario si continuerà a distruggere anche ogni speranza di pace . il giorno dopo l udienza in vaticano con il presidente ucraino , volodymyr zelensky , è arrivato il duro monito di papa francesco che , al regina caeli recitato con i fedeli presenti in piazza san pietro , è tornato a condannare il ricorso alle armi . parole molto eloquenti che confermano la volontà di bergoglio di continuare sulla sua strada anche per quanto riguarda la guerra in ucraina , nonostante la netta chiusura di zelensky a ogni possibile mediazione , non solo vaticana , con la russia . in particolare , due affermazioni del presidente hanno , almeno per il momento , vanificato l offerta di mediazione che il papa gli ha rinnovato anche nell udienza di ieri : non si può fare una mediazione con putin , nessun paese al mondo lo può fare e per me è stato un onore incontrare sua santità , però lui conosce la mia posizione , la guerra è in ucraina e il piano deve essere ucraino . siamo molto interessati a coinvolgere il vaticano nella nostra formula per la pace . in che cosa consiste il piano di pace presentato da zelensky ? si tratta di 10 punti in cui si chiede il ritiro delle truppe russe , il ripristino dei confini , la firma russa di un trattato per l integrità territoriale di kiev e un accordo con i paesi occidentali affinché forniscano strumenti di difesa all ucraina . in pratica , non una mediazione , ma una serie di condizioni che portino alla vittoria.parole che non potevano non irritare la diplomazia della santa sede . non a caso all incontro con zelensky si è notata l assenza del cardinale segretario di stato , pietro parolin , a fatima per presiedere le celebrazioni del giorno in cui la chiesa ricorda la prima apparizione della madonna , nel 1917 , ai tre pastorelli . è evidente a tutti che sarebbe potuto rientrare in anticipo e partecipare all udienza dei vertici della segreteria di stato con il presidente ucraino , immediatamente successiva a quella con francesco . udienza nella quale parolin è stato sostituito dall arcivescovo paul richard gallagher , segretario per i rapporti con gli stati e le organizzazioni internazionali della segreteria di stato . uno scenario che conferma la solitudine di bergoglio nel tentativo , tutt altro che scontato , di arrivare a una mediazione che ha come primo obiettivo il cessate il fuoco , oltre ovviamente allo scambio dei prigionieri e al rientro a casa dei bambini portati con la forza in russia . trattative , queste ultime due , chieste esplicitamente dall ucraina al papa . in questi giorni ha affermato francesco al regina caeli abbiamo assistito di nuovo a scontri armati tra israeliani e palestinesi , nei quali hanno perso la vita persone innocenti , anche donne e bambini . auspico che la tregua appena raggiunta diventi stabile , che le armi tacciano , perché con le armi non si otterrà mai la sicurezza e la stabilita , ma al contrario si continuerà a distruggere anche ogni speranza di pace . con l immancabile preghiera per la fine dei conflitti : a lei ( maria , ndr ) ci rivolgiamo chiedendo di alleviare le sofferenze della martoriata ucraina e di tutte le nazioni ferite da guerre e violenze . nella meditazione sul vangelo domenicale , il papa ha ricordato che lo spirito santo non ci lascia soli mai , sta vicino a noi , come un avvocato che assiste l imputato stando al suo fianco . e ci suggerisce come difenderci di fronte a chi ci accusa . ricordiamo che il grande accusatore è sempre il diavolo , che ti mette dentro i peccati , la voglia di peccato , la malvagità . riflettiamo su questi due aspetti : la sua vicinanza a noi e il suo aiuto contro chi ci accusa .francesco ha aggiunto : lo spirito santo vuole stare con noi : non è un ospite di passaggio che viene a farci una visita di cortesia . è un compagno di vita , una presenza stabile , è spirito e desidera dimorare nel nostro spirito . è paziente e sta con noi anche quando cadiamo . rimane perché ci ama davvero : non fa finta di volerci bene per poi lasciarci soli nelle difficoltà . no , è leale , è trasparente , è autentico . anzi , se ci troviamo nella prova , lo spirito santo ci consola , portandoci il perdono e la forza di dio . e quando ci mette di fronte ai nostri sbagli e ci corregge , lo fa con gentilezza : nella sua voce che parla al cuore ci sono sempre il timbro della tenerezza e il calore dell amore . quindi , ha concluso il papa , se invochiamo lo spirito , impariamo ad accogliere e ricordare la realtà più importante della vita , che ci protegge dalle accuse del male .twitter : @ francescograna']"
      ]
     },
     "execution_count": 17,
     "metadata": {},
     "output_type": "execute_result"
    }
   ],
   "source": [
    "# The first 3 reviews\n",
    "# termsToSearch = ['hygiene', 'clean', 'safe']\n",
    "ppText_searched[0:3]"
   ]
  },
  {
   "cell_type": "code",
   "execution_count": null,
   "metadata": {},
   "outputs": [],
   "source": []
  }
 ],
 "metadata": {
  "kernelspec": {
   "display_name": "Python 3 (ipykernel)",
   "language": "python",
   "name": "python3"
  },
  "language_info": {
   "codemirror_mode": {
    "name": "ipython",
    "version": 3
   },
   "file_extension": ".py",
   "mimetype": "text/x-python",
   "name": "python",
   "nbconvert_exporter": "python",
   "pygments_lexer": "ipython3",
   "version": "3.9.12"
  },
  "vscode": {
   "interpreter": {
    "hash": "d7a18bc08bf6b314cad8b0dd8f53415ad78d1015cc806d14e4873c235fb4e191"
   }
  }
 },
 "nbformat": 4,
 "nbformat_minor": 4
}
