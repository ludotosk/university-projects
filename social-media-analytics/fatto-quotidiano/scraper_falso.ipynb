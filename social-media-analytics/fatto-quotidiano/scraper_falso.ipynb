{
 "cells": [
  {
   "cell_type": "code",
   "execution_count": null,
   "id": "7615406f-7086-4475-9af4-7a21223ec8ce",
   "metadata": {},
   "outputs": [],
   "source": [
    "# Import the two main libraries\n",
    "import datetime\n",
    "import locale\n",
    "import pickle\n",
    "import sys\n",
    "import time\n",
    "\n",
    "import pandas as pd\n",
    "import requests\n",
    "from bs4 import BeautifulSoup  # to process html\n",
    "from tqdm import tqdm\n",
    "\n",
    "locale.setlocale(\n",
    "    locale.LC_ALL, \"it_IT.utf8\"\n",
    ")  # for seeing the list of locale in linux run \"locale -a\" it may change based on the operative system"
   ]
  },
  {
   "cell_type": "code",
   "execution_count": null,
   "id": "5ac4d94a-e4ab-4eda-8146-fa38f6c5f562",
   "metadata": {},
   "outputs": [],
   "source": [
    "# get all the links of the articles\n",
    "\n",
    "saved_links = []\n",
    "for page in tqdm(range(1, 300)):\n",
    "\n",
    "    url = \"https://www.ilfattoquotidiano.it/tag/guerra-russia-ucraina/page/\" + str(page)\n",
    "    page = requests.get(url)\n",
    "    soup = BeautifulSoup(page.text, \"html.parser\")\n",
    "    main = soup.find_all(\"div\", {\"rullo-tag-main default-block-color-rullo\"})[0]\n",
    "    links = main.find_all(\"h3\", {\"p-item\"})\n",
    "\n",
    "    for link in links:\n",
    "        saved_links.append(link.find_all(\"a\")[0][\"href\"].strip())"
   ]
  },
  {
   "cell_type": "code",
   "execution_count": null,
   "id": "a635acc8-8cbb-463b-ba93-06be464fd87b",
   "metadata": {},
   "outputs": [],
   "source": [
    "file_name = \"falso_links.pkl\"\n",
    "\n",
    "open_file = open(file_name, \"wb\")\n",
    "pickle.dump(saved_links, open_file)\n",
    "open_file.close()"
   ]
  },
  {
   "cell_type": "code",
   "execution_count": null,
   "id": "25cc1eed-6e56-4924-b3ae-6e088dcd53b9",
   "metadata": {},
   "outputs": [],
   "source": [
    "# to load\n",
    "open_file = open(\"falso_links.pkl\", \"rb\")\n",
    "saved_links = pickle.load(open_file)\n",
    "open_file.close()"
   ]
  },
  {
   "cell_type": "code",
   "execution_count": null,
   "id": "24161a94-fe5e-448b-a3f0-14d4e4b22325",
   "metadata": {},
   "outputs": [],
   "source": [
    "# creating the dataframe\n",
    "\n",
    "Articles = pd.DataFrame(\n",
    "    {\n",
    "        \"link\": pd.Series([], dtype=\"string\"),\n",
    "        \"title\": pd.Series([], dtype=\"string\"),\n",
    "        \"author\": pd.Series([], dtype=\"string\"),\n",
    "        \"date\": pd.Series([], dtype=\"datetime64\"),  # this need to be tested\n",
    "        \"text\": pd.Series([], dtype=\"string\"),\n",
    "    }\n",
    ")"
   ]
  },
  {
   "cell_type": "code",
   "execution_count": null,
   "id": "87553c65-e06f-4548-9cb4-a71afae058cf",
   "metadata": {},
   "outputs": [],
   "source": [
    "for i, link in tqdm(enumerate(saved_links)):\n",
    "\n",
    "    page = requests.get(link)\n",
    "    soup = BeautifulSoup(page.text, \"html.parser\")\n",
    "\n",
    "    # get article tag\n",
    "    if soup.find_all(\"section\", {\"article-content\"}):\n",
    "        article = soup.find_all(\"section\", {\"article-content\"})[0]\n",
    "    else:\n",
    "        continue\n",
    "\n",
    "    # get title\n",
    "    title = soup.find_all(\"h1\", {\"title-article\"})[0].get_text()\n",
    "\n",
    "    # get author\n",
    "    cite = soup.find(\"cite\")\n",
    "    author = cite.find(\"a\").get_text().split(\"di\")[1].strip()\n",
    "\n",
    "    # get date\n",
    "    date = soup.find(\"span\", {\"date\"}).get_text().split(\"|\")[1].strip()\n",
    "    date = datetime.strftime(date, \"%d %B %Y\")\n",
    "\n",
    "    # get text\n",
    "    text = \"\"\n",
    "    for p in article.find_all(\"p\"):\n",
    "        text += p.text\n",
    "\n",
    "    Articles = Articles.append(\n",
    "        {\"link\": link, \"title\": title, \"author\": author, \"date\": date, \"text\": text},\n",
    "        ignore_index=True,\n",
    "    )"
   ]
  },
  {
   "cell_type": "code",
   "execution_count": null,
   "id": "ef1b097a-6550-4e90-86e4-8190fb431e07",
   "metadata": {},
   "outputs": [],
   "source": [
    "Articles.to_parquet(\"FalsoArticles.parquet.snappy\", engine=\"fastparquet\")"
   ]
  }
 ],
 "metadata": {
  "kernelspec": {
   "display_name": "Python 3 (ipykernel)",
   "language": "python",
   "name": "python3"
  },
  "language_info": {
   "codemirror_mode": {
    "name": "ipython",
    "version": 3
   },
   "file_extension": ".py",
   "mimetype": "text/x-python",
   "name": "python",
   "nbconvert_exporter": "python",
   "pygments_lexer": "ipython3",
   "version": "3.11.3"
  }
 },
 "nbformat": 4,
 "nbformat_minor": 5
}
