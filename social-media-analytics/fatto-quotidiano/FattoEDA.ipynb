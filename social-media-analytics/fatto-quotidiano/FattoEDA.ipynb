{
 "cells": [
  {
   "cell_type": "code",
   "execution_count": 184,
   "id": "5582c528-427b-4490-8c3f-20eb88765a3d",
   "metadata": {
    "id": "wkoSgmbga2qS"
   },
   "outputs": [],
   "source": [
    "# Installing the necessary packages:\n",
    "# Packages\n",
    "import matplotlib.pyplot as plt\n",
    "import numpy as np\n",
    "import pandas as pd\n",
    "import seaborn as sns  # visualizations"
   ]
  },
  {
   "cell_type": "code",
   "execution_count": 185,
   "id": "a5ac030a-aca0-4505-909c-0fad9f50d354",
   "metadata": {},
   "outputs": [],
   "source": [
    "ds = pd.read_parquet(\"fattoSentimentComplete.parquet.snappy\", engine=\"fastparquet\")"
   ]
  },
  {
   "cell_type": "code",
   "execution_count": 186,
   "id": "dc2e0703-fd3a-485f-b716-29c372c285f1",
   "metadata": {},
   "outputs": [
    {
     "name": "stdout",
     "output_type": "stream",
     "text": [
      "<class 'pandas.core.frame.DataFrame'>\n",
      "Index: 2730 entries, 0 to 22224\n",
      "Data columns (total 8 columns):\n",
      " #   Column              Non-Null Count  Dtype         \n",
      "---  ------              --------------  -----         \n",
      " 0   link                2730 non-null   object        \n",
      " 1   comment             2730 non-null   object        \n",
      " 2   sentiment_Comments  2730 non-null   object        \n",
      " 3   title               2706 non-null   object        \n",
      " 4   author              2706 non-null   object        \n",
      " 5   date                2706 non-null   datetime64[ns]\n",
      " 6   text                2706 non-null   object        \n",
      " 7   sentiment_Articles  2706 non-null   object        \n",
      "dtypes: datetime64[ns](1), object(7)\n",
      "memory usage: 192.0+ KB\n"
     ]
    }
   ],
   "source": [
    "ds.info()"
   ]
  },
  {
   "cell_type": "code",
   "execution_count": 187,
   "id": "40370106-c1ee-4309-80ad-dd2c27259701",
   "metadata": {},
   "outputs": [
    {
     "data": {
      "text/html": [
       "<div>\n",
       "<style scoped>\n",
       "    .dataframe tbody tr th:only-of-type {\n",
       "        vertical-align: middle;\n",
       "    }\n",
       "\n",
       "    .dataframe tbody tr th {\n",
       "        vertical-align: top;\n",
       "    }\n",
       "\n",
       "    .dataframe thead th {\n",
       "        text-align: right;\n",
       "    }\n",
       "</style>\n",
       "<table border=\"1\" class=\"dataframe\">\n",
       "  <thead>\n",
       "    <tr style=\"text-align: right;\">\n",
       "      <th></th>\n",
       "      <th>link</th>\n",
       "      <th>comment</th>\n",
       "      <th>sentiment_Comments</th>\n",
       "      <th>title</th>\n",
       "      <th>author</th>\n",
       "      <th>date</th>\n",
       "      <th>text</th>\n",
       "      <th>sentiment_Articles</th>\n",
       "    </tr>\n",
       "    <tr>\n",
       "      <th>index</th>\n",
       "      <th></th>\n",
       "      <th></th>\n",
       "      <th></th>\n",
       "      <th></th>\n",
       "      <th></th>\n",
       "      <th></th>\n",
       "      <th></th>\n",
       "      <th></th>\n",
       "    </tr>\n",
       "  </thead>\n",
       "  <tbody>\n",
       "    <tr>\n",
       "      <th>0</th>\n",
       "      <td>https://www.ilfattoquotidiano.it/2023/05/17/da...</td>\n",
       "      <td>Articolo di una supericialita'imbarazzante,che...</td>\n",
       "      <td>[negative]</td>\n",
       "      <td>“Da esponente del ‘partito unico bellicista’ v...</td>\n",
       "      <td>Thomas Mackinson</td>\n",
       "      <td>2023-05-17</td>\n",
       "      <td>La controffensiva di Kiev? “Deve ancora cominc...</td>\n",
       "      <td>[negative]</td>\n",
       "    </tr>\n",
       "    <tr>\n",
       "      <th>10</th>\n",
       "      <td>https://www.ilfattoquotidiano.it/2023/05/16/ar...</td>\n",
       "      <td>Come auspicato dal comico di Kiev, un bel gior...</td>\n",
       "      <td>[negative]</td>\n",
       "      <td>‘Armi offensive? Sarebbe una guerra mondiale’....</td>\n",
       "      <td>Gianni Rosini</td>\n",
       "      <td>2023-05-16</td>\n",
       "      <td>Da mesi, ormai, la guerra mostra un sostanzial...</td>\n",
       "      <td>[negative]</td>\n",
       "    </tr>\n",
       "    <tr>\n",
       "      <th>20</th>\n",
       "      <td>https://www.ilfattoquotidiano.it/2023/05/14/oc...</td>\n",
       "      <td>Incredibile scoop del Washington Post: \"Zelens...</td>\n",
       "      <td>[negative]</td>\n",
       "      <td>“Occupare città russe, bombardare oleodotti e ...</td>\n",
       "      <td>F. Q.</td>\n",
       "      <td>2023-05-14</td>\n",
       "      <td>Occupare città russe per guadagnare vantaggio ...</td>\n",
       "      <td>[negative]</td>\n",
       "    </tr>\n",
       "    <tr>\n",
       "      <th>30</th>\n",
       "      <td>https://www.ilfattoquotidiano.it/2023/05/14/ir...</td>\n",
       "      <td>Ma che cosa ci si poteva attendere dal pres Uc...</td>\n",
       "      <td>[negative]</td>\n",
       "      <td>Irritazione della Santa Sede dopo il no di Zel...</td>\n",
       "      <td>Francesco Antonio Grana</td>\n",
       "      <td>2023-05-14</td>\n",
       "      <td>“Con le armi non si otterrà mai la sicurezza e...</td>\n",
       "      <td>[negative]</td>\n",
       "    </tr>\n",
       "    <tr>\n",
       "      <th>40</th>\n",
       "      <td>https://www.ilfattoquotidiano.it/2023/05/14/ze...</td>\n",
       "      <td>“A pensar male si commette peccato, ma spesso ...</td>\n",
       "      <td>[negative]</td>\n",
       "      <td>Zelensky dice no alla mediazione di Papa Franc...</td>\n",
       "      <td>F. Q.</td>\n",
       "      <td>2023-05-14</td>\n",
       "      <td>Una chiusura che certifica lo stallo. Le spera...</td>\n",
       "      <td>[negative]</td>\n",
       "    </tr>\n",
       "  </tbody>\n",
       "</table>\n",
       "</div>"
      ],
      "text/plain": [
       "                                                    link  \\\n",
       "index                                                      \n",
       "0      https://www.ilfattoquotidiano.it/2023/05/17/da...   \n",
       "10     https://www.ilfattoquotidiano.it/2023/05/16/ar...   \n",
       "20     https://www.ilfattoquotidiano.it/2023/05/14/oc...   \n",
       "30     https://www.ilfattoquotidiano.it/2023/05/14/ir...   \n",
       "40     https://www.ilfattoquotidiano.it/2023/05/14/ze...   \n",
       "\n",
       "                                                 comment sentiment_Comments  \\\n",
       "index                                                                         \n",
       "0      Articolo di una supericialita'imbarazzante,che...         [negative]   \n",
       "10     Come auspicato dal comico di Kiev, un bel gior...         [negative]   \n",
       "20     Incredibile scoop del Washington Post: \"Zelens...         [negative]   \n",
       "30     Ma che cosa ci si poteva attendere dal pres Uc...         [negative]   \n",
       "40     “A pensar male si commette peccato, ma spesso ...         [negative]   \n",
       "\n",
       "                                                   title  \\\n",
       "index                                                      \n",
       "0      “Da esponente del ‘partito unico bellicista’ v...   \n",
       "10     ‘Armi offensive? Sarebbe una guerra mondiale’....   \n",
       "20     “Occupare città russe, bombardare oleodotti e ...   \n",
       "30     Irritazione della Santa Sede dopo il no di Zel...   \n",
       "40     Zelensky dice no alla mediazione di Papa Franc...   \n",
       "\n",
       "                        author       date  \\\n",
       "index                                       \n",
       "0             Thomas Mackinson 2023-05-17   \n",
       "10               Gianni Rosini 2023-05-16   \n",
       "20                       F. Q. 2023-05-14   \n",
       "30     Francesco Antonio Grana 2023-05-14   \n",
       "40                       F. Q. 2023-05-14   \n",
       "\n",
       "                                                    text sentiment_Articles  \n",
       "index                                                                        \n",
       "0      La controffensiva di Kiev? “Deve ancora cominc...         [negative]  \n",
       "10     Da mesi, ormai, la guerra mostra un sostanzial...         [negative]  \n",
       "20     Occupare città russe per guadagnare vantaggio ...         [negative]  \n",
       "30     “Con le armi non si otterrà mai la sicurezza e...         [negative]  \n",
       "40     Una chiusura che certifica lo stallo. Le spera...         [negative]  "
      ]
     },
     "execution_count": 187,
     "metadata": {},
     "output_type": "execute_result"
    }
   ],
   "source": [
    "ds.head()"
   ]
  },
  {
   "cell_type": "code",
   "execution_count": 188,
   "id": "a2a4b0e4-68b2-4fca-beee-fb7aad7ec06b",
   "metadata": {},
   "outputs": [],
   "source": [
    "def retreiveSentimentByArray(x):\n",
    "    try:\n",
    "        return list.pop(x)\n",
    "    except:\n",
    "        return np.NaN"
   ]
  },
  {
   "cell_type": "code",
   "execution_count": 189,
   "id": "87e13bf6-c796-44af-b476-28ec75519294",
   "metadata": {},
   "outputs": [],
   "source": [
    "ds.sentiment_Comments = ds.sentiment_Comments.apply(retreiveSentimentByArray)\n",
    "ds.sentiment_Articles = ds.sentiment_Articles.apply(retreiveSentimentByArray)"
   ]
  },
  {
   "cell_type": "code",
   "execution_count": 190,
   "id": "258c1702-eb70-4396-8b7d-dceeb02de5c7",
   "metadata": {},
   "outputs": [
    {
     "name": "stdout",
     "output_type": "stream",
     "text": [
      "<class 'pandas.core.frame.DataFrame'>\n",
      "Index: 2730 entries, 0 to 22224\n",
      "Data columns (total 8 columns):\n",
      " #   Column              Non-Null Count  Dtype         \n",
      "---  ------              --------------  -----         \n",
      " 0   link                2730 non-null   object        \n",
      " 1   comment             2730 non-null   object        \n",
      " 2   sentiment_Comments  2730 non-null   object        \n",
      " 3   title               2706 non-null   object        \n",
      " 4   author              2706 non-null   object        \n",
      " 5   date                2706 non-null   datetime64[ns]\n",
      " 6   text                2706 non-null   object        \n",
      " 7   sentiment_Articles  2706 non-null   object        \n",
      "dtypes: datetime64[ns](1), object(7)\n",
      "memory usage: 192.0+ KB\n"
     ]
    }
   ],
   "source": [
    "ds.info()"
   ]
  },
  {
   "cell_type": "code",
   "execution_count": 191,
   "id": "2a100bae-6901-46ab-85d2-26bef5e40e76",
   "metadata": {},
   "outputs": [],
   "source": [
    "ds[\"date\"] = pd.to_datetime(ds[\"date\"], format=\"%d/%m/%y\")"
   ]
  },
  {
   "cell_type": "code",
   "execution_count": 192,
   "id": "0925a654-9e5d-4bc4-adff-17dd5c49ea0d",
   "metadata": {},
   "outputs": [],
   "source": [
    "colors = {\"negative\": \"#f40000\", \"neutral\": \"#707070\", \"positive\": \"#00d600\"}"
   ]
  },
  {
   "cell_type": "markdown",
   "id": "18caeb97-2f5d-4a6e-acd9-4b848e877ffa",
   "metadata": {},
   "source": [
    "The distribution of positive and negative here is the same for comment and the text of the article, for this topic was expected this outcome."
   ]
  },
  {
   "cell_type": "code",
   "execution_count": 193,
   "id": "398b2029-1cec-47ed-8110-bd229306f505",
   "metadata": {},
   "outputs": [
    {
     "data": {
      "image/png": "[encoded data removed]",
      "text/plain": [
       "<Figure size 576x360 with 1 Axes>"
      ]
     },
     "metadata": {
      "needs_background": "light"
     },
     "output_type": "display_data"
    }
   ],
   "source": [
    "# Visualising distribution of categorical variables\n",
    "fig, ax = plt.subplots(1, 1, figsize=(8, 5))\n",
    "_ = sns.countplot(x=\"sentiment_Articles\", data=ds, palette=colors)\n",
    "_ = plt.xlabel(\"sentiment articles fatto quotidiano\", fontsize=14)\n",
    "_ = plt.title(\"Counts\", fontsize=14)"
   ]
  },
  {
   "cell_type": "code",
   "execution_count": 194,
   "id": "7d82ef99-6614-4cf7-9f34-ac2a7cfa1cf9",
   "metadata": {},
   "outputs": [
    {
     "data": {
      "image/png": "[encoded data removed]",
      "text/plain": [
       "<Figure size 576x360 with 1 Axes>"
      ]
     },
     "metadata": {
      "needs_background": "light"
     },
     "output_type": "display_data"
    }
   ],
   "source": [
    "# Visualising distribution of categorical variables\n",
    "fig, ax = plt.subplots(1, 1, figsize=(8, 5))\n",
    "_ = sns.countplot(x=\"sentiment_Comments\", data=ds, palette=colors)\n",
    "_ = plt.xlabel(\"sentiment comment fatto quotidiano\", fontsize=14)\n",
    "_ = plt.title(\"Counts\", fontsize=14)"
   ]
  },
  {
   "cell_type": "markdown",
   "id": "ac305963-da11-4370-87f5-59aa816d45c7",
   "metadata": {},
   "source": [
    "What we can notice here is that almost all the comments are negative and sarcastic. When the are classified as positive they are sarcastic but negative.\n",
    "About the articles when they are negative they are actualy negative, when they are positive they are usually positive."
   ]
  },
  {
   "cell_type": "code",
   "execution_count": 195,
   "id": "e37ec4bf-d96e-4952-acac-f3fc9554e871",
   "metadata": {},
   "outputs": [
    {
     "data": {
      "text/html": [
       "<div>\n",
       "<style scoped>\n",
       "    .dataframe tbody tr th:only-of-type {\n",
       "        vertical-align: middle;\n",
       "    }\n",
       "\n",
       "    .dataframe tbody tr th {\n",
       "        vertical-align: top;\n",
       "    }\n",
       "\n",
       "    .dataframe thead th {\n",
       "        text-align: right;\n",
       "    }\n",
       "</style>\n",
       "<table border=\"1\" class=\"dataframe\">\n",
       "  <thead>\n",
       "    <tr style=\"text-align: right;\">\n",
       "      <th></th>\n",
       "      <th>link</th>\n",
       "      <th>comment</th>\n",
       "      <th>sentiment_Comments</th>\n",
       "      <th>title</th>\n",
       "      <th>author</th>\n",
       "      <th>date</th>\n",
       "      <th>text</th>\n",
       "      <th>sentiment_Articles</th>\n",
       "    </tr>\n",
       "    <tr>\n",
       "      <th>index</th>\n",
       "      <th></th>\n",
       "      <th></th>\n",
       "      <th></th>\n",
       "      <th></th>\n",
       "      <th></th>\n",
       "      <th></th>\n",
       "      <th></th>\n",
       "      <th></th>\n",
       "    </tr>\n",
       "  </thead>\n",
       "  <tbody>\n",
       "    <tr>\n",
       "      <th>452</th>\n",
       "      <td>https://www.ilfattoquotidiano.it/2023/03/29/co...</td>\n",
       "      <td>Bravo Presidente Conte!</td>\n",
       "      <td>positive</td>\n",
       "      <td>Conte a Crosetto: “Conosciamo fin troppo bene ...</td>\n",
       "      <td>F. Q.</td>\n",
       "      <td>2023-03-29</td>\n",
       "      <td>“Ministro, abbiamo seguito la sua risposta, ce...</td>\n",
       "      <td>negative</td>\n",
       "    </tr>\n",
       "    <tr>\n",
       "      <th>689</th>\n",
       "      <td>https://www.ilfattoquotidiano.it/2023/03/11/ze...</td>\n",
       "      <td>Adesso zelensky decide anche il nome delle naz...</td>\n",
       "      <td>positive</td>\n",
       "      <td>Zelensky appoggia la petizione per cambiare il...</td>\n",
       "      <td>F. Q.</td>\n",
       "      <td>2023-03-11</td>\n",
       "      <td>Zelensky provoca, Mosca risponde a tono. Non s...</td>\n",
       "      <td>negative</td>\n",
       "    </tr>\n",
       "    <tr>\n",
       "      <th>877</th>\n",
       "      <td>https://www.ilfattoquotidiano.it/2023/02/27/co...</td>\n",
       "      <td>L'autore ha la mia stima</td>\n",
       "      <td>positive</td>\n",
       "      <td>“Conosciamo la verità!”: hackerato l’account t...</td>\n",
       "      <td>F. Q.</td>\n",
       "      <td>2023-02-27</td>\n",
       "      <td>Una bandiera ucraina dietro alla quale si nasc...</td>\n",
       "      <td>negative</td>\n",
       "    </tr>\n",
       "    <tr>\n",
       "      <th>947</th>\n",
       "      <td>https://www.ilfattoquotidiano.it/2023/02/25/sc...</td>\n",
       "      <td>Il titolo non poteva essere più azzeccato. Lo ...</td>\n",
       "      <td>positive</td>\n",
       "      <td>Scemi di guerra. La tragedia dell’Ucraina, la ...</td>\n",
       "      <td>F. Q.</td>\n",
       "      <td>2023-02-25</td>\n",
       "      <td>Scemi di guerra (Paper First), ad un anno esat...</td>\n",
       "      <td>negative</td>\n",
       "    </tr>\n",
       "    <tr>\n",
       "      <th>1097</th>\n",
       "      <td>https://www.ilfattoquotidiano.it/2023/02/24/ru...</td>\n",
       "      <td>La cara Yana Fortuna dovrebbe scrivere per CdS...</td>\n",
       "      <td>positive</td>\n",
       "      <td>Russia, un anno di sanzioni (aggirate): dai de...</td>\n",
       "      <td>Yana Fortuna</td>\n",
       "      <td>2023-02-24</td>\n",
       "      <td>Da un anno ormai, la Russia vive penalizzata d...</td>\n",
       "      <td>negative</td>\n",
       "    </tr>\n",
       "    <tr>\n",
       "      <th>...</th>\n",
       "      <td>...</td>\n",
       "      <td>...</td>\n",
       "      <td>...</td>\n",
       "      <td>...</td>\n",
       "      <td>...</td>\n",
       "      <td>...</td>\n",
       "      <td>...</td>\n",
       "      <td>...</td>\n",
       "    </tr>\n",
       "    <tr>\n",
       "      <th>21368</th>\n",
       "      <td>https://www.ilfattoquotidiano.it/2022/02/26/gu...</td>\n",
       "      <td>Onore e gloria alla gente ucraina che lotta pe...</td>\n",
       "      <td>positive</td>\n",
       "      <td>Guerra Russia-Ucraina, viaggio verso (e dentro...</td>\n",
       "      <td>Gabriele Lagonigro</td>\n",
       "      <td>2022-02-26</td>\n",
       "      <td>La mattinata, a Kiev, è trascorsa fra allarmi ...</td>\n",
       "      <td>negative</td>\n",
       "    </tr>\n",
       "    <tr>\n",
       "      <th>21525</th>\n",
       "      <td>https://www.ilfattoquotidiano.it/2022/02/25/gu...</td>\n",
       "      <td>moooolto interessante.\\nChe c.....</td>\n",
       "      <td>positive</td>\n",
       "      <td>Guerra Russia-Ucraina, le foto satellitari del...</td>\n",
       "      <td>F. Q.</td>\n",
       "      <td>2022-02-25</td>\n",
       "      <td>Maxar Technologies ha rilasciato alcune immagi...</td>\n",
       "      <td>negative</td>\n",
       "    </tr>\n",
       "    <tr>\n",
       "      <th>21786</th>\n",
       "      <td>https://www.ilfattoquotidiano.it/2022/02/24/uc...</td>\n",
       "      <td>Alla fine pare proprio che gli unici a guadagn...</td>\n",
       "      <td>positive</td>\n",
       "      <td>Ucraina, Johnson minaccia sanzioni ma a Londra...</td>\n",
       "      <td>Mauro Del Corno</td>\n",
       "      <td>2022-02-24</td>\n",
       "      <td>Ha voglia Boris Johnson a fare la faccia feroc...</td>\n",
       "      <td>negative</td>\n",
       "    </tr>\n",
       "    <tr>\n",
       "      <th>21869</th>\n",
       "      <td>https://www.ilfattoquotidiano.it/2022/02/24/uc...</td>\n",
       "      <td>Adesso mi sento piu' tranquillo.</td>\n",
       "      <td>positive</td>\n",
       "      <td>Ucraina, Meloni: “Inaccettabile attacco della ...</td>\n",
       "      <td>Agenzia Vista Alexander Jakhnagiev</td>\n",
       "      <td>2022-02-24</td>\n",
       "      <td>“L’attacco su larga scala della Russia contro ...</td>\n",
       "      <td>negative</td>\n",
       "    </tr>\n",
       "    <tr>\n",
       "      <th>21932</th>\n",
       "      <td>https://www.ilfattoquotidiano.it/2022/02/24/uc...</td>\n",
       "      <td>Si commuove al pensiero dei $$$$$ che gli verr...</td>\n",
       "      <td>positive</td>\n",
       "      <td>Ucraina, il racconto commosso del presidente d...</td>\n",
       "      <td>F. Q.</td>\n",
       "      <td>2022-02-24</td>\n",
       "      <td>“Sono riuscito a parlare con il nostro persona...</td>\n",
       "      <td>negative</td>\n",
       "    </tr>\n",
       "  </tbody>\n",
       "</table>\n",
       "<p>128 rows × 8 columns</p>\n",
       "</div>"
      ],
      "text/plain": [
       "                                                    link  \\\n",
       "index                                                      \n",
       "452    https://www.ilfattoquotidiano.it/2023/03/29/co...   \n",
       "689    https://www.ilfattoquotidiano.it/2023/03/11/ze...   \n",
       "877    https://www.ilfattoquotidiano.it/2023/02/27/co...   \n",
       "947    https://www.ilfattoquotidiano.it/2023/02/25/sc...   \n",
       "1097   https://www.ilfattoquotidiano.it/2023/02/24/ru...   \n",
       "...                                                  ...   \n",
       "21368  https://www.ilfattoquotidiano.it/2022/02/26/gu...   \n",
       "21525  https://www.ilfattoquotidiano.it/2022/02/25/gu...   \n",
       "21786  https://www.ilfattoquotidiano.it/2022/02/24/uc...   \n",
       "21869  https://www.ilfattoquotidiano.it/2022/02/24/uc...   \n",
       "21932  https://www.ilfattoquotidiano.it/2022/02/24/uc...   \n",
       "\n",
       "                                                 comment sentiment_Comments  \\\n",
       "index                                                                         \n",
       "452                              Bravo Presidente Conte!           positive   \n",
       "689    Adesso zelensky decide anche il nome delle naz...           positive   \n",
       "877                            L'autore ha la mia stima            positive   \n",
       "947    Il titolo non poteva essere più azzeccato. Lo ...           positive   \n",
       "1097   La cara Yana Fortuna dovrebbe scrivere per CdS...           positive   \n",
       "...                                                  ...                ...   \n",
       "21368  Onore e gloria alla gente ucraina che lotta pe...           positive   \n",
       "21525                 moooolto interessante.\\nChe c.....           positive   \n",
       "21786  Alla fine pare proprio che gli unici a guadagn...           positive   \n",
       "21869                   Adesso mi sento piu' tranquillo.           positive   \n",
       "21932  Si commuove al pensiero dei $$$$$ che gli verr...           positive   \n",
       "\n",
       "                                                   title  \\\n",
       "index                                                      \n",
       "452    Conte a Crosetto: “Conosciamo fin troppo bene ...   \n",
       "689    Zelensky appoggia la petizione per cambiare il...   \n",
       "877    “Conosciamo la verità!”: hackerato l’account t...   \n",
       "947    Scemi di guerra. La tragedia dell’Ucraina, la ...   \n",
       "1097   Russia, un anno di sanzioni (aggirate): dai de...   \n",
       "...                                                  ...   \n",
       "21368  Guerra Russia-Ucraina, viaggio verso (e dentro...   \n",
       "21525  Guerra Russia-Ucraina, le foto satellitari del...   \n",
       "21786  Ucraina, Johnson minaccia sanzioni ma a Londra...   \n",
       "21869  Ucraina, Meloni: “Inaccettabile attacco della ...   \n",
       "21932  Ucraina, il racconto commosso del presidente d...   \n",
       "\n",
       "                                   author       date  \\\n",
       "index                                                  \n",
       "452                                 F. Q. 2023-03-29   \n",
       "689                                 F. Q. 2023-03-11   \n",
       "877                                 F. Q. 2023-02-27   \n",
       "947                                 F. Q. 2023-02-25   \n",
       "1097                         Yana Fortuna 2023-02-24   \n",
       "...                                   ...        ...   \n",
       "21368                  Gabriele Lagonigro 2022-02-26   \n",
       "21525                               F. Q. 2022-02-25   \n",
       "21786                     Mauro Del Corno 2022-02-24   \n",
       "21869  Agenzia Vista Alexander Jakhnagiev 2022-02-24   \n",
       "21932                               F. Q. 2022-02-24   \n",
       "\n",
       "                                                    text sentiment_Articles  \n",
       "index                                                                        \n",
       "452    “Ministro, abbiamo seguito la sua risposta, ce...           negative  \n",
       "689    Zelensky provoca, Mosca risponde a tono. Non s...           negative  \n",
       "877    Una bandiera ucraina dietro alla quale si nasc...           negative  \n",
       "947    Scemi di guerra (Paper First), ad un anno esat...           negative  \n",
       "1097   Da un anno ormai, la Russia vive penalizzata d...           negative  \n",
       "...                                                  ...                ...  \n",
       "21368  La mattinata, a Kiev, è trascorsa fra allarmi ...           negative  \n",
       "21525  Maxar Technologies ha rilasciato alcune immagi...           negative  \n",
       "21786  Ha voglia Boris Johnson a fare la faccia feroc...           negative  \n",
       "21869  “L’attacco su larga scala della Russia contro ...           negative  \n",
       "21932  “Sono riuscito a parlare con il nostro persona...           negative  \n",
       "\n",
       "[128 rows x 8 columns]"
      ]
     },
     "execution_count": 195,
     "metadata": {},
     "output_type": "execute_result"
    }
   ],
   "source": [
    "ds.query(\"sentiment_Articles == 'negative' & sentiment_Comments == 'positive'\")"
   ]
  },
  {
   "cell_type": "code",
   "execution_count": 196,
   "id": "9ac9dd93-16b1-4115-80ad-605773ee29b9",
   "metadata": {},
   "outputs": [
    {
     "data": {
      "text/plain": [
       "'Non è più una guerra per “denazificare” il vicino ucraino. Nemmeno contro la minaccia rappresentata dall’espansione a est della Nato o per “garantire protezione” alle popolazioni russofone nel Donbass occupato e della Crimea. Col suo discorso alla Duma, Vladimir Putin compie un altro, probabilmente definitivo, salto di qualità della campagna militare di Mosca nel Paese di Volodymyr Zelensky. E lo fa abbattendo tutte le barriere che separano le parti dal rischio di un conflitto che potrebbe assumere anche una portata nucleare. “L’obiettivo dell’Occidente è portare la Russia a una sconfitta strategica, vogliono eliminarci per sempre. Non si rendono conto che è in gioco l’esistenza stessa della Russia“: è con queste parole il capo del Cremlino dichiara guerra con ogni mezzo, anche nucleare, all’Ucraina e ai suoi alleati. E lo fa stuzzicando proprio la dottrina russa: in caso di rischi per la sopravvivenza della Federazione, l’uso della bomba atomica è concesso.Fu Putin stesso ad approvare la dottrina ormai 23 anni fa, nel 2000. Questa prevede che il Paese si riservi il diritto di lanciare un attacco nucleare solo come risposta a un’offensiva e solo in due casi specifici. In primo luogo, in risposta all’uso di armi nucleari o di armi di distruzione di massa contro lo Stato o i suoi alleati. In secondo luogo, e sarebbe questo il caso in questione, in risposta all’aggressione su larga scala con l’uso di armi convenzionali se “l’esistenza stessa dello Stato è in pericolo”.Nel suo discorso di due ore davanti ai parlamentari russi, il presidente mostra il volto duro del regime, arringa l’opinione pubblica, tranquillizza gli scettici e, soprattutto, manda messaggi bellicosi all’Occidente, l’entità che sostiene voglia spazzare via la Federazione dalle mappe e che, dice addentrandosi in un’operazione di puro revisionismo storico, ha ingannato la Russia: volevamo una soluzione pacifica in Ucraina per evitare l’intervento militare, ma l’Occidente giocava “con carte false” per ingannare Mosca. “Non avevamo dubbi che (gli ucraini, ndr) a febbraio avessero pronte operazioni punitive nel Donbass, dove già avevano condotto bombardamenti, e questo era in contraddizione con la risoluzione Onu – ha detto – Loro hanno fatto cominciare la guerra, noi usiamo la forza per fermare la guerra“.Adesso, però, la situazione è cambiata. E dalle parole di Putin è chiara la volontà di andare fino in fondo, con poca disponibilità a fare concessioni: “Raggiungeremo i nostri obiettivi”, chiarisce fin da subito prima di sottolineare che la Russia continuerà “sistematicamente” l’offensiva in Ucraina. E questa volta a tutti i costi, anche quelli che deriverebbero dall’impiego di un’arma nucleare tattica. Non è la prima volta che il capo del Cremlino inserisce nei suoi discorsi alla Nazione, generalmente molto lunghi e che fin dall’inizio del conflitto hanno sempre segnato un cambio di marcia rispetto ai mesi precedenti, l’ipotesi dell’uso del nucleare. E lo fa anche questa volta con un messaggio sibillino: “La forza di deterrenza nucleare della Russia è dotata al 90% di armi avanzate, un livello che dovrebbe essere esteso all’intero esercito”. Se si accostano queste parole alla “minaccia esistenziale per la Russia”, ecco che il rischio dell’uso di un’arma atomica cresce drasticamente. Anche perché, puntualizza, “faremo di tutto per raggiungere la vittoria. È impossibile sconfiggere la Russia sul campo di battaglia”. Un freno a questa escalation delle dichiarazioni lo mette quando però puntualizza che “non le useremo mai per primi, ma se lo faranno gli Stati Uniti dobbiamo essere pronti. La parità strategica non deve essere infranta”.Non solo nucleare, però. Questa invincibilità russa sul campo di battaglia, sostiene il presidente, è data anche dal lavoro che Mosca sta facendo su nuove tecnologie militari che “migliorano la preparazione al combattimento dell’esercito e della Marina. Queste tecnologie esistono e il ritmo della loro produzione e applicazione sta migliorando”.Putin, però, non si limita a precisare fino a che punto la Federazione sia pronta ad arrivare in caso di scontro definitivo con le potenze occidentali, ma indica quest’ultime come ormai l’unico vero nemico da combattere. Una narrativa già adottata nei mesi scorsi, ma che oggi diventa netta ed esplicita: “L’Occidente ha preparato l’Ucraina a una grande guerra e oggi lo riconosce. L’Occidente ha già speso 150 miliardi di dollari in aiuti militari all’Ucraina, il flusso di denaro non diminuisce”. Per descrivere l’azione dell’Occidente e lo sforzo della Federazione, il presidente torna a un parallelismo a lui caro, anche se mai esplicitato con questa forza: la lotta all’avanzata nazista nella Seconda Guerra Mondiale. “Parlo in un momento molto complesso e decisivo di cambiamenti radicali che definiranno il futuro del nostro Paese e popolo. Su ciascuno di noi c’è una grandissima responsabilità per difendere il nostro Paese e liquidare la minaccia del regime neonazista”. Un regime che, a suo dire, “voleva dotarsi di armi nucleari” per attaccare non solo il Donbass, ma anche la Crimea. “La Russia ci è stata consegnata dai nostri antenati e noi dobbiamo preservarla e passarla” alle generazioni future.E per farlo, Putin può contare sull’ampio sostegno nazionale. È alla popolazione, all’opinione pubblica, che il leader del Cremlino si rivolge in un rapido passaggio del suo discorso. Ma non solo, il messaggio è diretto anche a chi, in Occidente, continua a sperare in un cambio di regime come soluzione al conflitto: “La maggioranza assoluta dei russi ha espresso il proprio sostegno all’operazione militare speciale“, ha detto prima di passare ai dati sull’economia. “L’economia russa ha superato tutti i rischi”, ha continuato sottolineando tra l’altro che nel 2022 il calo del Pil è stato del 2,1% rispetto alle previsioni molto peggiori del marzo del 2022, dopo l’avvio dell’operazione militare in Ucraina.E ha infine tracciato un’altra linea di separazione tra sé e gli Stati Uniti, sospendendo (e non ritirandosi definitivamente) l’applicazione del Trattato New Start sulla riduzione delle armi nucleari ancora in vigore con gli Usa, perché non può permettere agli ispettori americani di visitare i siti nucleari russi mentre Washington è intenta a infliggere “una sconfitta strategica” a Mosca.Twitter: @GianniRosini'"
      ]
     },
     "execution_count": 196,
     "metadata": {},
     "output_type": "execute_result"
    }
   ],
   "source": [
    "ds.query(\"sentiment_Articles == 'negative' & sentiment_Comments == 'positive'\").iloc[\n",
    "    5\n",
    "].text"
   ]
  },
  {
   "cell_type": "code",
   "execution_count": 197,
   "id": "e7b0613b-2588-4fce-adc4-2a492dc6d910",
   "metadata": {},
   "outputs": [
    {
     "data": {
      "text/plain": [
       "\"I piu' vivi complimenti a tutti i politicanti che hanno predicato (... c continuano a farlo...) sul fatto che l'invio di armi all'Ucraina avrebbe portato alla pace...\\nGodetevi i risultati...!!!\""
      ]
     },
     "execution_count": 197,
     "metadata": {},
     "output_type": "execute_result"
    }
   ],
   "source": [
    "ds.query(\"sentiment_Articles == 'negative' & sentiment_Comments == 'positive'\").iloc[\n",
    "    5\n",
    "].comment"
   ]
  },
  {
   "cell_type": "code",
   "execution_count": 198,
   "id": "46f4d545-6746-404b-bc9e-6349ff93aeb0",
   "metadata": {},
   "outputs": [
    {
     "data": {
      "text/plain": [
       "'Zelensky provoca, Mosca risponde a tono. Non solo i quotidiani scontri e violenze sul campo di battaglia, tra Ucraina e Russia, se possibile, sale ulteriormente anche la tensione diplomatica, con il presidente di Kiev che oggi ha dichiarato di appoggiare la petizione per cambiare il nome della Federazione in Moscovia. Parole che hanno trovato l’immediata reazione della portavoce del ministero degli Esteri, Maria Zakharova, e soprattutto del vicepresidente del Consiglio nazionale di sicurezza, Dmitry Medvedev.“La questione sollevata nella petizione necessita di essere attentamente soppesata sia nei termini del contesto storico e culturale sia in vista delle possibili conseguenze legali internazionali”, ha scritto Zelensky aggiungendo di aver chiesto al premier Denys Shmyhal di lavorarci assieme alle istituzioni scientifiche. La proposta ha già raccolto 25mila firme e parte dal presupposto che “il nome storico della Russia è Moscovia”: “La Russia – spiegano – esiste solo da 301 anni, dal 22 ottobre 1721, quando lo zar della Moscovia Pietro I ha deciso che il regno moscovita sarebbe diventato l’impero russo”.Dura la risposta che arriva dalla capitale russa. Zakharova ha dichiarato che l’uscita del presidente ucraino è solo “un’altra prova del tentativo di creare una ‘anti Russia’ in Ucraina“. Più violenta invece la replica di Medvedev: “Il supremo nazista di Kiev (Zelensky, ndr) ha ordinato di risolvere la questione della ridenominazione della Russia in Moscovia. Non Hochlandia (dispregiativo rivolto all’Ucraina che può essere tradotto come ‘terra inferiore’, ndr) e ancor meno Piccola Russia, solo sporco Reich di Bandera“, ha concluso riferendosi a Stepan Bandera, leader dell’Organizzazione dei Nazionalisti Ucraini che in funzione anti-sovietica si schierò al fianco del regime nazista di Adolf Hitler.Chi invece prova ad abbassare la temperatura diplomatica e favorire un difficile dialogo tra le parti è di nuovo Papa Francesco che, in un’intervista per il suo decennale di pontificato rilasciata al quotidiano argentino La Nacìon, ha dichiarato di essere “disposto ad andare a Kiev. Voglio andare a Kiev. Ma a condizione di andare a Mosca. Vado in entrambi i posti o in nessuno dei due”. Francesco risponde anche sul fatto di aver parlato di Putin, in altre interviste, come di “una persona colta”: “È colto – ribadisce – È venuto a trovarmi qui tre volte come capo di Stato e puoi avere una conversazione di alto livello con lui. È colto. Abbiamo parlato di letteratura una volta. Un uomo che non solo parla russo, parla perfettamente tedesco, parla inglese. Una cultura è qualcosa che si acquisisce, non è una professione morale. Sono due cose differenti”. E se sia credibile un incontro in Vaticano tra Zelensky e Putin, risponde: “Detto così, Zelensky e Putin, non lo so. Ma è plausibile un incontro mondiale dei delegati mondiali su questo”.In Occidente, nonostante le ultime tensioni tra la Cina e gli Stati Uniti, c’è chi invece guarda proprio a Pechino come a possibile mediatore informale per il raggiungimento di determinati obiettivi. La presidente della Commissione europea, Ursula von der Leyen, ha risposto a chi le ha chiesto di possibili sanzioni nei confronti della Repubblica Popolare che l’Ue ha “già sanzionato Paesi terzi che hanno fornito armi alla Russia nella guerra contro l’Ucraina, ad esempio l’Iran“. Mentre il ministro degli Esteri, Antonio Tajani, è stato più esplicito: “Abbiamo insistito perché la Cina faccia pressioni sulla Russia, ad esempio perché non fare una zona franca attorno alla centrale di Zaporizhzhia? Lo abbiamo anche proposto al segretario dell’Onu. E così rinforzare il corridoio verde del grano per l’Africa, dove ci sono fughe di massa per la fame”.Proprio Zaporizhzhia è tornata al centro delle cronache belliche negli ultimi giorni. E anche oggi bombardamenti russi hanno colpito “infrastrutture vitali” della città. L’altro fronte caldo rimane Bakhmut, dove il capo del Gruppo Wagner ha annunciato di essere a 1,2 chilometri dal centro città. Prigozhin ha comunque aggiunto che le forze armate ucraine cercheranno di condurre una controffensiva nel nord di Bakhmut.'"
      ]
     },
     "execution_count": 198,
     "metadata": {},
     "output_type": "execute_result"
    }
   ],
   "source": [
    "ds.query(\"sentiment_Articles == 'negative' & sentiment_Comments == 'positive'\").iloc[\n",
    "    1\n",
    "].text"
   ]
  },
  {
   "cell_type": "code",
   "execution_count": 199,
   "id": "84008080-ed3b-411b-a9ef-6099752c3c8a",
   "metadata": {},
   "outputs": [
    {
     "data": {
      "text/plain": [
       "'Adesso zelensky decide anche il nome delle nazioni?\\nMi sa che ha bisogno di uno bravo.'"
      ]
     },
     "execution_count": 199,
     "metadata": {},
     "output_type": "execute_result"
    }
   ],
   "source": [
    "ds.query(\"sentiment_Articles == 'negative' & sentiment_Comments == 'positive'\").iloc[\n",
    "    1\n",
    "].comment"
   ]
  },
  {
   "cell_type": "code",
   "execution_count": 200,
   "id": "92710559-608c-4672-853a-929205aee5c1",
   "metadata": {},
   "outputs": [
    {
     "data": {
      "text/html": [
       "<div>\n",
       "<style scoped>\n",
       "    .dataframe tbody tr th:only-of-type {\n",
       "        vertical-align: middle;\n",
       "    }\n",
       "\n",
       "    .dataframe tbody tr th {\n",
       "        vertical-align: top;\n",
       "    }\n",
       "\n",
       "    .dataframe thead th {\n",
       "        text-align: right;\n",
       "    }\n",
       "</style>\n",
       "<table border=\"1\" class=\"dataframe\">\n",
       "  <thead>\n",
       "    <tr style=\"text-align: right;\">\n",
       "      <th></th>\n",
       "      <th>link</th>\n",
       "      <th>comment</th>\n",
       "      <th>sentiment_Comments</th>\n",
       "      <th>title</th>\n",
       "      <th>author</th>\n",
       "      <th>date</th>\n",
       "      <th>text</th>\n",
       "      <th>sentiment_Articles</th>\n",
       "    </tr>\n",
       "    <tr>\n",
       "      <th>index</th>\n",
       "      <th></th>\n",
       "      <th></th>\n",
       "      <th></th>\n",
       "      <th></th>\n",
       "      <th></th>\n",
       "      <th></th>\n",
       "      <th></th>\n",
       "      <th></th>\n",
       "    </tr>\n",
       "  </thead>\n",
       "  <tbody>\n",
       "    <tr>\n",
       "      <th>50</th>\n",
       "      <td>https://www.ilfattoquotidiano.it/2023/05/13/il...</td>\n",
       "      <td>Leggo nel titolo: “”… Non servono mediatori, i...</td>\n",
       "      <td>negative</td>\n",
       "      <td>Il Papa e Zelensky parlano di pace, poi arriva...</td>\n",
       "      <td>Francesco Antonio Grana</td>\n",
       "      <td>2023-05-13</td>\n",
       "      <td>Quaranta minuti di incontro per avviare una me...</td>\n",
       "      <td>positive</td>\n",
       "    </tr>\n",
       "    <tr>\n",
       "      <th>66</th>\n",
       "      <td>https://www.ilfattoquotidiano.it/2023/05/10/eu...</td>\n",
       "      <td>Con la recrudescenza bellica la persecuzione p...</td>\n",
       "      <td>negative</td>\n",
       "      <td>Eurovision 2023, in mutande e con finti missil...</td>\n",
       "      <td>Andrea Conti</td>\n",
       "      <td>2023-05-10</td>\n",
       "      <td>Ieri sera si è alzato il sipario sulla prima d...</td>\n",
       "      <td>positive</td>\n",
       "    </tr>\n",
       "    <tr>\n",
       "      <th>302</th>\n",
       "      <td>https://www.ilfattoquotidiano.it/2023/04/18/vl...</td>\n",
       "      <td>Se è comprensibile la volontà di portar solida...</td>\n",
       "      <td>negative</td>\n",
       "      <td>Vladimir Putin visita una base militare vicino...</td>\n",
       "      <td>F. Q.</td>\n",
       "      <td>2023-04-18</td>\n",
       "      <td>Il presidente russo Vladimir Putin ha visitato...</td>\n",
       "      <td>positive</td>\n",
       "    </tr>\n",
       "    <tr>\n",
       "      <th>589</th>\n",
       "      <td>https://www.ilfattoquotidiano.it/2023/03/20/uc...</td>\n",
       "      <td>Speranza vana.\\nLa Elly continuerà nell’impost...</td>\n",
       "      <td>negative</td>\n",
       "      <td>Ucraina, Conte: “Spero che martedì il Pd conve...</td>\n",
       "      <td>F. Q.</td>\n",
       "      <td>2023-03-20</td>\n",
       "      <td>“Mi auguro che il Pd, con il nuovo vertice, po...</td>\n",
       "      <td>positive</td>\n",
       "    </tr>\n",
       "    <tr>\n",
       "      <th>957</th>\n",
       "      <td>https://www.ilfattoquotidiano.it/2023/02/25/ma...</td>\n",
       "      <td>La pace si raggiungerebbe in un secondo se la ...</td>\n",
       "      <td>negative</td>\n",
       "      <td>Manifestazioni per la pace del 25 febbraio, a ...</td>\n",
       "      <td>F. Q.</td>\n",
       "      <td>2023-02-25</td>\n",
       "      <td>Iniziative in 50 città in tutta Italia, da Tre...</td>\n",
       "      <td>positive</td>\n",
       "    </tr>\n",
       "    <tr>\n",
       "      <th>...</th>\n",
       "      <td>...</td>\n",
       "      <td>...</td>\n",
       "      <td>...</td>\n",
       "      <td>...</td>\n",
       "      <td>...</td>\n",
       "      <td>...</td>\n",
       "      <td>...</td>\n",
       "      <td>...</td>\n",
       "    </tr>\n",
       "    <tr>\n",
       "      <th>21632</th>\n",
       "      <td>https://www.ilfattoquotidiano.it/2022/02/25/so...</td>\n",
       "      <td>L’ipocrisia e l’infingardaggine degli europei ...</td>\n",
       "      <td>negative</td>\n",
       "      <td>Solidarietà all’Ucraina, da Parigi a Roma e Br...</td>\n",
       "      <td>F. Q.</td>\n",
       "      <td>2022-02-25</td>\n",
       "      <td>Il mondo si tinge di giallo e blu. Numerosi i ...</td>\n",
       "      <td>positive</td>\n",
       "    </tr>\n",
       "    <tr>\n",
       "      <th>21796</th>\n",
       "      <td>https://www.ilfattoquotidiano.it/2022/02/24/uc...</td>\n",
       "      <td>Visto che gli ucraini hanno eletto come eroe n...</td>\n",
       "      <td>negative</td>\n",
       "      <td>Ucraina, ecco come il profilo Twitter ufficial...</td>\n",
       "      <td>F. Q.</td>\n",
       "      <td>2022-02-24</td>\n",
       "      <td>“Questo non è un meme, ma la nostra e la tua r...</td>\n",
       "      <td>positive</td>\n",
       "    </tr>\n",
       "    <tr>\n",
       "      <th>21879</th>\n",
       "      <td>https://www.ilfattoquotidiano.it/2022/02/24/uc...</td>\n",
       "      <td>io non penso che quarche fascistone magari un ...</td>\n",
       "      <td>negative</td>\n",
       "      <td>Ucraina, la conferenza stampa del premier Drag...</td>\n",
       "      <td>F. Q.</td>\n",
       "      <td>2022-02-24</td>\n",
       "      <td>Al termine del Consiglio dei Ministri, il pres...</td>\n",
       "      <td>positive</td>\n",
       "    </tr>\n",
       "    <tr>\n",
       "      <th>22137</th>\n",
       "      <td>https://www.ilfattoquotidiano.it/2022/02/22/uc...</td>\n",
       "      <td>gli ridà indietro il lettone</td>\n",
       "      <td>negative</td>\n",
       "      <td>Ucraina, Mandelli (Fi) invoca l’intervento di ...</td>\n",
       "      <td>F. Q.</td>\n",
       "      <td>2022-02-22</td>\n",
       "      <td>“Crisi Russia-Ucraina? In questo momento in It...</td>\n",
       "      <td>positive</td>\n",
       "    </tr>\n",
       "    <tr>\n",
       "      <th>22202</th>\n",
       "      <td>https://www.ilfattoquotidiano.it/2022/02/22/uc...</td>\n",
       "      <td>Piazze un  tantinello desertiche</td>\n",
       "      <td>negative</td>\n",
       "      <td>Ucraina, fuochi d’artificio e festeggiamenti a...</td>\n",
       "      <td>F. Q.</td>\n",
       "      <td>2022-02-22</td>\n",
       "      <td>Un piccolo gruppo di persone ha festeggiato sv...</td>\n",
       "      <td>positive</td>\n",
       "    </tr>\n",
       "  </tbody>\n",
       "</table>\n",
       "<p>121 rows × 8 columns</p>\n",
       "</div>"
      ],
      "text/plain": [
       "                                                    link  \\\n",
       "index                                                      \n",
       "50     https://www.ilfattoquotidiano.it/2023/05/13/il...   \n",
       "66     https://www.ilfattoquotidiano.it/2023/05/10/eu...   \n",
       "302    https://www.ilfattoquotidiano.it/2023/04/18/vl...   \n",
       "589    https://www.ilfattoquotidiano.it/2023/03/20/uc...   \n",
       "957    https://www.ilfattoquotidiano.it/2023/02/25/ma...   \n",
       "...                                                  ...   \n",
       "21632  https://www.ilfattoquotidiano.it/2022/02/25/so...   \n",
       "21796  https://www.ilfattoquotidiano.it/2022/02/24/uc...   \n",
       "21879  https://www.ilfattoquotidiano.it/2022/02/24/uc...   \n",
       "22137  https://www.ilfattoquotidiano.it/2022/02/22/uc...   \n",
       "22202  https://www.ilfattoquotidiano.it/2022/02/22/uc...   \n",
       "\n",
       "                                                 comment sentiment_Comments  \\\n",
       "index                                                                         \n",
       "50     Leggo nel titolo: “”… Non servono mediatori, i...           negative   \n",
       "66     Con la recrudescenza bellica la persecuzione p...           negative   \n",
       "302    Se è comprensibile la volontà di portar solida...           negative   \n",
       "589    Speranza vana.\\nLa Elly continuerà nell’impost...           negative   \n",
       "957    La pace si raggiungerebbe in un secondo se la ...           negative   \n",
       "...                                                  ...                ...   \n",
       "21632  L’ipocrisia e l’infingardaggine degli europei ...           negative   \n",
       "21796  Visto che gli ucraini hanno eletto come eroe n...           negative   \n",
       "21879  io non penso che quarche fascistone magari un ...           negative   \n",
       "22137                      gli ridà indietro il lettone            negative   \n",
       "22202                   Piazze un  tantinello desertiche           negative   \n",
       "\n",
       "                                                   title  \\\n",
       "index                                                      \n",
       "50     Il Papa e Zelensky parlano di pace, poi arriva...   \n",
       "66     Eurovision 2023, in mutande e con finti missil...   \n",
       "302    Vladimir Putin visita una base militare vicino...   \n",
       "589    Ucraina, Conte: “Spero che martedì il Pd conve...   \n",
       "957    Manifestazioni per la pace del 25 febbraio, a ...   \n",
       "...                                                  ...   \n",
       "21632  Solidarietà all’Ucraina, da Parigi a Roma e Br...   \n",
       "21796  Ucraina, ecco come il profilo Twitter ufficial...   \n",
       "21879  Ucraina, la conferenza stampa del premier Drag...   \n",
       "22137  Ucraina, Mandelli (Fi) invoca l’intervento di ...   \n",
       "22202  Ucraina, fuochi d’artificio e festeggiamenti a...   \n",
       "\n",
       "                        author       date  \\\n",
       "index                                       \n",
       "50     Francesco Antonio Grana 2023-05-13   \n",
       "66                Andrea Conti 2023-05-10   \n",
       "302                      F. Q. 2023-04-18   \n",
       "589                      F. Q. 2023-03-20   \n",
       "957                      F. Q. 2023-02-25   \n",
       "...                        ...        ...   \n",
       "21632                    F. Q. 2022-02-25   \n",
       "21796                    F. Q. 2022-02-24   \n",
       "21879                    F. Q. 2022-02-24   \n",
       "22137                    F. Q. 2022-02-22   \n",
       "22202                    F. Q. 2022-02-22   \n",
       "\n",
       "                                                    text sentiment_Articles  \n",
       "index                                                                        \n",
       "50     Quaranta minuti di incontro per avviare una me...           positive  \n",
       "66     Ieri sera si è alzato il sipario sulla prima d...           positive  \n",
       "302    Il presidente russo Vladimir Putin ha visitato...           positive  \n",
       "589    “Mi auguro che il Pd, con il nuovo vertice, po...           positive  \n",
       "957    Iniziative in 50 città in tutta Italia, da Tre...           positive  \n",
       "...                                                  ...                ...  \n",
       "21632  Il mondo si tinge di giallo e blu. Numerosi i ...           positive  \n",
       "21796  “Questo non è un meme, ma la nostra e la tua r...           positive  \n",
       "21879  Al termine del Consiglio dei Ministri, il pres...           positive  \n",
       "22137  “Crisi Russia-Ucraina? In questo momento in It...           positive  \n",
       "22202  Un piccolo gruppo di persone ha festeggiato sv...           positive  \n",
       "\n",
       "[121 rows x 8 columns]"
      ]
     },
     "execution_count": 200,
     "metadata": {},
     "output_type": "execute_result"
    }
   ],
   "source": [
    "ds.query(\"sentiment_Articles == 'positive' & sentiment_Comments == 'negative'\")"
   ]
  },
  {
   "cell_type": "code",
   "execution_count": 201,
   "id": "5340669a-e5eb-409b-9f44-f6d2d776b9a6",
   "metadata": {},
   "outputs": [
    {
     "data": {
      "text/plain": [
       "'Il presidente russo Vladimir Putin ha visitato il quartier generale del gruppo di truppe ‘Dnepr‘ nella regione di Kherson, nel territorio dell’Ucraina, dove ha incontrato i militari. Dopo il presidente russo ha raggiunto il quartier generale della Guardia nazionale Vostok nell’autoproclamata Repubblica di Lugansk, come riferisce Ria Novosti citando il Cremlino.Putin ha ascoltato il rapporto del generale Alexander Lapin e di altri ufficiali sulla situazione in Ucraina. In entrambe le sedi, il presidente ha fatto gli auguri di Pasqua ai militari e ha donato copie di icone: in particolare ha donato un’icona a Dnepr che “apparteneva a uno dei ministri della difesa di maggior successo dell’Impero russo”. Putin, ha riferito Ria Novosti, è arrivato in elicottero al quartier generale del Dnepr, quindi ha raggiunto il posto di comando in auto.'"
      ]
     },
     "execution_count": 201,
     "metadata": {},
     "output_type": "execute_result"
    }
   ],
   "source": [
    "ds.query(\"sentiment_Articles == 'positive' & sentiment_Comments == 'negative'\").iloc[\n",
    "    2\n",
    "].text"
   ]
  },
  {
   "cell_type": "code",
   "execution_count": 202,
   "id": "94d9a1ec-d0e0-408b-8da1-da40fd8b312d",
   "metadata": {},
   "outputs": [
    {
     "data": {
      "text/plain": [
       "\"Se è comprensibile la volontà di portar solidarietà agli ucraini,bisogna ricordare anche i sindacalisti e militanti politici di sinistra,senza dimenticare che il massacro d'Odessa fu realizzato da un’organizzazione che ora tiene in piedi il governo a Kiev.\\nSi può portare solidarietà alle centinaia di migliaia d'ucraini mandati al macello,solidarizzare con le migliaia di renitenti alla leva inviati in operazioni suicide al fronte.\\nNon si è portata solidarietà agli ucraini russofoni che erano perseguitati e massacrati prima dell’invasione.\\nSi è andati dietro alla versione imposta dai media.\\nUna solidarietà acritica non porta alla pace,mostra invece gente che si vuole di sinistra a sostegno delle peggiori politiche nazifasciste.\\nAccettare la narrazione della guerra che esce dalle stanze di Pentagono e CIA,ha gettato in una crisi enorme molta sinistra europea,in modo simile a quello che i nostri bisnonni hanno vissuto nel 1914.\\nAccecati dalla propaganda non si riescono a vedere i mutamenti nel mondo,spesso non buoni,non si vede il sorgere di nazionalismi feroci come quello polacco che sta meditando,su istigazioni che vengono sempre dagli USA,di fagocitare il paese ucraino facendo risorgere vecchi progetti come Intermarium o Trimarium.\\nIl sonno della sinistra genera mostri,e nel caso italiano è un mostro assopito,mentre l’Europa ribolle,la Francia si ribella,nella nostra penisola domina una pace sociale ch'è morte.\\nTutti i sonni,anche quelli più profondi,finiscono in un risveglio.\""
      ]
     },
     "execution_count": 202,
     "metadata": {},
     "output_type": "execute_result"
    }
   ],
   "source": [
    "ds.query(\"sentiment_Articles == 'positive' & sentiment_Comments == 'negative'\").iloc[\n",
    "    2\n",
    "].comment"
   ]
  },
  {
   "cell_type": "code",
   "execution_count": 203,
   "id": "1d8c7205-42cb-4ab6-b0a6-c2c585f7d773",
   "metadata": {},
   "outputs": [
    {
     "data": {
      "text/plain": [
       "'Ieri sera si è alzato il sipario sulla prima delle due Semifinali di Eurovision Song Contest 2023 (il prossimo appuntamento è per giovedì 11 maggio su Rai2, in prima serata) e già dalla toccante introduzione si è deciso di mandare un messaggio chiaro all’Ucraina. Il Paese, infatti, avrebbe dovuto ospitare l’evento dopo la vittoria della Kalush Orchestra con “Stefania”, ma a causa della guerra ha ceduto il passo al Paese secondo classificato, il Regno Unito, rappresentato lo scorso anno da Sam Ryder. E tra i primi quindici Paesi che si sono esibiti non sono mancati messaggi chiari contro la guerra in Ucraina.Ad aprire la rassegna una delle favorite alla vittoria, Alessandra Mele (di Cisano sul Neva- Savona) per la Norvegia con un lungo mantello nero e quattro ballerine sulle note ultrapop di “Queen of Kings”. Poi i divertenti The Busker per Malta con “Dance Our Own Party” e una performance come fosse un game con citazioni Anni 80, Michael Jackson compreso. Scintillanti. Anni 90 per Sudden Lights della Lettonia in “Aijā”, la scossetta della serata è arrivata con Mimicat del Portogallo e la sua “Ai Coração”. Glitterati d’oro con la mano sinistra del vocalist dei Wild Youth dall’Irlanda a fare le ondine, “We Are One” è brano lieve che però non lascia il segno.Ci ha pensato la band Let 3 della Croazia con “Mama ŠČ!” a lanciare un j’accuse alla Russia di Putin, sul palco sono apparsi in mutande e accompagnati da alcuni (finti) missili sul palco. I musicisti sono stati multati nel 2006 per aver fatto un concerto completamente nudi. Poi è stata la volta di Remo Forrer della Svizzera con “Watergun”, un brano che racconta di un ragazzo che quando era piccolo giocava con le pistole ad acqua ed ora combatte con le armi. Viso perfetto per il cinema, ottima presenza scenica, electro-pop a tinte dark. Una esibizione interessante con una voce particolare e riconoscibile quella di Luke Black per la Serbia in “Samo Mi Se Spava”. Anche questo brano è contro le guerre e la mancanza di umanità.Non sono mancati i messaggi dedicati ai rapporti umani come la super pop Noa Kirel per Israele in “Unicorn” (Israele), un invito ad essere sinceri con sé stessi e ad avere il coraggio di distinguersi. Bella la performance sul palco. A 14 anni è stata al centro delle polemiche per il video e testo di “Killer” “troppo provocanti per una adolescente”. L’amore è presente con Pasha Parfeni della Moldavia che è tornato con “Soarele şi Luna” (Moldavia), canzone scritta con la moglie Yliana Scutaru per raccontare l’amore con la sua futura sposa. È alla terza partecipazione (2009-2012-2023) a Eurovision. Applausi calorosissimi per la favorita alla vittoria per la Svezia, Loreen (attivista per i diritti umani e cantante) che ha mostrato carattere e personalità con la sua “Tattoo”. Ha voglia di vincere, si vede. Poi i gemelli TuralTuranX per l’Azerbaijan in “Tell Me More”. Stilosissimi, in bianco e nero, Anni 60 nello stile. Ma il duo è apparso po’ moscetto sul palco, tra l’altro con un brano che sembra aver attinto a piene mani da “Kiss Me” dei Sixpence None The Richer. Poi sono apparse le sei Vesna per la Repubblica Ceca tutte in rosa e coda lunga nera, per lanciare un appello con “My Sister’s Crown” all’unità tra persone che non si stimano. Il duo dei Paesi Bassi Mia Nicolai & Dion Cooper (belle le loro voci) con “Burning Lights” danno l’addio al passato per concentrarsi sul futuro con speranza. A chiudere la performance surreale tutta elettronica di Käärijä per la Finlandia in “Cha Cha Cha”, applauditissimo sia in platea che in sala stampa.I 10 Paesi promossi dal televoto (l’Italia poteva votare solo ieri sera) per il Grand Final di sabato 13 maggio sono: Croazia, Moldavia, Svizzera, Finlandia, Repubblica Ceca, Israele, Portogallo, Svezia, Serbia e Norvegia. Marco Mengoni – presente assieme ai colleghi di Francia (La Zarra) e Germania (Lord Of The Lost) – ha presentato una breve clip della sua performance di “Due Vite”, davvero intensa e potente. Chissà se sabato riuscirà a battere la concorrenza sul campo. Ai posteri l’ardua sentenza.(Foto credit Corinne Cumming/Ebu)'"
      ]
     },
     "execution_count": 203,
     "metadata": {},
     "output_type": "execute_result"
    }
   ],
   "source": [
    "ds.query(\"sentiment_Articles == 'positive' & sentiment_Comments == 'negative'\").iloc[\n",
    "    1\n",
    "].text"
   ]
  },
  {
   "cell_type": "code",
   "execution_count": 204,
   "id": "7dab9ed3-3b61-4d22-b78c-e3ee5e92d586",
   "metadata": {},
   "outputs": [
    {
     "data": {
      "text/plain": [
       "\"Con la recrudescenza bellica la persecuzione può solo essersi intensificata.\\nGran parte degli 8mila indagati e detenuti sono in realtà oppositori politici,con buona pace per chi ancora crede nella giovane ma limitata democrazia ucraina,che resiste per difendere il giardino Ue dall’autocrazia e dall’autoritarismo russo.\\nLa giustizia UE riconosceva dunque l’arbitrarietà della giustizia ucraina,ed il suo accanimento ingiustificato verso una dirigente politica dell’opposizione messa al bando.\\nLe stesse autorità UE,che oggi sostengono militarmente l’Ucraina per difendere i valori europei di democrazia e libertà,erano al corrente delle violazioni dei diritti umani compiute nel paese durante la decomunistizzazione.\\nPrima del 24 febbraio 2022,le persecuzioni erano condannate dal tribunale di Strasburgo,dopo sono state messe al bando dai principali organi d'informazione come “propaganda russa”.\\nSulle cause delle trasformazione,si possono azzardare ipotesi verosimili:\\nsarebbe difficile giustificare l’invio di armi ad un governo che reprime il suo popolo;\\nuno Stato che mette al bando e perseguita l’opposizione cessa di essere democratico,per la definizione stessa di democrazia.\\nAlcune volte in TV o sui quotidiani si definisce l’Ucraina una “giovane democrazia limitata”,una formula paradossale:la democrazia limitata dalla repressione politica,è un eufemismo di dittatura,che non accetta e soffoca l’attività politica delle opposizioni alle politiche orientate ad Ovest del governo di Kiev!!\""
      ]
     },
     "execution_count": 204,
     "metadata": {},
     "output_type": "execute_result"
    }
   ],
   "source": [
    "ds.query(\"sentiment_Articles == 'positive' & sentiment_Comments == 'negative'\").iloc[\n",
    "    1\n",
    "].comment"
   ]
  },
  {
   "cell_type": "code",
   "execution_count": 205,
   "id": "ff39442e-0843-4a67-92c4-bc9a9c9c32f6",
   "metadata": {},
   "outputs": [],
   "source": [
    "ds = ds.dropna(subset=[\"date\"])"
   ]
  },
  {
   "cell_type": "code",
   "execution_count": 206,
   "id": "9b511095-b085-4699-8482-80d9e6d47be4",
   "metadata": {},
   "outputs": [
    {
     "data": {
      "image/png": "[encoded data removed]",
      "text/plain": [
       "<Figure size 1728x576 with 1 Axes>"
      ]
     },
     "metadata": {
      "needs_background": "light"
     },
     "output_type": "display_data"
    }
   ],
   "source": [
    "ds[\"MonthYear\"] = ds[\"date\"].apply(lambda x: x.strftime(\"%Y-%m\"))\n",
    "\n",
    "overTimeSentiment = ds.groupby([ds[\"MonthYear\"], \"sentiment_Articles\"])[\n",
    "    \"sentiment_Articles\"\n",
    "].count()\n",
    "\n",
    "overTimeSentiment = (\n",
    "    pd.DataFrame(data=overTimeSentiment)\n",
    "    .rename(columns={\"sentiment_Articles\": \"count\"})\n",
    "    .reset_index()\n",
    ")\n",
    "\n",
    "# Visualising distribution of categorical variables\n",
    "fig, ax = plt.subplots(1, 1, figsize=(24, 8))\n",
    "_ = sns.barplot(\n",
    "    x=\"MonthYear\",\n",
    "    y=\"count\",\n",
    "    hue=\"sentiment_Articles\",\n",
    "    data=overTimeSentiment,\n",
    "    palette=colors,\n",
    ")\n",
    "_ = plt.xlabel(\"Month and Year\", fontsize=14)\n",
    "_ = plt.title(\"Sentiment of articles over time\", fontsize=14)"
   ]
  },
  {
   "cell_type": "code",
   "execution_count": 207,
   "id": "8d95c7b7-9154-4885-937e-d3f111ed4612",
   "metadata": {},
   "outputs": [
    {
     "data": {
      "image/png": "[encoded data removed]",
      "text/plain": [
       "<Figure size 1728x576 with 1 Axes>"
      ]
     },
     "metadata": {
      "needs_background": "light"
     },
     "output_type": "display_data"
    }
   ],
   "source": [
    "ds[\"MonthYear\"] = ds[\"date\"].apply(lambda x: x.strftime(\"%Y-%m\"))\n",
    "\n",
    "overTimeSentiment = ds.groupby([ds[\"MonthYear\"], \"sentiment_Comments\"], sort=False)[\n",
    "    \"sentiment_Comments\"\n",
    "].count()\n",
    "\n",
    "overTimeSentiment = (\n",
    "    pd.DataFrame(data=overTimeSentiment)\n",
    "    .rename(columns={\"sentiment_Comments\": \"count\"})\n",
    "    .reset_index()\n",
    ")\n",
    "\n",
    "# Visualising distribution of categorical variables\n",
    "fig, ax = plt.subplots(1, 1, figsize=(24, 8))\n",
    "_ = sns.barplot(\n",
    "    x=\"MonthYear\",\n",
    "    y=\"count\",\n",
    "    hue=\"sentiment_Comments\",\n",
    "    data=overTimeSentiment,\n",
    "    palette=colors,\n",
    ")\n",
    "_ = plt.xlabel(\"Month and Year\", fontsize=14)\n",
    "_ = plt.title(\"Sentiment of comment over time\", fontsize=14)"
   ]
  }
 ],
 "metadata": {
  "kernelspec": {
   "display_name": "Python 3 (ipykernel)",
   "language": "python",
   "name": "python3"
  },
  "language_info": {
   "codemirror_mode": {
    "name": "ipython",
    "version": 3
   },
   "file_extension": ".py",
   "mimetype": "text/x-python",
   "name": "python",
   "nbconvert_exporter": "python",
   "pygments_lexer": "ipython3",
   "version": "3.9.12"
  }
 },
 "nbformat": 4,
 "nbformat_minor": 5
}
