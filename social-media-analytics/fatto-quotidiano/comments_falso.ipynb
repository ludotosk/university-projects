{
 "cells": [
  {
   "cell_type": "code",
   "execution_count": null,
   "id": "225462d1-9862-4781-bd1b-b625476ac43c",
   "metadata": {},
   "outputs": [],
   "source": [
    "# Import the two main libraries\n",
    "import datetime\n",
    "import json\n",
    "import pickle\n",
    "import sys\n",
    "import time\n",
    "\n",
    "import pandas as pd\n",
    "import requests\n",
    "from bs4 import BeautifulSoup  # to process html\n",
    "from tqdm import tqdm"
   ]
  },
  {
   "cell_type": "code",
   "execution_count": null,
   "id": "20180068-564a-42fe-b3c1-e0dbd101dda3",
   "metadata": {},
   "outputs": [],
   "source": [
    "\"\"\"\n",
    "dtypes = {\n",
    "    \"link\": \"category\",\n",
    "    \"title\": \"string\",\n",
    "    \"author\": \"string\",\n",
    "    \"date\": \"string\",\n",
    "    \"text\": \"string\",\n",
    "}\n",
    "\n",
    "articles = pd.read_csv(\"FalsoArticles.csv\", index_col=0, dtype=dtypes)\n",
    "\"\"\""
   ]
  },
  {
   "cell_type": "code",
   "execution_count": null,
   "id": "f61cafda-efc9-4328-9c64-21a37b6813c7",
   "metadata": {},
   "outputs": [],
   "source": [
    "articels = pd.read_parquet(\"FalsoArticles.parquet.snappy\", engine=\"fastparquet\")"
   ]
  },
  {
   "cell_type": "code",
   "execution_count": null,
   "id": "e5397999-dcb0-4c4f-9410-d2bbca65d0b7",
   "metadata": {},
   "outputs": [],
   "source": [
    "articles"
   ]
  },
  {
   "cell_type": "code",
   "execution_count": null,
   "id": "2f247b80-af65-4025-8e35-9c08c6b4685b",
   "metadata": {},
   "outputs": [],
   "source": [
    "articles[\"comments\"] = 0\n",
    "articleNumber = []\n",
    "\n",
    "for i, link in tqdm(enumerate(articles.link)):\n",
    "    comments = []\n",
    "\n",
    "    articleNumber = link.split(\"/\")[-2]\n",
    "\n",
    "    data = requests.get(\n",
    "        \"https://comments.ilfattoquotidiano.it/?p=\"\n",
    "        + str(articleNumber)\n",
    "        + \"&orderby=upvote\"\n",
    "    )\n",
    "    data = json.loads(data.text)\n",
    "\n",
    "    for comment in enumerate(data[\"comments\"]):\n",
    "        comments.append(comment[1][\"content\"])\n",
    "\n",
    "    articles[\"comments\"][i] = comments"
   ]
  },
  {
   "cell_type": "code",
   "execution_count": null,
   "id": "a24780c2-ee0a-4555-99b8-06f7a660283d",
   "metadata": {},
   "outputs": [],
   "source": [
    "articles.to_parquet(\"fatto.parquet.snappy\", engine=\"fastparquet\")"
   ]
  }
 ],
 "metadata": {
  "kernelspec": {
   "display_name": "Python 3 (ipykernel)",
   "language": "python",
   "name": "python3"
  },
  "language_info": {
   "codemirror_mode": {
    "name": "ipython",
    "version": 3
   },
   "file_extension": ".py",
   "mimetype": "text/x-python",
   "name": "python",
   "nbconvert_exporter": "python",
   "pygments_lexer": "ipython3",
   "version": "3.9.12"
  }
 },
 "nbformat": 4,
 "nbformat_minor": 5
}
