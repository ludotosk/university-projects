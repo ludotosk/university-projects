{
 "cells": [
  {
   "cell_type": "markdown",
   "metadata": {},
   "source": [
    "##### Social Media Analytics\n",
    "### Introduction to Text Mining\n",
    "## Sentiment Analysis\n",
    "(c) Nuno Antonio 2019-2022 v1.02"
   ]
  },
  {
   "cell_type": "markdown",
   "metadata": {},
   "source": [
    "### Initial setup"
   ]
  },
  {
   "cell_type": "code",
   "execution_count": 1,
   "metadata": {},
   "outputs": [],
   "source": [
    "# Import packages\n",
    "import csv\n",
    "import pickle\n",
    "import re\n",
    "\n",
    "import nltk\n",
    "import numpy as np\n",
    "import pandas as pd\n",
    "from bs4 import BeautifulSoup\n",
    "from nltk.corpus import stopwords\n",
    "from nltk.tokenize import sent_tokenize, word_tokenize\n",
    "from tqdm import tqdm\n",
    "from vaderSentiment.vaderSentiment import SentimentIntensityAnalyzer"
   ]
  },
  {
   "cell_type": "code",
   "execution_count": 2,
   "metadata": {},
   "outputs": [],
   "source": [
    "ds = pd.read_parquet(\"sputnik.parquet.snappy\", engine=\"fastparquet\")"
   ]
  },
  {
   "cell_type": "code",
   "execution_count": 3,
   "metadata": {},
   "outputs": [],
   "source": [
    "ds[\"title\"] = ds[\"title\"].astype(\"string\")\n",
    "ds[\"author\"] = ds[\"author\"].astype(\"string\")\n",
    "ds[\"text\"] = ds[\"text\"].astype(\"string\")"
   ]
  },
  {
   "cell_type": "code",
   "execution_count": 4,
   "metadata": {},
   "outputs": [
    {
     "data": {
      "text/html": [
       "<div>\n",
       "<style scoped>\n",
       "    .dataframe tbody tr th:only-of-type {\n",
       "        vertical-align: middle;\n",
       "    }\n",
       "\n",
       "    .dataframe tbody tr th {\n",
       "        vertical-align: top;\n",
       "    }\n",
       "\n",
       "    .dataframe thead th {\n",
       "        text-align: right;\n",
       "    }\n",
       "</style>\n",
       "<table border=\"1\" class=\"dataframe\">\n",
       "  <thead>\n",
       "    <tr style=\"text-align: right;\">\n",
       "      <th></th>\n",
       "      <th>link</th>\n",
       "      <th>title</th>\n",
       "      <th>author</th>\n",
       "      <th>date</th>\n",
       "      <th>text</th>\n",
       "      <th>comments</th>\n",
       "    </tr>\n",
       "  </thead>\n",
       "  <tbody>\n",
       "    <tr>\n",
       "      <th>0</th>\n",
       "      <td>/20230501/watch-russian-army-sappers-blow-up-a...</td>\n",
       "      <td>Watch Russian Army Sappers Blow Up Abandoned Ammo</td>\n",
       "      <td>Oleg Burunov https://cdn1.img.sputnikglobe.com...</td>\n",
       "      <td>01/05/23</td>\n",
       "      <td>The Russian Ministry of Defense (MoD) has rele...</td>\n",
       "      <td>[]</td>\n",
       "    </tr>\n",
       "    <tr>\n",
       "      <th>1</th>\n",
       "      <td>/20230501/kiev-lost-over-300-soldiers-over-pas...</td>\n",
       "      <td>Kiev Lost Over 300 Soldiers Over Past 24 Hours...</td>\n",
       "      <td>Sputnik International</td>\n",
       "      <td>01/05/23</td>\n",
       "      <td>\"Over the past day, the aviation carried out s...</td>\n",
       "      <td>[330 US mercenaries with mostly Ukrainian pass...</td>\n",
       "    </tr>\n",
       "    <tr>\n",
       "      <th>2</th>\n",
       "      <td>/20230430/russia-destroys-up-to-200-tonnes-of-...</td>\n",
       "      <td>Russia Destroys Up to 200 Tons of Ukrainian Am...</td>\n",
       "      <td>Sputnik International</td>\n",
       "      <td>30/04/23</td>\n",
       "      <td>\"As a result of a strike on an echelon at a ra...</td>\n",
       "      <td>[Very soon they will only have stones to throw...</td>\n",
       "    </tr>\n",
       "    <tr>\n",
       "      <th>3</th>\n",
       "      <td>/20230430/russian-forces-discover-underground-...</td>\n",
       "      <td>Russian Forces Discover Underground Soledar Ar...</td>\n",
       "      <td>Oleg Burunov https://cdn1.img.sputnikglobe.com...</td>\n",
       "      <td>30/04/23</td>\n",
       "      <td>The Armed Forces of Ukraine failed in its effo...</td>\n",
       "      <td>[Kudos to the Russian explosive ordnance dispo...</td>\n",
       "    </tr>\n",
       "    <tr>\n",
       "      <th>4</th>\n",
       "      <td>/20230430/ukraine-loses-over-480-military-merc...</td>\n",
       "      <td>Ukraine Loses Over 480 Military, Mercenaries i...</td>\n",
       "      <td>Sputnik International</td>\n",
       "      <td>30/04/23</td>\n",
       "      <td>\"Over the past 24 hours, over 480 Ukrainian se...</td>\n",
       "      <td>[]</td>\n",
       "    </tr>\n",
       "  </tbody>\n",
       "</table>\n",
       "</div>"
      ],
      "text/plain": [
       "                                                link  \\\n",
       "0  /20230501/watch-russian-army-sappers-blow-up-a...   \n",
       "1  /20230501/kiev-lost-over-300-soldiers-over-pas...   \n",
       "2  /20230430/russia-destroys-up-to-200-tonnes-of-...   \n",
       "3  /20230430/russian-forces-discover-underground-...   \n",
       "4  /20230430/ukraine-loses-over-480-military-merc...   \n",
       "\n",
       "                                               title  \\\n",
       "0  Watch Russian Army Sappers Blow Up Abandoned Ammo   \n",
       "1  Kiev Lost Over 300 Soldiers Over Past 24 Hours...   \n",
       "2  Russia Destroys Up to 200 Tons of Ukrainian Am...   \n",
       "3  Russian Forces Discover Underground Soledar Ar...   \n",
       "4  Ukraine Loses Over 480 Military, Mercenaries i...   \n",
       "\n",
       "                                              author      date  \\\n",
       "0  Oleg Burunov https://cdn1.img.sputnikglobe.com...  01/05/23   \n",
       "1                              Sputnik International  01/05/23   \n",
       "2                              Sputnik International  30/04/23   \n",
       "3  Oleg Burunov https://cdn1.img.sputnikglobe.com...  30/04/23   \n",
       "4                              Sputnik International  30/04/23   \n",
       "\n",
       "                                                text  \\\n",
       "0  The Russian Ministry of Defense (MoD) has rele...   \n",
       "1  \"Over the past day, the aviation carried out s...   \n",
       "2  \"As a result of a strike on an echelon at a ra...   \n",
       "3  The Armed Forces of Ukraine failed in its effo...   \n",
       "4  \"Over the past 24 hours, over 480 Ukrainian se...   \n",
       "\n",
       "                                            comments  \n",
       "0                                                 []  \n",
       "1  [330 US mercenaries with mostly Ukrainian pass...  \n",
       "2  [Very soon they will only have stones to throw...  \n",
       "3  [Kudos to the Russian explosive ordnance dispo...  \n",
       "4                                                 []  "
      ]
     },
     "execution_count": 4,
     "metadata": {},
     "output_type": "execute_result"
    }
   ],
   "source": [
    "ds.head()"
   ]
  },
  {
   "cell_type": "code",
   "execution_count": 5,
   "metadata": {},
   "outputs": [
    {
     "name": "stdout",
     "output_type": "stream",
     "text": [
      "<class 'pandas.core.frame.DataFrame'>\n",
      "RangeIndex: 1719 entries, 0 to 1718\n",
      "Data columns (total 6 columns):\n",
      " #   Column    Non-Null Count  Dtype \n",
      "---  ------    --------------  ----- \n",
      " 0   link      1719 non-null   object\n",
      " 1   title     1719 non-null   string\n",
      " 2   author    1719 non-null   string\n",
      " 3   date      1719 non-null   object\n",
      " 4   text      1719 non-null   string\n",
      " 5   comments  1719 non-null   object\n",
      "dtypes: object(3), string(3)\n",
      "memory usage: 80.7+ KB\n"
     ]
    }
   ],
   "source": [
    "ds.info()"
   ]
  },
  {
   "cell_type": "code",
   "execution_count": 6,
   "metadata": {},
   "outputs": [],
   "source": [
    "ds = ds.dropna(subset=[\"text\"])"
   ]
  },
  {
   "cell_type": "markdown",
   "metadata": {},
   "source": [
    "### Functions"
   ]
  },
  {
   "cell_type": "code",
   "execution_count": 7,
   "metadata": {},
   "outputs": [],
   "source": [
    "# Text preprocessing\n",
    "def textPreProcess(\n",
    "    rawText,\n",
    "    removeHTML=True,\n",
    "    charsToRemove=r\"\\?|\\.|\\!|\\;|\\.|\\\"|\\,|\\(|\\)|\\&|\\:|\\-\",\n",
    "    removeNumbers=True,\n",
    "    removeLineBreaks=False,\n",
    "    specialCharsToRemove=r\"[^\\x00-\\xfd]\",\n",
    "    convertToLower=True,\n",
    "    removeConsecutiveSpaces=True,\n",
    "):\n",
    "    if type(rawText) != str:\n",
    "        return rawText\n",
    "    procText = rawText\n",
    "\n",
    "    # Remove HTML\n",
    "    if removeHTML:\n",
    "        procText = BeautifulSoup(procText, \"html.parser\").get_text()\n",
    "\n",
    "    # Remove punctuation and other special characters\n",
    "    if len(charsToRemove) > 0:\n",
    "        procText = re.sub(charsToRemove, \" \", procText)\n",
    "\n",
    "    # Remove numbers\n",
    "    if removeNumbers:\n",
    "        procText = re.sub(r\"\\d+\", \" \", procText)\n",
    "\n",
    "    # Remove line breaks\n",
    "    if removeLineBreaks:\n",
    "        procText = procText.replace(\"\\n\", \" \").replace(\"\\r\", \"\")\n",
    "\n",
    "    # Remove special characters\n",
    "    if len(specialCharsToRemove) > 0:\n",
    "        procText = re.sub(specialCharsToRemove, \" \", procText)\n",
    "\n",
    "    # Normalize to lower case\n",
    "    if convertToLower:\n",
    "        procText = procText.lower()\n",
    "\n",
    "    # Replace multiple consecutive spaces with just one space\n",
    "    if removeConsecutiveSpaces:\n",
    "        procText = re.sub(\" +\", \" \", procText)\n",
    "\n",
    "    return procText"
   ]
  },
  {
   "cell_type": "code",
   "execution_count": 8,
   "metadata": {},
   "outputs": [],
   "source": [
    "# Tokenize words\n",
    "def tokenize_words(words):\n",
    "    if (type(words) != str) or (word_tokenize(words) == \"\"):\n",
    "        return np.nan\n",
    "    else:\n",
    "        return word_tokenize(words)"
   ]
  },
  {
   "cell_type": "code",
   "execution_count": 9,
   "metadata": {},
   "outputs": [],
   "source": [
    "# Function to create text from words\n",
    "def recreateText(words):\n",
    "    if type(words) == list:\n",
    "        temp_str = (\" \").join(words)\n",
    "        return temp_str\n",
    "    else:\n",
    "        return np.nan"
   ]
  },
  {
   "cell_type": "code",
   "execution_count": 10,
   "metadata": {},
   "outputs": [],
   "source": [
    "# Function to break texts into sentences\n",
    "def tokenize_sentences(texts):\n",
    "    s_token = sent_tokenize(texts)\n",
    "    return s_token"
   ]
  },
  {
   "cell_type": "code",
   "execution_count": 11,
   "metadata": {},
   "outputs": [],
   "source": [
    "# Function to remove stop words\n",
    "def removeStopWords(t, stop_words):\n",
    "    if type(t) == list:\n",
    "        return [w for w in t if not w in stop_words]\n",
    "    else:\n",
    "        return np.nan"
   ]
  },
  {
   "cell_type": "markdown",
   "metadata": {},
   "source": [
    "### Analysis"
   ]
  },
  {
   "cell_type": "code",
   "execution_count": 12,
   "metadata": {},
   "outputs": [],
   "source": [
    "# Because a review can express multiple opinions, let's analyze opinions by sentence\n",
    "\n",
    "# Break reviews' into a list of lists sentencesc\n",
    "listOfSentences = ds.text.apply(tokenize_sentences)"
   ]
  },
  {
   "cell_type": "code",
   "execution_count": 13,
   "metadata": {},
   "outputs": [],
   "source": [
    "# Create a dataframe with only the description\n",
    "processedReviews = pd.DataFrame(\n",
    "    data=ds.text.apply(\n",
    "        textPreProcess, charsToRemove=\"\", removeLineBreaks=False, removeNumbers=False\n",
    "    ).values,\n",
    "    index=ds.index,\n",
    "    columns=[\"PreProcessedText\"],\n",
    ")"
   ]
  },
  {
   "cell_type": "code",
   "execution_count": 14,
   "metadata": {},
   "outputs": [
    {
     "data": {
      "text/plain": [
       "'The Russian Ministry of Defense (MoD) has released a video showing the work of army sappers in the zone of Moscow’s special military operation in Ukraine.In footage published on the MoD’s Telegram page, the servicemen are seen performing a controlled explosion of the projectiles that had apparently been abandoned by Ukrainian units and then detected by Russian forces in an unspecified area.The MoD quoted a demining platoon commander as saying that more than 1,000 shells have already been destroyed.\"Sowing machinery will soon ride across these fields and life will return back to normal there,\" he added.'"
      ]
     },
     "execution_count": 14,
     "metadata": {},
     "output_type": "execute_result"
    }
   ],
   "source": [
    "# Check first review\n",
    "ds.text[0]"
   ]
  },
  {
   "cell_type": "code",
   "execution_count": 15,
   "metadata": {},
   "outputs": [
    {
     "data": {
      "text/plain": [
       "['The Russian Ministry of Defense (MoD) has released a video showing the work of army sappers in the zone of Moscow’s special military operation in Ukraine.In footage published on the MoD’s Telegram page, the servicemen are seen performing a controlled explosion of the projectiles that had apparently been abandoned by Ukrainian units and then detected by Russian forces in an unspecified area.The MoD quoted a demining platoon commander as saying that more than 1,000 shells have already been destroyed.',\n",
       " '\"Sowing machinery will soon ride across these fields and life will return back to normal there,\" he added.']"
      ]
     },
     "execution_count": 15,
     "metadata": {},
     "output_type": "execute_result"
    }
   ],
   "source": [
    "# Sentences of first review\n",
    "listOfSentences[0]"
   ]
  },
  {
   "cell_type": "code",
   "execution_count": 16,
   "metadata": {},
   "outputs": [],
   "source": [
    "# Create DataFrame for sentences\n",
    "sentences = pd.DataFrame(\n",
    "    data=[item for elem in listOfSentences for item in elem], columns=[\"BaseText\"]\n",
    ")"
   ]
  },
  {
   "cell_type": "code",
   "execution_count": 17,
   "metadata": {},
   "outputs": [],
   "source": [
    "# Add a column with the review ID\n",
    "sentencesPerReview = []\n",
    "for elem in listOfSentences:\n",
    "    sentencesPerReview.append(len(elem))\n",
    "sentences[\"link\"] = np.repeat(ds[\"link\"].values, sentencesPerReview)"
   ]
  },
  {
   "cell_type": "code",
   "execution_count": 18,
   "metadata": {},
   "outputs": [
    {
     "name": "stderr",
     "output_type": "stream",
     "text": [
      "/home/tosk/anaconda3/lib/python3.9/site-packages/bs4/__init__.py:435: MarkupResemblesLocatorWarning: The input looks more like a filename than markup. You may want to open this file and pass the filehandle into Beautiful Soup.\n",
      "  warnings.warn(\n"
     ]
    }
   ],
   "source": [
    "# Preprocess text\n",
    "sentences[\"PreProcessedText\"] = sentences[\"BaseText\"].apply(textPreProcess)"
   ]
  },
  {
   "cell_type": "code",
   "execution_count": 19,
   "metadata": {},
   "outputs": [],
   "source": [
    "# Get words\n",
    "sentences[\"Words\"] = sentences[\"PreProcessedText\"].apply(tokenize_words)"
   ]
  },
  {
   "cell_type": "code",
   "execution_count": 20,
   "metadata": {},
   "outputs": [],
   "source": [
    "# Remove stopwords\n",
    "stop_words = set(stopwords.words(\"english\"))\n",
    "sentences[\"WordsCleaned\"] = sentences[\"Words\"].apply(\n",
    "    removeStopWords, stop_words=stop_words\n",
    ")"
   ]
  },
  {
   "cell_type": "code",
   "execution_count": 21,
   "metadata": {},
   "outputs": [],
   "source": [
    "# Recreate sentence without stopwords\n",
    "sentences[\"ProcessedText\"] = sentences[\"WordsCleaned\"].apply(recreateText)"
   ]
  },
  {
   "cell_type": "code",
   "execution_count": 22,
   "metadata": {},
   "outputs": [],
   "source": [
    "# Create sentiment analysis object\n",
    "analyser = SentimentIntensityAnalyzer()"
   ]
  },
  {
   "cell_type": "code",
   "execution_count": 23,
   "metadata": {},
   "outputs": [
    {
     "name": "stdout",
     "output_type": "stream",
     "text": [
      "russian ministry defense mod released video showing work army sappers zone moscow special military operation ukraine footage published mod telegram page servicemen seen performing controlled explosion projectiles apparently abandoned ukrainian units detected russian forces unspecified area mod quoted demining platoon commander saying shells already destroyed {'neg': 0.121, 'neu': 0.798, 'pos': 0.082, 'compound': -0.4588}\n"
     ]
    }
   ],
   "source": [
    "# To test, let's evaluate first sentence of first review\n",
    "# Scales:\n",
    "#   compound: -1:most extreme negative, 1:most extreme positive\n",
    "#     positive: compound >=0.05\n",
    "#     neutral: -0.05<compound<0.05\n",
    "#     negative: compound <= -0.05\n",
    "#   pos, neu, neg: proportion of text that are positive, neutral or negative\n",
    "score = analyser.polarity_scores(sentences[\"ProcessedText\"][0])\n",
    "print(sentences[\"ProcessedText\"][0], score)"
   ]
  },
  {
   "cell_type": "code",
   "execution_count": 25,
   "metadata": {},
   "outputs": [],
   "source": [
    "# Computing sentences sentiment requires around 40 minutes, using this file we have the saved results.\n",
    "\n",
    "open_file = open(\"sentences-sputnik.pkl\", \"rb\")\n",
    "sentences = pickle.load(open_file)\n",
    "open_file.close()"
   ]
  },
  {
   "cell_type": "code",
   "execution_count": 25,
   "metadata": {},
   "outputs": [
    {
     "name": "stderr",
     "output_type": "stream",
     "text": [
      "100%|██████████| 15285/15285 [40:46<00:00,  6.25it/s]  \n"
     ]
    }
   ],
   "source": [
    "\"\"\"\n",
    "# Process sentiment for all sentences\n",
    "all_scores = []\n",
    "for t in tqdm(sentences[\"ProcessedText\"]):\n",
    "    try:\n",
    "        score = analyser.polarity_scores(t)\n",
    "        all_scores.append(score)\n",
    "    except:\n",
    "        all_scores.append(dict({\"neg\": 0.0, \"neu\": 0.0, \"pos\": 0.0, \"compound\": 0.0}))\n",
    "sentences[\"Sentiment\"] = [c[\"compound\"] for c in all_scores]\n",
    "\"\"\""
   ]
  },
  {
   "cell_type": "code",
   "execution_count": 30,
   "metadata": {},
   "outputs": [],
   "source": [
    "\"\"\"\n",
    "file_name = \"sentences-sputnik.pkl\"\n",
    "\n",
    "open_file = open(file_name, \"wb\")\n",
    "pickle.dump(sentences, open_file)\n",
    "open_file.close()\n",
    "\"\"\""
   ]
  },
  {
   "cell_type": "code",
   "execution_count": 33,
   "metadata": {},
   "outputs": [],
   "source": [
    "# this row was excluded by sentiment dataset because we had an error during the generation of the score, so doing everything from scratch can fix it\n",
    "ds = ds[\n",
    "    ds[\"link\"]\n",
    "    != \"/20221219/progress-and-results-of-russias-special-military-operation-in-ukraine-1099472571.html\"\n",
    "]"
   ]
  },
  {
   "cell_type": "code",
   "execution_count": 34,
   "metadata": {},
   "outputs": [
    {
     "name": "stderr",
     "output_type": "stream",
     "text": [
      "/tmp/ipykernel_4341/2201009863.py:8: SettingWithCopyWarning: \n",
      "A value is trying to be set on a copy of a slice from a DataFrame.\n",
      "Try using .loc[row_indexer,col_indexer] = value instead\n",
      "\n",
      "See the caveats in the documentation: https://pandas.pydata.org/pandas-docs/stable/user_guide/indexing.html#returning-a-view-versus-a-copy\n",
      "  ds[\"Sentiment\"] = meanByReview[ds[\"link\"]].values\n"
     ]
    }
   ],
   "source": [
    "# Compute review's sentiment as the mean sentiment from its sentences\n",
    "meanByReview = sentences.groupby(\"link\")[\"Sentiment\"].mean()\n",
    "\n",
    "# Consider sentences with no result as neutral (0)\n",
    "meanByReview = meanByReview.fillna(0)\n",
    "\n",
    "# Add column Sentiment to reviews Dataframe\n",
    "ds[\"Sentiment\"] = meanByReview[ds[\"link\"]].values"
   ]
  },
  {
   "cell_type": "code",
   "execution_count": 35,
   "metadata": {},
   "outputs": [
    {
     "name": "stderr",
     "output_type": "stream",
     "text": [
      "/tmp/ipykernel_4341/3879556559.py:7: SettingWithCopyWarning: \n",
      "A value is trying to be set on a copy of a slice from a DataFrame.\n",
      "Try using .loc[row_indexer,col_indexer] = value instead\n",
      "\n",
      "See the caveats in the documentation: https://pandas.pydata.org/pandas-docs/stable/user_guide/indexing.html#returning-a-view-versus-a-copy\n",
      "  ds[\"Polarity\"] = x\n"
     ]
    }
   ],
   "source": [
    "# Assign a qualitative evaluation to the review\n",
    "bins = pd.IntervalIndex.from_tuples(\n",
    "    [(-1.1, -0.05), (-0.05, 0.05), (0.05, 1)], closed=\"right\"\n",
    ")\n",
    "x = pd.cut(ds[\"Sentiment\"].to_list(), bins)\n",
    "x.categories = [\"Negative\", \"Neutral\", \"Positive\"]\n",
    "ds[\"Polarity\"] = x"
   ]
  },
  {
   "cell_type": "code",
   "execution_count": 37,
   "metadata": {},
   "outputs": [
    {
     "data": {
      "text/html": [
       "<div>\n",
       "<style scoped>\n",
       "    .dataframe tbody tr th:only-of-type {\n",
       "        vertical-align: middle;\n",
       "    }\n",
       "\n",
       "    .dataframe tbody tr th {\n",
       "        vertical-align: top;\n",
       "    }\n",
       "\n",
       "    .dataframe thead th {\n",
       "        text-align: right;\n",
       "    }\n",
       "</style>\n",
       "<table border=\"1\" class=\"dataframe\">\n",
       "  <thead>\n",
       "    <tr style=\"text-align: right;\">\n",
       "      <th></th>\n",
       "      <th>link</th>\n",
       "      <th>title</th>\n",
       "      <th>author</th>\n",
       "      <th>date</th>\n",
       "      <th>text</th>\n",
       "      <th>comments</th>\n",
       "      <th>Sentiment</th>\n",
       "      <th>Polarity</th>\n",
       "    </tr>\n",
       "  </thead>\n",
       "  <tbody>\n",
       "    <tr>\n",
       "      <th>0</th>\n",
       "      <td>/20230501/watch-russian-army-sappers-blow-up-a...</td>\n",
       "      <td>Watch Russian Army Sappers Blow Up Abandoned Ammo</td>\n",
       "      <td>Oleg Burunov https://cdn1.img.sputnikglobe.com...</td>\n",
       "      <td>01/05/23</td>\n",
       "      <td>The Russian Ministry of Defense (MoD) has rele...</td>\n",
       "      <td>[]</td>\n",
       "      <td>-0.229400</td>\n",
       "      <td>Negative</td>\n",
       "    </tr>\n",
       "    <tr>\n",
       "      <th>1</th>\n",
       "      <td>/20230501/kiev-lost-over-300-soldiers-over-pas...</td>\n",
       "      <td>Kiev Lost Over 300 Soldiers Over Past 24 Hours...</td>\n",
       "      <td>Sputnik International</td>\n",
       "      <td>01/05/23</td>\n",
       "      <td>\"Over the past day, the aviation carried out s...</td>\n",
       "      <td>[330 US mercenaries with mostly Ukrainian pass...</td>\n",
       "      <td>-0.325667</td>\n",
       "      <td>Negative</td>\n",
       "    </tr>\n",
       "    <tr>\n",
       "      <th>2</th>\n",
       "      <td>/20230430/russia-destroys-up-to-200-tonnes-of-...</td>\n",
       "      <td>Russia Destroys Up to 200 Tons of Ukrainian Am...</td>\n",
       "      <td>Sputnik International</td>\n",
       "      <td>30/04/23</td>\n",
       "      <td>\"As a result of a strike on an echelon at a ra...</td>\n",
       "      <td>[Very soon they will only have stones to throw...</td>\n",
       "      <td>-0.145350</td>\n",
       "      <td>Negative</td>\n",
       "    </tr>\n",
       "    <tr>\n",
       "      <th>3</th>\n",
       "      <td>/20230430/russian-forces-discover-underground-...</td>\n",
       "      <td>Russian Forces Discover Underground Soledar Ar...</td>\n",
       "      <td>Oleg Burunov https://cdn1.img.sputnikglobe.com...</td>\n",
       "      <td>30/04/23</td>\n",
       "      <td>The Armed Forces of Ukraine failed in its effo...</td>\n",
       "      <td>[Kudos to the Russian explosive ordnance dispo...</td>\n",
       "      <td>-0.569680</td>\n",
       "      <td>Negative</td>\n",
       "    </tr>\n",
       "    <tr>\n",
       "      <th>4</th>\n",
       "      <td>/20230430/ukraine-loses-over-480-military-merc...</td>\n",
       "      <td>Ukraine Loses Over 480 Military, Mercenaries i...</td>\n",
       "      <td>Sputnik International</td>\n",
       "      <td>30/04/23</td>\n",
       "      <td>\"Over the past 24 hours, over 480 Ukrainian se...</td>\n",
       "      <td>[]</td>\n",
       "      <td>-0.701975</td>\n",
       "      <td>Negative</td>\n",
       "    </tr>\n",
       "  </tbody>\n",
       "</table>\n",
       "</div>"
      ],
      "text/plain": [
       "                                                link  \\\n",
       "0  /20230501/watch-russian-army-sappers-blow-up-a...   \n",
       "1  /20230501/kiev-lost-over-300-soldiers-over-pas...   \n",
       "2  /20230430/russia-destroys-up-to-200-tonnes-of-...   \n",
       "3  /20230430/russian-forces-discover-underground-...   \n",
       "4  /20230430/ukraine-loses-over-480-military-merc...   \n",
       "\n",
       "                                               title  \\\n",
       "0  Watch Russian Army Sappers Blow Up Abandoned Ammo   \n",
       "1  Kiev Lost Over 300 Soldiers Over Past 24 Hours...   \n",
       "2  Russia Destroys Up to 200 Tons of Ukrainian Am...   \n",
       "3  Russian Forces Discover Underground Soledar Ar...   \n",
       "4  Ukraine Loses Over 480 Military, Mercenaries i...   \n",
       "\n",
       "                                              author      date  \\\n",
       "0  Oleg Burunov https://cdn1.img.sputnikglobe.com...  01/05/23   \n",
       "1                              Sputnik International  01/05/23   \n",
       "2                              Sputnik International  30/04/23   \n",
       "3  Oleg Burunov https://cdn1.img.sputnikglobe.com...  30/04/23   \n",
       "4                              Sputnik International  30/04/23   \n",
       "\n",
       "                                                text  \\\n",
       "0  The Russian Ministry of Defense (MoD) has rele...   \n",
       "1  \"Over the past day, the aviation carried out s...   \n",
       "2  \"As a result of a strike on an echelon at a ra...   \n",
       "3  The Armed Forces of Ukraine failed in its effo...   \n",
       "4  \"Over the past 24 hours, over 480 Ukrainian se...   \n",
       "\n",
       "                                            comments  Sentiment  Polarity  \n",
       "0                                                 []  -0.229400  Negative  \n",
       "1  [330 US mercenaries with mostly Ukrainian pass...  -0.325667  Negative  \n",
       "2  [Very soon they will only have stones to throw...  -0.145350  Negative  \n",
       "3  [Kudos to the Russian explosive ordnance dispo...  -0.569680  Negative  \n",
       "4                                                 []  -0.701975  Negative  "
      ]
     },
     "execution_count": 37,
     "metadata": {},
     "output_type": "execute_result"
    }
   ],
   "source": [
    "ds.head()"
   ]
  },
  {
   "cell_type": "code",
   "execution_count": 38,
   "metadata": {},
   "outputs": [],
   "source": [
    "ds.to_parquet(\"sputnikWithSentiment.parquet.snappy\", engine=\"fastparquet\")"
   ]
  }
 ],
 "metadata": {
  "kernelspec": {
   "display_name": "Python 3 (ipykernel)",
   "language": "python",
   "name": "python3"
  },
  "language_info": {
   "codemirror_mode": {
    "name": "ipython",
    "version": 3
   },
   "file_extension": ".py",
   "mimetype": "text/x-python",
   "name": "python",
   "nbconvert_exporter": "python",
   "pygments_lexer": "ipython3",
   "version": "3.9.12"
  },
  "vscode": {
   "interpreter": {
    "hash": "d7a18bc08bf6b314cad8b0dd8f53415ad78d1015cc806d14e4873c235fb4e191"
   }
  }
 },
 "nbformat": 4,
 "nbformat_minor": 4
}
