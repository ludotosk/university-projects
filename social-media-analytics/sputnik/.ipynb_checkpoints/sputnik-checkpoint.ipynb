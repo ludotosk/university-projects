{
 "cells": [
  {
   "cell_type": "code",
   "execution_count": 1,
   "id": "ec9f85db-f540-4f16-975a-7c8fe75c3f96",
   "metadata": {},
   "outputs": [],
   "source": [
    "# Import the two main libraries\n",
    "import datetime\n",
    "import pickle\n",
    "import sys\n",
    "import time\n",
    "\n",
    "import pandas as pd\n",
    "import requests\n",
    "from bs4 import BeautifulSoup  # to process html\n",
    "from selenium.webdriver.common.by import By\n",
    "from selenium.webdriver.firefox.options import Options\n",
    "from selenium.webdriver.support import expected_conditions as EC\n",
    "from selenium.webdriver.support.wait import WebDriverWait\n",
    "from seleniumwire import webdriver  # Import from seleniumwire\n",
    "from tqdm import tqdm"
   ]
  },
  {
   "cell_type": "markdown",
   "id": "c189bb12-7aec-4759-857c-d4522bf07220",
   "metadata": {},
   "source": [
    "we read from an html file because was more time effective to download manually the page with the link to the aricles"
   ]
  },
  {
   "cell_type": "code",
   "execution_count": 2,
   "id": "049ab666-0367-4a3b-bf7c-a0102279ae7f",
   "metadata": {},
   "outputs": [],
   "source": [
    "sputnik = open(\"sputnik.html\", \"r\")\n",
    "soup = BeautifulSoup(sputnik, \"html.parser\")"
   ]
  },
  {
   "cell_type": "markdown",
   "id": "e9b6c448-496b-4802-93fa-470a98012d28",
   "metadata": {},
   "source": [
    "we save all the links to the articles that we will scrape"
   ]
  },
  {
   "cell_type": "code",
   "execution_count": 3,
   "id": "8f979a86-9f1b-4d54-a3ee-f2bf8f120e30",
   "metadata": {},
   "outputs": [],
   "source": [
    "saved_links = []\n",
    "links = soup.find_all(\"a\", {\"list__title\"})\n",
    "\n",
    "for link in links:\n",
    "    saved_links.append(link[\"href\"])"
   ]
  },
  {
   "cell_type": "code",
   "execution_count": 4,
   "id": "77e5fd1a-35d7-4c59-9806-4260d572567b",
   "metadata": {},
   "outputs": [
    {
     "data": {
      "text/plain": [
       "1719"
      ]
     },
     "execution_count": 4,
     "metadata": {},
     "output_type": "execute_result"
    }
   ],
   "source": [
    "len(saved_links)"
   ]
  },
  {
   "cell_type": "code",
   "execution_count": 5,
   "id": "f68d9fba-f85d-4031-b27a-f32ac1523323",
   "metadata": {},
   "outputs": [],
   "source": [
    "# creating the dataframe\n",
    "\n",
    "Articles = pd.DataFrame(\n",
    "    {\n",
    "        \"link\": pd.Series([], dtype=\"string\"),\n",
    "        \"title\": pd.Series([], dtype=\"string\"),\n",
    "        \"author\": pd.Series([], dtype=\"string\"),\n",
    "        \"date\": pd.Series([], dtype=\"float\"),\n",
    "        \"text\": pd.Series([], dtype=\"string\"),\n",
    "        \"comments\": pd.Series([], dtype=\"object\"),\n",
    "    }\n",
    ")"
   ]
  },
  {
   "cell_type": "markdown",
   "id": "d4dd41ca-f218-4225-baea-92f6b960c002",
   "metadata": {},
   "source": [
    "since the scraper taks around 3 hours sometime is better to stop it save and resume from here"
   ]
  },
  {
   "cell_type": "code",
   "execution_count": 4,
   "id": "99908b78-4efe-4be6-b3c0-a784b71dcd9a",
   "metadata": {},
   "outputs": [],
   "source": [
    "# Articles = pd.read_parquet(\"sputnik.parquet.snappy\", engine=\"fastparquet\")"
   ]
  },
  {
   "cell_type": "markdown",
   "id": "f9ae8f94-8470-4a63-9ca2-9a97dc6b3f1b",
   "metadata": {},
   "source": [
    "We setup a selenium wire istance, selenium wire is a fork of selenium that add to selenium some features like intercept requestes. This is usefull because we can block the dowload of images and script that slow down the scraper. We still need to let run some javascript that show the comment section that's why we don't block all the script but only part of them."
   ]
  },
  {
   "cell_type": "code",
   "execution_count": 5,
   "id": "0618ee3d-fb79-499d-bf31-3d68b657083b",
   "metadata": {},
   "outputs": [
    {
     "name": "stderr",
     "output_type": "stream",
     "text": [
      "/tmp/ipykernel_416614/716599357.py:2: DeprecationWarning: headless property is deprecated, instead use add_argument('-headless')\n",
      "  options.headless = True\n"
     ]
    }
   ],
   "source": [
    "options = Options()\n",
    "options.headless = True\n",
    "\n",
    "# Open Firefox with Selenium\n",
    "driver = webdriver.Firefox(options=options)\n",
    "\n",
    "\n",
    "def interceptor(request):\n",
    "    # Block PNG, JPEG and GIF images\n",
    "    if request.path.endswith(\n",
    "        (\n",
    "            \".png\",\n",
    "            \".jpg\",\n",
    "            \".gif\",\n",
    "            \".webp\",\n",
    "            \".svg\",\n",
    "            \".css\",\n",
    "            \"iubenda.js\",\n",
    "            \"analytics.js\",\n",
    "            \"core-en.js\",\n",
    "            \"tag.js\",\n",
    "            \"stub-v2.js\",\n",
    "            \"iubenda_cs.js\",\n",
    "            \"iubenda_cons.js\",\n",
    "            \"safe-tcf-v2.js\",\n",
    "            \"context.js\",\n",
    "            \"host.js\",\n",
    "            \"tcf-v2-0.21.0.js\",\n",
    "        )\n",
    "    ):\n",
    "        request.abort()\n",
    "\n",
    "\n",
    "driver.request_interceptor = interceptor"
   ]
  },
  {
   "cell_type": "markdown",
   "id": "995ed50d-46af-4725-b56e-c6f7f9b14580",
   "metadata": {},
   "source": [
    "We download the html from the pages that we open, with driver wait we tell to selenium to wait until the comments are ready or to abort after two seconds."
   ]
  },
  {
   "cell_type": "code",
   "execution_count": 6,
   "id": "f9c93461-f6ea-414b-bc6a-9b654e433f7c",
   "metadata": {},
   "outputs": [
    {
     "name": "stderr",
     "output_type": "stream",
     "text": [
      "179it [19:40,  6.59s/it]\n"
     ]
    }
   ],
   "source": [
    "for i, link in tqdm(enumerate(saved_links)):\n",
    "\n",
    "    driver.get(\"https://sputnikglobe.com\" + link)\n",
    "\n",
    "    try:\n",
    "        element = WebDriverWait(driver, 2).until(\n",
    "            EC.presence_of_element_located((By.CLASS_NAME, \"best-comments\"))\n",
    "        )\n",
    "    except:\n",
    "        pass\n",
    "    finally:\n",
    "        page = driver.page_source\n",
    "\n",
    "    soup = BeautifulSoup(page, \"html.parser\")\n",
    "\n",
    "    body = soup.find(\"div\", {\"article__body\"})\n",
    "    meta = soup.find(\"div\", {\"article__meta\"})\n",
    "    if meta:\n",
    "        # get title\n",
    "        title = meta.find(\"div\", {\"itemprop\": \"name\"}).get_text()\n",
    "\n",
    "        # get author\n",
    "        author = meta.find(\"div\", {\"itemprop\": \"author\"}).get_text()\n",
    "\n",
    "        # get date\n",
    "        date = meta.find(\"div\", {\"itemprop\": \"datePublished\"}).get_text()\n",
    "        date = pd.to_datetime(date).strftime(\"%d/%m/%y\")\n",
    "\n",
    "        # get text\n",
    "        text = \"\"\n",
    "        for p in body.find_all(\"div\", {\"data-type\": [\"text\", \"quote\"]}):\n",
    "            text += p.text\n",
    "\n",
    "        comments = soup.find_all(\"div\", {\"best-comments__item-message\"})\n",
    "        saved_comments = []\n",
    "\n",
    "        if comments:\n",
    "            for c in comments:\n",
    "                saved_comments.append(c.get_text())\n",
    "\n",
    "        Articles = Articles.append(\n",
    "            {\n",
    "                \"link\": link,\n",
    "                \"title\": title,\n",
    "                \"author\": author,\n",
    "                \"date\": date,\n",
    "                \"text\": text,\n",
    "                \"comments\": saved_comments,\n",
    "            },\n",
    "            ignore_index=True,\n",
    "        )\n",
    "\n",
    "driver.close()"
   ]
  },
  {
   "cell_type": "code",
   "execution_count": 7,
   "id": "5bc80972-6505-4ea6-abed-ab0fe60ced3e",
   "metadata": {},
   "outputs": [
    {
     "data": {
      "text/html": [
       "<div>\n",
       "<style scoped>\n",
       "    .dataframe tbody tr th:only-of-type {\n",
       "        vertical-align: middle;\n",
       "    }\n",
       "\n",
       "    .dataframe tbody tr th {\n",
       "        vertical-align: top;\n",
       "    }\n",
       "\n",
       "    .dataframe thead th {\n",
       "        text-align: right;\n",
       "    }\n",
       "</style>\n",
       "<table border=\"1\" class=\"dataframe\">\n",
       "  <thead>\n",
       "    <tr style=\"text-align: right;\">\n",
       "      <th></th>\n",
       "      <th>link</th>\n",
       "      <th>title</th>\n",
       "      <th>author</th>\n",
       "      <th>date</th>\n",
       "      <th>text</th>\n",
       "      <th>comments</th>\n",
       "    </tr>\n",
       "  </thead>\n",
       "  <tbody>\n",
       "    <tr>\n",
       "      <th>0</th>\n",
       "      <td>/20230501/watch-russian-army-sappers-blow-up-a...</td>\n",
       "      <td>Watch Russian Army Sappers Blow Up Abandoned Ammo</td>\n",
       "      <td>Oleg Burunov https://cdn1.img.sputnikglobe.com...</td>\n",
       "      <td>01/05/23</td>\n",
       "      <td>The Russian Ministry of Defense (MoD) has rele...</td>\n",
       "      <td>[]</td>\n",
       "    </tr>\n",
       "    <tr>\n",
       "      <th>1</th>\n",
       "      <td>/20230501/kiev-lost-over-300-soldiers-over-pas...</td>\n",
       "      <td>Kiev Lost Over 300 Soldiers Over Past 24 Hours...</td>\n",
       "      <td>Sputnik International</td>\n",
       "      <td>01/05/23</td>\n",
       "      <td>\"Over the past day, the aviation carried out s...</td>\n",
       "      <td>[330 US mercenaries with mostly Ukrainian pass...</td>\n",
       "    </tr>\n",
       "    <tr>\n",
       "      <th>2</th>\n",
       "      <td>/20230430/russia-destroys-up-to-200-tonnes-of-...</td>\n",
       "      <td>Russia Destroys Up to 200 Tons of Ukrainian Am...</td>\n",
       "      <td>Sputnik International</td>\n",
       "      <td>30/04/23</td>\n",
       "      <td>\"As a result of a strike on an echelon at a ra...</td>\n",
       "      <td>[Very soon they will only have stones to throw...</td>\n",
       "    </tr>\n",
       "    <tr>\n",
       "      <th>3</th>\n",
       "      <td>/20230430/russian-forces-discover-underground-...</td>\n",
       "      <td>Russian Forces Discover Underground Soledar Ar...</td>\n",
       "      <td>Oleg Burunov https://cdn1.img.sputnikglobe.com...</td>\n",
       "      <td>30/04/23</td>\n",
       "      <td>The Armed Forces of Ukraine failed in its effo...</td>\n",
       "      <td>[Kudos to the Russian explosive ordnance dispo...</td>\n",
       "    </tr>\n",
       "    <tr>\n",
       "      <th>4</th>\n",
       "      <td>/20230430/ukraine-loses-over-480-military-merc...</td>\n",
       "      <td>Ukraine Loses Over 480 Military, Mercenaries i...</td>\n",
       "      <td>Sputnik International</td>\n",
       "      <td>30/04/23</td>\n",
       "      <td>\"Over the past 24 hours, over 480 Ukrainian se...</td>\n",
       "      <td>[]</td>\n",
       "    </tr>\n",
       "    <tr>\n",
       "      <th>...</th>\n",
       "      <td>...</td>\n",
       "      <td>...</td>\n",
       "      <td>...</td>\n",
       "      <td>...</td>\n",
       "      <td>...</td>\n",
       "      <td>...</td>\n",
       "    </tr>\n",
       "    <tr>\n",
       "      <th>1714</th>\n",
       "      <td>/20220226/russian-fsb-border-service-agent-inj...</td>\n",
       "      <td>Russian FSB Border Service Agent Injured in Pr...</td>\n",
       "      <td>Sputnik International</td>\n",
       "      <td>26/02/22</td>\n",
       "      <td>In the course of suppressing the provocation o...</td>\n",
       "      <td>[If SN says one injured = 3-5 killed in realit...</td>\n",
       "    </tr>\n",
       "    <tr>\n",
       "      <th>1715</th>\n",
       "      <td>/20220226/three-mines-fired-from-ukraine-land-...</td>\n",
       "      <td>Three Mines Fired From Ukraine Land in Russia'...</td>\n",
       "      <td>Sputnik International</td>\n",
       "      <td>26/02/22</td>\n",
       "      <td>\"On 26 February, the border department of the ...</td>\n",
       "      <td>[]</td>\n",
       "    </tr>\n",
       "    <tr>\n",
       "      <th>1716</th>\n",
       "      <td>/20220226/video-ukrainian-flag-replaced-as-lpr...</td>\n",
       "      <td>Video: Ukrainian Flag Replaced as LPR Takes Co...</td>\n",
       "      <td>Sofia Chegodaeva</td>\n",
       "      <td>26/02/22</td>\n",
       "      <td>The people's militia of the Lugansk People's R...</td>\n",
       "      <td>[Russia can drop leaflets on enemy soldiers an...</td>\n",
       "    </tr>\n",
       "    <tr>\n",
       "      <th>1717</th>\n",
       "      <td>/20220226/zelensky-has-fled-kiev-for-lvov-russ...</td>\n",
       "      <td>Zelensky Has Fled Kiev for Lvov, Russian State...</td>\n",
       "      <td>Sputnik International</td>\n",
       "      <td>26/02/22</td>\n",
       "      <td>Russian State Duma speaker Vyacheslav Volodin ...</td>\n",
       "      <td>[]</td>\n",
       "    </tr>\n",
       "    <tr>\n",
       "      <th>1718</th>\n",
       "      <td>/20220225/what-did-putin-mean-by-denazificatio...</td>\n",
       "      <td>What Did Putin Mean by 'Denazification' of Ukr...</td>\n",
       "      <td>Sputnik International</td>\n",
       "      <td>25/02/22</td>\n",
       "      <td>When Russian President Vladimir Putin was anno...</td>\n",
       "      <td>[Reminds one of apartheid israel and how they ...</td>\n",
       "    </tr>\n",
       "  </tbody>\n",
       "</table>\n",
       "<p>1719 rows × 6 columns</p>\n",
       "</div>"
      ],
      "text/plain": [
       "                                                   link  \\\n",
       "0     /20230501/watch-russian-army-sappers-blow-up-a...   \n",
       "1     /20230501/kiev-lost-over-300-soldiers-over-pas...   \n",
       "2     /20230430/russia-destroys-up-to-200-tonnes-of-...   \n",
       "3     /20230430/russian-forces-discover-underground-...   \n",
       "4     /20230430/ukraine-loses-over-480-military-merc...   \n",
       "...                                                 ...   \n",
       "1714  /20220226/russian-fsb-border-service-agent-inj...   \n",
       "1715  /20220226/three-mines-fired-from-ukraine-land-...   \n",
       "1716  /20220226/video-ukrainian-flag-replaced-as-lpr...   \n",
       "1717  /20220226/zelensky-has-fled-kiev-for-lvov-russ...   \n",
       "1718  /20220225/what-did-putin-mean-by-denazificatio...   \n",
       "\n",
       "                                                  title  \\\n",
       "0     Watch Russian Army Sappers Blow Up Abandoned Ammo   \n",
       "1     Kiev Lost Over 300 Soldiers Over Past 24 Hours...   \n",
       "2     Russia Destroys Up to 200 Tons of Ukrainian Am...   \n",
       "3     Russian Forces Discover Underground Soledar Ar...   \n",
       "4     Ukraine Loses Over 480 Military, Mercenaries i...   \n",
       "...                                                 ...   \n",
       "1714  Russian FSB Border Service Agent Injured in Pr...   \n",
       "1715  Three Mines Fired From Ukraine Land in Russia'...   \n",
       "1716  Video: Ukrainian Flag Replaced as LPR Takes Co...   \n",
       "1717  Zelensky Has Fled Kiev for Lvov, Russian State...   \n",
       "1718  What Did Putin Mean by 'Denazification' of Ukr...   \n",
       "\n",
       "                                                 author      date  \\\n",
       "0     Oleg Burunov https://cdn1.img.sputnikglobe.com...  01/05/23   \n",
       "1                                 Sputnik International  01/05/23   \n",
       "2                                 Sputnik International  30/04/23   \n",
       "3     Oleg Burunov https://cdn1.img.sputnikglobe.com...  30/04/23   \n",
       "4                                 Sputnik International  30/04/23   \n",
       "...                                                 ...       ...   \n",
       "1714                              Sputnik International  26/02/22   \n",
       "1715                              Sputnik International  26/02/22   \n",
       "1716                                  Sofia Chegodaeva   26/02/22   \n",
       "1717                              Sputnik International  26/02/22   \n",
       "1718                              Sputnik International  25/02/22   \n",
       "\n",
       "                                                   text  \\\n",
       "0     The Russian Ministry of Defense (MoD) has rele...   \n",
       "1     \"Over the past day, the aviation carried out s...   \n",
       "2     \"As a result of a strike on an echelon at a ra...   \n",
       "3     The Armed Forces of Ukraine failed in its effo...   \n",
       "4     \"Over the past 24 hours, over 480 Ukrainian se...   \n",
       "...                                                 ...   \n",
       "1714  In the course of suppressing the provocation o...   \n",
       "1715  \"On 26 February, the border department of the ...   \n",
       "1716  The people's militia of the Lugansk People's R...   \n",
       "1717  Russian State Duma speaker Vyacheslav Volodin ...   \n",
       "1718  When Russian President Vladimir Putin was anno...   \n",
       "\n",
       "                                               comments  \n",
       "0                                                    []  \n",
       "1     [330 US mercenaries with mostly Ukrainian pass...  \n",
       "2     [Very soon they will only have stones to throw...  \n",
       "3     [Kudos to the Russian explosive ordnance dispo...  \n",
       "4                                                    []  \n",
       "...                                                 ...  \n",
       "1714  [If SN says one injured = 3-5 killed in realit...  \n",
       "1715                                                 []  \n",
       "1716  [Russia can drop leaflets on enemy soldiers an...  \n",
       "1717                                                 []  \n",
       "1718  [Reminds one of apartheid israel and how they ...  \n",
       "\n",
       "[1719 rows x 6 columns]"
      ]
     },
     "execution_count": 7,
     "metadata": {},
     "output_type": "execute_result"
    }
   ],
   "source": [
    "Articles"
   ]
  },
  {
   "cell_type": "code",
   "execution_count": 8,
   "id": "d7e395e4-2519-4761-8a1f-47e3b9ad76bc",
   "metadata": {},
   "outputs": [],
   "source": [
    "Articles.to_parquet(\"sputnik.parquet.snappy\", engine=\"fastparquet\")"
   ]
  }
 ],
 "metadata": {
  "kernelspec": {
   "display_name": "Python 3 (ipykernel)",
   "language": "python",
   "name": "python3"
  },
  "language_info": {
   "codemirror_mode": {
    "name": "ipython",
    "version": 3
   },
   "file_extension": ".py",
   "mimetype": "text/x-python",
   "name": "python",
   "nbconvert_exporter": "python",
   "pygments_lexer": "ipython3",
   "version": "3.9.12"
  }
 },
 "nbformat": 4,
 "nbformat_minor": 5
}
