{
 "cells": [
  {
   "cell_type": "markdown",
   "metadata": {},
   "source": [
    "##### Social Media Analytics\n",
    "### Introduction to Text Mining\n",
    "## Topic Modeling\n",
    "(c) Nuno Antonio 2019-2022 v1.02"
   ]
  },
  {
   "cell_type": "markdown",
   "metadata": {},
   "source": [
    "### Initial setup"
   ]
  },
  {
   "cell_type": "code",
   "execution_count": 37,
   "metadata": {},
   "outputs": [],
   "source": [
    "# Import packages\n",
    "import csv\n",
    "import re\n",
    "\n",
    "import gensim\n",
    "import gensim.corpora as corpora\n",
    "import matplotlib.pyplot as plt\n",
    "import nltk\n",
    "import numpy as np\n",
    "import pandas as pd\n",
    "import pyLDAvis\n",
    "import pyLDAvis.gensim\n",
    "import spacy\n",
    "from bs4 import BeautifulSoup\n",
    "from gensim.models import CoherenceModel\n",
    "from gensim.utils import simple_preprocess\n",
    "from nltk.corpus import stopwords\n",
    "from nltk.stem import WordNetLemmatizer\n",
    "from nltk.tokenize import word_tokenize\n",
    "\n",
    "# For pyLDAvis new version - replace the previous line\n",
    "# import pyLDAvis.gensim_models as gensimvis\n",
    "# pyLDAvis.enable_notebook()"
   ]
  },
  {
   "cell_type": "code",
   "execution_count": 38,
   "metadata": {},
   "outputs": [],
   "source": [
    "# Just because of versions on my computer\n",
    "import warnings\n",
    "\n",
    "warnings.filterwarnings(\"ignore\", category=DeprecationWarning)"
   ]
  },
  {
   "cell_type": "code",
   "execution_count": 39,
   "metadata": {},
   "outputs": [],
   "source": [
    "# Load dataset\n",
    "ds = pd.read_parquet(\"sputnikSentimentComplete.parquet.snappy\", engine=\"fastparquet\")"
   ]
  },
  {
   "cell_type": "code",
   "execution_count": 40,
   "metadata": {},
   "outputs": [
    {
     "data": {
      "text/html": [
       "<div>\n",
       "<style scoped>\n",
       "    .dataframe tbody tr th:only-of-type {\n",
       "        vertical-align: middle;\n",
       "    }\n",
       "\n",
       "    .dataframe tbody tr th {\n",
       "        vertical-align: top;\n",
       "    }\n",
       "\n",
       "    .dataframe thead th {\n",
       "        text-align: right;\n",
       "    }\n",
       "</style>\n",
       "<table border=\"1\" class=\"dataframe\">\n",
       "  <thead>\n",
       "    <tr style=\"text-align: right;\">\n",
       "      <th></th>\n",
       "      <th>link</th>\n",
       "      <th>Sentiment_Comments</th>\n",
       "      <th>Polarity_Comments</th>\n",
       "      <th>title</th>\n",
       "      <th>author</th>\n",
       "      <th>date</th>\n",
       "      <th>text</th>\n",
       "      <th>comments</th>\n",
       "      <th>Sentiment_Articles</th>\n",
       "      <th>Polarity_Articles</th>\n",
       "    </tr>\n",
       "    <tr>\n",
       "      <th>index</th>\n",
       "      <th></th>\n",
       "      <th></th>\n",
       "      <th></th>\n",
       "      <th></th>\n",
       "      <th></th>\n",
       "      <th></th>\n",
       "      <th></th>\n",
       "      <th></th>\n",
       "      <th></th>\n",
       "      <th></th>\n",
       "    </tr>\n",
       "  </thead>\n",
       "  <tbody>\n",
       "    <tr>\n",
       "      <th>0</th>\n",
       "      <td>/20230501/watch-russian-army-sappers-blow-up-a...</td>\n",
       "      <td>NaN</td>\n",
       "      <td>NaN</td>\n",
       "      <td>Watch Russian Army Sappers Blow Up Abandoned Ammo</td>\n",
       "      <td>Oleg Burunov https://cdn1.img.sputnikglobe.com...</td>\n",
       "      <td>01/05/23</td>\n",
       "      <td>The Russian Ministry of Defense (MoD) has rele...</td>\n",
       "      <td>[]</td>\n",
       "      <td>-0.229400</td>\n",
       "      <td>Negative</td>\n",
       "    </tr>\n",
       "    <tr>\n",
       "      <th>1</th>\n",
       "      <td>/20230501/kiev-lost-over-300-soldiers-over-pas...</td>\n",
       "      <td>-0.14985</td>\n",
       "      <td>Negative</td>\n",
       "      <td>Kiev Lost Over 300 Soldiers Over Past 24 Hours...</td>\n",
       "      <td>Sputnik International</td>\n",
       "      <td>01/05/23</td>\n",
       "      <td>\"Over the past day, the aviation carried out s...</td>\n",
       "      <td>[330 US mercenaries with mostly Ukrainian pass...</td>\n",
       "      <td>-0.325667</td>\n",
       "      <td>Negative</td>\n",
       "    </tr>\n",
       "    <tr>\n",
       "      <th>3</th>\n",
       "      <td>/20230430/russia-destroys-up-to-200-tonnes-of-...</td>\n",
       "      <td>-0.31845</td>\n",
       "      <td>Negative</td>\n",
       "      <td>Russia Destroys Up to 200 Tons of Ukrainian Am...</td>\n",
       "      <td>Sputnik International</td>\n",
       "      <td>30/04/23</td>\n",
       "      <td>\"As a result of a strike on an echelon at a ra...</td>\n",
       "      <td>[Very soon they will only have stones to throw...</td>\n",
       "      <td>-0.145350</td>\n",
       "      <td>Negative</td>\n",
       "    </tr>\n",
       "    <tr>\n",
       "      <th>5</th>\n",
       "      <td>/20230430/russian-forces-discover-underground-...</td>\n",
       "      <td>0.13190</td>\n",
       "      <td>Positive</td>\n",
       "      <td>Russian Forces Discover Underground Soledar Ar...</td>\n",
       "      <td>Oleg Burunov https://cdn1.img.sputnikglobe.com...</td>\n",
       "      <td>30/04/23</td>\n",
       "      <td>The Armed Forces of Ukraine failed in its effo...</td>\n",
       "      <td>[Kudos to the Russian explosive ordnance dispo...</td>\n",
       "      <td>-0.569680</td>\n",
       "      <td>Negative</td>\n",
       "    </tr>\n",
       "    <tr>\n",
       "      <th>7</th>\n",
       "      <td>/20230430/ukraine-loses-over-480-military-merc...</td>\n",
       "      <td>NaN</td>\n",
       "      <td>NaN</td>\n",
       "      <td>Ukraine Loses Over 480 Military, Mercenaries i...</td>\n",
       "      <td>Sputnik International</td>\n",
       "      <td>30/04/23</td>\n",
       "      <td>\"Over the past 24 hours, over 480 Ukrainian se...</td>\n",
       "      <td>[]</td>\n",
       "      <td>-0.701975</td>\n",
       "      <td>Negative</td>\n",
       "    </tr>\n",
       "  </tbody>\n",
       "</table>\n",
       "</div>"
      ],
      "text/plain": [
       "                                                    link  Sentiment_Comments  \\\n",
       "index                                                                          \n",
       "0      /20230501/watch-russian-army-sappers-blow-up-a...                 NaN   \n",
       "1      /20230501/kiev-lost-over-300-soldiers-over-pas...            -0.14985   \n",
       "3      /20230430/russia-destroys-up-to-200-tonnes-of-...            -0.31845   \n",
       "5      /20230430/russian-forces-discover-underground-...             0.13190   \n",
       "7      /20230430/ukraine-loses-over-480-military-merc...                 NaN   \n",
       "\n",
       "      Polarity_Comments                                              title  \\\n",
       "index                                                                        \n",
       "0                   NaN  Watch Russian Army Sappers Blow Up Abandoned Ammo   \n",
       "1              Negative  Kiev Lost Over 300 Soldiers Over Past 24 Hours...   \n",
       "3              Negative  Russia Destroys Up to 200 Tons of Ukrainian Am...   \n",
       "5              Positive  Russian Forces Discover Underground Soledar Ar...   \n",
       "7                   NaN  Ukraine Loses Over 480 Military, Mercenaries i...   \n",
       "\n",
       "                                                  author      date  \\\n",
       "index                                                                \n",
       "0      Oleg Burunov https://cdn1.img.sputnikglobe.com...  01/05/23   \n",
       "1                                  Sputnik International  01/05/23   \n",
       "3                                  Sputnik International  30/04/23   \n",
       "5      Oleg Burunov https://cdn1.img.sputnikglobe.com...  30/04/23   \n",
       "7                                  Sputnik International  30/04/23   \n",
       "\n",
       "                                                    text  \\\n",
       "index                                                      \n",
       "0      The Russian Ministry of Defense (MoD) has rele...   \n",
       "1      \"Over the past day, the aviation carried out s...   \n",
       "3      \"As a result of a strike on an echelon at a ra...   \n",
       "5      The Armed Forces of Ukraine failed in its effo...   \n",
       "7      \"Over the past 24 hours, over 480 Ukrainian se...   \n",
       "\n",
       "                                                comments  Sentiment_Articles  \\\n",
       "index                                                                          \n",
       "0                                                     []           -0.229400   \n",
       "1      [330 US mercenaries with mostly Ukrainian pass...           -0.325667   \n",
       "3      [Very soon they will only have stones to throw...           -0.145350   \n",
       "5      [Kudos to the Russian explosive ordnance dispo...           -0.569680   \n",
       "7                                                     []           -0.701975   \n",
       "\n",
       "      Polarity_Articles  \n",
       "index                    \n",
       "0              Negative  \n",
       "1              Negative  \n",
       "3              Negative  \n",
       "5              Negative  \n",
       "7              Negative  "
      ]
     },
     "execution_count": 40,
     "metadata": {},
     "output_type": "execute_result"
    }
   ],
   "source": [
    "ds.head()"
   ]
  },
  {
   "cell_type": "markdown",
   "metadata": {},
   "source": [
    "### Functions"
   ]
  },
  {
   "cell_type": "code",
   "execution_count": 41,
   "metadata": {},
   "outputs": [],
   "source": [
    "# ds.text = ds.text.replace({\" said \":'' , \" u \":'', \"'s \":''}, regex = True)"
   ]
  },
  {
   "cell_type": "code",
   "execution_count": 42,
   "metadata": {},
   "outputs": [],
   "source": [
    "# Text preprocessing\n",
    "def textPreProcess(\n",
    "    rawText,\n",
    "    removeHTML=True,\n",
    "    charsToRemove=r\"\\?|\\.|\\!|\\;|\\.|\\\"|\\,|\\(|\\)|\\&|\\:|\\-| u |\\'s|\\/\\/t|\\[|\\]|\\*\",\n",
    "    removeNumbers=True,\n",
    "    removeLineBreaks=False,\n",
    "    specialCharsToRemove=r\"[^\\x00-\\xfd]\",\n",
    "    convertToLower=True,\n",
    "    removeConsecutiveSpaces=True,\n",
    "):\n",
    "    if type(rawText) != str:\n",
    "        return rawText\n",
    "    procText = rawText\n",
    "\n",
    "    # Remove HTML\n",
    "    if removeHTML:\n",
    "        procText = BeautifulSoup(procText, \"html.parser\").get_text()\n",
    "\n",
    "    # Remove punctuation and other special characters\n",
    "    if len(charsToRemove) > 0:\n",
    "        procText = re.sub(charsToRemove, \" \", procText)\n",
    "\n",
    "    # Remove numbers\n",
    "    if removeNumbers:\n",
    "        procText = re.sub(r\"\\d+\", \" \", procText)\n",
    "\n",
    "    # Remove line breaks\n",
    "    if removeLineBreaks:\n",
    "        procText = procText.replace(\"\\n\", \" \").replace(\"\\r\", \"\")\n",
    "\n",
    "    # Remove special characters\n",
    "    if len(specialCharsToRemove) > 0:\n",
    "        procText = re.sub(specialCharsToRemove, \" \", procText)\n",
    "\n",
    "    # Normalize to lower case\n",
    "    if convertToLower:\n",
    "        procText = procText.lower()\n",
    "\n",
    "    # Replace multiple consecutive spaces with just one space\n",
    "    if removeConsecutiveSpaces:\n",
    "        procText = re.sub(\" +\", \" \", procText)\n",
    "\n",
    "    return procText"
   ]
  },
  {
   "cell_type": "code",
   "execution_count": 43,
   "metadata": {},
   "outputs": [],
   "source": [
    "# Tokenize words\n",
    "def tokenize_words(words):\n",
    "    if (type(words) != str) or (word_tokenize(words) == \"\"):\n",
    "        return np.nan\n",
    "    else:\n",
    "        return word_tokenize(words)"
   ]
  },
  {
   "cell_type": "code",
   "execution_count": 44,
   "metadata": {},
   "outputs": [],
   "source": [
    "# Function to create text from words\n",
    "def recreateText(words):\n",
    "    if type(words) == list:\n",
    "        temp_str = (\" \").join(words)\n",
    "        return temp_str\n",
    "    else:\n",
    "        return np.nan"
   ]
  },
  {
   "cell_type": "code",
   "execution_count": 45,
   "metadata": {},
   "outputs": [],
   "source": [
    "# Function to remove stop words\n",
    "def removeStopWords(t, stop_words):\n",
    "    if type(t) == list:\n",
    "        return [w for w in t if not w in stop_words]\n",
    "    else:\n",
    "        return np.nan"
   ]
  },
  {
   "cell_type": "code",
   "execution_count": 46,
   "metadata": {},
   "outputs": [],
   "source": [
    "# Function to lemmatize words\n",
    "def lemmatize(words):\n",
    "    if type(words) == list:\n",
    "        lemmatizer = WordNetLemmatizer()\n",
    "        return [lemmatizer.lemmatize(x) for x in words]\n",
    "    else:\n",
    "        return np.nan"
   ]
  },
  {
   "cell_type": "markdown",
   "metadata": {},
   "source": [
    "### Analysis"
   ]
  },
  {
   "cell_type": "code",
   "execution_count": 47,
   "metadata": {},
   "outputs": [],
   "source": [
    "# Create a dataframe with only the description\n",
    "processedReviews = pd.DataFrame(\n",
    "    data=ds.text.apply(textPreProcess).values,\n",
    "    index=ds.index,\n",
    "    columns=[\"PreProcessedText\"],\n",
    ")"
   ]
  },
  {
   "cell_type": "code",
   "execution_count": 65,
   "metadata": {},
   "outputs": [],
   "source": [
    "# Tokekinze words\n",
    "processedReviews[\"Words\"] = processedReviews[\"PreProcessedText\"].apply(tokenize_words)\n",
    "\n",
    "# Remove stopwords\n",
    "stop_words = set(stopwords.words(\"english\"))\n",
    "stop_words.update(\n",
    "    [\n",
    "        \"vladimir\",\n",
    "        \"volodymyr\",\n",
    "        \"also\",\n",
    "        \"would\",\n",
    "        \"according\",\n",
    "        \"follow\",\n",
    "        \"sputnik\",\n",
    "        \"live\",\n",
    "        \"feed\",\n",
    "        \"stay\",\n",
    "        \"touch\",\n",
    "        \"matter\",\n",
    "        \"latest\",\n",
    "        \"news\",\n",
    "        \"https\",\n",
    "        \"channels\",\n",
    "        \"sputniknewsussputnik\",\n",
    "        \"sputniknewsindia\",\n",
    "        \"updates\",\n",
    "        \"sputniknewsus\",\n",
    "    ]\n",
    ")\n",
    "processedReviews[\"WordsCleaned\"] = processedReviews[\"Words\"].apply(\n",
    "    removeStopWords, stop_words=stop_words\n",
    ")\n",
    "\n",
    "# Remove all reviews with no words\n",
    "processedReviews = processedReviews[processedReviews[\"WordsCleaned\"].str.len() > 0]\n",
    "\n",
    "# Lemmative words\n",
    "processedReviews[\"WordsLemmatized\"] = processedReviews[\"WordsCleaned\"].apply(lemmatize)"
   ]
  },
  {
   "cell_type": "code",
   "execution_count": 66,
   "metadata": {},
   "outputs": [],
   "source": [
    "# Create dictionary (needed for LDA)\n",
    "id2word = corpora.Dictionary(processedReviews[\"WordsLemmatized\"])"
   ]
  },
  {
   "cell_type": "code",
   "execution_count": 67,
   "metadata": {},
   "outputs": [],
   "source": [
    "# Create corpus\n",
    "corpus = processedReviews[\"WordsLemmatized\"]"
   ]
  },
  {
   "cell_type": "code",
   "execution_count": 68,
   "metadata": {},
   "outputs": [],
   "source": [
    "# Create TDM (Frequency)\n",
    "tdm = [id2word.doc2bow(text) for text in corpus]"
   ]
  },
  {
   "cell_type": "code",
   "execution_count": 77,
   "metadata": {},
   "outputs": [],
   "source": [
    "# Build LDA model (can take from 2 to 10 minutes depending on the computer)\n",
    "lda_model = gensim.models.ldamodel.LdaModel(\n",
    "    corpus=tdm,\n",
    "    id2word=id2word,\n",
    "    num_topics=5,\n",
    "    random_state=123,\n",
    "    update_every=1,\n",
    "    chunksize=100,\n",
    "    passes=10,\n",
    "    alpha=\"auto\",\n",
    "    per_word_topics=True,\n",
    ")"
   ]
  },
  {
   "cell_type": "code",
   "execution_count": 78,
   "metadata": {},
   "outputs": [
    {
     "name": "stdout",
     "output_type": "stream",
     "text": [
      "[(4, '0.038*\"nuclear\" + 0.022*\"plant\" + 0.018*\"biological\" + 0.012*\"power\" + 0.010*\"weapon\" + 0.010*\"research\" + 0.009*\"chemical\" + 0.008*\"laboratory\" + 0.008*\"npp\" + 0.007*\"facility\"'), (2, '0.012*\"war\" + 0.009*\"nazi\" + 0.008*\"ukrainian\" + 0.008*\"neo\" + 0.007*\"one\" + 0.006*\"people\" + 0.006*\"say\" + 0.006*\"medium\" + 0.006*\"right\" + 0.005*\"u\"'), (3, '0.028*\"ukraine\" + 0.023*\"military\" + 0.018*\"weapon\" + 0.016*\"ukrainian\" + 0.015*\"defence\" + 0.012*\"missile\" + 0.012*\"u\" + 0.011*\"system\" + 0.010*\"force\" + 0.008*\"tank\"'), (1, '0.040*\"russian\" + 0.037*\"ukrainian\" + 0.021*\"force\" + 0.020*\"operation\" + 0.019*\"said\" + 0.019*\"military\" + 0.018*\"people\" + 0.017*\"republic\" + 0.016*\"civilian\" + 0.014*\"donetsk\"'), (0, '0.027*\"ukraine\" + 0.024*\"russia\" + 0.016*\"said\" + 0.016*\"russian\" + 0.010*\"country\" + 0.010*\"u\" + 0.009*\"nato\" + 0.008*\"military\" + 0.008*\"president\" + 0.008*\"operation\"')]\n"
     ]
    },
    {
     "name": "stderr",
     "output_type": "stream",
     "text": [
      "/home/tosk/anaconda3/lib/python3.9/site-packages/pyLDAvis/_prepare.py:243: FutureWarning: In a future version of pandas all arguments of DataFrame.drop except for the argument 'labels' will be keyword-only\n",
      "  default_term_info = default_term_info.sort_values(\n"
     ]
    },
    {
     "data": {
      "text/html": [
       "\n",
       "<link rel=\"stylesheet\" type=\"text/css\" href=\"https://cdn.jsdelivr.net/gh/bmabey/pyLDAvis@3.4.0/pyLDAvis/js/ldavis.v1.0.0.css\">\n",
       "\n",
       "\n",
       "<div id=\"ldavis_el127601406408160667368780389867\" style=\"background-color:white;\"></div>\n",
       "<script type=\"text/javascript\">\n",
       "\n",
       "var ldavis_el127601406408160667368780389867_data = {\"mdsDat\": {\"x\": [0.10825279603295786, 0.0924053362969352, 0.1946138654491277, -0.12426206150446836, -0.27100993627455244], \"y\": [-0.030982613193848707, 0.06050934549988138, 0.061672631809191136, -0.2654601649282472, 0.17426080081302334], \"topics\": [1, 2, 3, 4, 5], \"cluster\": [1, 1, 1, 1, 1], \"Freq\": [44.47053798259149, 19.117604298046263, 16.284611690010195, 16.061590353774903, 4.065655675577156]}, \"tinfo\": {\"Term\": [\"russian\", \"ukrainian\", \"military\", \"nuclear\", \"weapon\", \"force\", \"republic\", \"operation\", \"civilian\", \"people\", \"defence\", \"said\", \"donetsk\", \"missile\", \"war\", \"ukraine\", \"ministry\", \"lugansk\", \"system\", \"russia\", \"dpr\", \"plant\", \"special\", \"tank\", \"power\", \"city\", \"nazi\", \"lpr\", \"biological\", \"putin\", \"talk\", \"negotiation\", \"crisis\", \"economic\", \"oil\", \"peace\", \"price\", \"alliance\", \"lavrov\", \"meeting\", \"bloc\", \"gas\", \"zakharova\", \"global\", \"peskov\", \"belarus\", \"minsk\", \"diplomat\", \"china\", \"indian\", \"financial\", \"treaty\", \"expressed\", \"spokeswoman\", \"ready\", \"imposed\", \"process\", \"occupy\", \"ambassador\", \"deal\", \"sanction\", \"biden\", \"security\", \"council\", \"european\", \"eu\", \"issue\", \"kremlin\", \"russia\", \"current\", \"nato\", \"president\", \"zelensky\", \"state\", \"country\", \"moscow\", \"nation\", \"europe\", \"ukraine\", \"said\", \"foreign\", \"u\", \"putin\", \"russian\", \"minister\", \"west\", \"conflict\", \"operation\", \"military\", \"kiev\", \"western\", \"united\", \"special\", \"war\", \"ukrainian\", \"defence\", \"missile\", \"tank\", \"air\", \"aircraft\", \"training\", \"ammunition\", \"armoured\", \"norway\", \"jet\", \"command\", \"norwegian\", \"gun\", \"javelin\", \"munition\", \"battle\", \"danish\", \"wallace\", \"denmark\", \"bridge\", \"guided\", \"antonov\", \"delivered\", \"howitzer\", \"himars\", \"radar\", \"supplied\", \"crimean\", \"sky\", \"advanced\", \"rifle\", \"equipment\", \"drone\", \"system\", \"range\", \"arm\", \"target\", \"vehicle\", \"weapon\", \"defence\", \"defense\", \"terrorist\", \"anti\", \"intelligence\", \"strike\", \"military\", \"artillery\", \"ukraine\", \"delivery\", \"ukrainian\", \"uk\", \"u\", \"force\", \"million\", \"assistance\", \"kiev\", \"supply\", \"country\", \"attack\", \"including\", \"russian\", \"operation\", \"russia\", \"said\", \"nato\", \"dpr\", \"lpr\", \"konashenkov\", \"residential\", \"fsb\", \"serviceman\", \"tochka\", \"district\", \"me/sputniknewsindia\", \"recognising\", \"me/sputniknewsussputnik\", \"com\", \"sputniknews\", \"ddos\", \"azovstal\", \"correspondent\", \"liberated\", \"village\", \"elaborated\", \"luganskaya\", \"stanitsa\", \"gmt\", \"mizintsev\", \"belgorod\", \"hostage\", \"evacuate\", \"pushilin\", \"volnovakha\", \"neutralise\", \"disabled\", \"surrounded\", \"mariupol\", \"civilian\", \"city\", \"donetsk\", \"kherson\", \"evacuation\", \"shelling\", \"lugansk\", \"shield\", \"republic\", \"militia\", \"injured\", \"nationalist\", \"area\", \"ministry\", \"force\", \"population\", \"people\", \"telegram\", \"settlement\", \"ukrainian\", \"region\", \"russian\", \"donbas\", \"armed\", \"corridor\", \"video\", \"troop\", \"operation\", \"infrastructure\", \"special\", \"launched\", \"said\", \"military\", \"february\", \"attack\", \"kiev\", \"ukraine\", \"russia\", \"putin\", \"neo\", \"history\", \"volunteer\", \"child\", \"woman\", \"opposition\", \"block\", \"street\", \"often\", \"maidan\", \"syria\", \"platform\", \"ideology\", \"cia\", \"ex\", \"protester\", \"book\", \"analyst\", \"men\", \"police\", \"bandera\", \"court\", \"oun\", \"advisor\", \"association\", \"thought\", \"detention\", \"user\", \"openly\", \"run\", \"movement\", \"syrian\", \"youtube\", \"journalist\", \"swedish\", \"nazi\", \"czech\", \"pro\", \"banned\", \"website\", \"former\", \"many\", \"right\", \"war\", \"social\", \"crime\", \"say\", \"battalion\", \"medium\", \"coup\", \"one\", \"even\", \"politician\", \"go\", \"'\", \"azov\", \"government\", \"people\", \"national\", \"ukrainian\", \"group\", \"u\", \"year\", \"new\", \"fighter\", \"anti\", \"ukraine\", \"western\", \"plant\", \"biological\", \"research\", \"laboratory\", \"npp\", \"iaea\", \"pathogen\", \"kirillov\", \"lab\", \"biolabs\", \"memorandum\", \"znpp\", \"chernobyl\", \"radiation\", \"radioactive\", \"renunciation\", \"reactor\", \"disease\", \"atomic\", \"grossi\", \"virus\", \"component\", \"uranium\", \"uefa\", \"chemical\", \"legendary\", \"bioweapon\", \"environmental\", \"urals\", \"test\", \"fifa\", \"nuclear\", \"safety\", \"power\", \"project\", \"facility\", \"zaporozhye\", \"agency\", \"document\", \"false\", \"dangerous\", \"pentagon\", \"weapon\", \"threat\", \"use\", \"information\", \"international\", \"ministry\", \"activity\"], \"Freq\": [4986.0, 4196.0, 3782.0, 679.0, 1666.0, 2025.0, 1235.0, 2682.0, 932.0, 1631.0, 1412.0, 3765.0, 910.0, 780.0, 1189.0, 6729.0, 1137.0, 804.0, 758.0, 4475.0, 554.0, 295.0, 1488.0, 544.0, 426.0, 577.0, 602.0, 457.0, 245.0, 1148.0, 460.5500726628484, 410.8919105871085, 364.059323879973, 303.23524843139455, 289.5342029261956, 288.689269228436, 271.5952299458289, 267.04366907560257, 254.6371257639523, 245.53046713226033, 245.05744713101328, 241.99162450478636, 211.9880890070704, 191.29553294677132, 188.52468356527208, 185.95386890454776, 175.02893455993294, 166.20128960461838, 163.30445371794337, 162.1036007382406, 160.4652883238879, 150.99274439158864, 146.08752924366095, 148.10566544626315, 144.05480118680833, 141.27118066600696, 133.08512429686212, 245.95127007417787, 127.83619475523297, 124.89242972297768, 915.3530977935098, 525.6191145228538, 951.5685642324986, 212.14953154018602, 524.2580212045946, 360.34063991569576, 182.0073255135399, 318.7506668729765, 3563.9246572163374, 205.58075789216372, 1276.6698499987876, 1251.9527298629037, 488.1033614179449, 894.2668143035381, 1550.506493296137, 1039.736258735816, 453.33289799282124, 363.3129527129532, 4009.0572293132905, 2381.4327078997385, 731.4667421840367, 1515.7942230569195, 785.5695395066779, 2331.9109339255774, 532.876954730577, 461.71418030450445, 527.1292799664462, 1235.4832916346525, 1262.5564343366948, 884.3676306876212, 583.8258904544213, 429.995897210828, 603.575960826575, 533.9021304966597, 730.3989843382072, 439.6348841086845, 780.003441198317, 543.877669433317, 466.3216131935293, 308.9486634660915, 318.14567904351657, 159.90447865092654, 150.91009983588094, 148.26174056495395, 135.4294271629058, 118.48679473899548, 113.76947922037748, 109.42035381517292, 103.35939941999352, 98.46657622723949, 92.10191386129928, 85.78273878219025, 84.47205628008254, 80.76659133821354, 79.46023810529543, 80.79135355956441, 76.81308473807003, 70.56202449288865, 67.18382383942973, 66.51124415751109, 66.9986389753405, 67.08385367355856, 60.68705884252602, 60.529276454786505, 54.77549419472811, 52.80910717243905, 349.5038490982295, 159.91029095696655, 707.1790814405454, 227.50306595294086, 432.0915048275616, 296.87317822320176, 316.29275183036935, 1150.5378314076904, 962.9560202441011, 373.512807570454, 176.36566338457928, 385.19515322645185, 232.01861355905135, 307.2625254680203, 1495.459486122562, 212.5830411301035, 1799.037069481896, 152.916948297897, 1037.035598423792, 239.24109290159518, 749.6628441453719, 614.4182722828108, 226.73789383897758, 263.02356618047196, 488.4985567702145, 225.32244751653272, 478.6101464170918, 312.15801513107107, 295.51522579400836, 439.3790280691408, 369.7590765201806, 410.057711757367, 333.0864214417491, 284.76953026032436, 553.7177046260222, 456.97267599502163, 256.1687753973245, 125.29820298506391, 110.31333015898707, 81.11757291061096, 61.9209480654487, 62.84043572361285, 60.122473922847476, 60.59043857145497, 57.33946652249993, 62.0042153651198, 62.0042153651198, 62.58171437896777, 52.53044341373474, 51.35665585285885, 47.624458019569836, 46.80656782366625, 47.84613623021059, 46.6535049049045, 46.6535049049045, 45.06113822397098, 44.40139911413339, 42.5039018986224, 43.47952847103114, 40.14913954117379, 39.64175834384451, 39.948621088356894, 40.00186341582263, 35.664109871857534, 36.537051166926865, 260.948245664769, 858.4376639779542, 528.6550577037005, 783.7212416015261, 78.50612128536542, 72.2083163737458, 250.00606372018777, 644.6916605288561, 95.28304982607098, 907.5211053233947, 179.8952143221201, 62.50610963595171, 407.47256000342975, 278.0874389572426, 775.5598595263992, 1174.5353651560051, 296.5979555446445, 959.7337791311668, 242.1103254492986, 136.96592249642154, 2008.697335074302, 354.46999846533197, 2166.9484618466677, 512.0302829107965, 339.38289016228555, 112.10363771331315, 183.24754776789337, 426.20666246545227, 1076.7132145726887, 359.40093342469214, 633.357303702949, 323.5611462027125, 1042.9831633492413, 1024.4681806588765, 416.1905461106849, 402.4763688996334, 567.7568865298364, 725.0087801855603, 499.7823400627834, 362.5802117607973, 417.9051934438375, 131.78207287648542, 116.97606705826408, 116.71393544891893, 113.3166579393845, 99.70242716511022, 107.27047683458926, 137.08843823362673, 90.62396806434036, 89.8204191464481, 84.13156037633324, 84.09583632346565, 77.91597791462492, 73.55694496735605, 69.26986354738824, 64.24827747728635, 62.62477439122428, 59.49069826186246, 58.90509941814127, 58.53817431709204, 58.59351922548917, 56.39527232321983, 53.379676459384, 55.40961694664601, 54.24989097813573, 52.14368841641497, 52.06636286389833, 50.798514528579695, 51.14492834720476, 50.706435577798466, 98.78215366440294, 52.57559580246281, 55.97024608070038, 173.19417274691736, 88.84039579864239, 501.8539111074491, 120.77501204966187, 91.36061854889891, 85.91588148161043, 141.14860867555115, 213.1796262418486, 285.1859006381839, 298.1166862946418, 649.0009639378125, 128.96774495468185, 234.9417602307027, 314.6904317703147, 227.84218208487715, 306.24981408626354, 178.03576672891433, 361.58299276090275, 192.59860734528442, 116.92116893650666, 131.26200064233095, 220.93873698111202, 146.80598471949082, 229.50775233553668, 321.20095634192336, 184.3902432006444, 420.5008853795865, 159.51593192054355, 288.74237263238354, 187.0422805951527, 179.63087054589212, 138.85340907246604, 157.1348611838613, 195.90865448299382, 145.12743877797112, 294.6050373178364, 244.43689393985943, 130.39804138165084, 104.2386143750217, 103.35462802177346, 77.19535393191292, 66.71297315852053, 64.20286988779644, 62.600435954860174, 58.9962769199999, 52.099029786839, 46.06289202118798, 45.40329828282151, 43.70428148167339, 40.93349334964904, 42.38424659118104, 37.26192350595666, 39.70478799921334, 30.168681676152612, 28.138928204847463, 27.543823927879313, 27.27512686505671, 24.367741050815976, 27.660177659966976, 125.6986414776976, 22.82427723966075, 20.89533096230051, 21.43369833946264, 21.78091975585321, 21.202158458531027, 22.541206000588122, 525.4093248770835, 58.11072316987334, 165.8279391696565, 59.11369151216985, 99.8273733784636, 59.087816720613404, 69.40851349732115, 63.7402584335371, 39.89818311078998, 46.07481634337411, 62.06752101622905, 135.26673289152745, 63.92959487921336, 64.84332354395765, 54.0820735568636, 53.36451480589316, 56.79481703213366, 47.52223408789065], \"Total\": [4986.0, 4196.0, 3782.0, 679.0, 1666.0, 2025.0, 1235.0, 2682.0, 932.0, 1631.0, 1412.0, 3765.0, 910.0, 780.0, 1189.0, 6729.0, 1137.0, 804.0, 758.0, 4475.0, 554.0, 295.0, 1488.0, 544.0, 426.0, 577.0, 602.0, 457.0, 245.0, 1148.0, 461.3594009876376, 411.7008466397926, 364.8656683404355, 304.0420847428657, 290.33667584772166, 289.49331876304257, 272.39754102020845, 267.85072320724737, 255.43981175741493, 246.33843843985795, 245.86424175364624, 242.79596301020734, 212.8139470129005, 192.10345290741932, 189.3316560541735, 186.77024726916136, 175.84381910214466, 167.00531477571792, 164.11011754322342, 162.90752755676914, 161.27452064766322, 151.8001091941708, 146.89907107173016, 148.93267773432018, 144.8675880961494, 142.08709093912876, 133.89821745051242, 247.46233821120617, 128.64970349975292, 125.69976616926172, 928.1619658652382, 531.682876699581, 969.9409122553361, 214.95073682210517, 542.3934047250007, 374.77617564238795, 184.38013760505518, 333.46800249051535, 4475.780828679944, 210.68595741283818, 1562.038061759981, 1531.1717996839232, 544.9005788326857, 1101.9829726690075, 2076.897911682323, 1329.1364072284648, 516.0240212231672, 404.55096271585927, 6729.215334039852, 3765.594650394449, 957.3761612244473, 2597.1520793897316, 1148.8133368403746, 4986.278230364904, 694.3685999368529, 575.9966917255742, 721.9989927218791, 2682.339459302927, 3782.891303466223, 2040.925847545924, 993.0573494949098, 584.4033379346944, 1488.985925969403, 1189.3715759113516, 4196.832581308337, 1412.0325931035127, 780.7159963277428, 544.5831831225358, 467.0369374867875, 309.6565823817262, 318.92202105616457, 160.60811038680163, 151.61773045373175, 148.97321246685098, 136.1372151352562, 119.20196498462452, 114.48069701741031, 110.1370293164591, 104.06279153790754, 99.17663133098186, 92.81306059511128, 86.49012370484533, 85.19055080760178, 81.47372906093408, 80.16451789295228, 81.51548893758628, 77.55169415078862, 71.2745480198089, 67.88303216971299, 67.21134001002613, 67.70429778173408, 67.79094584553978, 61.400062619486484, 61.30956549539053, 55.48468033364479, 53.516552247971475, 357.67949455866517, 164.12848195302436, 758.9043511137492, 240.71658824910307, 472.53180656955004, 328.45497129280506, 359.9332895007906, 1666.971446420594, 1412.0325931035127, 480.9491622076687, 214.4255501823523, 591.0727220176389, 310.01791380303763, 449.7923950206762, 3782.891303466223, 296.0175213355127, 6729.215334039852, 190.54359677455864, 4196.832581308337, 393.86451226819685, 2597.1520793897316, 2025.197999895333, 369.40106630652343, 510.2663275551103, 2040.925847545924, 372.9508373903092, 2076.897911682323, 868.3536599979757, 766.8739715596043, 4986.278230364904, 2682.339459302927, 4475.780828679944, 3765.594650394449, 1562.038061759981, 554.5585001681762, 457.81518081502225, 257.0181946970427, 126.13552854977306, 111.1483403003906, 81.96198113243626, 62.758788788649476, 63.69538575768933, 60.962024621188185, 61.443503536177545, 58.17787501686389, 62.943437757622675, 62.943437757622675, 63.530265004645, 53.37493065051972, 52.20474921068845, 48.46414347326709, 47.64937658029199, 48.71585391984534, 47.51356486781921, 47.51356486781921, 45.89707001863913, 45.23300077768869, 43.335213283300426, 44.33064639547314, 40.986451593104995, 40.47403933373884, 40.79481857184653, 40.9288268317362, 36.5091324283587, 37.40684409053638, 276.1535805189553, 932.008911814918, 577.7638300949033, 910.7469767947745, 82.89845324661822, 76.00704168776778, 287.65312896757985, 804.9668477913965, 102.87576299345777, 1235.5156978385019, 209.68657808837693, 65.58255734262657, 533.9943897571321, 347.84425770917625, 1137.3030560764812, 2025.197999895333, 401.4754787463967, 1631.434801596208, 320.62276043287596, 164.22004570433978, 4196.832581308337, 527.2865215942865, 4986.278230364904, 849.8012047164833, 516.5812946920879, 130.72914917169405, 247.152498200079, 761.5524290162226, 2682.339459302927, 609.598891285768, 1488.985925969403, 584.6614001273717, 3765.594650394449, 3782.891303466223, 897.7702817666689, 868.3536599979757, 2040.925847545924, 6729.215334039852, 4475.780828679944, 1148.8133368403746, 418.75288563917957, 132.59201919265598, 117.77994791867867, 117.5441831524375, 114.12462250848561, 100.5121970044665, 108.14852664109631, 138.26776657019127, 91.42423432502171, 90.63218831905976, 84.94490777929154, 84.93066163277022, 78.75631958037526, 74.36143749821349, 70.0794609268934, 65.05028993429268, 63.43731449627116, 60.29084847433029, 59.70762593151124, 59.3403396507136, 59.40977948710236, 57.22601197678455, 54.17864254398465, 56.23978970520511, 55.063199391366965, 52.94945592206513, 52.87279118383657, 51.609131233598305, 51.97258452617861, 51.52977603276493, 101.27833748825174, 53.45454204038703, 57.01230335952737, 186.43003765645344, 93.20080538492537, 602.543240335766, 130.40566313891398, 97.34471637518483, 92.58276699051609, 164.48259767437162, 272.9046381774534, 395.55643741405913, 435.515117424029, 1189.3715759113516, 157.81427232592003, 340.07603364308216, 537.9516611735866, 353.7498266726137, 562.4178773206625, 268.103277174484, 783.751145458805, 381.9932768819823, 156.3969880450678, 197.064016083163, 551.4686695481726, 252.37347555378935, 665.8643677518401, 1631.434801596208, 460.6872476133331, 4196.832581308337, 335.6628944386262, 2597.1520793897316, 715.4852761679593, 709.5324754980098, 269.14657795642, 591.0727220176389, 6729.215334039852, 993.0573494949098, 295.3912721155824, 245.21837797429313, 131.18976511475742, 105.01874067251299, 104.13325460153075, 77.97177024743883, 67.49469009038197, 64.97954672589323, 63.393467602997006, 59.78023208686968, 52.91006581701978, 46.838809526670346, 46.183016169596996, 44.484939609792264, 41.71030852502185, 43.229909296251165, 38.04082366097764, 40.563008966674836, 30.951510305168497, 28.9155103104033, 28.32492192911455, 28.071807282598883, 25.146869403847756, 28.55889249779959, 129.78275904004514, 23.646310443947524, 21.67915656531345, 22.243185539842827, 22.606545736397027, 22.0142064788089, 23.4477280722487, 679.9831401611973, 88.25204354847085, 426.7364681260974, 103.20873149722453, 247.26393130544034, 120.4121693586148, 170.37586388602801, 146.45834484100007, 60.34416378856588, 83.46050629838659, 201.43394783051278, 1666.971446420594, 300.7056699361579, 381.6410983544196, 232.3251008493573, 437.0067165714507, 1137.3030560764812, 155.62510084388043], \"Category\": [\"Default\", \"Default\", \"Default\", \"Default\", \"Default\", \"Default\", \"Default\", \"Default\", \"Default\", \"Default\", \"Default\", \"Default\", \"Default\", \"Default\", \"Default\", \"Default\", \"Default\", \"Default\", \"Default\", \"Default\", \"Default\", \"Default\", \"Default\", \"Default\", \"Default\", \"Default\", \"Default\", \"Default\", \"Default\", \"Default\", \"Topic1\", \"Topic1\", \"Topic1\", \"Topic1\", \"Topic1\", \"Topic1\", \"Topic1\", \"Topic1\", \"Topic1\", \"Topic1\", \"Topic1\", \"Topic1\", \"Topic1\", \"Topic1\", \"Topic1\", \"Topic1\", \"Topic1\", \"Topic1\", \"Topic1\", \"Topic1\", \"Topic1\", \"Topic1\", \"Topic1\", \"Topic1\", \"Topic1\", \"Topic1\", \"Topic1\", \"Topic1\", \"Topic1\", \"Topic1\", \"Topic1\", \"Topic1\", \"Topic1\", \"Topic1\", \"Topic1\", \"Topic1\", \"Topic1\", \"Topic1\", \"Topic1\", \"Topic1\", \"Topic1\", \"Topic1\", \"Topic1\", \"Topic1\", \"Topic1\", \"Topic1\", \"Topic1\", \"Topic1\", \"Topic1\", \"Topic1\", \"Topic1\", \"Topic1\", \"Topic1\", \"Topic1\", \"Topic1\", \"Topic1\", \"Topic1\", \"Topic1\", \"Topic1\", \"Topic1\", \"Topic1\", \"Topic1\", \"Topic1\", \"Topic1\", \"Topic1\", \"Topic1\", \"Topic2\", \"Topic2\", \"Topic2\", \"Topic2\", \"Topic2\", \"Topic2\", \"Topic2\", \"Topic2\", \"Topic2\", \"Topic2\", \"Topic2\", \"Topic2\", \"Topic2\", \"Topic2\", \"Topic2\", \"Topic2\", \"Topic2\", \"Topic2\", \"Topic2\", \"Topic2\", \"Topic2\", \"Topic2\", \"Topic2\", \"Topic2\", \"Topic2\", \"Topic2\", \"Topic2\", \"Topic2\", \"Topic2\", \"Topic2\", \"Topic2\", \"Topic2\", \"Topic2\", \"Topic2\", \"Topic2\", \"Topic2\", \"Topic2\", \"Topic2\", \"Topic2\", \"Topic2\", \"Topic2\", \"Topic2\", \"Topic2\", \"Topic2\", \"Topic2\", \"Topic2\", \"Topic2\", \"Topic2\", \"Topic2\", \"Topic2\", \"Topic2\", \"Topic2\", \"Topic2\", \"Topic2\", \"Topic2\", \"Topic2\", \"Topic2\", \"Topic2\", \"Topic2\", \"Topic2\", \"Topic2\", \"Topic2\", \"Topic2\", \"Topic2\", \"Topic3\", \"Topic3\", \"Topic3\", \"Topic3\", \"Topic3\", \"Topic3\", \"Topic3\", \"Topic3\", \"Topic3\", \"Topic3\", \"Topic3\", \"Topic3\", \"Topic3\", \"Topic3\", \"Topic3\", \"Topic3\", \"Topic3\", \"Topic3\", \"Topic3\", \"Topic3\", \"Topic3\", \"Topic3\", \"Topic3\", \"Topic3\", \"Topic3\", \"Topic3\", \"Topic3\", \"Topic3\", \"Topic3\", \"Topic3\", \"Topic3\", \"Topic3\", \"Topic3\", \"Topic3\", \"Topic3\", \"Topic3\", \"Topic3\", \"Topic3\", \"Topic3\", \"Topic3\", \"Topic3\", \"Topic3\", \"Topic3\", \"Topic3\", \"Topic3\", \"Topic3\", \"Topic3\", \"Topic3\", \"Topic3\", \"Topic3\", \"Topic3\", \"Topic3\", \"Topic3\", \"Topic3\", \"Topic3\", \"Topic3\", \"Topic3\", \"Topic3\", \"Topic3\", \"Topic3\", \"Topic3\", \"Topic3\", \"Topic3\", \"Topic3\", \"Topic3\", \"Topic3\", \"Topic3\", \"Topic3\", \"Topic3\", \"Topic3\", \"Topic3\", \"Topic4\", \"Topic4\", \"Topic4\", \"Topic4\", \"Topic4\", \"Topic4\", \"Topic4\", \"Topic4\", \"Topic4\", \"Topic4\", \"Topic4\", \"Topic4\", \"Topic4\", \"Topic4\", \"Topic4\", \"Topic4\", \"Topic4\", \"Topic4\", \"Topic4\", \"Topic4\", \"Topic4\", \"Topic4\", \"Topic4\", \"Topic4\", \"Topic4\", \"Topic4\", \"Topic4\", \"Topic4\", \"Topic4\", \"Topic4\", \"Topic4\", \"Topic4\", \"Topic4\", \"Topic4\", \"Topic4\", \"Topic4\", \"Topic4\", \"Topic4\", \"Topic4\", \"Topic4\", \"Topic4\", \"Topic4\", \"Topic4\", \"Topic4\", \"Topic4\", \"Topic4\", \"Topic4\", \"Topic4\", \"Topic4\", \"Topic4\", \"Topic4\", \"Topic4\", \"Topic4\", \"Topic4\", \"Topic4\", \"Topic4\", \"Topic4\", \"Topic4\", \"Topic4\", \"Topic4\", \"Topic4\", \"Topic4\", \"Topic4\", \"Topic4\", \"Topic4\", \"Topic4\", \"Topic4\", \"Topic4\", \"Topic5\", \"Topic5\", \"Topic5\", \"Topic5\", \"Topic5\", \"Topic5\", \"Topic5\", \"Topic5\", \"Topic5\", \"Topic5\", \"Topic5\", \"Topic5\", \"Topic5\", \"Topic5\", \"Topic5\", \"Topic5\", \"Topic5\", \"Topic5\", \"Topic5\", \"Topic5\", \"Topic5\", \"Topic5\", \"Topic5\", \"Topic5\", \"Topic5\", \"Topic5\", \"Topic5\", \"Topic5\", \"Topic5\", \"Topic5\", \"Topic5\", \"Topic5\", \"Topic5\", \"Topic5\", \"Topic5\", \"Topic5\", \"Topic5\", \"Topic5\", \"Topic5\", \"Topic5\", \"Topic5\", \"Topic5\", \"Topic5\", \"Topic5\", \"Topic5\", \"Topic5\", \"Topic5\", \"Topic5\", \"Topic5\"], \"logprob\": [30.0, 29.0, 28.0, 27.0, 26.0, 25.0, 24.0, 23.0, 22.0, 21.0, 20.0, 19.0, 18.0, 17.0, 16.0, 15.0, 14.0, 13.0, 12.0, 11.0, 10.0, 9.0, 8.0, 7.0, 6.0, 5.0, 4.0, 3.0, 2.0, 1.0, -5.7837, -5.8978, -6.0188, -6.2016, -6.2479, -6.2508, -6.3118, -6.3287, -6.3763, -6.4127, -6.4147, -6.4272, -6.5596, -6.6623, -6.6769, -6.6906, -6.7512, -6.8029, -6.8205, -6.8279, -6.8381, -6.8989, -6.9319, -6.9182, -6.946, -6.9655, -7.0252, -6.411, -7.0654, -7.0887, -5.0968, -5.6516, -5.058, -6.5589, -5.6542, -6.0291, -6.7121, -6.1517, -3.7375, -6.5903, -4.7641, -4.7837, -5.7256, -5.1201, -4.5698, -4.9694, -5.7995, -6.0209, -3.6198, -4.1407, -5.3211, -4.5924, -5.2497, -4.1617, -5.6379, -5.7812, -5.6487, -4.7969, -4.7753, -5.1313, -5.5465, -5.8524, -5.5133, -5.6359, -5.3226, -5.8302, -4.4126, -4.7732, -4.9271, -5.3388, -5.3094, -5.9973, -6.0552, -6.0729, -6.1635, -6.2971, -6.3378, -6.3767, -6.4337, -6.4822, -6.549, -6.6201, -6.6355, -6.6804, -6.6967, -6.6801, -6.7306, -6.8154, -6.8645, -6.8746, -6.8673, -6.866, -6.9662, -6.9688, -7.0687, -7.1052, -5.2154, -5.9973, -4.5106, -5.6448, -5.0033, -5.3786, -5.3153, -4.0239, -4.2019, -5.149, -5.8994, -5.1182, -5.6251, -5.3442, -3.7617, -5.7126, -3.5769, -6.042, -4.1278, -5.5945, -4.4523, -4.6513, -5.6481, -5.4997, -4.8806, -5.6544, -4.901, -5.3284, -5.3832, -4.9866, -5.1591, -5.0556, -5.2635, -5.4202, -4.5949, -4.7869, -5.3657, -6.0808, -6.2082, -6.5156, -6.7857, -6.7709, -6.8152, -6.8074, -6.8625, -6.7843, -6.7843, -6.7751, -6.9501, -6.9727, -7.0482, -7.0655, -7.0435, -7.0688, -7.0688, -7.1035, -7.1183, -7.1619, -7.1392, -7.2189, -7.2317, -7.2239, -7.2226, -7.3374, -7.3132, -5.3472, -4.1564, -4.6412, -4.2475, -6.5484, -6.632, -5.3901, -4.4428, -6.3547, -4.1008, -5.7192, -6.7763, -4.9016, -5.2836, -4.258, -3.8429, -5.2192, -4.0449, -5.4221, -5.9918, -3.3063, -5.0409, -3.2305, -4.6732, -5.0844, -6.1921, -5.7007, -4.8566, -3.9299, -5.0271, -4.4605, -5.1321, -3.9617, -3.9796, -4.8804, -4.9139, -4.5698, -4.3254, -4.6974, -5.0183, -4.8625, -6.0166, -6.1358, -6.138, -6.1676, -6.2956, -6.2224, -5.9771, -6.391, -6.3999, -6.4654, -6.4658, -6.5421, -6.5997, -6.6597, -6.735, -6.7606, -6.8119, -6.8218, -6.8281, -6.8271, -6.8654, -6.9203, -6.883, -6.9041, -6.9437, -6.9452, -6.9699, -6.9631, -6.9717, -6.3048, -6.9355, -6.8729, -5.7433, -6.4109, -4.6794, -6.1038, -6.3829, -6.4444, -5.9479, -5.5356, -5.2446, -5.2003, -4.4223, -6.0382, -5.4384, -5.1462, -5.4691, -5.1733, -5.7158, -5.0073, -5.6371, -6.1362, -6.0206, -5.4999, -5.9086, -5.4618, -5.1257, -5.6807, -4.8563, -5.8256, -5.2322, -5.6664, -5.7068, -5.9643, -5.8406, -5.6201, -5.9201, -3.8383, -4.0249, -4.6533, -4.8772, -4.8857, -5.1776, -5.3235, -5.3618, -5.3871, -5.4464, -5.5707, -5.6939, -5.7083, -5.7464, -5.8119, -5.7771, -5.9059, -5.8424, -6.1171, -6.1867, -6.2081, -6.2179, -6.3306, -6.2039, -4.69, -6.3961, -6.4844, -6.4589, -6.4429, -6.4698, -6.4085, -3.2597, -5.4615, -4.4129, -5.4444, -4.9204, -5.4449, -5.2839, -5.3691, -5.8376, -5.6936, -5.3957, -4.6166, -5.3661, -5.3519, -5.5334, -5.5467, -5.4844, -5.6627], \"loglift\": [30.0, 29.0, 28.0, 27.0, 26.0, 25.0, 24.0, 23.0, 22.0, 21.0, 20.0, 19.0, 18.0, 17.0, 16.0, 15.0, 14.0, 13.0, 12.0, 11.0, 10.0, 9.0, 8.0, 7.0, 6.0, 5.0, 4.0, 3.0, 2.0, 1.0, 0.8086, 0.8084, 0.8081, 0.8077, 0.8076, 0.8076, 0.8074, 0.8073, 0.8072, 0.8071, 0.8071, 0.807, 0.8065, 0.8061, 0.8061, 0.806, 0.8057, 0.8055, 0.8054, 0.8054, 0.8053, 0.805, 0.8048, 0.8048, 0.8047, 0.8046, 0.8043, 0.8042, 0.804, 0.8039, 0.7964, 0.7989, 0.7912, 0.7972, 0.7763, 0.7711, 0.7974, 0.7652, 0.5825, 0.7858, 0.6086, 0.609, 0.7003, 0.6015, 0.518, 0.5648, 0.6808, 0.7028, 0.2924, 0.3521, 0.5412, 0.2719, 0.4303, 0.0503, 0.5456, 0.5892, 0.4958, 0.0351, -0.287, -0.0259, 0.2792, 0.5035, -0.0926, 0.0094, -0.9382, -0.3565, 1.6536, 1.6533, 1.653, 1.6523, 1.6521, 1.6502, 1.6499, 1.6498, 1.6493, 1.6485, 1.6483, 1.648, 1.6478, 1.6474, 1.6469, 1.6463, 1.6461, 1.6458, 1.6457, 1.6456, 1.645, 1.6445, 1.6442, 1.6441, 1.6441, 1.6441, 1.6429, 1.6418, 1.6417, 1.6413, 1.6314, 1.6285, 1.584, 1.5981, 1.5651, 1.5535, 1.5253, 1.2838, 1.2718, 1.4018, 1.4592, 1.2264, 1.3647, 1.2735, 0.7265, 1.3235, 0.3354, 1.4346, 0.2566, 1.156, 0.412, 0.4618, 1.1665, 0.9919, 0.2247, 1.1506, 0.1868, 0.6315, 0.701, -0.7745, -0.327, -0.7356, -0.7707, -0.0475, 1.8134, 1.8131, 1.8116, 1.8083, 1.8074, 1.8046, 1.8015, 1.8014, 1.8011, 1.801, 1.8004, 1.7999, 1.7999, 1.7999, 1.799, 1.7986, 1.7975, 1.7971, 1.7969, 1.7967, 1.7967, 1.7966, 1.7964, 1.7956, 1.7956, 1.7943, 1.7942, 1.794, 1.792, 1.7915, 1.7914, 1.7583, 1.7327, 1.7261, 1.6647, 1.7605, 1.7637, 1.6747, 1.5929, 1.7383, 1.5064, 1.6617, 1.7669, 1.5445, 1.5911, 1.4321, 1.2702, 1.5122, 1.2844, 1.5341, 1.6335, 1.0781, 1.4178, 0.9816, 1.3083, 1.3948, 1.6612, 1.5158, 1.2345, 0.9022, 1.2866, 0.9601, 1.2233, 0.5311, 0.5086, 1.0462, 1.046, 0.5355, -0.4131, -0.3773, 0.6617, 1.8267, 1.8226, 1.8219, 1.8217, 1.8216, 1.8207, 1.8206, 1.8202, 1.8199, 1.8197, 1.8191, 1.8189, 1.818, 1.8179, 1.8171, 1.8163, 1.8158, 1.8154, 1.8152, 1.8151, 1.8149, 1.8141, 1.8139, 1.8139, 1.8139, 1.8134, 1.8134, 1.8129, 1.8127, 1.8126, 1.8038, 1.8122, 1.8103, 1.7551, 1.7808, 1.6459, 1.752, 1.7653, 1.754, 1.6757, 1.5818, 1.5016, 1.4497, 1.223, 1.6269, 1.4589, 1.2926, 1.3888, 1.2209, 1.4194, 1.0551, 1.1439, 1.5378, 1.4224, 0.914, 1.2869, 0.7636, 0.2036, 0.9131, -0.4719, 1.0848, -0.3679, 0.4871, 0.455, 1.1669, 0.5039, -1.7078, -0.0944, 3.1999, 3.1994, 3.1965, 3.1951, 3.1951, 3.1926, 3.1909, 3.1906, 3.19, 3.1894, 3.1871, 3.1859, 3.1856, 3.1849, 3.1838, 3.1828, 3.1819, 3.1812, 3.177, 3.1754, 3.1746, 3.1738, 3.1711, 3.1706, 3.1706, 3.1672, 3.1658, 3.1655, 3.1654, 3.165, 3.1632, 2.9447, 2.7847, 2.2574, 2.6453, 2.2956, 2.4907, 2.3046, 2.3707, 2.7889, 2.6085, 2.0254, 0.6911, 1.6542, 1.4301, 1.745, 1.0998, 0.2056, 2.0163]}, \"token.table\": {\"Topic\": [1, 2, 3, 4, 5, 1, 5, 2, 4, 1, 5, 2, 2, 1, 1, 2, 4, 1, 2, 4, 2, 1, 2, 3, 5, 1, 2, 4, 2, 3, 2, 2, 3, 1, 2, 4, 5, 1, 2, 3, 5, 3, 4, 3, 4, 2, 4, 3, 4, 2, 1, 3, 1, 2, 4, 5, 5, 5, 1, 4, 4, 2, 3, 5, 5, 4, 1, 4, 3, 4, 1, 2, 3, 4, 3, 2, 5, 1, 2, 4, 3, 1, 3, 1, 5, 1, 2, 4, 1, 4, 4, 1, 3, 4, 2, 1, 1, 4, 1, 4, 1, 4, 5, 2, 3, 1, 1, 2, 4, 1, 2, 3, 5, 2, 1, 2, 2, 4, 1, 3, 5, 3, 1, 2, 5, 1, 2, 3, 4, 1, 2, 3, 3, 2, 3, 1, 3, 5, 1, 2, 1, 2, 1, 4, 5, 1, 2, 4, 3, 1, 3, 1, 2, 4, 5, 4, 1, 2, 3, 5, 1, 5, 1, 2, 3, 5, 2, 3, 4, 1, 1, 2, 3, 4, 5, 1, 2, 3, 4, 1, 4, 3, 1, 1, 3, 1, 2, 4, 1, 2, 4, 5, 1, 2, 3, 4, 2, 2, 2, 4, 3, 2, 5, 4, 1, 1, 2, 3, 4, 5, 1, 1, 3, 4, 5, 1, 2, 3, 2, 3, 1, 2, 4, 1, 3, 4, 5, 1, 5, 2, 2, 4, 5, 3, 4, 1, 2, 3, 4, 5, 3, 1, 2, 5, 5, 1, 2, 3, 1, 5, 3, 3, 1, 3, 3, 4, 1, 2, 4, 3, 4, 3, 3, 1, 2, 3, 4, 1, 5, 4, 1, 2, 3, 3, 4, 1, 2, 1, 2, 1, 2, 3, 5, 1, 2, 3, 1, 2, 3, 1, 4, 2, 1, 2, 4, 1, 2, 3, 4, 3, 4, 1, 2, 3, 4, 1, 4, 3, 1, 2, 4, 2, 2, 5, 1, 5, 1, 2, 4, 1, 1, 2, 3, 4, 5, 4, 1, 2, 3, 4, 4, 5, 1, 1, 2, 4, 5, 1, 2, 3, 4, 1, 5, 4, 4, 1, 4, 1, 3, 1, 2, 4, 5, 1, 3, 4, 1, 1, 4, 1, 1, 2, 4, 5, 4, 3, 1, 3, 2, 5, 5, 1, 2, 5, 1, 3, 1, 2, 3, 5, 1, 2, 3, 5, 3, 2, 1, 3, 4, 4, 1, 2, 3, 4, 1, 2, 3, 4, 5, 1, 5, 1, 2, 3, 5, 1, 3, 1, 4, 1, 2, 5, 3, 1, 2, 3, 1, 3, 5, 3, 4, 2, 3, 4, 1, 2, 3, 1, 3, 3, 1, 2, 4, 1, 4, 2, 3, 2, 1, 2, 3, 2, 4, 4, 4, 1, 2, 1, 2, 1, 2, 1, 3, 2, 4, 5, 4, 1, 5, 3, 2, 1, 1, 2, 3, 1, 2, 4, 5, 5, 1, 2, 4, 1, 2, 3, 4, 1, 2, 3, 4, 1, 2, 5, 5, 1, 2, 3, 4, 5, 4, 2, 3, 2, 3, 4, 3, 5, 3, 4, 2, 1, 2, 4, 1, 2, 5, 1, 2, 4, 1, 2, 4, 1, 2, 3, 4, 4, 1, 2, 3, 4, 4, 1, 3, 5, 1, 4, 5], \"Freq\": [0.4406415330885324, 0.04352015141615134, 0.07434692533592521, 0.4007480609570603, 0.041706811773811706, 0.6875497552759177, 0.3084335350770472, 0.991264609785435, 0.9779552926548307, 0.5869375962013871, 0.4049869413789571, 0.9977797527271237, 0.997879643388569, 0.9968238905721037, 0.9949498251291798, 0.9962137006323213, 0.9785896449130271, 0.08120828150578666, 0.6513580912443305, 0.2656187540918439, 0.9928861109118271, 0.06899639556524113, 0.09199519408698817, 0.7992082486307097, 0.04024789741305732, 0.0804178670550655, 0.914224172836534, 0.006348778978031487, 0.3426372611991345, 0.656237466364444, 0.9959257373667108, 0.7195520016485145, 0.280388808154116, 0.48406094359287943, 0.5154171180766287, 0.9806912892254921, 0.9692580331044587, 0.1623762373504923, 0.35930061030747235, 0.46294501712693553, 0.014970858762811347, 0.41605006140045386, 0.5824700859606354, 0.9929755290367563, 0.993102491026897, 0.0648068770791288, 0.9288985714675129, 0.35335706359422264, 0.6445232839958621, 0.9912398040760859, 0.9958759637553442, 0.9922646444334081, 0.9893115295815854, 0.0037616407968881576, 0.007523281593776315, 0.9869483262337309, 0.9950314573305723, 0.9686723713965839, 0.9964848822769754, 0.9893800990474162, 0.9931063523141909, 0.9854733999085815, 0.023115551111641375, 0.9708531466889377, 0.9743841726306348, 0.9953703948775434, 0.9932355325811583, 0.9951394498227367, 0.915599025839168, 0.08307892862056723, 0.06223116460019201, 0.001072951113796414, 0.9205920556373232, 0.01609426670694621, 0.9850113404791205, 0.9899165673587716, 0.961819085183615, 0.7299179158315051, 0.2409975661379163, 0.027700869671024864, 0.9769226128100662, 0.1376892614543033, 0.8567331823823316, 0.9862724972906363, 0.009304457521609777, 0.7467868262930957, 0.23063242410985996, 0.022629903827063504, 0.33196162664613016, 0.6639232532922603, 0.9785759668648251, 0.0117620755486642, 0.296992407603771, 0.6910219384840217, 0.9934843288032817, 0.9976274327360727, 0.9777585679160569, 0.018985603260505957, 0.0690154076392587, 0.9278738138167002, 0.2635977299412248, 0.179725724959926, 0.5511588898771064, 0.9943331829826269, 0.9916533481387771, 0.9944330352347717, 0.3116075380617965, 0.68199558898525, 0.006373790551264019, 0.062376655075752734, 0.7776289666110507, 0.1101987573004965, 0.04990132406060219, 0.9961480215948532, 0.1941812825322936, 0.8029658439848898, 0.9941854992229486, 0.9834926213597858, 0.9939803426192273, 0.986054655520567, 0.986120138002154, 0.9890826352738529, 0.430156438463065, 0.1297297195364799, 0.4369843184386692, 0.26123756799575876, 0.021181424432088546, 0.6024938505127408, 0.11532108857470431, 0.13615197542175522, 0.002195999603576697, 0.8608318446020652, 0.9989928922412931, 0.9748460358379115, 0.02437115089594779, 0.9965725641443781, 0.9853055245419045, 0.9441093750885643, 0.022366392599248854, 0.9785296762171375, 0.9605733325575972, 0.03735562959946211, 0.8972911535374517, 0.04696565266449472, 0.054381282032572836, 0.9660884432502893, 0.029498883763367612, 0.0036873604704209515, 0.9759322518841582, 0.03947002716305963, 0.9472806519134311, 0.4424161633928781, 0.04712124817202252, 0.5052444942889082, 0.005235694241335835, 0.9845966148623847, 0.9938796680934003, 0.4165589354509053, 0.17794750640621196, 0.404426150923209, 0.3314322172078824, 0.6628644344157648, 0.4778505244746979, 0.05792127569390277, 0.46337020555122216, 0.980905268481913, 0.3789756525030601, 0.10403253205966355, 0.5164472127247584, 0.9920971977312667, 0.10221222814297577, 0.303180232269503, 0.5801901839033649, 0.012838250877861692, 0.0019751155196710297, 0.7635452287271067, 0.11907545290682649, 0.06893842010395218, 0.04700346825269467, 0.21619273455380358, 0.780492414575596, 0.9896683990306371, 0.9967216793873386, 0.9942559444366098, 0.980454743227077, 0.3247675616891485, 0.01014898630278589, 0.6647586028324759, 0.5001018467534296, 0.15468615680361336, 0.34541568994981625, 0.9683384349584204, 0.10427128103788524, 0.14597979345303932, 0.2711053306985016, 0.4766687133160468, 0.9936761841914366, 0.9896762303875833, 0.9968555899942687, 0.9955350314727783, 0.9699836004284156, 0.9869918572949815, 0.9875368964388653, 0.990396712487264, 0.9923491224153891, 0.3794626115790427, 0.3859825877230125, 0.12257555150663235, 0.10953559921869274, 0.003911985686381883, 0.9944291858677132, 0.22382428678560004, 0.413214067911877, 0.12912939622246156, 0.2324329132004308, 0.044291419138003205, 0.36581431362128575, 0.5889118322423389, 0.045743870345386725, 0.9606212772531212, 0.05806116097999377, 0.7483438526310308, 0.1935372032666459, 0.5400374663610323, 0.0732254191675976, 0.26544214448254133, 0.12127960049633355, 0.9870911387963411, 0.010847155371388363, 0.9897870168366529, 0.9916465520899164, 0.9279620504009025, 0.06973125234226435, 0.9529731485457209, 0.048251804989656755, 0.43313675558715203, 0.23910716824268122, 0.27830506467590765, 0.04899737054153304, 0.9849253068811744, 0.9960384333947918, 0.956613520990138, 0.04198303853875214, 0.9937932468774053, 0.9902994392620856, 0.19840543599206098, 0.24800679499007622, 0.5541669074261013, 0.9982782176576586, 0.9726675988002622, 0.990422951072619, 0.9982194106941342, 0.19876594972699207, 0.8012752348369369, 0.9891911947830493, 0.9930246821710381, 0.10112337005940052, 0.1769658976039509, 0.7205040116732286, 0.9451262573149394, 0.05431760099511146, 0.98421928032794, 0.9797539010057954, 0.3431612112321975, 0.07289953191979326, 0.03733878464184533, 0.5440794333526033, 0.9986261241160681, 0.9827997602541815, 0.9881484832050945, 0.3338716073715168, 0.3952003586859997, 0.27069241959495893, 0.8584240424016797, 0.13830165127582617, 0.3844060371016107, 0.6145082424089129, 0.7676038346902092, 0.23186532342424704, 0.13540805959958999, 0.1318909671424578, 0.6823159366836482, 0.05011856751413395, 0.9952013149711307, 0.999082897838509, 0.9727411235936204, 0.782462954399559, 0.03310420191690442, 0.1843302152191269, 0.01974755954334262, 0.9775041973954596, 0.9881360022498133, 0.8778661096555601, 0.025192625663404595, 0.09495681980821732, 0.5101074562351282, 0.04775474058371413, 0.04124273050411675, 0.39940328488197274, 0.7621802921658205, 0.23595753516681423, 0.817521692500359, 0.18245394076946148, 0.16596319285612632, 0.8331352281377541, 0.9982976798675234, 0.9982020765348748, 0.9773062923216751, 0.5665702612383492, 0.18040048119032012, 0.25368817667388766, 0.9934671982248652, 0.9958010648962313, 0.9891172651246983, 0.22647620345923966, 0.772077966338317, 0.9940906635661138, 0.004041018957585828, 0.9953597169486427, 0.9988403950457219, 0.2998400721474313, 0.09569364004705254, 0.1403506720690104, 0.4618813026271069, 0.0025518304012547345, 0.9812865853209837, 0.46041898079557225, 0.13793928979300546, 0.4015151759650456, 0.994904130844501, 0.9782452551662257, 0.9926706813570145, 0.9982959234943645, 0.07446609750517848, 0.6006931865417731, 0.014893219501035697, 0.3077932030214044, 0.2139221252718992, 0.0006129573790025764, 0.5884390838424735, 0.19675931865982704, 0.9982482799702623, 0.9986754107093953, 0.9890421007575063, 0.99426461572824, 0.24936541609587554, 0.7480962482876266, 0.2590444634993375, 0.7397712082625311, 0.2273065632894005, 0.19449943044350765, 0.18981269717980867, 0.3889988608870153, 0.817674411361578, 0.17764172515203613, 0.004571662044353871, 0.9985405851362698, 0.051363856059008485, 0.9348221802739545, 0.9932917893336078, 0.19378205419119832, 0.03875641083823966, 0.19378205419119832, 0.571657059864035, 0.9838541851949687, 0.9882878175358277, 0.6841842576112199, 0.3159782258433496, 0.9895974435182149, 0.9890987913202536, 0.9829704322470849, 0.054005418133240925, 0.9471719487983793, 0.9726392974491423, 0.9940111649020236, 0.992781929566949, 0.1612026792245642, 0.16689218555013705, 0.6713617464175967, 0.9715495749060519, 0.25414488909314037, 0.011331300787592246, 0.7349157939381257, 0.9909309608587478, 0.9909975518965303, 0.9903478040667119, 0.3030893641092172, 0.011480657731409742, 0.6842472007920206, 0.989719030945757, 0.7962856396279667, 0.09160412801556296, 0.11171235123849141, 0.00044684940495396563, 0.46768348901969325, 0.08804161735833849, 0.43459267611735647, 0.005214309911883373, 0.004412108386978238, 0.3399354711092105, 0.6572085774778069, 0.6323038513321099, 0.08843224800234883, 0.27698148548483437, 0.002124498450506879, 0.9858193221126352, 0.012928777994919805, 0.41453538690354974, 0.5855544702897676, 0.9815030874266152, 0.0020619812761063345, 0.016495850208850676, 0.9882630810145759, 0.14614537401365343, 0.01826817175170668, 0.834246509994605, 0.034764092557905246, 0.8691023139476312, 0.09386304990634416, 0.9234439408827654, 0.0680432377492564, 0.9949507798189533, 0.17742375000262364, 0.8174165625120874, 0.40564520420618905, 0.1692427010926484, 0.4251215467922478, 0.9937375883620116, 0.9850113404791205, 0.9891911947830493, 0.8112648036972188, 0.16606427189775283, 0.021778920904623324, 0.007232343624299107, 0.9908310765289776, 0.682537106893254, 0.31570120253694484, 0.9883325739790985, 0.3941538274283539, 0.6032966746352355, 0.9891238060727152, 0.04291808406032266, 0.9549273703421792, 0.9888762280871898, 0.9914966619666555, 0.06720214467759167, 0.9316062017070061, 0.9992209956340583, 0.9989291202141205, 0.09438127813375272, 0.9042335356685341, 0.24327655308903032, 0.7547811006095556, 0.8207977074109202, 0.17721768682735778, 0.9539294555184087, 0.9820686368626222, 0.7848205856913326, 0.21283270120442918, 0.9879094417961949, 0.9971089451486883, 0.9947291922356435, 0.1418155807598368, 0.29807534104150885, 0.5593836796638008, 0.5837162991072219, 0.28877785246069687, 0.11127573248152187, 0.016556596874413288, 0.9804301760706354, 0.3300627397257822, 0.6068076522650918, 0.06093465964168286, 0.5957603971625643, 0.26734171975441584, 0.10773915887823875, 0.029126724331220405, 0.17394070072064372, 0.24709110499631168, 0.47869433938051126, 0.10031374657998768, 0.7357931963900786, 0.263516633125749, 0.9731694641246993, 0.9543931538582583, 0.2201020811495294, 0.5371538885196848, 0.02096210296662185, 0.05240525741655462, 0.17031708660380251, 0.9881972197741288, 0.877940466241053, 0.1194665824315357, 0.028322594555905495, 0.7404335433901007, 0.23062684138380188, 0.9863717717440069, 0.9885287617057624, 0.9805166783510333, 0.9933779227070367, 0.9860248490435216, 0.4489765947120642, 0.0050446808394613955, 0.545666310801741, 0.22855820405208654, 0.6904737345510541, 0.08098519041215665, 0.10943406934534704, 0.03039835259592973, 0.8572335432052184, 0.8020879401510758, 0.05381975355992066, 0.14409804985398114, 0.588082853721424, 0.23563593796372123, 0.02920274444849537, 0.14601372224247683, 0.9901456628397435, 0.5045526610043833, 0.09504039043849881, 0.13836762725604973, 0.2613610737058717, 0.9822441245156568, 0.9961753117014874, 0.506593314653506, 0.48998369777962053, 0.8955762187763113, 0.10277104149892097, 0.9820915703207034], \"Term\": [\"'\", \"'\", \"'\", \"'\", \"'\", \"activity\", \"activity\", \"advanced\", \"advisor\", \"agency\", \"agency\", \"air\", \"aircraft\", \"alliance\", \"ambassador\", \"ammunition\", \"analyst\", \"anti\", \"anti\", \"anti\", \"antonov\", \"area\", \"area\", \"area\", \"area\", \"arm\", \"arm\", \"arm\", \"armed\", \"armed\", \"armoured\", \"artillery\", \"artillery\", \"assistance\", \"assistance\", \"association\", \"atomic\", \"attack\", \"attack\", \"attack\", \"attack\", \"azov\", \"azov\", \"azovstal\", \"bandera\", \"banned\", \"banned\", \"battalion\", \"battalion\", \"battle\", \"belarus\", \"belgorod\", \"biden\", \"biden\", \"biden\", \"biolabs\", \"biological\", \"bioweapon\", \"bloc\", \"block\", \"book\", \"bridge\", \"chemical\", \"chemical\", \"chernobyl\", \"child\", \"china\", \"cia\", \"city\", \"city\", \"civilian\", \"civilian\", \"civilian\", \"civilian\", \"com\", \"command\", \"component\", \"conflict\", \"conflict\", \"conflict\", \"correspondent\", \"corridor\", \"corridor\", \"council\", \"council\", \"country\", \"country\", \"country\", \"coup\", \"coup\", \"court\", \"crime\", \"crime\", \"crime\", \"crimean\", \"crisis\", \"current\", \"current\", \"czech\", \"czech\", \"dangerous\", \"dangerous\", \"dangerous\", \"danish\", \"ddos\", \"deal\", \"defence\", \"defence\", \"defence\", \"defense\", \"defense\", \"defense\", \"defense\", \"delivered\", \"delivery\", \"delivery\", \"denmark\", \"detention\", \"diplomat\", \"disabled\", \"disease\", \"district\", \"document\", \"document\", \"document\", \"donbas\", \"donbas\", \"donbas\", \"donbas\", \"donetsk\", \"donetsk\", \"donetsk\", \"dpr\", \"drone\", \"drone\", \"economic\", \"elaborated\", \"environmental\", \"equipment\", \"equipment\", \"eu\", \"eu\", \"europe\", \"europe\", \"europe\", \"european\", \"european\", \"european\", \"evacuate\", \"evacuation\", \"evacuation\", \"even\", \"even\", \"even\", \"even\", \"ex\", \"expressed\", \"facility\", \"facility\", \"facility\", \"false\", \"false\", \"february\", \"february\", \"february\", \"fifa\", \"fighter\", \"fighter\", \"fighter\", \"financial\", \"force\", \"force\", \"force\", \"force\", \"force\", \"foreign\", \"foreign\", \"foreign\", \"foreign\", \"former\", \"former\", \"fsb\", \"gas\", \"global\", \"gmt\", \"go\", \"go\", \"go\", \"government\", \"government\", \"government\", \"grossi\", \"group\", \"group\", \"group\", \"group\", \"guided\", \"gun\", \"himars\", \"history\", \"hostage\", \"howitzer\", \"iaea\", \"ideology\", \"imposed\", \"including\", \"including\", \"including\", \"including\", \"including\", \"indian\", \"information\", \"information\", \"information\", \"information\", \"infrastructure\", \"infrastructure\", \"infrastructure\", \"injured\", \"injured\", \"intelligence\", \"intelligence\", \"intelligence\", \"international\", \"international\", \"international\", \"international\", \"issue\", \"issue\", \"javelin\", \"jet\", \"journalist\", \"journalist\", \"kherson\", \"kherson\", \"kiev\", \"kiev\", \"kiev\", \"kiev\", \"kirillov\", \"konashenkov\", \"kremlin\", \"kremlin\", \"lab\", \"laboratory\", \"launched\", \"launched\", \"launched\", \"lavrov\", \"legendary\", \"liberated\", \"lpr\", \"lugansk\", \"lugansk\", \"luganskaya\", \"maidan\", \"many\", \"many\", \"many\", \"mariupol\", \"mariupol\", \"me/sputniknewsindia\", \"me/sputniknewsussputnik\", \"medium\", \"medium\", \"medium\", \"medium\", \"meeting\", \"memorandum\", \"men\", \"military\", \"military\", \"military\", \"militia\", \"militia\", \"million\", \"million\", \"minister\", \"minister\", \"ministry\", \"ministry\", \"ministry\", \"ministry\", \"minsk\", \"missile\", \"mizintsev\", \"moscow\", \"moscow\", \"moscow\", \"movement\", \"movement\", \"munition\", \"nation\", \"nation\", \"nation\", \"national\", \"national\", \"national\", \"national\", \"nationalist\", \"nationalist\", \"nato\", \"nato\", \"nazi\", \"nazi\", \"negotiation\", \"neo\", \"neutralise\", \"new\", \"new\", \"new\", \"norway\", \"norwegian\", \"npp\", \"nuclear\", \"nuclear\", \"occupy\", \"occupy\", \"often\", \"oil\", \"one\", \"one\", \"one\", \"one\", \"one\", \"openly\", \"operation\", \"operation\", \"operation\", \"opposition\", \"oun\", \"pathogen\", \"peace\", \"pentagon\", \"pentagon\", \"pentagon\", \"pentagon\", \"people\", \"people\", \"people\", \"people\", \"peskov\", \"plant\", \"platform\", \"police\", \"politician\", \"politician\", \"population\", \"population\", \"power\", \"power\", \"power\", \"power\", \"president\", \"president\", \"president\", \"price\", \"pro\", \"pro\", \"process\", \"project\", \"project\", \"project\", \"project\", \"protester\", \"pushilin\", \"putin\", \"putin\", \"radar\", \"radiation\", \"radioactive\", \"range\", \"range\", \"reactor\", \"ready\", \"recognising\", \"region\", \"region\", \"region\", \"renunciation\", \"republic\", \"republic\", \"republic\", \"research\", \"residential\", \"rifle\", \"right\", \"right\", \"right\", \"run\", \"russia\", \"russia\", \"russia\", \"russia\", \"russian\", \"russian\", \"russian\", \"russian\", \"russian\", \"safety\", \"safety\", \"said\", \"said\", \"said\", \"said\", \"sanction\", \"sanction\", \"say\", \"say\", \"security\", \"security\", \"security\", \"serviceman\", \"settlement\", \"settlement\", \"settlement\", \"shelling\", \"shelling\", \"shelling\", \"shield\", \"shield\", \"sky\", \"social\", \"social\", \"special\", \"special\", \"special\", \"spokeswoman\", \"sputniknews\", \"stanitsa\", \"state\", \"state\", \"state\", \"street\", \"street\", \"strike\", \"strike\", \"supplied\", \"supply\", \"supply\", \"surrounded\", \"swedish\", \"swedish\", \"syria\", \"syrian\", \"system\", \"system\", \"talk\", \"tank\", \"target\", \"target\", \"telegram\", \"telegram\", \"terrorist\", \"terrorist\", \"test\", \"thought\", \"threat\", \"threat\", \"tochka\", \"training\", \"treaty\", \"troop\", \"troop\", \"troop\", \"u\", \"u\", \"u\", \"u\", \"uefa\", \"uk\", \"uk\", \"uk\", \"ukraine\", \"ukraine\", \"ukraine\", \"ukraine\", \"ukrainian\", \"ukrainian\", \"ukrainian\", \"ukrainian\", \"united\", \"united\", \"urals\", \"uranium\", \"use\", \"use\", \"use\", \"use\", \"use\", \"user\", \"vehicle\", \"vehicle\", \"video\", \"video\", \"video\", \"village\", \"virus\", \"volnovakha\", \"volunteer\", \"wallace\", \"war\", \"war\", \"war\", \"weapon\", \"weapon\", \"weapon\", \"website\", \"website\", \"website\", \"west\", \"west\", \"west\", \"western\", \"western\", \"western\", \"western\", \"woman\", \"year\", \"year\", \"year\", \"year\", \"youtube\", \"zakharova\", \"zaporozhye\", \"zaporozhye\", \"zelensky\", \"zelensky\", \"znpp\"]}, \"R\": 30, \"lambda.step\": 0.01, \"plot.opts\": {\"xlab\": \"PC1\", \"ylab\": \"PC2\"}, \"topic.order\": [1, 4, 2, 3, 5]};\n",
       "\n",
       "function LDAvis_load_lib(url, callback){\n",
       "  var s = document.createElement('script');\n",
       "  s.src = url;\n",
       "  s.async = true;\n",
       "  s.onreadystatechange = s.onload = callback;\n",
       "  s.onerror = function(){console.warn(\"failed to load library \" + url);};\n",
       "  document.getElementsByTagName(\"head\")[0].appendChild(s);\n",
       "}\n",
       "\n",
       "if(typeof(LDAvis) !== \"undefined\"){\n",
       "   // already loaded: just create the visualization\n",
       "   !function(LDAvis){\n",
       "       new LDAvis(\"#\" + \"ldavis_el127601406408160667368780389867\", ldavis_el127601406408160667368780389867_data);\n",
       "   }(LDAvis);\n",
       "}else if(typeof define === \"function\" && define.amd){\n",
       "   // require.js is available: use it to load d3/LDAvis\n",
       "   require.config({paths: {d3: \"https://d3js.org/d3.v5\"}});\n",
       "   require([\"d3\"], function(d3){\n",
       "      window.d3 = d3;\n",
       "      LDAvis_load_lib(\"https://cdn.jsdelivr.net/gh/bmabey/pyLDAvis@3.4.0/pyLDAvis/js/ldavis.v3.0.0.js\", function(){\n",
       "        new LDAvis(\"#\" + \"ldavis_el127601406408160667368780389867\", ldavis_el127601406408160667368780389867_data);\n",
       "      });\n",
       "    });\n",
       "}else{\n",
       "    // require.js not available: dynamically load d3 & LDAvis\n",
       "    LDAvis_load_lib(\"https://d3js.org/d3.v5.js\", function(){\n",
       "         LDAvis_load_lib(\"https://cdn.jsdelivr.net/gh/bmabey/pyLDAvis@3.4.0/pyLDAvis/js/ldavis.v3.0.0.js\", function(){\n",
       "                 new LDAvis(\"#\" + \"ldavis_el127601406408160667368780389867\", ldavis_el127601406408160667368780389867_data);\n",
       "            })\n",
       "         });\n",
       "}\n",
       "</script>"
      ],
      "text/plain": [
       "<IPython.core.display.HTML object>"
      ]
     },
     "execution_count": 78,
     "metadata": {},
     "output_type": "execute_result"
    }
   ],
   "source": [
    "# Print the keywords in the 10 topics\n",
    "print(lda_model.print_topics(0))\n",
    "doc_lda = lda_model[tdm]\n",
    "# Interpretation: Topic 0 is represented as 0.055\"walking\" + 0.054\"garden\" + ...\n",
    "\n",
    "# Visualize the topics (can take some mintues to run)\n",
    "vis = pyLDAvis.gensim.prepare(lda_model, tdm, id2word)\n",
    "pyLDAvis.display(vis)\n",
    "\n",
    "# If it is a newwer version of puLDavis, use this instead of the previous\n",
    "# vis = gensimvis.prepare(lda_model, tdm, id2word)\n",
    "# pyLDAvis.display(vis)\n",
    "\n",
    "# pyLDAvis.enable_notebook() # Remove remarks to see in notebook instead of the browser"
   ]
  },
  {
   "cell_type": "markdown",
   "metadata": {},
   "source": [
    "### Evaluation of topic models\n",
    "Good description at: https://towardsdatascience.com/evaluate-topic-model-in-python-latent-dirichlet-allocation-lda-7d57484bb5d0"
   ]
  },
  {
   "cell_type": "code",
   "execution_count": 54,
   "metadata": {},
   "outputs": [
    {
     "name": "stdout",
     "output_type": "stream",
     "text": [
      "\n",
      "Perplexity:  -7.879891670343623\n"
     ]
    }
   ],
   "source": [
    "# Compute Perplexity\n",
    "print(\n",
    "    \"\\nPerplexity: \", lda_model.log_perplexity(tdm)\n",
    ")  # lower value is better (some liteture do not recommend the use of this measure)"
   ]
  },
  {
   "cell_type": "code",
   "execution_count": 55,
   "metadata": {},
   "outputs": [
    {
     "name": "stdout",
     "output_type": "stream",
     "text": [
      "\n",
      "Coherence Score:  0.44517404533343136\n"
     ]
    }
   ],
   "source": [
    "# Compute Coherence Score\n",
    "coherence_model_lda = CoherenceModel(\n",
    "    model=lda_model, texts=corpus, dictionary=id2word, coherence=\"c_v\"\n",
    ")\n",
    "coherence_lda = coherence_model_lda.get_coherence()\n",
    "print(\"\\nCoherence Score: \", coherence_lda)"
   ]
  },
  {
   "cell_type": "code",
   "execution_count": 56,
   "metadata": {},
   "outputs": [
    {
     "data": {
      "image/png": "[encoded data removed]",
      "text/plain": [
       "<Figure size 432x288 with 1 Axes>"
      ]
     },
     "metadata": {
      "needs_background": "light"
     },
     "output_type": "display_data"
    }
   ],
   "source": [
    "# HOW TO SELECT K (based on https://www.machinelearningplus.com/nlp/topic-modeling-gensim-python/)\n",
    "def compute_coherence_values(dictionary, corpus, texts, limit, start=2, step=3):\n",
    "    \"\"\"\n",
    "    Compute c_v coherence for various number of topics\n",
    "\n",
    "    Parameters:\n",
    "    ----------\n",
    "    dictionary : Gensim dictionary\n",
    "    corpus : Gensim corpus\n",
    "    texts : List of input texts\n",
    "    limit : Max num of topics\n",
    "\n",
    "    Returns:\n",
    "    -------\n",
    "    model_list : List of LDA topic models\n",
    "    coherence_values : Coherence values corresponding to the LDA model with respective number of topics\n",
    "    \"\"\"\n",
    "    coherence_values = []\n",
    "    model_list = []\n",
    "    for num_topics in range(start, limit, step):\n",
    "        model = gensim.models.ldamodel.LdaModel(\n",
    "            corpus=corpus,\n",
    "            id2word=id2word,\n",
    "            num_topics=num_topics,\n",
    "            random_state=123,\n",
    "            update_every=1,\n",
    "            chunksize=100,\n",
    "            passes=10,\n",
    "            alpha=\"auto\",\n",
    "            per_word_topics=True,\n",
    "        )\n",
    "        model_list.append(model)\n",
    "        coherencemodel = CoherenceModel(\n",
    "            model=model, texts=texts, dictionary=dictionary, coherence=\"c_v\"\n",
    "        )\n",
    "        coherence_values.append(coherencemodel.get_coherence())\n",
    "\n",
    "    return model_list, coherence_values\n",
    "\n",
    "\n",
    "# ATTENTION!!!! Can take a LONG time to run.\n",
    "lowerBound = 2\n",
    "upperBound = 20\n",
    "step = 6\n",
    "model_list, coherence_values = compute_coherence_values(\n",
    "    dictionary=id2word,\n",
    "    corpus=tdm,\n",
    "    texts=corpus,\n",
    "    start=lowerBound,\n",
    "    limit=upperBound,\n",
    "    step=step,\n",
    ")\n",
    "\n",
    "# Show graph\n",
    "x = range(lowerBound, upperBound, step)\n",
    "plt.plot(x, coherence_values)\n",
    "plt.xlabel(\"Num Topics\")\n",
    "plt.ylabel(\"Coherence score\")\n",
    "plt.legend((\"coherence_values\"), loc=\"best\")\n",
    "plt.show()\n",
    "# The coherence score is decreasing. A higher value should be chosen, because as K increases the probability of having repeated keywords increases.\n",
    "# ...So, in this case we may choose 8, as there is an inflaction at K=8"
   ]
  }
 ],
 "metadata": {
  "kernelspec": {
   "display_name": "Python 3 (ipykernel)",
   "language": "python",
   "name": "python3"
  },
  "language_info": {
   "codemirror_mode": {
    "name": "ipython",
    "version": 3
   },
   "file_extension": ".py",
   "mimetype": "text/x-python",
   "name": "python",
   "nbconvert_exporter": "python",
   "pygments_lexer": "ipython3",
   "version": "3.9.12"
  },
  "vscode": {
   "interpreter": {
    "hash": "d7a18bc08bf6b314cad8b0dd8f53415ad78d1015cc806d14e4873c235fb4e191"
   }
  }
 },
 "nbformat": 4,
 "nbformat_minor": 4
}
