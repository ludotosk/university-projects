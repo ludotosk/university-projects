{
 "cells": [
  {
   "cell_type": "code",
   "execution_count": 1,
   "id": "a66797ff-7212-4cec-bbee-f06c71c79391",
   "metadata": {},
   "outputs": [],
   "source": [
    "import pandas as pd"
   ]
  },
  {
   "cell_type": "code",
   "execution_count": 2,
   "id": "35dee829-004a-4dc0-abab-8e7043d6377d",
   "metadata": {},
   "outputs": [],
   "source": [
    "ds = pd.read_parquet(\"sputnik.parquet.snappy\", engine=\"fastparquet\")"
   ]
  },
  {
   "cell_type": "code",
   "execution_count": 4,
   "id": "1f6a53b9-018f-4b80-9fb8-aebf101ad7a3",
   "metadata": {},
   "outputs": [
    {
     "data": {
      "text/html": [
       "<div>\n",
       "<style scoped>\n",
       "    .dataframe tbody tr th:only-of-type {\n",
       "        vertical-align: middle;\n",
       "    }\n",
       "\n",
       "    .dataframe tbody tr th {\n",
       "        vertical-align: top;\n",
       "    }\n",
       "\n",
       "    .dataframe thead th {\n",
       "        text-align: right;\n",
       "    }\n",
       "</style>\n",
       "<table border=\"1\" class=\"dataframe\">\n",
       "  <thead>\n",
       "    <tr style=\"text-align: right;\">\n",
       "      <th></th>\n",
       "      <th>link</th>\n",
       "      <th>title</th>\n",
       "      <th>author</th>\n",
       "      <th>date</th>\n",
       "      <th>text</th>\n",
       "      <th>comments</th>\n",
       "    </tr>\n",
       "  </thead>\n",
       "  <tbody>\n",
       "    <tr>\n",
       "      <th>0</th>\n",
       "      <td>/20230501/watch-russian-army-sappers-blow-up-a...</td>\n",
       "      <td>Watch Russian Army Sappers Blow Up Abandoned Ammo</td>\n",
       "      <td>Oleg Burunov https://cdn1.img.sputnikglobe.com...</td>\n",
       "      <td>01/05/23</td>\n",
       "      <td>The Russian Ministry of Defense (MoD) has rele...</td>\n",
       "      <td>[]</td>\n",
       "    </tr>\n",
       "    <tr>\n",
       "      <th>1</th>\n",
       "      <td>/20230501/kiev-lost-over-300-soldiers-over-pas...</td>\n",
       "      <td>Kiev Lost Over 300 Soldiers Over Past 24 Hours...</td>\n",
       "      <td>Sputnik International</td>\n",
       "      <td>01/05/23</td>\n",
       "      <td>\"Over the past day, the aviation carried out s...</td>\n",
       "      <td>[330 US mercenaries with mostly Ukrainian pass...</td>\n",
       "    </tr>\n",
       "    <tr>\n",
       "      <th>2</th>\n",
       "      <td>/20230430/russia-destroys-up-to-200-tonnes-of-...</td>\n",
       "      <td>Russia Destroys Up to 200 Tons of Ukrainian Am...</td>\n",
       "      <td>Sputnik International</td>\n",
       "      <td>30/04/23</td>\n",
       "      <td>\"As a result of a strike on an echelon at a ra...</td>\n",
       "      <td>[Very soon they will only have stones to throw...</td>\n",
       "    </tr>\n",
       "    <tr>\n",
       "      <th>3</th>\n",
       "      <td>/20230430/russian-forces-discover-underground-...</td>\n",
       "      <td>Russian Forces Discover Underground Soledar Ar...</td>\n",
       "      <td>Oleg Burunov https://cdn1.img.sputnikglobe.com...</td>\n",
       "      <td>30/04/23</td>\n",
       "      <td>The Armed Forces of Ukraine failed in its effo...</td>\n",
       "      <td>[Kudos to the Russian explosive ordnance dispo...</td>\n",
       "    </tr>\n",
       "    <tr>\n",
       "      <th>4</th>\n",
       "      <td>/20230430/ukraine-loses-over-480-military-merc...</td>\n",
       "      <td>Ukraine Loses Over 480 Military, Mercenaries i...</td>\n",
       "      <td>Sputnik International</td>\n",
       "      <td>30/04/23</td>\n",
       "      <td>\"Over the past 24 hours, over 480 Ukrainian se...</td>\n",
       "      <td>[]</td>\n",
       "    </tr>\n",
       "  </tbody>\n",
       "</table>\n",
       "</div>"
      ],
      "text/plain": [
       "                                                link  \\\n",
       "0  /20230501/watch-russian-army-sappers-blow-up-a...   \n",
       "1  /20230501/kiev-lost-over-300-soldiers-over-pas...   \n",
       "2  /20230430/russia-destroys-up-to-200-tonnes-of-...   \n",
       "3  /20230430/russian-forces-discover-underground-...   \n",
       "4  /20230430/ukraine-loses-over-480-military-merc...   \n",
       "\n",
       "                                               title  \\\n",
       "0  Watch Russian Army Sappers Blow Up Abandoned Ammo   \n",
       "1  Kiev Lost Over 300 Soldiers Over Past 24 Hours...   \n",
       "2  Russia Destroys Up to 200 Tons of Ukrainian Am...   \n",
       "3  Russian Forces Discover Underground Soledar Ar...   \n",
       "4  Ukraine Loses Over 480 Military, Mercenaries i...   \n",
       "\n",
       "                                              author      date  \\\n",
       "0  Oleg Burunov https://cdn1.img.sputnikglobe.com...  01/05/23   \n",
       "1                              Sputnik International  01/05/23   \n",
       "2                              Sputnik International  30/04/23   \n",
       "3  Oleg Burunov https://cdn1.img.sputnikglobe.com...  30/04/23   \n",
       "4                              Sputnik International  30/04/23   \n",
       "\n",
       "                                                text  \\\n",
       "0  The Russian Ministry of Defense (MoD) has rele...   \n",
       "1  \"Over the past day, the aviation carried out s...   \n",
       "2  \"As a result of a strike on an echelon at a ra...   \n",
       "3  The Armed Forces of Ukraine failed in its effo...   \n",
       "4  \"Over the past 24 hours, over 480 Ukrainian se...   \n",
       "\n",
       "                                            comments  \n",
       "0                                                 []  \n",
       "1  [330 US mercenaries with mostly Ukrainian pass...  \n",
       "2  [Very soon they will only have stones to throw...  \n",
       "3  [Kudos to the Russian explosive ordnance dispo...  \n",
       "4                                                 []  "
      ]
     },
     "execution_count": 4,
     "metadata": {},
     "output_type": "execute_result"
    }
   ],
   "source": [
    "ds.head()"
   ]
  },
  {
   "cell_type": "code",
   "execution_count": 28,
   "id": "1031679d-195f-4a21-93c2-3e6230b910cf",
   "metadata": {},
   "outputs": [],
   "source": [
    "comments = pd.DataFrame(\n",
    "    {\"link\": pd.Series([], dtype=\"string\"), \"comment\": pd.Series([], dtype=\"string\"),}\n",
    ")"
   ]
  },
  {
   "cell_type": "code",
   "execution_count": 29,
   "id": "31d4ad7d-7aa5-404d-822f-1c8b538fcb16",
   "metadata": {},
   "outputs": [],
   "source": [
    "for i, row in ds.iterrows():\n",
    "    for comment in row[\"comments\"]:\n",
    "        comments = comments.append(\n",
    "            {\"link\": row[\"link\"], \"comment\": comment}, ignore_index=True,\n",
    "        )"
   ]
  },
  {
   "cell_type": "code",
   "execution_count": 30,
   "id": "d7cfe9db-d6f1-4ee0-847d-dda4140a9f10",
   "metadata": {},
   "outputs": [
    {
     "data": {
      "text/html": [
       "<div>\n",
       "<style scoped>\n",
       "    .dataframe tbody tr th:only-of-type {\n",
       "        vertical-align: middle;\n",
       "    }\n",
       "\n",
       "    .dataframe tbody tr th {\n",
       "        vertical-align: top;\n",
       "    }\n",
       "\n",
       "    .dataframe thead th {\n",
       "        text-align: right;\n",
       "    }\n",
       "</style>\n",
       "<table border=\"1\" class=\"dataframe\">\n",
       "  <thead>\n",
       "    <tr style=\"text-align: right;\">\n",
       "      <th></th>\n",
       "      <th>link</th>\n",
       "      <th>comment</th>\n",
       "    </tr>\n",
       "  </thead>\n",
       "  <tbody>\n",
       "    <tr>\n",
       "      <th>0</th>\n",
       "      <td>/20230501/kiev-lost-over-300-soldiers-over-pas...</td>\n",
       "      <td>330 US mercenaries with mostly Ukrainian passp...</td>\n",
       "    </tr>\n",
       "    <tr>\n",
       "      <th>1</th>\n",
       "      <td>/20230501/kiev-lost-over-300-soldiers-over-pas...</td>\n",
       "      <td>330?? figures are coming down, supposed to be ...</td>\n",
       "    </tr>\n",
       "    <tr>\n",
       "      <th>2</th>\n",
       "      <td>/20230430/russia-destroys-up-to-200-tonnes-of-...</td>\n",
       "      <td>Very soon they will only have stones to throw ...</td>\n",
       "    </tr>\n",
       "    <tr>\n",
       "      <th>3</th>\n",
       "      <td>/20230430/russia-destroys-up-to-200-tonnes-of-...</td>\n",
       "      <td>why destroy it when you can put it to good use...</td>\n",
       "    </tr>\n",
       "    <tr>\n",
       "      <th>4</th>\n",
       "      <td>/20230430/russian-forces-discover-underground-...</td>\n",
       "      <td>Kudos to the Russian explosive ordnance dispos...</td>\n",
       "    </tr>\n",
       "  </tbody>\n",
       "</table>\n",
       "</div>"
      ],
      "text/plain": [
       "                                                link  \\\n",
       "0  /20230501/kiev-lost-over-300-soldiers-over-pas...   \n",
       "1  /20230501/kiev-lost-over-300-soldiers-over-pas...   \n",
       "2  /20230430/russia-destroys-up-to-200-tonnes-of-...   \n",
       "3  /20230430/russia-destroys-up-to-200-tonnes-of-...   \n",
       "4  /20230430/russian-forces-discover-underground-...   \n",
       "\n",
       "                                             comment  \n",
       "0  330 US mercenaries with mostly Ukrainian passp...  \n",
       "1  330?? figures are coming down, supposed to be ...  \n",
       "2  Very soon they will only have stones to throw ...  \n",
       "3  why destroy it when you can put it to good use...  \n",
       "4  Kudos to the Russian explosive ordnance dispos...  "
      ]
     },
     "execution_count": 30,
     "metadata": {},
     "output_type": "execute_result"
    }
   ],
   "source": [
    "comments.head()"
   ]
  },
  {
   "cell_type": "code",
   "execution_count": 21,
   "id": "015160e6-2f08-4149-be52-57adf2d18984",
   "metadata": {},
   "outputs": [],
   "source": [
    "comments.to_parquet(\"sputnikComments.parquet.snappy\", engine=\"fastparquet\")"
   ]
  }
 ],
 "metadata": {
  "kernelspec": {
   "display_name": "Python 3 (ipykernel)",
   "language": "python",
   "name": "python3"
  },
  "language_info": {
   "codemirror_mode": {
    "name": "ipython",
    "version": 3
   },
   "file_extension": ".py",
   "mimetype": "text/x-python",
   "name": "python",
   "nbconvert_exporter": "python",
   "pygments_lexer": "ipython3",
   "version": "3.9.12"
  }
 },
 "nbformat": 4,
 "nbformat_minor": 5
}
