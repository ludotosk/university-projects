{
 "cells": [
  {
   "cell_type": "markdown",
   "metadata": {},
   "source": [
    "##### Social Media Analytics\n",
    "### Introduction to Text Mining\n",
    "## Named Entity Recognition\n",
    "(c) Nuno Antonio 2019-2022 v1.02"
   ]
  },
  {
   "cell_type": "markdown",
   "metadata": {},
   "source": [
    "### Initial setup"
   ]
  },
  {
   "cell_type": "code",
   "execution_count": 1,
   "metadata": {},
   "outputs": [],
   "source": [
    "# Import packages\n",
    "import csv\n",
    "import re\n",
    "from collections import Counter\n",
    "\n",
    "import nltk\n",
    "import numpy as np\n",
    "import pandas as pd\n",
    "import spacy\n",
    "from bs4 import BeautifulSoup\n",
    "from spacy import displacy"
   ]
  },
  {
   "cell_type": "code",
   "execution_count": 2,
   "metadata": {},
   "outputs": [],
   "source": [
    "ds = pd.read_parquet(\"sputnik.parquet.snappy\", engine=\"fastparquet\")"
   ]
  },
  {
   "cell_type": "markdown",
   "metadata": {},
   "source": [
    "### Functions"
   ]
  },
  {
   "cell_type": "code",
   "execution_count": 3,
   "metadata": {},
   "outputs": [],
   "source": [
    "# Text preprocessing\n",
    "def textPreProcess(\n",
    "    rawText,\n",
    "    removeHTML=True,\n",
    "    charsToRemove=r\"\\?|\\.|\\!|\\;|\\.|\\\"|\\,|\\(|\\)|\\&|\\:|\\-\",\n",
    "    removeNumbers=True,\n",
    "    removeLineBreaks=False,\n",
    "    specialCharsToRemove=r\"[^\\x00-\\xfd]\",\n",
    "    convertToLower=True,\n",
    "    removeConsecutiveSpaces=True,\n",
    "):\n",
    "    if type(rawText) != str:\n",
    "        return rawText\n",
    "    procText = rawText\n",
    "\n",
    "    # Remove HTML\n",
    "    if removeHTML:\n",
    "        procText = BeautifulSoup(procText, \"html.parser\").get_text()\n",
    "\n",
    "    # Remove punctuation and other special characters\n",
    "    if len(charsToRemove) > 0:\n",
    "        procText = re.sub(charsToRemove, \" \", procText)\n",
    "\n",
    "    # Remove numbers\n",
    "    if removeNumbers:\n",
    "        procText = re.sub(r\"\\d+\", \" \", procText)\n",
    "\n",
    "    # Remove line breaks\n",
    "    if removeLineBreaks:\n",
    "        procText = procText.replace(\"\\n\", \" \").replace(\"\\r\", \"\")\n",
    "\n",
    "    # Remove special characters\n",
    "    if len(specialCharsToRemove) > 0:\n",
    "        procText = re.sub(specialCharsToRemove, \" \", procText)\n",
    "\n",
    "    # Normalize to lower case\n",
    "    if convertToLower:\n",
    "        procText = procText.lower()\n",
    "\n",
    "    # Replace multiple consecutive spaces with just one space\n",
    "    if removeConsecutiveSpaces:\n",
    "        procText = re.sub(\" +\", \" \", procText)\n",
    "\n",
    "    return procText"
   ]
  },
  {
   "cell_type": "markdown",
   "metadata": {},
   "source": [
    "### Analysis"
   ]
  },
  {
   "cell_type": "code",
   "execution_count": 4,
   "metadata": {},
   "outputs": [],
   "source": [
    "# Create a dataframe with only the description\n",
    "processedReviews = pd.DataFrame(\n",
    "    data=ds.text.apply(\n",
    "        textPreProcess, charsToRemove=\"\", removeLineBreaks=False, removeNumbers=False\n",
    "    ).values,\n",
    "    index=ds.index,\n",
    "    columns=[\"PreProcessedText\"],\n",
    ")"
   ]
  },
  {
   "cell_type": "code",
   "execution_count": 5,
   "metadata": {},
   "outputs": [],
   "source": [
    "# Remove rows with empty text\n",
    "processedReviews.PreProcessedText = processedReviews.PreProcessedText.str.strip()\n",
    "processedReviews = processedReviews[processedReviews.PreProcessedText != \"\"]"
   ]
  },
  {
   "cell_type": "code",
   "execution_count": 8,
   "metadata": {},
   "outputs": [
    {
     "data": {
      "text/html": [
       "<div>\n",
       "<style scoped>\n",
       "    .dataframe tbody tr th:only-of-type {\n",
       "        vertical-align: middle;\n",
       "    }\n",
       "\n",
       "    .dataframe tbody tr th {\n",
       "        vertical-align: top;\n",
       "    }\n",
       "\n",
       "    .dataframe thead th {\n",
       "        text-align: right;\n",
       "    }\n",
       "</style>\n",
       "<table border=\"1\" class=\"dataframe\">\n",
       "  <thead>\n",
       "    <tr style=\"text-align: right;\">\n",
       "      <th></th>\n",
       "      <th>PreProcessedText</th>\n",
       "    </tr>\n",
       "  </thead>\n",
       "  <tbody>\n",
       "    <tr>\n",
       "      <th>0</th>\n",
       "      <td>the russian ministry of defense (mod) has rele...</td>\n",
       "    </tr>\n",
       "    <tr>\n",
       "      <th>1</th>\n",
       "      <td>\"over the past day, the aviation carried out s...</td>\n",
       "    </tr>\n",
       "    <tr>\n",
       "      <th>2</th>\n",
       "      <td>\"as a result of a strike on an echelon at a ra...</td>\n",
       "    </tr>\n",
       "    <tr>\n",
       "      <th>3</th>\n",
       "      <td>the armed forces of ukraine failed in its effo...</td>\n",
       "    </tr>\n",
       "    <tr>\n",
       "      <th>4</th>\n",
       "      <td>\"over the past 24 hours, over 480 ukrainian se...</td>\n",
       "    </tr>\n",
       "  </tbody>\n",
       "</table>\n",
       "</div>"
      ],
      "text/plain": [
       "                                    PreProcessedText\n",
       "0  the russian ministry of defense (mod) has rele...\n",
       "1  \"over the past day, the aviation carried out s...\n",
       "2  \"as a result of a strike on an echelon at a ra...\n",
       "3  the armed forces of ukraine failed in its effo...\n",
       "4  \"over the past 24 hours, over 480 ukrainian se..."
      ]
     },
     "execution_count": 8,
     "metadata": {},
     "output_type": "execute_result"
    }
   ],
   "source": [
    "processedReviews.head()"
   ]
  },
  {
   "cell_type": "code",
   "execution_count": 6,
   "metadata": {},
   "outputs": [],
   "source": [
    "# Load Spacy English model\n",
    "nlp = spacy.load(\"en_core_web_sm\")"
   ]
  },
  {
   "cell_type": "code",
   "execution_count": 19,
   "metadata": {},
   "outputs": [
    {
     "name": "stdout",
     "output_type": "stream",
     "text": [
      "the russian ministry of defense (mod) has released a video showing the work of army sappers in the zone of moscow s special military operation in ukraine.in footage published on the mod s telegram page, the servicemen are seen performing a controlled explosion of the projectiles that had apparently been abandoned by ukrainian units and then detected by russian forces in an unspecified area.the mod quoted a demining platoon commander as saying that more than 1,000 shells have already been destroyed.\"sowing machinery will soon ride across these fields and life will return back to normal there,\" he added.\n",
      "[('the russian ministry of defense (mod', 'ORG'), ('moscow', 'GPE'), ('russian', 'NORP'), ('more than 1,000', 'CARDINAL')]\n"
     ]
    }
   ],
   "source": [
    "# Check entities in review\n",
    "print(processedReviews[\"PreProcessedText\"][0])\n",
    "doc = nlp(processedReviews[\"PreProcessedText\"][0])\n",
    "print([(X.text, X.label_) for X in doc.ents])"
   ]
  },
  {
   "cell_type": "code",
   "execution_count": 10,
   "metadata": {},
   "outputs": [
    {
     "name": "stdout",
     "output_type": "stream",
     "text": [
      "\"over the past day, the aviation carried out six combat sorties in this area. the group's artillery performed 64 fire tasks up to 330 ukrainian soldiers, one tank, four armored fighting vehicles, four cars, and the d-30 howitzer were destroyed in this direction,\" the defense ministry said. the defense department added that an ammunition depot of the ukrainian armed forces has been eliminated near the village of novoukrainka in the donetsk people's republic.\n",
      "[('the past day', 'DATE'), ('six', 'CARDINAL'), ('64', 'CARDINAL'), ('up to', 'CARDINAL'), ('330', 'CARDINAL'), ('one', 'CARDINAL'), ('four', 'CARDINAL'), ('four', 'CARDINAL'), ('d-30', 'PERSON'), ('the defense department', 'ORG'), ('the ukrainian armed forces', 'ORG')]\n"
     ]
    }
   ],
   "source": [
    "# Check entities in review\n",
    "print(processedReviews[\"PreProcessedText\"][1])\n",
    "doc = nlp(processedReviews[\"PreProcessedText\"][1])\n",
    "print([(X.text, X.label_) for X in doc.ents])"
   ]
  },
  {
   "cell_type": "code",
   "execution_count": 11,
   "metadata": {},
   "outputs": [
    {
     "name": "stdout",
     "output_type": "stream",
     "text": [
      "\"as a result of a strike on an echelon at a railway station near the town of kramatorsk of the donetsk people s republic, up to 200 tonnes of uaf s [ukrainian armed forces] ammunition were destroyed,\" the ministry said. western countries have been supplying kiev with various types of weapon systems, including air defense missiles, multiple launch rocket systems, tanks, self-propelled artillery and anti-aircraft guns, since russia launched its military operation in ukraine over a year ago. the kremlin has repeatedly warned against further arms deliveries to kiev. ukraine has been reportedly preparing to launch a counteroffensive against russia in the spring of this year, with a number of western officials expressing their willingness to help kiev.\n",
      "[('up to', 'CARDINAL'), ('200 tonnes', 'QUANTITY'), ('russia', 'GPE'), ('a year ago', 'DATE'), ('kremlin', 'ORG'), ('kiev', 'GPE'), ('ukraine', 'GPE'), ('russia', 'GPE'), ('the spring of this year', 'DATE')]\n"
     ]
    }
   ],
   "source": [
    "# Check entities in review\n",
    "print(processedReviews[\"PreProcessedText\"][2])\n",
    "doc = nlp(processedReviews[\"PreProcessedText\"][2])\n",
    "print([(X.text, X.label_) for X in doc.ents])"
   ]
  },
  {
   "cell_type": "code",
   "execution_count": 12,
   "metadata": {},
   "outputs": [
    {
     "data": {
      "text/plain": [
       "Counter({'CARDINAL': 1, 'QUANTITY': 1, 'GPE': 4, 'DATE': 2, 'ORG': 1})"
      ]
     },
     "execution_count": 12,
     "metadata": {},
     "output_type": "execute_result"
    }
   ],
   "source": [
    "# Count the labels\n",
    "labels = [x.label_ for x in doc.ents]\n",
    "Counter(labels)"
   ]
  },
  {
   "cell_type": "code",
   "execution_count": 13,
   "metadata": {},
   "outputs": [
    {
     "data": {
      "text/plain": [
       "[('russia', 2), ('up to', 1), ('200 tonnes', 1)]"
      ]
     },
     "execution_count": 13,
     "metadata": {},
     "output_type": "execute_result"
    }
   ],
   "source": [
    "# Show top 3 labels\n",
    "top_labels = [x.text for x in doc.ents]\n",
    "Counter(top_labels).most_common(3)"
   ]
  },
  {
   "cell_type": "code",
   "execution_count": 14,
   "metadata": {},
   "outputs": [
    {
     "data": {
      "text/html": [
       "<span class=\"tex2jax_ignore\"><div class=\"entities\" style=\"line-height: 2.5; direction: ltr\">&quot;as a result of a strike on an echelon at a railway station near the town of kramatorsk of the donetsk people s republic, \n",
       "<mark class=\"entity\" style=\"background: #e4e7d2; padding: 0.45em 0.6em; margin: 0 0.25em; line-height: 1; border-radius: 0.35em;\">\n",
       "    up to\n",
       "    <span style=\"font-size: 0.8em; font-weight: bold; line-height: 1; border-radius: 0.35em; vertical-align: middle; margin-left: 0.5rem\">CARDINAL</span>\n",
       "</mark>\n",
       " \n",
       "<mark class=\"entity\" style=\"background: #e4e7d2; padding: 0.45em 0.6em; margin: 0 0.25em; line-height: 1; border-radius: 0.35em;\">\n",
       "    200 tonnes\n",
       "    <span style=\"font-size: 0.8em; font-weight: bold; line-height: 1; border-radius: 0.35em; vertical-align: middle; margin-left: 0.5rem\">QUANTITY</span>\n",
       "</mark>\n",
       " of uaf s [ukrainian armed forces] ammunition were destroyed,&quot; the ministry said. western countries have been supplying kiev with various types of weapon systems, including air defense missiles, multiple launch rocket systems, tanks, self-propelled artillery and anti-aircraft guns, since \n",
       "<mark class=\"entity\" style=\"background: #feca74; padding: 0.45em 0.6em; margin: 0 0.25em; line-height: 1; border-radius: 0.35em;\">\n",
       "    russia\n",
       "    <span style=\"font-size: 0.8em; font-weight: bold; line-height: 1; border-radius: 0.35em; vertical-align: middle; margin-left: 0.5rem\">GPE</span>\n",
       "</mark>\n",
       " launched its military operation in ukraine over \n",
       "<mark class=\"entity\" style=\"background: #bfe1d9; padding: 0.45em 0.6em; margin: 0 0.25em; line-height: 1; border-radius: 0.35em;\">\n",
       "    a year ago\n",
       "    <span style=\"font-size: 0.8em; font-weight: bold; line-height: 1; border-radius: 0.35em; vertical-align: middle; margin-left: 0.5rem\">DATE</span>\n",
       "</mark>\n",
       ". the \n",
       "<mark class=\"entity\" style=\"background: #7aecec; padding: 0.45em 0.6em; margin: 0 0.25em; line-height: 1; border-radius: 0.35em;\">\n",
       "    kremlin\n",
       "    <span style=\"font-size: 0.8em; font-weight: bold; line-height: 1; border-radius: 0.35em; vertical-align: middle; margin-left: 0.5rem\">ORG</span>\n",
       "</mark>\n",
       " has repeatedly warned against further arms deliveries to \n",
       "<mark class=\"entity\" style=\"background: #feca74; padding: 0.45em 0.6em; margin: 0 0.25em; line-height: 1; border-radius: 0.35em;\">\n",
       "    kiev\n",
       "    <span style=\"font-size: 0.8em; font-weight: bold; line-height: 1; border-radius: 0.35em; vertical-align: middle; margin-left: 0.5rem\">GPE</span>\n",
       "</mark>\n",
       ". \n",
       "<mark class=\"entity\" style=\"background: #feca74; padding: 0.45em 0.6em; margin: 0 0.25em; line-height: 1; border-radius: 0.35em;\">\n",
       "    ukraine\n",
       "    <span style=\"font-size: 0.8em; font-weight: bold; line-height: 1; border-radius: 0.35em; vertical-align: middle; margin-left: 0.5rem\">GPE</span>\n",
       "</mark>\n",
       " has been reportedly preparing to launch a counteroffensive against \n",
       "<mark class=\"entity\" style=\"background: #feca74; padding: 0.45em 0.6em; margin: 0 0.25em; line-height: 1; border-radius: 0.35em;\">\n",
       "    russia\n",
       "    <span style=\"font-size: 0.8em; font-weight: bold; line-height: 1; border-radius: 0.35em; vertical-align: middle; margin-left: 0.5rem\">GPE</span>\n",
       "</mark>\n",
       " in \n",
       "<mark class=\"entity\" style=\"background: #bfe1d9; padding: 0.45em 0.6em; margin: 0 0.25em; line-height: 1; border-radius: 0.35em;\">\n",
       "    the spring of this year\n",
       "    <span style=\"font-size: 0.8em; font-weight: bold; line-height: 1; border-radius: 0.35em; vertical-align: middle; margin-left: 0.5rem\">DATE</span>\n",
       "</mark>\n",
       ", with a number of western officials expressing their willingness to help kiev.</div></span>"
      ],
      "text/plain": [
       "<IPython.core.display.HTML object>"
      ]
     },
     "metadata": {},
     "output_type": "display_data"
    }
   ],
   "source": [
    "# Entities visualization\n",
    "displacy.render(doc, jupyter=True, style=\"ent\")"
   ]
  },
  {
   "cell_type": "code",
   "execution_count": 15,
   "metadata": {},
   "outputs": [
    {
     "data": {
      "text/plain": [
       "['russia is not likely to be behind the leak of the top secret us intelligence assessment of the situation in ukraine, since it would prefer to keep the information under wraps and use it to its advantage, a major chinese outlet speculates. if russia has obtained these classified documents, it would not post them online, because this will make russia lose the source or sources that had provided these documents, an anonymous chinese international security and intelligence expert told the global times. the leak is unlikely caused by russian intelligence agencies, because this does not make sense, the expert said.the source argued that there was no reason for russia to let its enemies know that it has obtained this intelligence, because this will also make its enemies change plans, making the hard-won military intelligence useless. instead, gt noted, the leak goes to show to the world the disunity, distrust and divergences between the us, its allies and kiev, and to demonstrate that washington is the biggest obstacle for the international community to promote a ceasefire and peace talks to ending the ukrainian crisis.the documents demonstrate the precarious state of the ukrainian military, and will both demoralize the ukrainian military and reduce western countries confidence in supporting kiev against russia, whether or not they are genuine, the chinese newspaper suggested.whodunit?us and ukrainian officials immediately blamed russian intelligence for the leak of the classified documents, and suggested that the assessment seems to combine a statistical analysis of supplies, possible operational and tactical plans, as well as a large volume of fictitious information. the documents serve to confirm russia s public assessment on the state of the ukrainian conflict, showing that ukrainian air defenses have been depleted by months of strikes, and that ukrainian casualties are over four times higher than those of the russian side (contrasting sharply with public estimates by the pentagon and the ukrainian military of six-figure russian losses).the pentagon s reported efforts to scrub the documents from the internet were met with trolling by twitter ceo elon musk, who sarcastically quipped that it was totally possible to delete things from the internet, and that doing so definitely wouldn t draw attention to whatever you were trying to hide. kremlin spokesman dmitry peskov called the leaks quite interesting, and said it was not surprising that moscow has been blamed. you and i know that there is a tendency to always blame everything on russia. it is, in general, a disease, the spokesman told reporters monday.commentators speaking to sputnik expressed a healthy measure of a skepticism over the documents authenticity, saying that although they serve to confirm russia s internal assessments on the state of the ukrainian military, the provide moscow no benefit as far as the strategic situation is concerned. others pointed out that it would be highly unlikely for the documents to be published in legacy media outlets without the approval of the national security state.',\n",
       " 'the west\\'s focus on beijing\\'s blueprint for peace in ukraine amid the russia-china leaders\\' summit betrays its intent to prolong the conflict, a geopolitical analyst has said.us national security council spokesman john kirby reacted to the three-day meeting in moscow between russian president vladimir putin and china\\'s xi jinping by branding beijing\\'s 12-point plan for a ceasefire \"unacceptable\" comments echoed by us secretary of state antony blinken.the uk has doubled down on the race to arm ukrainian president volodymr zelensky\\'s regime to the teeth with the announcement that it will provide depleted uranium (du) armour-piercing rounds for the 14 challenger 2 tanks it is gifting to kiev.david oualaalou told sputnik that the us media should be honest that \"we, the west, do not want a peaceful initiative that will be initiated by china.\"\"president xi is in moscow already and the media already is focusing too much about what he\\'s going to be talking about: ukraine,\" he said, adding that \"ukraine is going to be just part of the conversation.\"far more important were financial moves to \"truly cripple the us dollar in every transactions between the countries,\" with a \"digital currency or whatever that is going to be backed by gold, not the us dollar,\" pointing out that \"the two countries that are really amassing massive gold are russia and china.\"the consultant also called the attempt by international criminal court not recognised by either russia, china or the us to upstage the summit by charging putin with mass child abduction days earlier \"ludicrous\" asking: \"what credibility does the icc have?\"he said the move would only prevent talks between russia and ukraine\\'s nato backers going ahead, killing any hope kiev may have of winning back some territory at the negotiating table, stressing: \"that territory is not returning back to ukraine. it\\'s done. that\\'s to me, what it means.\"the analyst said the dozen points in china\\'s plan including an end to the west\\'s \"cold war mentality\" and its resort to unilateral sanctions were \"pragmatic\" and \"straightforward\" but washington is just not interested.\"the reason why we the us, we collective west, are opposing to this is we do not want a peace initiative to be initiated by non-western countries such as china,\" oulaalou said. \"that\\'s how much we want the conflict to drag on.\"\"at the same time our credibility on the global stage has been shattered because we have never been that honest broker,\" he added. \"look no further than the arab-israeli conflict.\"by contrast, china has just succeeded in helping mend relations between iran and saudi arabia after years of knife-edge tensions a low-key diplomatic effort that excluded the west.\"the negotiations were not conducted in english,\" oulaalou noted. \"the communique that came out of that trilateral meeting was not in english language. and right there, it sends a clear message to how irrelevant the us is becoming when it comes down to issues like this of brokering a peace.\"\"this is why we are objecting to china taking the initiative, to put an end to the ukrainian conflict because some entities within washington do not want that,\" he added. \"the fact that china brokered a deal on the ukraine conflict says a lot about where the current global order is.\"the commentator recalled how boris johnson rushed to kiev in early april 2022 to talk zelensky out of approving a russian peace proposal that would have likely committed ukraine to remaining neutral of nato and ceding its claim to crimea and the donbass republics in return for a quick rapid end to hostilities.\"boris johnson was dispatched by the united states because we didn\\'t want to be on the stage,\" oulaalou said. \"it\\'s no different than what\\'s going on right now,\" he added in the wake of washington\\'s rejection of a ceasefire. beijing\\'s peace plan is far more likely to end the conflict than the west\\'s policy of arming ukraine while demanding russia withdraw unconditionally, simply because it has a better relationship with moscow and \"will be able to convince russia\" to come to terms. \"russia is not going to see us also knowing how this initiative is going to be sabotaged,\" he stressed.',\n",
       " 'biden departed for warsaw on monday night after he made an unannounced visit to the ukrainian capital, kiev, to hold talks with ukrainian president volodymyr zelensky. on tuesday morning, biden will meet with duda to discuss bilateral cooperation, collective efforts to support ukraine, and bolstering nato\\'s deterrence, white house national security council spokesman john kirby said. biden will thank duda and the polish people for their support of ukraine, including by welcoming over 1.5 million ukrainian refugees, kirby noted, adding that the two leaders will also discuss poland\\'s important logistical role in facilitating deliveries of military aid to ukraine from the united states and other western backers. on tuesday evening, biden will deliver remarks on how the us has \"rallied the world\" to support ukraine and reiterate washington\\'s intention to stand with ukraine for \"as long as it takes,\" the spokesman said.biden will also direct part of his speech to russian president vladimir putin and the russian people, kirby added. on wednesday, biden will meet with leaders of the bucharest nine nations along nato\\'s eastern flank and reaffirm the us\\'s support for the security of the nato alliance, the spokesman said. biden\\'s trip comes ahead of the first anniversary of the launch of russia\\'s special military operation and coincides with putin\\'s own address to his nation on february 21. on february 24, 2022, russia began its operation in an effort to defend the russian-speaking region of donbas from ukrainian troops. four former regions of ukraine have since voted in referendums to join the russian federation. fighting continues between russian and ukrainian forces, with both sides expected to engage in offensive operations once weather conditions permit in the spring.']"
      ]
     },
     "execution_count": 15,
     "metadata": {},
     "output_type": "execute_result"
    }
   ],
   "source": [
    "# For example, if our objective was understand what guests say about the staff language skills we could look for reviews that mention languages\n",
    "counter = 0  # to stop after x for demostration speed\n",
    "annReviews = []\n",
    "for r in processedReviews[\"PreProcessedText\"]:\n",
    "    doc = nlp(r)\n",
    "    for i in doc.ents:\n",
    "        if i.label_ == \"LANGUAGE\":\n",
    "            annReviews.append(r)\n",
    "            counter = counter + 1\n",
    "            break\n",
    "    if counter >= 3:  # Stop after the first three reviews have been found\n",
    "        break\n",
    "\n",
    "annReviews"
   ]
  }
 ],
 "metadata": {
  "interpreter": {
   "hash": "d7a18bc08bf6b314cad8b0dd8f53415ad78d1015cc806d14e4873c235fb4e191"
  },
  "kernelspec": {
   "display_name": "Python 3 (ipykernel)",
   "language": "python",
   "name": "python3"
  },
  "language_info": {
   "codemirror_mode": {
    "name": "ipython",
    "version": 3
   },
   "file_extension": ".py",
   "mimetype": "text/x-python",
   "name": "python",
   "nbconvert_exporter": "python",
   "pygments_lexer": "ipython3",
   "version": "3.9.12"
  }
 },
 "nbformat": 4,
 "nbformat_minor": 4
}
